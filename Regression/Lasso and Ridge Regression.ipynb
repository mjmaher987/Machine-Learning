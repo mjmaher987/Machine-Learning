{
  "cells": [
    {
      "cell_type": "markdown",
      "metadata": {
        "id": "b07eb33c"
      },
      "source": [
        "<div>\n",
        "<img src='http://www-scf.usc.edu/~ghasemig/images/sharif.png' alt=\"SUT logo\" width=220 height=220 align=left class=\"saturate\">\n",
        "\n",
        "<br>\n",
        "<font face=\"Times New Roman\">\n",
        "<div dir=ltr align=center> \n",
        "<!-- <font color=0F5298 size=7> -->\n",
        "<font color=0F5298 size=6>\n",
        "    Introduction to Machine Learning <br> <br>\n",
        "<!-- <font color=2565AE size=5> -->\n",
        "<font size=5>\n",
        "    Computer Engineering Department <br>\n",
        "    Spring 2023 <br> <br>\n",
        "<font color=606060 size=5>\n",
        "    Homework 5: Practical - Lasso & Ridge Regression <br> <br>\n",
        "<font color=686880 size=4>\n",
        "    TAs: Alireza Dehghanpour - Arman Malekzadeh - Ali Salesi\n",
        "    \n",
        "____"
      ]
    },
    {
      "cell_type": "markdown",
      "metadata": {
        "id": "f5a79508"
      },
      "source": [
        "### Full Name : Mohammad Javad Maheronnaghsh\n",
        "### Student Number : 99105691\n",
        "### Colab Link: https://colab.research.google.com/drive/1Fw00sh3S4YZTDS0IuBX7FTIwu4SauKEb?usp=sharing\n",
        "___"
      ]
    },
    {
      "cell_type": "markdown",
      "metadata": {
        "id": "5sy39_vXU_PO"
      },
      "source": [
        "The Global Health Observatory (GHO) data repository under World Health Organization (WHO) keeps track of the health status as well as many other related factors for all countries. The datasets are made available to public for the purpose of health data analysis. The dataset related to life expectancy, health factors for 193 countries has been collected from the same WHO data repository website and its corresponding economic data was collected from United Nation website. Among all categories of health-related factors only those critical factors were chosen which are more representative.\n",
        "\n",
        "In this assignment you have to predict **life expectancy**."
      ]
    },
    {
      "cell_type": "code",
      "execution_count": 50,
      "metadata": {
        "id": "bBUrdXrVU_PO"
      },
      "outputs": [],
      "source": [
        "import numpy as np\n",
        "import pandas as pd\n",
        "from sklearn.model_selection import train_test_split\n",
        "from sklearn import linear_model\n",
        "from sklearn.metrics import mean_squared_error\n",
        "from sklearn.linear_model import Ridge, Lasso\n",
        "from sklearn.model_selection import GridSearchCV\n",
        "from sklearn import preprocessing"
      ]
    },
    {
      "cell_type": "markdown",
      "metadata": {
        "id": "5sEpKmvvU_PP"
      },
      "source": [
        "# Data Exploration (20 points)"
      ]
    },
    {
      "cell_type": "code",
      "execution_count": 51,
      "metadata": {
        "colab": {
          "base_uri": "https://localhost:8080/"
        },
        "id": "GJCBJo5XjWUq",
        "outputId": "43aa9648-b1ba-47d3-a42d-aac11251a2e1"
      },
      "outputs": [
        {
          "output_type": "stream",
          "name": "stdout",
          "text": [
            "--2023-05-16 13:35:50--  https://www.dropbox.com/s/2kz21qjt40pjy43/train.csv?dl=1\n",
            "Resolving www.dropbox.com (www.dropbox.com)... 162.125.5.18, 2620:100:601d:18::a27d:512\n",
            "Connecting to www.dropbox.com (www.dropbox.com)|162.125.5.18|:443... connected.\n",
            "HTTP request sent, awaiting response... 302 Found\n",
            "Location: /s/dl/2kz21qjt40pjy43/train.csv [following]\n",
            "--2023-05-16 13:35:50--  https://www.dropbox.com/s/dl/2kz21qjt40pjy43/train.csv\n",
            "Reusing existing connection to www.dropbox.com:443.\n",
            "HTTP request sent, awaiting response... 302 Found\n",
            "Location: https://uc8e0d782e8ad63197e46800e984.dl.dropboxusercontent.com/cd/0/get/B8JpCiijVtxmvVsmZBLD2Ti3ZFDZoreJObIibZdHHA0IUIKAYlrQ00BR4XTSz65TPrRFu_JWetmzs_bAMN5q6SOU5FYoDja6JaCANeG2QUQZaPJINEPk0kMcy34Iq6_XlD8yD72yRdIrycikiVEn_Ka8zA5Pu9mN3FfpjKTevKJYvS2xxS9C_nzBV48dkg78xQY/file?dl=1# [following]\n",
            "--2023-05-16 13:35:50--  https://uc8e0d782e8ad63197e46800e984.dl.dropboxusercontent.com/cd/0/get/B8JpCiijVtxmvVsmZBLD2Ti3ZFDZoreJObIibZdHHA0IUIKAYlrQ00BR4XTSz65TPrRFu_JWetmzs_bAMN5q6SOU5FYoDja6JaCANeG2QUQZaPJINEPk0kMcy34Iq6_XlD8yD72yRdIrycikiVEn_Ka8zA5Pu9mN3FfpjKTevKJYvS2xxS9C_nzBV48dkg78xQY/file?dl=1\n",
            "Resolving uc8e0d782e8ad63197e46800e984.dl.dropboxusercontent.com (uc8e0d782e8ad63197e46800e984.dl.dropboxusercontent.com)... 162.125.5.15, 2620:100:601d:15::a27d:50f\n",
            "Connecting to uc8e0d782e8ad63197e46800e984.dl.dropboxusercontent.com (uc8e0d782e8ad63197e46800e984.dl.dropboxusercontent.com)|162.125.5.15|:443... connected.\n",
            "HTTP request sent, awaiting response... 200 OK\n",
            "Length: 308420 (301K) [application/binary]\n",
            "Saving to: ‘/content/dataset.csv’\n",
            "\n",
            "/content/dataset.cs 100%[===================>] 301.19K  --.-KB/s    in 0.1s    \n",
            "\n",
            "2023-05-16 13:35:51 (3.09 MB/s) - ‘/content/dataset.csv’ saved [308420/308420]\n",
            "\n"
          ]
        }
      ],
      "source": [
        "!wget -O /content/dataset.csv \"https://www.dropbox.com/s/2kz21qjt40pjy43/train.csv?dl=1\""
      ]
    },
    {
      "cell_type": "markdown",
      "metadata": {
        "id": "XU9i17XgU_PP"
      },
      "source": [
        "Load the dataset as a dataframe"
      ]
    },
    {
      "cell_type": "code",
      "execution_count": 52,
      "metadata": {
        "id": "GARdmLGkU_PQ"
      },
      "outputs": [],
      "source": [
        "df = pd.read_csv('/content/dataset.csv')"
      ]
    },
    {
      "cell_type": "code",
      "execution_count": 53,
      "metadata": {
        "colab": {
          "base_uri": "https://localhost:8080/",
          "height": 609
        },
        "id": "85h6cHeX-3Tl",
        "outputId": "2d250f10-d1ed-4ac9-a545-7216201665b1"
      },
      "outputs": [
        {
          "output_type": "execute_result",
          "data": {
            "text/plain": [
              "                    Country  Year      Status  Life expectancy   \\\n",
              "0                   Finland  2013  Developing              87.0   \n",
              "1                     Japan  2015   Developed              83.7   \n",
              "2      Syrian Arab Republic  2014  Developing              64.4   \n",
              "3                    Latvia  2010   Developed              72.8   \n",
              "4     Sao Tome and Principe  2013  Developing              67.1   \n",
              "...                     ...   ...         ...               ...   \n",
              "2492                Tunisia  2000  Developing              72.9   \n",
              "2493                Myanmar  2001  Developing              62.5   \n",
              "2494            Netherlands  2008   Developed              83.0   \n",
              "2495            South Sudan  2013  Developing              56.4   \n",
              "2496              Guatemala  2000  Developing              67.7   \n",
              "\n",
              "      Adult Mortality  infant deaths  Alcohol  percentage expenditure  \\\n",
              "0                79.0              0     8.97             6115.496624   \n",
              "1                55.0              2      NaN                0.000000   \n",
              "2               294.0              7     0.01                0.000000   \n",
              "3                18.0              0     9.80             1109.969508   \n",
              "4               192.0              0     0.01              200.660099   \n",
              "...               ...            ...      ...                     ...   \n",
              "2492            112.0              4     1.21              264.784220   \n",
              "2493            239.0             72     0.38                1.917164   \n",
              "2494             68.0              1     9.62            10873.405540   \n",
              "2495            345.0             26      NaN               47.444530   \n",
              "2496            221.0             17     2.63              238.736981   \n",
              "\n",
              "      Hepatitis B  Measles   ...  Polio  Total expenditure  Diphtheria   \\\n",
              "0             NaN         2  ...   98.0               9.55         98.0   \n",
              "1             NaN        35  ...   99.0                NaN         96.0   \n",
              "2            47.0       594  ...   52.0               3.25         43.0   \n",
              "3            91.0         0  ...   92.0               6.55         92.0   \n",
              "4            97.0         0  ...   97.0               9.76         97.0   \n",
              "...           ...       ...  ...    ...                ...          ...   \n",
              "2492         94.0        47  ...   97.0               5.40         97.0   \n",
              "2493          NaN      2519  ...   77.0               1.80         73.0   \n",
              "2494          NaN       109  ...   97.0               9.57         97.0   \n",
              "2495          NaN       525  ...    5.0               2.62         45.0   \n",
              "2496          NaN         0  ...    8.0               5.25         81.0   \n",
              "\n",
              "       HIV/AIDS           GDP  Population   thinness  1-19 years  \\\n",
              "0           0.1  49638.771300   5438972.0                    0.9   \n",
              "1           0.1  34474.137360    127141.0                    2.1   \n",
              "2           0.1           NaN     19239.0                    6.3   \n",
              "3           0.1  11326.219470    297555.0                    2.2   \n",
              "4           0.2   1619.532678     18745.0                    5.7   \n",
              "...         ...           ...         ...                    ...   \n",
              "2492        0.1   2213.914880   9699197.0                    6.6   \n",
              "2493        0.4    138.924927  46627994.0                   13.3   \n",
              "2494        0.1  56928.824800  16445593.0                    1.0   \n",
              "2495        3.6   1186.113250   1117749.0                    NaN   \n",
              "2496        0.2   1655.596261   1165743.0                    1.6   \n",
              "\n",
              "       thinness 5-9 years  Income composition of resources  Schooling  \n",
              "0                     0.8                            0.887       17.0  \n",
              "1                     1.8                            0.902       15.3  \n",
              "2                     6.1                            0.575        9.0  \n",
              "3                     2.3                            0.815       16.0  \n",
              "4                     5.5                            0.559       11.0  \n",
              "...                   ...                              ...        ...  \n",
              "2492                  6.5                            0.646       12.8  \n",
              "2493                 13.7                            0.427        7.6  \n",
              "2494                  0.9                            0.905       16.8  \n",
              "2495                  NaN                            0.417        4.9  \n",
              "2496                  1.6                            0.539        8.2  \n",
              "\n",
              "[2497 rows x 22 columns]"
            ],
            "text/html": [
              "\n",
              "  <div id=\"df-4d0eec12-5ccd-4964-a467-8c83951c24e7\">\n",
              "    <div class=\"colab-df-container\">\n",
              "      <div>\n",
              "<style scoped>\n",
              "    .dataframe tbody tr th:only-of-type {\n",
              "        vertical-align: middle;\n",
              "    }\n",
              "\n",
              "    .dataframe tbody tr th {\n",
              "        vertical-align: top;\n",
              "    }\n",
              "\n",
              "    .dataframe thead th {\n",
              "        text-align: right;\n",
              "    }\n",
              "</style>\n",
              "<table border=\"1\" class=\"dataframe\">\n",
              "  <thead>\n",
              "    <tr style=\"text-align: right;\">\n",
              "      <th></th>\n",
              "      <th>Country</th>\n",
              "      <th>Year</th>\n",
              "      <th>Status</th>\n",
              "      <th>Life expectancy</th>\n",
              "      <th>Adult Mortality</th>\n",
              "      <th>infant deaths</th>\n",
              "      <th>Alcohol</th>\n",
              "      <th>percentage expenditure</th>\n",
              "      <th>Hepatitis B</th>\n",
              "      <th>Measles</th>\n",
              "      <th>...</th>\n",
              "      <th>Polio</th>\n",
              "      <th>Total expenditure</th>\n",
              "      <th>Diphtheria</th>\n",
              "      <th>HIV/AIDS</th>\n",
              "      <th>GDP</th>\n",
              "      <th>Population</th>\n",
              "      <th>thinness  1-19 years</th>\n",
              "      <th>thinness 5-9 years</th>\n",
              "      <th>Income composition of resources</th>\n",
              "      <th>Schooling</th>\n",
              "    </tr>\n",
              "  </thead>\n",
              "  <tbody>\n",
              "    <tr>\n",
              "      <th>0</th>\n",
              "      <td>Finland</td>\n",
              "      <td>2013</td>\n",
              "      <td>Developing</td>\n",
              "      <td>87.0</td>\n",
              "      <td>79.0</td>\n",
              "      <td>0</td>\n",
              "      <td>8.97</td>\n",
              "      <td>6115.496624</td>\n",
              "      <td>NaN</td>\n",
              "      <td>2</td>\n",
              "      <td>...</td>\n",
              "      <td>98.0</td>\n",
              "      <td>9.55</td>\n",
              "      <td>98.0</td>\n",
              "      <td>0.1</td>\n",
              "      <td>49638.771300</td>\n",
              "      <td>5438972.0</td>\n",
              "      <td>0.9</td>\n",
              "      <td>0.8</td>\n",
              "      <td>0.887</td>\n",
              "      <td>17.0</td>\n",
              "    </tr>\n",
              "    <tr>\n",
              "      <th>1</th>\n",
              "      <td>Japan</td>\n",
              "      <td>2015</td>\n",
              "      <td>Developed</td>\n",
              "      <td>83.7</td>\n",
              "      <td>55.0</td>\n",
              "      <td>2</td>\n",
              "      <td>NaN</td>\n",
              "      <td>0.000000</td>\n",
              "      <td>NaN</td>\n",
              "      <td>35</td>\n",
              "      <td>...</td>\n",
              "      <td>99.0</td>\n",
              "      <td>NaN</td>\n",
              "      <td>96.0</td>\n",
              "      <td>0.1</td>\n",
              "      <td>34474.137360</td>\n",
              "      <td>127141.0</td>\n",
              "      <td>2.1</td>\n",
              "      <td>1.8</td>\n",
              "      <td>0.902</td>\n",
              "      <td>15.3</td>\n",
              "    </tr>\n",
              "    <tr>\n",
              "      <th>2</th>\n",
              "      <td>Syrian Arab Republic</td>\n",
              "      <td>2014</td>\n",
              "      <td>Developing</td>\n",
              "      <td>64.4</td>\n",
              "      <td>294.0</td>\n",
              "      <td>7</td>\n",
              "      <td>0.01</td>\n",
              "      <td>0.000000</td>\n",
              "      <td>47.0</td>\n",
              "      <td>594</td>\n",
              "      <td>...</td>\n",
              "      <td>52.0</td>\n",
              "      <td>3.25</td>\n",
              "      <td>43.0</td>\n",
              "      <td>0.1</td>\n",
              "      <td>NaN</td>\n",
              "      <td>19239.0</td>\n",
              "      <td>6.3</td>\n",
              "      <td>6.1</td>\n",
              "      <td>0.575</td>\n",
              "      <td>9.0</td>\n",
              "    </tr>\n",
              "    <tr>\n",
              "      <th>3</th>\n",
              "      <td>Latvia</td>\n",
              "      <td>2010</td>\n",
              "      <td>Developed</td>\n",
              "      <td>72.8</td>\n",
              "      <td>18.0</td>\n",
              "      <td>0</td>\n",
              "      <td>9.80</td>\n",
              "      <td>1109.969508</td>\n",
              "      <td>91.0</td>\n",
              "      <td>0</td>\n",
              "      <td>...</td>\n",
              "      <td>92.0</td>\n",
              "      <td>6.55</td>\n",
              "      <td>92.0</td>\n",
              "      <td>0.1</td>\n",
              "      <td>11326.219470</td>\n",
              "      <td>297555.0</td>\n",
              "      <td>2.2</td>\n",
              "      <td>2.3</td>\n",
              "      <td>0.815</td>\n",
              "      <td>16.0</td>\n",
              "    </tr>\n",
              "    <tr>\n",
              "      <th>4</th>\n",
              "      <td>Sao Tome and Principe</td>\n",
              "      <td>2013</td>\n",
              "      <td>Developing</td>\n",
              "      <td>67.1</td>\n",
              "      <td>192.0</td>\n",
              "      <td>0</td>\n",
              "      <td>0.01</td>\n",
              "      <td>200.660099</td>\n",
              "      <td>97.0</td>\n",
              "      <td>0</td>\n",
              "      <td>...</td>\n",
              "      <td>97.0</td>\n",
              "      <td>9.76</td>\n",
              "      <td>97.0</td>\n",
              "      <td>0.2</td>\n",
              "      <td>1619.532678</td>\n",
              "      <td>18745.0</td>\n",
              "      <td>5.7</td>\n",
              "      <td>5.5</td>\n",
              "      <td>0.559</td>\n",
              "      <td>11.0</td>\n",
              "    </tr>\n",
              "    <tr>\n",
              "      <th>...</th>\n",
              "      <td>...</td>\n",
              "      <td>...</td>\n",
              "      <td>...</td>\n",
              "      <td>...</td>\n",
              "      <td>...</td>\n",
              "      <td>...</td>\n",
              "      <td>...</td>\n",
              "      <td>...</td>\n",
              "      <td>...</td>\n",
              "      <td>...</td>\n",
              "      <td>...</td>\n",
              "      <td>...</td>\n",
              "      <td>...</td>\n",
              "      <td>...</td>\n",
              "      <td>...</td>\n",
              "      <td>...</td>\n",
              "      <td>...</td>\n",
              "      <td>...</td>\n",
              "      <td>...</td>\n",
              "      <td>...</td>\n",
              "      <td>...</td>\n",
              "    </tr>\n",
              "    <tr>\n",
              "      <th>2492</th>\n",
              "      <td>Tunisia</td>\n",
              "      <td>2000</td>\n",
              "      <td>Developing</td>\n",
              "      <td>72.9</td>\n",
              "      <td>112.0</td>\n",
              "      <td>4</td>\n",
              "      <td>1.21</td>\n",
              "      <td>264.784220</td>\n",
              "      <td>94.0</td>\n",
              "      <td>47</td>\n",
              "      <td>...</td>\n",
              "      <td>97.0</td>\n",
              "      <td>5.40</td>\n",
              "      <td>97.0</td>\n",
              "      <td>0.1</td>\n",
              "      <td>2213.914880</td>\n",
              "      <td>9699197.0</td>\n",
              "      <td>6.6</td>\n",
              "      <td>6.5</td>\n",
              "      <td>0.646</td>\n",
              "      <td>12.8</td>\n",
              "    </tr>\n",
              "    <tr>\n",
              "      <th>2493</th>\n",
              "      <td>Myanmar</td>\n",
              "      <td>2001</td>\n",
              "      <td>Developing</td>\n",
              "      <td>62.5</td>\n",
              "      <td>239.0</td>\n",
              "      <td>72</td>\n",
              "      <td>0.38</td>\n",
              "      <td>1.917164</td>\n",
              "      <td>NaN</td>\n",
              "      <td>2519</td>\n",
              "      <td>...</td>\n",
              "      <td>77.0</td>\n",
              "      <td>1.80</td>\n",
              "      <td>73.0</td>\n",
              "      <td>0.4</td>\n",
              "      <td>138.924927</td>\n",
              "      <td>46627994.0</td>\n",
              "      <td>13.3</td>\n",
              "      <td>13.7</td>\n",
              "      <td>0.427</td>\n",
              "      <td>7.6</td>\n",
              "    </tr>\n",
              "    <tr>\n",
              "      <th>2494</th>\n",
              "      <td>Netherlands</td>\n",
              "      <td>2008</td>\n",
              "      <td>Developed</td>\n",
              "      <td>83.0</td>\n",
              "      <td>68.0</td>\n",
              "      <td>1</td>\n",
              "      <td>9.62</td>\n",
              "      <td>10873.405540</td>\n",
              "      <td>NaN</td>\n",
              "      <td>109</td>\n",
              "      <td>...</td>\n",
              "      <td>97.0</td>\n",
              "      <td>9.57</td>\n",
              "      <td>97.0</td>\n",
              "      <td>0.1</td>\n",
              "      <td>56928.824800</td>\n",
              "      <td>16445593.0</td>\n",
              "      <td>1.0</td>\n",
              "      <td>0.9</td>\n",
              "      <td>0.905</td>\n",
              "      <td>16.8</td>\n",
              "    </tr>\n",
              "    <tr>\n",
              "      <th>2495</th>\n",
              "      <td>South Sudan</td>\n",
              "      <td>2013</td>\n",
              "      <td>Developing</td>\n",
              "      <td>56.4</td>\n",
              "      <td>345.0</td>\n",
              "      <td>26</td>\n",
              "      <td>NaN</td>\n",
              "      <td>47.444530</td>\n",
              "      <td>NaN</td>\n",
              "      <td>525</td>\n",
              "      <td>...</td>\n",
              "      <td>5.0</td>\n",
              "      <td>2.62</td>\n",
              "      <td>45.0</td>\n",
              "      <td>3.6</td>\n",
              "      <td>1186.113250</td>\n",
              "      <td>1117749.0</td>\n",
              "      <td>NaN</td>\n",
              "      <td>NaN</td>\n",
              "      <td>0.417</td>\n",
              "      <td>4.9</td>\n",
              "    </tr>\n",
              "    <tr>\n",
              "      <th>2496</th>\n",
              "      <td>Guatemala</td>\n",
              "      <td>2000</td>\n",
              "      <td>Developing</td>\n",
              "      <td>67.7</td>\n",
              "      <td>221.0</td>\n",
              "      <td>17</td>\n",
              "      <td>2.63</td>\n",
              "      <td>238.736981</td>\n",
              "      <td>NaN</td>\n",
              "      <td>0</td>\n",
              "      <td>...</td>\n",
              "      <td>8.0</td>\n",
              "      <td>5.25</td>\n",
              "      <td>81.0</td>\n",
              "      <td>0.2</td>\n",
              "      <td>1655.596261</td>\n",
              "      <td>1165743.0</td>\n",
              "      <td>1.6</td>\n",
              "      <td>1.6</td>\n",
              "      <td>0.539</td>\n",
              "      <td>8.2</td>\n",
              "    </tr>\n",
              "  </tbody>\n",
              "</table>\n",
              "<p>2497 rows × 22 columns</p>\n",
              "</div>\n",
              "      <button class=\"colab-df-convert\" onclick=\"convertToInteractive('df-4d0eec12-5ccd-4964-a467-8c83951c24e7')\"\n",
              "              title=\"Convert this dataframe to an interactive table.\"\n",
              "              style=\"display:none;\">\n",
              "        \n",
              "  <svg xmlns=\"http://www.w3.org/2000/svg\" height=\"24px\"viewBox=\"0 0 24 24\"\n",
              "       width=\"24px\">\n",
              "    <path d=\"M0 0h24v24H0V0z\" fill=\"none\"/>\n",
              "    <path d=\"M18.56 5.44l.94 2.06.94-2.06 2.06-.94-2.06-.94-.94-2.06-.94 2.06-2.06.94zm-11 1L8.5 8.5l.94-2.06 2.06-.94-2.06-.94L8.5 2.5l-.94 2.06-2.06.94zm10 10l.94 2.06.94-2.06 2.06-.94-2.06-.94-.94-2.06-.94 2.06-2.06.94z\"/><path d=\"M17.41 7.96l-1.37-1.37c-.4-.4-.92-.59-1.43-.59-.52 0-1.04.2-1.43.59L10.3 9.45l-7.72 7.72c-.78.78-.78 2.05 0 2.83L4 21.41c.39.39.9.59 1.41.59.51 0 1.02-.2 1.41-.59l7.78-7.78 2.81-2.81c.8-.78.8-2.07 0-2.86zM5.41 20L4 18.59l7.72-7.72 1.47 1.35L5.41 20z\"/>\n",
              "  </svg>\n",
              "      </button>\n",
              "      \n",
              "  <style>\n",
              "    .colab-df-container {\n",
              "      display:flex;\n",
              "      flex-wrap:wrap;\n",
              "      gap: 12px;\n",
              "    }\n",
              "\n",
              "    .colab-df-convert {\n",
              "      background-color: #E8F0FE;\n",
              "      border: none;\n",
              "      border-radius: 50%;\n",
              "      cursor: pointer;\n",
              "      display: none;\n",
              "      fill: #1967D2;\n",
              "      height: 32px;\n",
              "      padding: 0 0 0 0;\n",
              "      width: 32px;\n",
              "    }\n",
              "\n",
              "    .colab-df-convert:hover {\n",
              "      background-color: #E2EBFA;\n",
              "      box-shadow: 0px 1px 2px rgba(60, 64, 67, 0.3), 0px 1px 3px 1px rgba(60, 64, 67, 0.15);\n",
              "      fill: #174EA6;\n",
              "    }\n",
              "\n",
              "    [theme=dark] .colab-df-convert {\n",
              "      background-color: #3B4455;\n",
              "      fill: #D2E3FC;\n",
              "    }\n",
              "\n",
              "    [theme=dark] .colab-df-convert:hover {\n",
              "      background-color: #434B5C;\n",
              "      box-shadow: 0px 1px 3px 1px rgba(0, 0, 0, 0.15);\n",
              "      filter: drop-shadow(0px 1px 2px rgba(0, 0, 0, 0.3));\n",
              "      fill: #FFFFFF;\n",
              "    }\n",
              "  </style>\n",
              "\n",
              "      <script>\n",
              "        const buttonEl =\n",
              "          document.querySelector('#df-4d0eec12-5ccd-4964-a467-8c83951c24e7 button.colab-df-convert');\n",
              "        buttonEl.style.display =\n",
              "          google.colab.kernel.accessAllowed ? 'block' : 'none';\n",
              "\n",
              "        async function convertToInteractive(key) {\n",
              "          const element = document.querySelector('#df-4d0eec12-5ccd-4964-a467-8c83951c24e7');\n",
              "          const dataTable =\n",
              "            await google.colab.kernel.invokeFunction('convertToInteractive',\n",
              "                                                     [key], {});\n",
              "          if (!dataTable) return;\n",
              "\n",
              "          const docLinkHtml = 'Like what you see? Visit the ' +\n",
              "            '<a target=\"_blank\" href=https://colab.research.google.com/notebooks/data_table.ipynb>data table notebook</a>'\n",
              "            + ' to learn more about interactive tables.';\n",
              "          element.innerHTML = '';\n",
              "          dataTable['output_type'] = 'display_data';\n",
              "          await google.colab.output.renderOutput(dataTable, element);\n",
              "          const docLink = document.createElement('div');\n",
              "          docLink.innerHTML = docLinkHtml;\n",
              "          element.appendChild(docLink);\n",
              "        }\n",
              "      </script>\n",
              "    </div>\n",
              "  </div>\n",
              "  "
            ]
          },
          "metadata": {},
          "execution_count": 53
        }
      ],
      "source": [
        "df"
      ]
    },
    {
      "cell_type": "markdown",
      "metadata": {
        "id": "HBsBXJ5dU_PR"
      },
      "source": [
        "Plot \"year\" against \"average life expectancy\""
      ]
    },
    {
      "cell_type": "code",
      "execution_count": 54,
      "metadata": {
        "id": "-DfKHpd8U_PR"
      },
      "outputs": [],
      "source": [
        "years = df['Year']\n",
        "lifes = df['Life expectancy ']"
      ]
    },
    {
      "cell_type": "code",
      "execution_count": 55,
      "metadata": {
        "colab": {
          "base_uri": "https://localhost:8080/"
        },
        "id": "uiml5zs6_35n",
        "outputId": "395b76ce-d81e-4394-9321-cba46ff1b4ca"
      },
      "outputs": [
        {
          "output_type": "execute_result",
          "data": {
            "text/plain": [
              "2497"
            ]
          },
          "metadata": {},
          "execution_count": 55
        }
      ],
      "source": [
        "len(years)"
      ]
    },
    {
      "cell_type": "code",
      "execution_count": 56,
      "metadata": {
        "colab": {
          "base_uri": "https://localhost:8080/",
          "height": 430
        },
        "id": "S1YKcd0H_F2H",
        "outputId": "759920b6-3616-48f2-d483-fd73e15ff063"
      },
      "outputs": [
        {
          "output_type": "display_data",
          "data": {
            "text/plain": [
              "<Figure size 640x480 with 1 Axes>"
            ],
            "image/png": "[encoded data removed]"
          },
          "metadata": {}
        }
      ],
      "source": [
        "import matplotlib.pyplot as plt\n",
        "plt.plot(years, lifes)\n",
        "plt.show()"
      ]
    },
    {
      "cell_type": "markdown",
      "metadata": {
        "id": "_euMb0n0U_PR"
      },
      "source": [
        "Compare the average life expectancy of \"Developed\" and \"Developing\" countries for each year "
      ]
    },
    {
      "cell_type": "code",
      "execution_count": 57,
      "metadata": {
        "colab": {
          "base_uri": "https://localhost:8080/"
        },
        "id": "FHvcfXklU_PS",
        "outputId": "dba4db91-6815-4160-db06-24d01f8c2aec"
      },
      "outputs": [
        {
          "output_type": "stream",
          "name": "stderr",
          "text": [
            "<ipython-input-57-e711dbba471f>:1: FutureWarning: The default value of numeric_only in DataFrameGroupBy.mean is deprecated. In a future version, numeric_only will default to False. Either specify numeric_only or select only columns which should be valid for the function.\n",
            "  df_deveploped = df[df['Status'] == 'Developed'].groupby('Year').mean()\n",
            "<ipython-input-57-e711dbba471f>:2: FutureWarning: The default value of numeric_only in DataFrameGroupBy.mean is deprecated. In a future version, numeric_only will default to False. Either specify numeric_only or select only columns which should be valid for the function.\n",
            "  df_developing = df[df['Status'] == 'Developing'].groupby('Year').mean()\n"
          ]
        }
      ],
      "source": [
        "df_deveploped = df[df['Status'] == 'Developed'].groupby('Year').mean()\n",
        "df_developing = df[df['Status'] == 'Developing'].groupby('Year').mean()"
      ]
    },
    {
      "cell_type": "code",
      "execution_count": 58,
      "metadata": {
        "colab": {
          "base_uri": "https://localhost:8080/"
        },
        "id": "rid2-3OIBlaY",
        "outputId": "cf59d97a-4016-4ca6-b8b8-e98566abb45d"
      },
      "outputs": [
        {
          "output_type": "execute_result",
          "data": {
            "text/plain": [
              "Int64Index([2000, 2001, 2002, 2003, 2004, 2005, 2006, 2007, 2008, 2009, 2010,\n",
              "            2011, 2012, 2013, 2014, 2015],\n",
              "           dtype='int64', name='Year')"
            ]
          },
          "metadata": {},
          "execution_count": 58
        }
      ],
      "source": [
        "df_developing.index"
      ]
    },
    {
      "cell_type": "code",
      "execution_count": 59,
      "metadata": {
        "id": "7gc4cszzBLeF"
      },
      "outputs": [],
      "source": [
        "merged = pd.DataFrame(np.vstack([df_deveploped.index, df_deveploped['Life expectancy '], df_developing['Life expectancy ']]))"
      ]
    },
    {
      "cell_type": "code",
      "execution_count": 60,
      "metadata": {
        "colab": {
          "base_uri": "https://localhost:8080/",
          "height": 207
        },
        "id": "cvBhiIyUAYay",
        "outputId": "02599f6a-1165-4ae6-d9aa-7333955eb161"
      },
      "outputs": [
        {
          "output_type": "execute_result",
          "data": {
            "text/plain": [
              "            0            1            2            3         4            5   \\\n",
              "0  2000.000000  2001.000000  2002.000000  2003.000000  2004.000  2005.000000   \n",
              "1    76.891667    77.114286    77.710000    78.257692    78.452    78.792593   \n",
              "2    65.004959    65.048120    64.393496    65.617213    65.500    65.898450   \n",
              "\n",
              "            6            7            8            9            10  \\\n",
              "0  2006.000000  2007.000000  2008.000000  2009.000000  2010.000000   \n",
              "1    79.346667    79.252381    78.796552    79.581481    80.167857   \n",
              "2    67.167939    66.935878    67.365185    67.777206    67.404762   \n",
              "\n",
              "            11           12           13           14           15  \n",
              "0  2011.000000  2012.000000  2013.000000  2014.000000  2015.000000  \n",
              "1    79.821739    80.512000    80.376923    81.292593    80.175000  \n",
              "2    68.182443    68.823485    69.049606    69.442063    69.937984  "
            ],
            "text/html": [
              "\n",
              "  <div id=\"df-313b7d19-7c67-453e-87bd-cd8e923ef8c5\">\n",
              "    <div class=\"colab-df-container\">\n",
              "      <div>\n",
              "<style scoped>\n",
              "    .dataframe tbody tr th:only-of-type {\n",
              "        vertical-align: middle;\n",
              "    }\n",
              "\n",
              "    .dataframe tbody tr th {\n",
              "        vertical-align: top;\n",
              "    }\n",
              "\n",
              "    .dataframe thead th {\n",
              "        text-align: right;\n",
              "    }\n",
              "</style>\n",
              "<table border=\"1\" class=\"dataframe\">\n",
              "  <thead>\n",
              "    <tr style=\"text-align: right;\">\n",
              "      <th></th>\n",
              "      <th>0</th>\n",
              "      <th>1</th>\n",
              "      <th>2</th>\n",
              "      <th>3</th>\n",
              "      <th>4</th>\n",
              "      <th>5</th>\n",
              "      <th>6</th>\n",
              "      <th>7</th>\n",
              "      <th>8</th>\n",
              "      <th>9</th>\n",
              "      <th>10</th>\n",
              "      <th>11</th>\n",
              "      <th>12</th>\n",
              "      <th>13</th>\n",
              "      <th>14</th>\n",
              "      <th>15</th>\n",
              "    </tr>\n",
              "  </thead>\n",
              "  <tbody>\n",
              "    <tr>\n",
              "      <th>0</th>\n",
              "      <td>2000.000000</td>\n",
              "      <td>2001.000000</td>\n",
              "      <td>2002.000000</td>\n",
              "      <td>2003.000000</td>\n",
              "      <td>2004.000</td>\n",
              "      <td>2005.000000</td>\n",
              "      <td>2006.000000</td>\n",
              "      <td>2007.000000</td>\n",
              "      <td>2008.000000</td>\n",
              "      <td>2009.000000</td>\n",
              "      <td>2010.000000</td>\n",
              "      <td>2011.000000</td>\n",
              "      <td>2012.000000</td>\n",
              "      <td>2013.000000</td>\n",
              "      <td>2014.000000</td>\n",
              "      <td>2015.000000</td>\n",
              "    </tr>\n",
              "    <tr>\n",
              "      <th>1</th>\n",
              "      <td>76.891667</td>\n",
              "      <td>77.114286</td>\n",
              "      <td>77.710000</td>\n",
              "      <td>78.257692</td>\n",
              "      <td>78.452</td>\n",
              "      <td>78.792593</td>\n",
              "      <td>79.346667</td>\n",
              "      <td>79.252381</td>\n",
              "      <td>78.796552</td>\n",
              "      <td>79.581481</td>\n",
              "      <td>80.167857</td>\n",
              "      <td>79.821739</td>\n",
              "      <td>80.512000</td>\n",
              "      <td>80.376923</td>\n",
              "      <td>81.292593</td>\n",
              "      <td>80.175000</td>\n",
              "    </tr>\n",
              "    <tr>\n",
              "      <th>2</th>\n",
              "      <td>65.004959</td>\n",
              "      <td>65.048120</td>\n",
              "      <td>64.393496</td>\n",
              "      <td>65.617213</td>\n",
              "      <td>65.500</td>\n",
              "      <td>65.898450</td>\n",
              "      <td>67.167939</td>\n",
              "      <td>66.935878</td>\n",
              "      <td>67.365185</td>\n",
              "      <td>67.777206</td>\n",
              "      <td>67.404762</td>\n",
              "      <td>68.182443</td>\n",
              "      <td>68.823485</td>\n",
              "      <td>69.049606</td>\n",
              "      <td>69.442063</td>\n",
              "      <td>69.937984</td>\n",
              "    </tr>\n",
              "  </tbody>\n",
              "</table>\n",
              "</div>\n",
              "      <button class=\"colab-df-convert\" onclick=\"convertToInteractive('df-313b7d19-7c67-453e-87bd-cd8e923ef8c5')\"\n",
              "              title=\"Convert this dataframe to an interactive table.\"\n",
              "              style=\"display:none;\">\n",
              "        \n",
              "  <svg xmlns=\"http://www.w3.org/2000/svg\" height=\"24px\"viewBox=\"0 0 24 24\"\n",
              "       width=\"24px\">\n",
              "    <path d=\"M0 0h24v24H0V0z\" fill=\"none\"/>\n",
              "    <path d=\"M18.56 5.44l.94 2.06.94-2.06 2.06-.94-2.06-.94-.94-2.06-.94 2.06-2.06.94zm-11 1L8.5 8.5l.94-2.06 2.06-.94-2.06-.94L8.5 2.5l-.94 2.06-2.06.94zm10 10l.94 2.06.94-2.06 2.06-.94-2.06-.94-.94-2.06-.94 2.06-2.06.94z\"/><path d=\"M17.41 7.96l-1.37-1.37c-.4-.4-.92-.59-1.43-.59-.52 0-1.04.2-1.43.59L10.3 9.45l-7.72 7.72c-.78.78-.78 2.05 0 2.83L4 21.41c.39.39.9.59 1.41.59.51 0 1.02-.2 1.41-.59l7.78-7.78 2.81-2.81c.8-.78.8-2.07 0-2.86zM5.41 20L4 18.59l7.72-7.72 1.47 1.35L5.41 20z\"/>\n",
              "  </svg>\n",
              "      </button>\n",
              "      \n",
              "  <style>\n",
              "    .colab-df-container {\n",
              "      display:flex;\n",
              "      flex-wrap:wrap;\n",
              "      gap: 12px;\n",
              "    }\n",
              "\n",
              "    .colab-df-convert {\n",
              "      background-color: #E8F0FE;\n",
              "      border: none;\n",
              "      border-radius: 50%;\n",
              "      cursor: pointer;\n",
              "      display: none;\n",
              "      fill: #1967D2;\n",
              "      height: 32px;\n",
              "      padding: 0 0 0 0;\n",
              "      width: 32px;\n",
              "    }\n",
              "\n",
              "    .colab-df-convert:hover {\n",
              "      background-color: #E2EBFA;\n",
              "      box-shadow: 0px 1px 2px rgba(60, 64, 67, 0.3), 0px 1px 3px 1px rgba(60, 64, 67, 0.15);\n",
              "      fill: #174EA6;\n",
              "    }\n",
              "\n",
              "    [theme=dark] .colab-df-convert {\n",
              "      background-color: #3B4455;\n",
              "      fill: #D2E3FC;\n",
              "    }\n",
              "\n",
              "    [theme=dark] .colab-df-convert:hover {\n",
              "      background-color: #434B5C;\n",
              "      box-shadow: 0px 1px 3px 1px rgba(0, 0, 0, 0.15);\n",
              "      filter: drop-shadow(0px 1px 2px rgba(0, 0, 0, 0.3));\n",
              "      fill: #FFFFFF;\n",
              "    }\n",
              "  </style>\n",
              "\n",
              "      <script>\n",
              "        const buttonEl =\n",
              "          document.querySelector('#df-313b7d19-7c67-453e-87bd-cd8e923ef8c5 button.colab-df-convert');\n",
              "        buttonEl.style.display =\n",
              "          google.colab.kernel.accessAllowed ? 'block' : 'none';\n",
              "\n",
              "        async function convertToInteractive(key) {\n",
              "          const element = document.querySelector('#df-313b7d19-7c67-453e-87bd-cd8e923ef8c5');\n",
              "          const dataTable =\n",
              "            await google.colab.kernel.invokeFunction('convertToInteractive',\n",
              "                                                     [key], {});\n",
              "          if (!dataTable) return;\n",
              "\n",
              "          const docLinkHtml = 'Like what you see? Visit the ' +\n",
              "            '<a target=\"_blank\" href=https://colab.research.google.com/notebooks/data_table.ipynb>data table notebook</a>'\n",
              "            + ' to learn more about interactive tables.';\n",
              "          element.innerHTML = '';\n",
              "          dataTable['output_type'] = 'display_data';\n",
              "          await google.colab.output.renderOutput(dataTable, element);\n",
              "          const docLink = document.createElement('div');\n",
              "          docLink.innerHTML = docLinkHtml;\n",
              "          element.appendChild(docLink);\n",
              "        }\n",
              "      </script>\n",
              "    </div>\n",
              "  </div>\n",
              "  "
            ]
          },
          "metadata": {},
          "execution_count": 60
        }
      ],
      "source": [
        "merged"
      ]
    },
    {
      "cell_type": "markdown",
      "metadata": {
        "id": "v3PokphQU_PS"
      },
      "source": [
        "Get the correlation between \"Life expectancy\" and \"GDP\""
      ]
    },
    {
      "cell_type": "code",
      "execution_count": 61,
      "metadata": {
        "id": "mOfNroPqU_PS"
      },
      "outputs": [],
      "source": [
        "gdps = df['GDP']\n",
        "correlation = lifes.corr(gdps)"
      ]
    },
    {
      "cell_type": "code",
      "execution_count": 62,
      "metadata": {
        "colab": {
          "base_uri": "https://localhost:8080/"
        },
        "id": "kpI1uBUMCb05",
        "outputId": "41c0c6ff-39a4-481c-a650-91e6fd0d876a"
      },
      "outputs": [
        {
          "output_type": "execute_result",
          "data": {
            "text/plain": [
              "0.4652553879500644"
            ]
          },
          "metadata": {},
          "execution_count": 62
        }
      ],
      "source": [
        "correlation"
      ]
    },
    {
      "cell_type": "markdown",
      "metadata": {
        "id": "uL-6KStPU_PS"
      },
      "source": [
        "Find out the feature having the strongest correlation with the \"Life expectancy\"<br>\n",
        "Note: Do not display all of the correlation values. Your code should only print the result (the name of a column)."
      ]
    },
    {
      "cell_type": "code",
      "execution_count": 63,
      "metadata": {
        "colab": {
          "base_uri": "https://localhost:8080/"
        },
        "id": "aB5Re29qDPGE",
        "outputId": "f96a2b02-2d64-40b9-a3b6-ce01f3f14fee"
      },
      "outputs": [
        {
          "output_type": "execute_result",
          "data": {
            "text/plain": [
              "Index(['Country', 'Year', 'Status', 'Life expectancy ', 'Adult Mortality',\n",
              "       'infant deaths', 'Alcohol', 'percentage expenditure', 'Hepatitis B',\n",
              "       'Measles ', ' BMI ', 'under-five deaths ', 'Polio', 'Total expenditure',\n",
              "       'Diphtheria ', ' HIV/AIDS', 'GDP', 'Population',\n",
              "       ' thinness  1-19 years', ' thinness 5-9 years',\n",
              "       'Income composition of resources', 'Schooling'],\n",
              "      dtype='object')"
            ]
          },
          "metadata": {},
          "execution_count": 63
        }
      ],
      "source": [
        "df.columns"
      ]
    },
    {
      "cell_type": "code",
      "execution_count": 64,
      "metadata": {
        "id": "sHqKM8nKU_PS"
      },
      "outputs": [],
      "source": [
        "### TODO\n",
        "\n",
        "# highest_value = -1\n",
        "# highest_name = ''\n",
        "# for col_name in df.columns:\n",
        "#   # print(col_name)\n",
        "#   correlation = lifes.corr(df[col_name])\n",
        "#   if correlation > highest_value:\n",
        "#     highest_value = correlation\n",
        "#     highest_name = col_name\n",
        "# print(highest_value)\n",
        "# print(highest_name)"
      ]
    },
    {
      "cell_type": "markdown",
      "metadata": {
        "id": "Pbgj4XbWU_PS"
      },
      "source": [
        "# Preprocessing (20 points)"
      ]
    },
    {
      "cell_type": "markdown",
      "metadata": {
        "id": "MeJjivW3U_PS"
      },
      "source": [
        "Remove the rows containing NaN (or null) values"
      ]
    },
    {
      "cell_type": "code",
      "execution_count": 65,
      "metadata": {
        "id": "ZbBXGM9eU_PT"
      },
      "outputs": [],
      "source": [
        "df_new = df.dropna()\n",
        "# df_new = df_new.reset_index(drop=True)"
      ]
    },
    {
      "cell_type": "code",
      "execution_count": 66,
      "metadata": {
        "colab": {
          "base_uri": "https://localhost:8080/",
          "height": 557
        },
        "id": "-u02qSpxDyQA",
        "outputId": "9d5fbe19-ccdc-4546-8538-b251c5642302"
      },
      "outputs": [
        {
          "output_type": "execute_result",
          "data": {
            "text/plain": [
              "                    Country  Year      Status  Life expectancy   \\\n",
              "3                    Latvia  2010   Developed              72.8   \n",
              "4     Sao Tome and Principe  2013  Developing              67.1   \n",
              "7                  Colombia  2005  Developing              73.1   \n",
              "11                 Botswana  2012  Developing              63.4   \n",
              "12                   Mexico  2014  Developing              76.6   \n",
              "...                     ...   ...         ...               ...   \n",
              "2481              Mauritius  2009  Developing              72.8   \n",
              "2485                   Mali  2009  Developing              56.0   \n",
              "2488           Turkmenistan  2008  Developing              64.5   \n",
              "2490                 Angola  2007  Developing              48.2   \n",
              "2492                Tunisia  2000  Developing              72.9   \n",
              "\n",
              "      Adult Mortality  infant deaths  Alcohol  percentage expenditure  \\\n",
              "3                18.0              0     9.80             1109.969508   \n",
              "4               192.0              0     0.01              200.660099   \n",
              "7               144.0             15     4.38              531.980818   \n",
              "11                3.0              2     0.01               12.834474   \n",
              "12              122.0             31     5.26              168.173753   \n",
              "...               ...            ...      ...                     ...   \n",
              "2481            166.0              0     2.83              624.236183   \n",
              "2485            276.0             55     0.59               84.634389   \n",
              "2488            235.0              6     2.40               34.239794   \n",
              "2490            375.0             87     6.35              184.821345   \n",
              "2492            112.0              4     1.21              264.784220   \n",
              "\n",
              "      Hepatitis B  Measles   ...  Polio  Total expenditure  Diphtheria   \\\n",
              "3            91.0         0  ...   92.0               6.55         92.0   \n",
              "4            97.0         0  ...   97.0               9.76         97.0   \n",
              "7            93.0         0  ...   93.0               5.82         93.0   \n",
              "11           95.0         7  ...   96.0               6.27         95.0   \n",
              "12           84.0         3  ...   87.0               6.30         87.0   \n",
              "...           ...       ...  ...    ...                ...          ...   \n",
              "2481         99.0        15  ...   99.0               4.97         99.0   \n",
              "2485         71.0      2939  ...   77.0               6.85         73.0   \n",
              "2488         96.0         0  ...   96.0               1.93         96.0   \n",
              "2490         73.0      1014  ...   75.0               3.38         73.0   \n",
              "2492         94.0        47  ...   97.0               5.40         97.0   \n",
              "\n",
              "       HIV/AIDS           GDP  Population   thinness  1-19 years  \\\n",
              "3           0.1  11326.219470    297555.0                    2.2   \n",
              "4           0.2   1619.532678     18745.0                    5.7   \n",
              "7           0.1   3386.256000  43285634.0                    2.4   \n",
              "11          4.4    729.231453    289315.0                    7.3   \n",
              "12          0.1   1452.277660   1242216.0                    1.6   \n",
              "...         ...           ...         ...                    ...   \n",
              "2481        0.1   7318.126410   1247429.0                    7.3   \n",
              "2485        1.6    697.153124   1466597.0                    9.0   \n",
              "2488        0.1    394.467675   4935762.0                    3.2   \n",
              "2490        2.6   2878.837144   2997687.0                    9.6   \n",
              "2492        0.1   2213.914880   9699197.0                    6.6   \n",
              "\n",
              "       thinness 5-9 years  Income composition of resources  Schooling  \n",
              "3                     2.3                            0.815       16.0  \n",
              "4                     5.5                            0.559       11.0  \n",
              "7                     2.1                            0.658       11.1  \n",
              "11                    7.0                            0.687       12.5  \n",
              "12                    1.5                            0.754       13.1  \n",
              "...                   ...                              ...        ...  \n",
              "2481                  7.3                            0.734       13.8  \n",
              "2485                  8.8                            0.385        7.1  \n",
              "2488                  3.3                            0.000       10.5  \n",
              "2490                  9.6                            0.454        7.7  \n",
              "2492                  6.5                            0.646       12.8  \n",
              "\n",
              "[1415 rows x 22 columns]"
            ],
            "text/html": [
              "\n",
              "  <div id=\"df-49c838bc-3964-47c6-b543-5f43f48f160a\">\n",
              "    <div class=\"colab-df-container\">\n",
              "      <div>\n",
              "<style scoped>\n",
              "    .dataframe tbody tr th:only-of-type {\n",
              "        vertical-align: middle;\n",
              "    }\n",
              "\n",
              "    .dataframe tbody tr th {\n",
              "        vertical-align: top;\n",
              "    }\n",
              "\n",
              "    .dataframe thead th {\n",
              "        text-align: right;\n",
              "    }\n",
              "</style>\n",
              "<table border=\"1\" class=\"dataframe\">\n",
              "  <thead>\n",
              "    <tr style=\"text-align: right;\">\n",
              "      <th></th>\n",
              "      <th>Country</th>\n",
              "      <th>Year</th>\n",
              "      <th>Status</th>\n",
              "      <th>Life expectancy</th>\n",
              "      <th>Adult Mortality</th>\n",
              "      <th>infant deaths</th>\n",
              "      <th>Alcohol</th>\n",
              "      <th>percentage expenditure</th>\n",
              "      <th>Hepatitis B</th>\n",
              "      <th>Measles</th>\n",
              "      <th>...</th>\n",
              "      <th>Polio</th>\n",
              "      <th>Total expenditure</th>\n",
              "      <th>Diphtheria</th>\n",
              "      <th>HIV/AIDS</th>\n",
              "      <th>GDP</th>\n",
              "      <th>Population</th>\n",
              "      <th>thinness  1-19 years</th>\n",
              "      <th>thinness 5-9 years</th>\n",
              "      <th>Income composition of resources</th>\n",
              "      <th>Schooling</th>\n",
              "    </tr>\n",
              "  </thead>\n",
              "  <tbody>\n",
              "    <tr>\n",
              "      <th>3</th>\n",
              "      <td>Latvia</td>\n",
              "      <td>2010</td>\n",
              "      <td>Developed</td>\n",
              "      <td>72.8</td>\n",
              "      <td>18.0</td>\n",
              "      <td>0</td>\n",
              "      <td>9.80</td>\n",
              "      <td>1109.969508</td>\n",
              "      <td>91.0</td>\n",
              "      <td>0</td>\n",
              "      <td>...</td>\n",
              "      <td>92.0</td>\n",
              "      <td>6.55</td>\n",
              "      <td>92.0</td>\n",
              "      <td>0.1</td>\n",
              "      <td>11326.219470</td>\n",
              "      <td>297555.0</td>\n",
              "      <td>2.2</td>\n",
              "      <td>2.3</td>\n",
              "      <td>0.815</td>\n",
              "      <td>16.0</td>\n",
              "    </tr>\n",
              "    <tr>\n",
              "      <th>4</th>\n",
              "      <td>Sao Tome and Principe</td>\n",
              "      <td>2013</td>\n",
              "      <td>Developing</td>\n",
              "      <td>67.1</td>\n",
              "      <td>192.0</td>\n",
              "      <td>0</td>\n",
              "      <td>0.01</td>\n",
              "      <td>200.660099</td>\n",
              "      <td>97.0</td>\n",
              "      <td>0</td>\n",
              "      <td>...</td>\n",
              "      <td>97.0</td>\n",
              "      <td>9.76</td>\n",
              "      <td>97.0</td>\n",
              "      <td>0.2</td>\n",
              "      <td>1619.532678</td>\n",
              "      <td>18745.0</td>\n",
              "      <td>5.7</td>\n",
              "      <td>5.5</td>\n",
              "      <td>0.559</td>\n",
              "      <td>11.0</td>\n",
              "    </tr>\n",
              "    <tr>\n",
              "      <th>7</th>\n",
              "      <td>Colombia</td>\n",
              "      <td>2005</td>\n",
              "      <td>Developing</td>\n",
              "      <td>73.1</td>\n",
              "      <td>144.0</td>\n",
              "      <td>15</td>\n",
              "      <td>4.38</td>\n",
              "      <td>531.980818</td>\n",
              "      <td>93.0</td>\n",
              "      <td>0</td>\n",
              "      <td>...</td>\n",
              "      <td>93.0</td>\n",
              "      <td>5.82</td>\n",
              "      <td>93.0</td>\n",
              "      <td>0.1</td>\n",
              "      <td>3386.256000</td>\n",
              "      <td>43285634.0</td>\n",
              "      <td>2.4</td>\n",
              "      <td>2.1</td>\n",
              "      <td>0.658</td>\n",
              "      <td>11.1</td>\n",
              "    </tr>\n",
              "    <tr>\n",
              "      <th>11</th>\n",
              "      <td>Botswana</td>\n",
              "      <td>2012</td>\n",
              "      <td>Developing</td>\n",
              "      <td>63.4</td>\n",
              "      <td>3.0</td>\n",
              "      <td>2</td>\n",
              "      <td>0.01</td>\n",
              "      <td>12.834474</td>\n",
              "      <td>95.0</td>\n",
              "      <td>7</td>\n",
              "      <td>...</td>\n",
              "      <td>96.0</td>\n",
              "      <td>6.27</td>\n",
              "      <td>95.0</td>\n",
              "      <td>4.4</td>\n",
              "      <td>729.231453</td>\n",
              "      <td>289315.0</td>\n",
              "      <td>7.3</td>\n",
              "      <td>7.0</td>\n",
              "      <td>0.687</td>\n",
              "      <td>12.5</td>\n",
              "    </tr>\n",
              "    <tr>\n",
              "      <th>12</th>\n",
              "      <td>Mexico</td>\n",
              "      <td>2014</td>\n",
              "      <td>Developing</td>\n",
              "      <td>76.6</td>\n",
              "      <td>122.0</td>\n",
              "      <td>31</td>\n",
              "      <td>5.26</td>\n",
              "      <td>168.173753</td>\n",
              "      <td>84.0</td>\n",
              "      <td>3</td>\n",
              "      <td>...</td>\n",
              "      <td>87.0</td>\n",
              "      <td>6.30</td>\n",
              "      <td>87.0</td>\n",
              "      <td>0.1</td>\n",
              "      <td>1452.277660</td>\n",
              "      <td>1242216.0</td>\n",
              "      <td>1.6</td>\n",
              "      <td>1.5</td>\n",
              "      <td>0.754</td>\n",
              "      <td>13.1</td>\n",
              "    </tr>\n",
              "    <tr>\n",
              "      <th>...</th>\n",
              "      <td>...</td>\n",
              "      <td>...</td>\n",
              "      <td>...</td>\n",
              "      <td>...</td>\n",
              "      <td>...</td>\n",
              "      <td>...</td>\n",
              "      <td>...</td>\n",
              "      <td>...</td>\n",
              "      <td>...</td>\n",
              "      <td>...</td>\n",
              "      <td>...</td>\n",
              "      <td>...</td>\n",
              "      <td>...</td>\n",
              "      <td>...</td>\n",
              "      <td>...</td>\n",
              "      <td>...</td>\n",
              "      <td>...</td>\n",
              "      <td>...</td>\n",
              "      <td>...</td>\n",
              "      <td>...</td>\n",
              "      <td>...</td>\n",
              "    </tr>\n",
              "    <tr>\n",
              "      <th>2481</th>\n",
              "      <td>Mauritius</td>\n",
              "      <td>2009</td>\n",
              "      <td>Developing</td>\n",
              "      <td>72.8</td>\n",
              "      <td>166.0</td>\n",
              "      <td>0</td>\n",
              "      <td>2.83</td>\n",
              "      <td>624.236183</td>\n",
              "      <td>99.0</td>\n",
              "      <td>15</td>\n",
              "      <td>...</td>\n",
              "      <td>99.0</td>\n",
              "      <td>4.97</td>\n",
              "      <td>99.0</td>\n",
              "      <td>0.1</td>\n",
              "      <td>7318.126410</td>\n",
              "      <td>1247429.0</td>\n",
              "      <td>7.3</td>\n",
              "      <td>7.3</td>\n",
              "      <td>0.734</td>\n",
              "      <td>13.8</td>\n",
              "    </tr>\n",
              "    <tr>\n",
              "      <th>2485</th>\n",
              "      <td>Mali</td>\n",
              "      <td>2009</td>\n",
              "      <td>Developing</td>\n",
              "      <td>56.0</td>\n",
              "      <td>276.0</td>\n",
              "      <td>55</td>\n",
              "      <td>0.59</td>\n",
              "      <td>84.634389</td>\n",
              "      <td>71.0</td>\n",
              "      <td>2939</td>\n",
              "      <td>...</td>\n",
              "      <td>77.0</td>\n",
              "      <td>6.85</td>\n",
              "      <td>73.0</td>\n",
              "      <td>1.6</td>\n",
              "      <td>697.153124</td>\n",
              "      <td>1466597.0</td>\n",
              "      <td>9.0</td>\n",
              "      <td>8.8</td>\n",
              "      <td>0.385</td>\n",
              "      <td>7.1</td>\n",
              "    </tr>\n",
              "    <tr>\n",
              "      <th>2488</th>\n",
              "      <td>Turkmenistan</td>\n",
              "      <td>2008</td>\n",
              "      <td>Developing</td>\n",
              "      <td>64.5</td>\n",
              "      <td>235.0</td>\n",
              "      <td>6</td>\n",
              "      <td>2.40</td>\n",
              "      <td>34.239794</td>\n",
              "      <td>96.0</td>\n",
              "      <td>0</td>\n",
              "      <td>...</td>\n",
              "      <td>96.0</td>\n",
              "      <td>1.93</td>\n",
              "      <td>96.0</td>\n",
              "      <td>0.1</td>\n",
              "      <td>394.467675</td>\n",
              "      <td>4935762.0</td>\n",
              "      <td>3.2</td>\n",
              "      <td>3.3</td>\n",
              "      <td>0.000</td>\n",
              "      <td>10.5</td>\n",
              "    </tr>\n",
              "    <tr>\n",
              "      <th>2490</th>\n",
              "      <td>Angola</td>\n",
              "      <td>2007</td>\n",
              "      <td>Developing</td>\n",
              "      <td>48.2</td>\n",
              "      <td>375.0</td>\n",
              "      <td>87</td>\n",
              "      <td>6.35</td>\n",
              "      <td>184.821345</td>\n",
              "      <td>73.0</td>\n",
              "      <td>1014</td>\n",
              "      <td>...</td>\n",
              "      <td>75.0</td>\n",
              "      <td>3.38</td>\n",
              "      <td>73.0</td>\n",
              "      <td>2.6</td>\n",
              "      <td>2878.837144</td>\n",
              "      <td>2997687.0</td>\n",
              "      <td>9.6</td>\n",
              "      <td>9.6</td>\n",
              "      <td>0.454</td>\n",
              "      <td>7.7</td>\n",
              "    </tr>\n",
              "    <tr>\n",
              "      <th>2492</th>\n",
              "      <td>Tunisia</td>\n",
              "      <td>2000</td>\n",
              "      <td>Developing</td>\n",
              "      <td>72.9</td>\n",
              "      <td>112.0</td>\n",
              "      <td>4</td>\n",
              "      <td>1.21</td>\n",
              "      <td>264.784220</td>\n",
              "      <td>94.0</td>\n",
              "      <td>47</td>\n",
              "      <td>...</td>\n",
              "      <td>97.0</td>\n",
              "      <td>5.40</td>\n",
              "      <td>97.0</td>\n",
              "      <td>0.1</td>\n",
              "      <td>2213.914880</td>\n",
              "      <td>9699197.0</td>\n",
              "      <td>6.6</td>\n",
              "      <td>6.5</td>\n",
              "      <td>0.646</td>\n",
              "      <td>12.8</td>\n",
              "    </tr>\n",
              "  </tbody>\n",
              "</table>\n",
              "<p>1415 rows × 22 columns</p>\n",
              "</div>\n",
              "      <button class=\"colab-df-convert\" onclick=\"convertToInteractive('df-49c838bc-3964-47c6-b543-5f43f48f160a')\"\n",
              "              title=\"Convert this dataframe to an interactive table.\"\n",
              "              style=\"display:none;\">\n",
              "        \n",
              "  <svg xmlns=\"http://www.w3.org/2000/svg\" height=\"24px\"viewBox=\"0 0 24 24\"\n",
              "       width=\"24px\">\n",
              "    <path d=\"M0 0h24v24H0V0z\" fill=\"none\"/>\n",
              "    <path d=\"M18.56 5.44l.94 2.06.94-2.06 2.06-.94-2.06-.94-.94-2.06-.94 2.06-2.06.94zm-11 1L8.5 8.5l.94-2.06 2.06-.94-2.06-.94L8.5 2.5l-.94 2.06-2.06.94zm10 10l.94 2.06.94-2.06 2.06-.94-2.06-.94-.94-2.06-.94 2.06-2.06.94z\"/><path d=\"M17.41 7.96l-1.37-1.37c-.4-.4-.92-.59-1.43-.59-.52 0-1.04.2-1.43.59L10.3 9.45l-7.72 7.72c-.78.78-.78 2.05 0 2.83L4 21.41c.39.39.9.59 1.41.59.51 0 1.02-.2 1.41-.59l7.78-7.78 2.81-2.81c.8-.78.8-2.07 0-2.86zM5.41 20L4 18.59l7.72-7.72 1.47 1.35L5.41 20z\"/>\n",
              "  </svg>\n",
              "      </button>\n",
              "      \n",
              "  <style>\n",
              "    .colab-df-container {\n",
              "      display:flex;\n",
              "      flex-wrap:wrap;\n",
              "      gap: 12px;\n",
              "    }\n",
              "\n",
              "    .colab-df-convert {\n",
              "      background-color: #E8F0FE;\n",
              "      border: none;\n",
              "      border-radius: 50%;\n",
              "      cursor: pointer;\n",
              "      display: none;\n",
              "      fill: #1967D2;\n",
              "      height: 32px;\n",
              "      padding: 0 0 0 0;\n",
              "      width: 32px;\n",
              "    }\n",
              "\n",
              "    .colab-df-convert:hover {\n",
              "      background-color: #E2EBFA;\n",
              "      box-shadow: 0px 1px 2px rgba(60, 64, 67, 0.3), 0px 1px 3px 1px rgba(60, 64, 67, 0.15);\n",
              "      fill: #174EA6;\n",
              "    }\n",
              "\n",
              "    [theme=dark] .colab-df-convert {\n",
              "      background-color: #3B4455;\n",
              "      fill: #D2E3FC;\n",
              "    }\n",
              "\n",
              "    [theme=dark] .colab-df-convert:hover {\n",
              "      background-color: #434B5C;\n",
              "      box-shadow: 0px 1px 3px 1px rgba(0, 0, 0, 0.15);\n",
              "      filter: drop-shadow(0px 1px 2px rgba(0, 0, 0, 0.3));\n",
              "      fill: #FFFFFF;\n",
              "    }\n",
              "  </style>\n",
              "\n",
              "      <script>\n",
              "        const buttonEl =\n",
              "          document.querySelector('#df-49c838bc-3964-47c6-b543-5f43f48f160a button.colab-df-convert');\n",
              "        buttonEl.style.display =\n",
              "          google.colab.kernel.accessAllowed ? 'block' : 'none';\n",
              "\n",
              "        async function convertToInteractive(key) {\n",
              "          const element = document.querySelector('#df-49c838bc-3964-47c6-b543-5f43f48f160a');\n",
              "          const dataTable =\n",
              "            await google.colab.kernel.invokeFunction('convertToInteractive',\n",
              "                                                     [key], {});\n",
              "          if (!dataTable) return;\n",
              "\n",
              "          const docLinkHtml = 'Like what you see? Visit the ' +\n",
              "            '<a target=\"_blank\" href=https://colab.research.google.com/notebooks/data_table.ipynb>data table notebook</a>'\n",
              "            + ' to learn more about interactive tables.';\n",
              "          element.innerHTML = '';\n",
              "          dataTable['output_type'] = 'display_data';\n",
              "          await google.colab.output.renderOutput(dataTable, element);\n",
              "          const docLink = document.createElement('div');\n",
              "          docLink.innerHTML = docLinkHtml;\n",
              "          element.appendChild(docLink);\n",
              "        }\n",
              "      </script>\n",
              "    </div>\n",
              "  </div>\n",
              "  "
            ]
          },
          "metadata": {},
          "execution_count": 66
        }
      ],
      "source": [
        "df_new"
      ]
    },
    {
      "cell_type": "markdown",
      "metadata": {
        "id": "8tbAjlb2U_PT"
      },
      "source": [
        "Convert categorical columns into their one-hot encoded versions"
      ]
    },
    {
      "cell_type": "code",
      "execution_count": 67,
      "metadata": {
        "colab": {
          "base_uri": "https://localhost:8080/"
        },
        "id": "shlrP4pTU_PT",
        "outputId": "1eebf2b0-3601-42c6-c6bc-9efc9db991e0"
      },
      "outputs": [
        {
          "output_type": "stream",
          "name": "stdout",
          "text": [
            "133\n",
            "2\n"
          ]
        }
      ],
      "source": [
        "for column in df_new.columns:\n",
        "  type_ = df_new[column].dtype\n",
        "  if type_ == 'object':\n",
        "    one_hotted = pd.get_dummies(df_new[column])\n",
        "    print(len(one_hotted.columns))\n",
        "    df_new = df_new.drop(column,axis = 1)\n",
        "    df_new = df_new.join(one_hotted)"
      ]
    },
    {
      "cell_type": "code",
      "execution_count": 68,
      "metadata": {
        "colab": {
          "base_uri": "https://localhost:8080/"
        },
        "id": "2XMthmng0cR8",
        "outputId": "bfcd8435-7894-46d2-89f5-f725ccfaf7ca"
      },
      "outputs": [
        {
          "output_type": "execute_result",
          "data": {
            "text/plain": [
              "2"
            ]
          },
          "metadata": {},
          "execution_count": 68
        }
      ],
      "source": [
        "len(one_hotted.columns)"
      ]
    },
    {
      "cell_type": "code",
      "execution_count": 69,
      "metadata": {
        "colab": {
          "base_uri": "https://localhost:8080/",
          "height": 522
        },
        "id": "mBxX9YjRoZtK",
        "outputId": "7390709e-d066-4dfd-8084-0ae8d6107346"
      },
      "outputs": [
        {
          "output_type": "execute_result",
          "data": {
            "text/plain": [
              "      Year  Life expectancy   Adult Mortality  infant deaths  Alcohol  \\\n",
              "3     2010              72.8             18.0              0     9.80   \n",
              "4     2013              67.1            192.0              0     0.01   \n",
              "7     2005              73.1            144.0             15     4.38   \n",
              "11    2012              63.4              3.0              2     0.01   \n",
              "12    2014              76.6            122.0             31     5.26   \n",
              "...    ...               ...              ...            ...      ...   \n",
              "2481  2009              72.8            166.0              0     2.83   \n",
              "2485  2009              56.0            276.0             55     0.59   \n",
              "2488  2008              64.5            235.0              6     2.40   \n",
              "2490  2007              48.2            375.0             87     6.35   \n",
              "2492  2000              72.9            112.0              4     1.21   \n",
              "\n",
              "      percentage expenditure  Hepatitis B  Measles    BMI   \\\n",
              "3                1109.969508         91.0         0   58.9   \n",
              "4                 200.660099         97.0         0   29.3   \n",
              "7                 531.980818         93.0         0    5.5   \n",
              "11                 12.834474         95.0         7   36.2   \n",
              "12                168.173753         84.0         3   62.8   \n",
              "...                      ...          ...       ...    ...   \n",
              "2481              624.236183         99.0        15    3.2   \n",
              "2485               84.634389         71.0      2939    2.2   \n",
              "2488               34.239794         96.0         0   42.7   \n",
              "2490              184.821345         73.0      1014   18.8   \n",
              "2492              264.784220         94.0        47   48.1   \n",
              "\n",
              "      under-five deaths   ...  Turkmenistan  Uganda  Ukraine  Uruguay  \\\n",
              "3                      0  ...             0       0        0        0   \n",
              "4                      0  ...             0       0        0        0   \n",
              "7                     18  ...             0       0        0        0   \n",
              "11                     3  ...             0       0        0        0   \n",
              "12                    36  ...             0       0        0        0   \n",
              "...                  ...  ...           ...     ...      ...      ...   \n",
              "2481                   0  ...             0       0        0        0   \n",
              "2485                  93  ...             0       0        0        0   \n",
              "2488                   8  ...             1       0        0        0   \n",
              "2490                 138  ...             0       0        0        0   \n",
              "2492                   5  ...             0       0        0        0   \n",
              "\n",
              "      Uzbekistan  Vanuatu  Zambia  Zimbabwe  Developed  Developing  \n",
              "3              0        0       0         0          1           0  \n",
              "4              0        0       0         0          0           1  \n",
              "7              0        0       0         0          0           1  \n",
              "11             0        0       0         0          0           1  \n",
              "12             0        0       0         0          0           1  \n",
              "...          ...      ...     ...       ...        ...         ...  \n",
              "2481           0        0       0         0          0           1  \n",
              "2485           0        0       0         0          0           1  \n",
              "2488           0        0       0         0          0           1  \n",
              "2490           0        0       0         0          0           1  \n",
              "2492           0        0       0         0          0           1  \n",
              "\n",
              "[1415 rows x 155 columns]"
            ],
            "text/html": [
              "\n",
              "  <div id=\"df-4877dfe6-8c8a-498b-bd98-5bb2976b879d\">\n",
              "    <div class=\"colab-df-container\">\n",
              "      <div>\n",
              "<style scoped>\n",
              "    .dataframe tbody tr th:only-of-type {\n",
              "        vertical-align: middle;\n",
              "    }\n",
              "\n",
              "    .dataframe tbody tr th {\n",
              "        vertical-align: top;\n",
              "    }\n",
              "\n",
              "    .dataframe thead th {\n",
              "        text-align: right;\n",
              "    }\n",
              "</style>\n",
              "<table border=\"1\" class=\"dataframe\">\n",
              "  <thead>\n",
              "    <tr style=\"text-align: right;\">\n",
              "      <th></th>\n",
              "      <th>Year</th>\n",
              "      <th>Life expectancy</th>\n",
              "      <th>Adult Mortality</th>\n",
              "      <th>infant deaths</th>\n",
              "      <th>Alcohol</th>\n",
              "      <th>percentage expenditure</th>\n",
              "      <th>Hepatitis B</th>\n",
              "      <th>Measles</th>\n",
              "      <th>BMI</th>\n",
              "      <th>under-five deaths</th>\n",
              "      <th>...</th>\n",
              "      <th>Turkmenistan</th>\n",
              "      <th>Uganda</th>\n",
              "      <th>Ukraine</th>\n",
              "      <th>Uruguay</th>\n",
              "      <th>Uzbekistan</th>\n",
              "      <th>Vanuatu</th>\n",
              "      <th>Zambia</th>\n",
              "      <th>Zimbabwe</th>\n",
              "      <th>Developed</th>\n",
              "      <th>Developing</th>\n",
              "    </tr>\n",
              "  </thead>\n",
              "  <tbody>\n",
              "    <tr>\n",
              "      <th>3</th>\n",
              "      <td>2010</td>\n",
              "      <td>72.8</td>\n",
              "      <td>18.0</td>\n",
              "      <td>0</td>\n",
              "      <td>9.80</td>\n",
              "      <td>1109.969508</td>\n",
              "      <td>91.0</td>\n",
              "      <td>0</td>\n",
              "      <td>58.9</td>\n",
              "      <td>0</td>\n",
              "      <td>...</td>\n",
              "      <td>0</td>\n",
              "      <td>0</td>\n",
              "      <td>0</td>\n",
              "      <td>0</td>\n",
              "      <td>0</td>\n",
              "      <td>0</td>\n",
              "      <td>0</td>\n",
              "      <td>0</td>\n",
              "      <td>1</td>\n",
              "      <td>0</td>\n",
              "    </tr>\n",
              "    <tr>\n",
              "      <th>4</th>\n",
              "      <td>2013</td>\n",
              "      <td>67.1</td>\n",
              "      <td>192.0</td>\n",
              "      <td>0</td>\n",
              "      <td>0.01</td>\n",
              "      <td>200.660099</td>\n",
              "      <td>97.0</td>\n",
              "      <td>0</td>\n",
              "      <td>29.3</td>\n",
              "      <td>0</td>\n",
              "      <td>...</td>\n",
              "      <td>0</td>\n",
              "      <td>0</td>\n",
              "      <td>0</td>\n",
              "      <td>0</td>\n",
              "      <td>0</td>\n",
              "      <td>0</td>\n",
              "      <td>0</td>\n",
              "      <td>0</td>\n",
              "      <td>0</td>\n",
              "      <td>1</td>\n",
              "    </tr>\n",
              "    <tr>\n",
              "      <th>7</th>\n",
              "      <td>2005</td>\n",
              "      <td>73.1</td>\n",
              "      <td>144.0</td>\n",
              "      <td>15</td>\n",
              "      <td>4.38</td>\n",
              "      <td>531.980818</td>\n",
              "      <td>93.0</td>\n",
              "      <td>0</td>\n",
              "      <td>5.5</td>\n",
              "      <td>18</td>\n",
              "      <td>...</td>\n",
              "      <td>0</td>\n",
              "      <td>0</td>\n",
              "      <td>0</td>\n",
              "      <td>0</td>\n",
              "      <td>0</td>\n",
              "      <td>0</td>\n",
              "      <td>0</td>\n",
              "      <td>0</td>\n",
              "      <td>0</td>\n",
              "      <td>1</td>\n",
              "    </tr>\n",
              "    <tr>\n",
              "      <th>11</th>\n",
              "      <td>2012</td>\n",
              "      <td>63.4</td>\n",
              "      <td>3.0</td>\n",
              "      <td>2</td>\n",
              "      <td>0.01</td>\n",
              "      <td>12.834474</td>\n",
              "      <td>95.0</td>\n",
              "      <td>7</td>\n",
              "      <td>36.2</td>\n",
              "      <td>3</td>\n",
              "      <td>...</td>\n",
              "      <td>0</td>\n",
              "      <td>0</td>\n",
              "      <td>0</td>\n",
              "      <td>0</td>\n",
              "      <td>0</td>\n",
              "      <td>0</td>\n",
              "      <td>0</td>\n",
              "      <td>0</td>\n",
              "      <td>0</td>\n",
              "      <td>1</td>\n",
              "    </tr>\n",
              "    <tr>\n",
              "      <th>12</th>\n",
              "      <td>2014</td>\n",
              "      <td>76.6</td>\n",
              "      <td>122.0</td>\n",
              "      <td>31</td>\n",
              "      <td>5.26</td>\n",
              "      <td>168.173753</td>\n",
              "      <td>84.0</td>\n",
              "      <td>3</td>\n",
              "      <td>62.8</td>\n",
              "      <td>36</td>\n",
              "      <td>...</td>\n",
              "      <td>0</td>\n",
              "      <td>0</td>\n",
              "      <td>0</td>\n",
              "      <td>0</td>\n",
              "      <td>0</td>\n",
              "      <td>0</td>\n",
              "      <td>0</td>\n",
              "      <td>0</td>\n",
              "      <td>0</td>\n",
              "      <td>1</td>\n",
              "    </tr>\n",
              "    <tr>\n",
              "      <th>...</th>\n",
              "      <td>...</td>\n",
              "      <td>...</td>\n",
              "      <td>...</td>\n",
              "      <td>...</td>\n",
              "      <td>...</td>\n",
              "      <td>...</td>\n",
              "      <td>...</td>\n",
              "      <td>...</td>\n",
              "      <td>...</td>\n",
              "      <td>...</td>\n",
              "      <td>...</td>\n",
              "      <td>...</td>\n",
              "      <td>...</td>\n",
              "      <td>...</td>\n",
              "      <td>...</td>\n",
              "      <td>...</td>\n",
              "      <td>...</td>\n",
              "      <td>...</td>\n",
              "      <td>...</td>\n",
              "      <td>...</td>\n",
              "      <td>...</td>\n",
              "    </tr>\n",
              "    <tr>\n",
              "      <th>2481</th>\n",
              "      <td>2009</td>\n",
              "      <td>72.8</td>\n",
              "      <td>166.0</td>\n",
              "      <td>0</td>\n",
              "      <td>2.83</td>\n",
              "      <td>624.236183</td>\n",
              "      <td>99.0</td>\n",
              "      <td>15</td>\n",
              "      <td>3.2</td>\n",
              "      <td>0</td>\n",
              "      <td>...</td>\n",
              "      <td>0</td>\n",
              "      <td>0</td>\n",
              "      <td>0</td>\n",
              "      <td>0</td>\n",
              "      <td>0</td>\n",
              "      <td>0</td>\n",
              "      <td>0</td>\n",
              "      <td>0</td>\n",
              "      <td>0</td>\n",
              "      <td>1</td>\n",
              "    </tr>\n",
              "    <tr>\n",
              "      <th>2485</th>\n",
              "      <td>2009</td>\n",
              "      <td>56.0</td>\n",
              "      <td>276.0</td>\n",
              "      <td>55</td>\n",
              "      <td>0.59</td>\n",
              "      <td>84.634389</td>\n",
              "      <td>71.0</td>\n",
              "      <td>2939</td>\n",
              "      <td>2.2</td>\n",
              "      <td>93</td>\n",
              "      <td>...</td>\n",
              "      <td>0</td>\n",
              "      <td>0</td>\n",
              "      <td>0</td>\n",
              "      <td>0</td>\n",
              "      <td>0</td>\n",
              "      <td>0</td>\n",
              "      <td>0</td>\n",
              "      <td>0</td>\n",
              "      <td>0</td>\n",
              "      <td>1</td>\n",
              "    </tr>\n",
              "    <tr>\n",
              "      <th>2488</th>\n",
              "      <td>2008</td>\n",
              "      <td>64.5</td>\n",
              "      <td>235.0</td>\n",
              "      <td>6</td>\n",
              "      <td>2.40</td>\n",
              "      <td>34.239794</td>\n",
              "      <td>96.0</td>\n",
              "      <td>0</td>\n",
              "      <td>42.7</td>\n",
              "      <td>8</td>\n",
              "      <td>...</td>\n",
              "      <td>1</td>\n",
              "      <td>0</td>\n",
              "      <td>0</td>\n",
              "      <td>0</td>\n",
              "      <td>0</td>\n",
              "      <td>0</td>\n",
              "      <td>0</td>\n",
              "      <td>0</td>\n",
              "      <td>0</td>\n",
              "      <td>1</td>\n",
              "    </tr>\n",
              "    <tr>\n",
              "      <th>2490</th>\n",
              "      <td>2007</td>\n",
              "      <td>48.2</td>\n",
              "      <td>375.0</td>\n",
              "      <td>87</td>\n",
              "      <td>6.35</td>\n",
              "      <td>184.821345</td>\n",
              "      <td>73.0</td>\n",
              "      <td>1014</td>\n",
              "      <td>18.8</td>\n",
              "      <td>138</td>\n",
              "      <td>...</td>\n",
              "      <td>0</td>\n",
              "      <td>0</td>\n",
              "      <td>0</td>\n",
              "      <td>0</td>\n",
              "      <td>0</td>\n",
              "      <td>0</td>\n",
              "      <td>0</td>\n",
              "      <td>0</td>\n",
              "      <td>0</td>\n",
              "      <td>1</td>\n",
              "    </tr>\n",
              "    <tr>\n",
              "      <th>2492</th>\n",
              "      <td>2000</td>\n",
              "      <td>72.9</td>\n",
              "      <td>112.0</td>\n",
              "      <td>4</td>\n",
              "      <td>1.21</td>\n",
              "      <td>264.784220</td>\n",
              "      <td>94.0</td>\n",
              "      <td>47</td>\n",
              "      <td>48.1</td>\n",
              "      <td>5</td>\n",
              "      <td>...</td>\n",
              "      <td>0</td>\n",
              "      <td>0</td>\n",
              "      <td>0</td>\n",
              "      <td>0</td>\n",
              "      <td>0</td>\n",
              "      <td>0</td>\n",
              "      <td>0</td>\n",
              "      <td>0</td>\n",
              "      <td>0</td>\n",
              "      <td>1</td>\n",
              "    </tr>\n",
              "  </tbody>\n",
              "</table>\n",
              "<p>1415 rows × 155 columns</p>\n",
              "</div>\n",
              "      <button class=\"colab-df-convert\" onclick=\"convertToInteractive('df-4877dfe6-8c8a-498b-bd98-5bb2976b879d')\"\n",
              "              title=\"Convert this dataframe to an interactive table.\"\n",
              "              style=\"display:none;\">\n",
              "        \n",
              "  <svg xmlns=\"http://www.w3.org/2000/svg\" height=\"24px\"viewBox=\"0 0 24 24\"\n",
              "       width=\"24px\">\n",
              "    <path d=\"M0 0h24v24H0V0z\" fill=\"none\"/>\n",
              "    <path d=\"M18.56 5.44l.94 2.06.94-2.06 2.06-.94-2.06-.94-.94-2.06-.94 2.06-2.06.94zm-11 1L8.5 8.5l.94-2.06 2.06-.94-2.06-.94L8.5 2.5l-.94 2.06-2.06.94zm10 10l.94 2.06.94-2.06 2.06-.94-2.06-.94-.94-2.06-.94 2.06-2.06.94z\"/><path d=\"M17.41 7.96l-1.37-1.37c-.4-.4-.92-.59-1.43-.59-.52 0-1.04.2-1.43.59L10.3 9.45l-7.72 7.72c-.78.78-.78 2.05 0 2.83L4 21.41c.39.39.9.59 1.41.59.51 0 1.02-.2 1.41-.59l7.78-7.78 2.81-2.81c.8-.78.8-2.07 0-2.86zM5.41 20L4 18.59l7.72-7.72 1.47 1.35L5.41 20z\"/>\n",
              "  </svg>\n",
              "      </button>\n",
              "      \n",
              "  <style>\n",
              "    .colab-df-container {\n",
              "      display:flex;\n",
              "      flex-wrap:wrap;\n",
              "      gap: 12px;\n",
              "    }\n",
              "\n",
              "    .colab-df-convert {\n",
              "      background-color: #E8F0FE;\n",
              "      border: none;\n",
              "      border-radius: 50%;\n",
              "      cursor: pointer;\n",
              "      display: none;\n",
              "      fill: #1967D2;\n",
              "      height: 32px;\n",
              "      padding: 0 0 0 0;\n",
              "      width: 32px;\n",
              "    }\n",
              "\n",
              "    .colab-df-convert:hover {\n",
              "      background-color: #E2EBFA;\n",
              "      box-shadow: 0px 1px 2px rgba(60, 64, 67, 0.3), 0px 1px 3px 1px rgba(60, 64, 67, 0.15);\n",
              "      fill: #174EA6;\n",
              "    }\n",
              "\n",
              "    [theme=dark] .colab-df-convert {\n",
              "      background-color: #3B4455;\n",
              "      fill: #D2E3FC;\n",
              "    }\n",
              "\n",
              "    [theme=dark] .colab-df-convert:hover {\n",
              "      background-color: #434B5C;\n",
              "      box-shadow: 0px 1px 3px 1px rgba(0, 0, 0, 0.15);\n",
              "      filter: drop-shadow(0px 1px 2px rgba(0, 0, 0, 0.3));\n",
              "      fill: #FFFFFF;\n",
              "    }\n",
              "  </style>\n",
              "\n",
              "      <script>\n",
              "        const buttonEl =\n",
              "          document.querySelector('#df-4877dfe6-8c8a-498b-bd98-5bb2976b879d button.colab-df-convert');\n",
              "        buttonEl.style.display =\n",
              "          google.colab.kernel.accessAllowed ? 'block' : 'none';\n",
              "\n",
              "        async function convertToInteractive(key) {\n",
              "          const element = document.querySelector('#df-4877dfe6-8c8a-498b-bd98-5bb2976b879d');\n",
              "          const dataTable =\n",
              "            await google.colab.kernel.invokeFunction('convertToInteractive',\n",
              "                                                     [key], {});\n",
              "          if (!dataTable) return;\n",
              "\n",
              "          const docLinkHtml = 'Like what you see? Visit the ' +\n",
              "            '<a target=\"_blank\" href=https://colab.research.google.com/notebooks/data_table.ipynb>data table notebook</a>'\n",
              "            + ' to learn more about interactive tables.';\n",
              "          element.innerHTML = '';\n",
              "          dataTable['output_type'] = 'display_data';\n",
              "          await google.colab.output.renderOutput(dataTable, element);\n",
              "          const docLink = document.createElement('div');\n",
              "          docLink.innerHTML = docLinkHtml;\n",
              "          element.appendChild(docLink);\n",
              "        }\n",
              "      </script>\n",
              "    </div>\n",
              "  </div>\n",
              "  "
            ]
          },
          "metadata": {},
          "execution_count": 69
        }
      ],
      "source": [
        "df_new"
      ]
    },
    {
      "cell_type": "markdown",
      "metadata": {
        "id": "C6gaeeHxU_PT"
      },
      "source": [
        "Convert the dataframe into two numpy arrays (called `x` and `y`).<br>\n",
        "To make the first array, remove the \"Life expectancy\" column, and convert the remaining dataframe to a numpy array.<br>\n",
        "Then, use the removed column to make another numpy array (`y`)."
      ]
    },
    {
      "cell_type": "code",
      "execution_count": 70,
      "metadata": {
        "id": "dbN1zZ-dU_PT"
      },
      "outputs": [],
      "source": [
        "y = df_new['Life expectancy ']\n",
        "x = df_new.drop('Life expectancy ', axis = 1)"
      ]
    },
    {
      "cell_type": "code",
      "execution_count": 71,
      "metadata": {
        "id": "wX8abgTtowIr"
      },
      "outputs": [],
      "source": [
        "x = x.to_numpy()\n",
        "y = y.to_numpy()"
      ]
    },
    {
      "cell_type": "markdown",
      "metadata": {
        "id": "X0OE0dA1U_PT"
      },
      "source": [
        "Normalize the data"
      ]
    },
    {
      "cell_type": "code",
      "execution_count": 72,
      "metadata": {
        "id": "SBYXkQCbU_PT"
      },
      "outputs": [],
      "source": [
        "# from sklearn.preprocessing import normalize\n",
        "# x_ = normalize(x)\n",
        "x_ = x/np.linalg.norm(x) \n",
        "y_ = y/np.linalg.norm(y) \n"
      ]
    },
    {
      "cell_type": "code",
      "execution_count": 73,
      "metadata": {
        "colab": {
          "base_uri": "https://localhost:8080/"
        },
        "id": "P4ylZWXqqtFQ",
        "outputId": "875c1bab-e090-484d-e57d-db7722921d95"
      },
      "outputs": [
        {
          "output_type": "execute_result",
          "data": {
            "text/plain": [
              "(1415, 154)"
            ]
          },
          "metadata": {},
          "execution_count": 73
        }
      ],
      "source": [
        "x_.shape"
      ]
    },
    {
      "cell_type": "markdown",
      "metadata": {
        "id": "0GwHCHMlU_PU"
      },
      "source": [
        "# Model Training"
      ]
    },
    {
      "cell_type": "markdown",
      "metadata": {
        "id": "IksGhWU6U_PU"
      },
      "source": [
        "Split the data to training (80%) and testing (20%) parts (5 points)"
      ]
    },
    {
      "cell_type": "code",
      "execution_count": 74,
      "metadata": {
        "id": "YAdRX8VVU_PU"
      },
      "outputs": [],
      "source": [
        "from sklearn.model_selection import train_test_split\n",
        "\n",
        "x_train, x_test, y_train, y_test = train_test_split(x_, y_, test_size=0.2, random_state=42)"
      ]
    },
    {
      "cell_type": "code",
      "execution_count": 75,
      "metadata": {
        "colab": {
          "base_uri": "https://localhost:8080/"
        },
        "id": "f4rtKQeirGC9",
        "outputId": "0c321713-0e4c-4c20-cad5-e1d9ff1a6fbc"
      },
      "outputs": [
        {
          "output_type": "execute_result",
          "data": {
            "text/plain": [
              "4.0"
            ]
          },
          "metadata": {},
          "execution_count": 75
        }
      ],
      "source": [
        "x_train.size/x_test.size"
      ]
    },
    {
      "cell_type": "markdown",
      "metadata": {
        "id": "LMBCL_FAU_PU"
      },
      "source": [
        "# Common Regression Class"
      ]
    },
    {
      "cell_type": "markdown",
      "metadata": {
        "id": "lVm0vp2_U_PU"
      },
      "source": [
        "This is a regression class and you do not need to change its code. You have to fully understand it and then create new classes for rigde and lasso regression which inherit from this class.\n",
        "For initialization you have to specify learning rate, number of iteration, and a regularization object."
      ]
    },
    {
      "cell_type": "code",
      "execution_count": 76,
      "metadata": {
        "id": "G-YfrGzAU_PU"
      },
      "outputs": [],
      "source": [
        "class Regression:\n",
        "    def __init__(self, learning_rate, iteration, regularization):\n",
        "        \n",
        "        self.N = None # number of samples\n",
        "        self.n = None # number of features\n",
        "        self.w = None # initial weights\n",
        "        self.regularization = regularization # will be the l1/l2 regularization class according to the regression model\n",
        "        self.lr = learning_rate\n",
        "        self.it = iteration\n",
        "\n",
        "    def loss_function(self, y, y_pred):\n",
        "        return (1 / (2*self.N)) * np.sum(np.square(y_pred - y)) + self.regularization(self.w)\n",
        "    \n",
        "    def hypothesis(self, weights, X):\n",
        "        return np.dot(X, weights)\n",
        "\n",
        "    def train(self, X, y):\n",
        "        # Target value should be in the shape of (n, 1) not (n, ).\n",
        "\n",
        "        # Insert constant ones for bias weights.\n",
        "        X = np.insert(X, 0, 1, axis=1)\n",
        "\n",
        "        self.N = X.shape[0]\n",
        "        self.n = X.shape[1]\n",
        "        self.w = np.zeros((self.n , 1))\n",
        "\n",
        "        for it in range(1, self.it+1):\n",
        "            y_pred = self.hypothesis(self.w, X)\n",
        "            cost = self.loss_function(y, y_pred)\n",
        "            dw = (1/self.N) * np.dot(X.T, (y_pred - y)) + self.regularization.derivation(self.w)\n",
        "            self.w = self.w - self.lr * dw\n",
        "\n",
        "            if it % 10 == 0:\n",
        "                print(\"The loss function for the iteration {}----->{} :)\".format(it, cost))\n",
        "    \n",
        "    def predict(self, test_X):\n",
        "        # Insert constant ones for bias weights.\n",
        "        test_X = np.insert(test_X, 0, 1, axis=1)\n",
        "        y_pred = self.hypothesis(self.w, test_X)\n",
        "        return y_pred"
      ]
    },
    {
      "cell_type": "markdown",
      "metadata": {
        "id": "HE6pCA4MU_PU"
      },
      "source": [
        "# Regularization Classes (20 points)"
      ]
    },
    {
      "cell_type": "markdown",
      "metadata": {
        "id": "101Ics8WU_PU"
      },
      "source": [
        "You have to implement l2/l1 regularization."
      ]
    },
    {
      "cell_type": "code",
      "execution_count": 77,
      "metadata": {
        "id": "KkJ1I97gU_PU"
      },
      "outputs": [],
      "source": [
        "class l1_regularization:\n",
        "    \"\"\"Regularization used for Lasso Regression\"\"\"\n",
        "    def __init__(self, lamda):\n",
        "        self.lamda = lamda\n",
        "\n",
        "    def __call__(self, weights):\n",
        "        \"This will be returned when we call this class.\"\n",
        "        ## TO DO\n",
        "        return self.lamda * np.abs(weights)\n",
        "\n",
        "        \n",
        "    \n",
        "    def derivation(self, weights):\n",
        "        \"Derivation of the regulariozation function.\"\n",
        "        ## TO DO\n",
        "        return self.lamda * np.sign(weights)\n",
        "        \n",
        "\n",
        "\n",
        "class l2_regularization:\n",
        "    \"\"\"Regularization used for Ridge Regression\"\"\"\n",
        "    def __init__(self, lamda):\n",
        "        self.lamda = lamda\n",
        "\n",
        "    def __call__(self, weights):\n",
        "        \"This will be retuned when we call this class.\"\n",
        "        ## TO DO\n",
        "        return self.lamda * np.sum(weights ** 2) / 2\n",
        "    \n",
        "    def derivation(self, weights):\n",
        "        \"Derivation of the regulariozation function.\"\n",
        "        ## TO DO\n",
        "        return self.lamda * weights"
      ]
    },
    {
      "cell_type": "markdown",
      "metadata": {
        "id": "MYUC1u_FU_PU"
      },
      "source": [
        "# Lasso Regression from scratch (5 points)"
      ]
    },
    {
      "cell_type": "markdown",
      "metadata": {
        "id": "UxjF4g7rU_PU"
      },
      "source": [
        "Train a lasso regression model using your own code and the following class."
      ]
    },
    {
      "cell_type": "code",
      "execution_count": 78,
      "metadata": {
        "id": "Zl180mzhU_PU"
      },
      "outputs": [],
      "source": [
        "class LassoRegression(Regression):\n",
        "    def __init__(self, lamda, learning_rate, iteration):\n",
        "        self.regularization = l1_regularization(lamda)\n",
        "        super(LassoRegression, self).__init__(learning_rate, iteration, self.regularization)"
      ]
    },
    {
      "cell_type": "code",
      "execution_count": null,
      "metadata": {
        "id": "Vm0z4ECLU_PV"
      },
      "outputs": [],
      "source": [
        "lasso_own = LassoRegression(0.1, 0.1, 1000)\n",
        "lasso_own.train(x_train, y_train.reshape(len(y_train), 1))"
      ]
    },
    {
      "cell_type": "markdown",
      "metadata": {
        "id": "gxeSokECU_PW"
      },
      "source": [
        "# Lasso Regression using skicit-learn (5 points)"
      ]
    },
    {
      "cell_type": "markdown",
      "metadata": {
        "id": "LjkaQEKlU_PW"
      },
      "source": [
        "Use `sklearn` to train a Lasso Regression Model. To determine the best regularization coefficients, use grid-search (or other techniques you've learned till now)."
      ]
    },
    {
      "cell_type": "code",
      "execution_count": 80,
      "metadata": {
        "colab": {
          "base_uri": "https://localhost:8080/",
          "height": 74
        },
        "id": "Q1fX_s6aU_PW",
        "outputId": "25c29715-5740-4ae8-f5e0-21d67847fd39"
      },
      "outputs": [
        {
          "output_type": "execute_result",
          "data": {
            "text/plain": [
              "Lasso(alpha=0.1)"
            ],
            "text/html": [
              "<style>#sk-container-id-3 {color: black;background-color: white;}#sk-container-id-3 pre{padding: 0;}#sk-container-id-3 div.sk-toggleable {background-color: white;}#sk-container-id-3 label.sk-toggleable__label {cursor: pointer;display: block;width: 100%;margin-bottom: 0;padding: 0.3em;box-sizing: border-box;text-align: center;}#sk-container-id-3 label.sk-toggleable__label-arrow:before {content: \"▸\";float: left;margin-right: 0.25em;color: #696969;}#sk-container-id-3 label.sk-toggleable__label-arrow:hover:before {color: black;}#sk-container-id-3 div.sk-estimator:hover label.sk-toggleable__label-arrow:before {color: black;}#sk-container-id-3 div.sk-toggleable__content {max-height: 0;max-width: 0;overflow: hidden;text-align: left;background-color: #f0f8ff;}#sk-container-id-3 div.sk-toggleable__content pre {margin: 0.2em;color: black;border-radius: 0.25em;background-color: #f0f8ff;}#sk-container-id-3 input.sk-toggleable__control:checked~div.sk-toggleable__content {max-height: 200px;max-width: 100%;overflow: auto;}#sk-container-id-3 input.sk-toggleable__control:checked~label.sk-toggleable__label-arrow:before {content: \"▾\";}#sk-container-id-3 div.sk-estimator input.sk-toggleable__control:checked~label.sk-toggleable__label {background-color: #d4ebff;}#sk-container-id-3 div.sk-label input.sk-toggleable__control:checked~label.sk-toggleable__label {background-color: #d4ebff;}#sk-container-id-3 input.sk-hidden--visually {border: 0;clip: rect(1px 1px 1px 1px);clip: rect(1px, 1px, 1px, 1px);height: 1px;margin: -1px;overflow: hidden;padding: 0;position: absolute;width: 1px;}#sk-container-id-3 div.sk-estimator {font-family: monospace;background-color: #f0f8ff;border: 1px dotted black;border-radius: 0.25em;box-sizing: border-box;margin-bottom: 0.5em;}#sk-container-id-3 div.sk-estimator:hover {background-color: #d4ebff;}#sk-container-id-3 div.sk-parallel-item::after {content: \"\";width: 100%;border-bottom: 1px solid gray;flex-grow: 1;}#sk-container-id-3 div.sk-label:hover label.sk-toggleable__label {background-color: #d4ebff;}#sk-container-id-3 div.sk-serial::before {content: \"\";position: absolute;border-left: 1px solid gray;box-sizing: border-box;top: 0;bottom: 0;left: 50%;z-index: 0;}#sk-container-id-3 div.sk-serial {display: flex;flex-direction: column;align-items: center;background-color: white;padding-right: 0.2em;padding-left: 0.2em;position: relative;}#sk-container-id-3 div.sk-item {position: relative;z-index: 1;}#sk-container-id-3 div.sk-parallel {display: flex;align-items: stretch;justify-content: center;background-color: white;position: relative;}#sk-container-id-3 div.sk-item::before, #sk-container-id-3 div.sk-parallel-item::before {content: \"\";position: absolute;border-left: 1px solid gray;box-sizing: border-box;top: 0;bottom: 0;left: 50%;z-index: -1;}#sk-container-id-3 div.sk-parallel-item {display: flex;flex-direction: column;z-index: 1;position: relative;background-color: white;}#sk-container-id-3 div.sk-parallel-item:first-child::after {align-self: flex-end;width: 50%;}#sk-container-id-3 div.sk-parallel-item:last-child::after {align-self: flex-start;width: 50%;}#sk-container-id-3 div.sk-parallel-item:only-child::after {width: 0;}#sk-container-id-3 div.sk-dashed-wrapped {border: 1px dashed gray;margin: 0 0.4em 0.5em 0.4em;box-sizing: border-box;padding-bottom: 0.4em;background-color: white;}#sk-container-id-3 div.sk-label label {font-family: monospace;font-weight: bold;display: inline-block;line-height: 1.2em;}#sk-container-id-3 div.sk-label-container {text-align: center;}#sk-container-id-3 div.sk-container {/* jupyter's `normalize.less` sets `[hidden] { display: none; }` but bootstrap.min.css set `[hidden] { display: none !important; }` so we also need the `!important` here to be able to override the default hidden behavior on the sphinx rendered scikit-learn.org. See: https://github.com/scikit-learn/scikit-learn/issues/21755 */display: inline-block !important;position: relative;}#sk-container-id-3 div.sk-text-repr-fallback {display: none;}</style><div id=\"sk-container-id-3\" class=\"sk-top-container\"><div class=\"sk-text-repr-fallback\"><pre>Lasso(alpha=0.1)</pre><b>In a Jupyter environment, please rerun this cell to show the HTML representation or trust the notebook. <br />On GitHub, the HTML representation is unable to render, please try loading this page with nbviewer.org.</b></div><div class=\"sk-container\" hidden><div class=\"sk-item\"><div class=\"sk-estimator sk-toggleable\"><input class=\"sk-toggleable__control sk-hidden--visually\" id=\"sk-estimator-id-3\" type=\"checkbox\" checked><label for=\"sk-estimator-id-3\" class=\"sk-toggleable__label sk-toggleable__label-arrow\">Lasso</label><div class=\"sk-toggleable__content\"><pre>Lasso(alpha=0.1)</pre></div></div></div></div></div>"
            ]
          },
          "metadata": {},
          "execution_count": 80
        }
      ],
      "source": [
        "from sklearn import linear_model\n",
        "lasso_sklearn = linear_model.Lasso(alpha=0.1)\n",
        "lasso_sklearn.fit(x_train, y_train)\n",
        "\n",
        "# Grid Search ??"
      ]
    },
    {
      "cell_type": "markdown",
      "metadata": {
        "id": "6vHBMK9pU_PW"
      },
      "source": [
        "# Ridge Regression From scratch (5 points)"
      ]
    },
    {
      "cell_type": "markdown",
      "metadata": {
        "id": "qkmTdCqlU_PW"
      },
      "source": [
        "Train a ridge regression model using your own code and the following class."
      ]
    },
    {
      "cell_type": "code",
      "execution_count": 81,
      "metadata": {
        "id": "ueIbohzQU_PW"
      },
      "outputs": [],
      "source": [
        "class RidgeRegression(Regression):\n",
        "    def __init__(self, lamda, learning_rate, iteration):\n",
        "        self.regularization = l2_regularization(lamda)\n",
        "        super(RidgeRegression, self).__init__(learning_rate, iteration, self.regularization)"
      ]
    },
    {
      "cell_type": "code",
      "execution_count": 82,
      "metadata": {
        "colab": {
          "base_uri": "https://localhost:8080/"
        },
        "id": "Ows-DOCFU_PW",
        "outputId": "016590c1-fdf3-4ecf-de89-3e39deb39a1c"
      },
      "outputs": [
        {
          "output_type": "stream",
          "name": "stdout",
          "text": [
            "The loss function for the iteration 10----->7.564369251875894e-05 :)\n",
            "The loss function for the iteration 20----->4.067438680964723e-05 :)\n",
            "The loss function for the iteration 30----->3.727457444562176e-05 :)\n",
            "The loss function for the iteration 40----->3.694403156599816e-05 :)\n",
            "The loss function for the iteration 50----->3.6911891855070656e-05 :)\n",
            "The loss function for the iteration 60----->3.6908764315492515e-05 :)\n",
            "The loss function for the iteration 70----->3.6908457934688636e-05 :)\n",
            "The loss function for the iteration 80----->3.690842625870674e-05 :)\n",
            "The loss function for the iteration 90----->3.690842163678414e-05 :)\n",
            "The loss function for the iteration 100----->3.690841992808888e-05 :)\n"
          ]
        }
      ],
      "source": [
        "ridge_own = RidgeRegression(0.1, 0.1, 100)\n",
        "ridge_own.train(x_train, y_train.reshape(len(y_train), 1))"
      ]
    },
    {
      "cell_type": "markdown",
      "metadata": {
        "id": "etHAUbz3U_PW"
      },
      "source": [
        "# Ridge Regression using scikit-learn (5 points)"
      ]
    },
    {
      "cell_type": "markdown",
      "metadata": {
        "id": "-CHPali0U_PW"
      },
      "source": [
        "Use `sklearn` to train a Ridge Regression Model. To determine the best regularization coefficients, use grid-search (or other techniques you've learned till now)."
      ]
    },
    {
      "cell_type": "code",
      "execution_count": 83,
      "metadata": {
        "colab": {
          "base_uri": "https://localhost:8080/",
          "height": 74
        },
        "id": "IJY3TMVAU_PW",
        "outputId": "98d68381-2224-42d1-d12a-24b64d9bad1a"
      },
      "outputs": [
        {
          "output_type": "execute_result",
          "data": {
            "text/plain": [
              "Ridge(alpha=0.1)"
            ],
            "text/html": [
              "<style>#sk-container-id-4 {color: black;background-color: white;}#sk-container-id-4 pre{padding: 0;}#sk-container-id-4 div.sk-toggleable {background-color: white;}#sk-container-id-4 label.sk-toggleable__label {cursor: pointer;display: block;width: 100%;margin-bottom: 0;padding: 0.3em;box-sizing: border-box;text-align: center;}#sk-container-id-4 label.sk-toggleable__label-arrow:before {content: \"▸\";float: left;margin-right: 0.25em;color: #696969;}#sk-container-id-4 label.sk-toggleable__label-arrow:hover:before {color: black;}#sk-container-id-4 div.sk-estimator:hover label.sk-toggleable__label-arrow:before {color: black;}#sk-container-id-4 div.sk-toggleable__content {max-height: 0;max-width: 0;overflow: hidden;text-align: left;background-color: #f0f8ff;}#sk-container-id-4 div.sk-toggleable__content pre {margin: 0.2em;color: black;border-radius: 0.25em;background-color: #f0f8ff;}#sk-container-id-4 input.sk-toggleable__control:checked~div.sk-toggleable__content {max-height: 200px;max-width: 100%;overflow: auto;}#sk-container-id-4 input.sk-toggleable__control:checked~label.sk-toggleable__label-arrow:before {content: \"▾\";}#sk-container-id-4 div.sk-estimator input.sk-toggleable__control:checked~label.sk-toggleable__label {background-color: #d4ebff;}#sk-container-id-4 div.sk-label input.sk-toggleable__control:checked~label.sk-toggleable__label {background-color: #d4ebff;}#sk-container-id-4 input.sk-hidden--visually {border: 0;clip: rect(1px 1px 1px 1px);clip: rect(1px, 1px, 1px, 1px);height: 1px;margin: -1px;overflow: hidden;padding: 0;position: absolute;width: 1px;}#sk-container-id-4 div.sk-estimator {font-family: monospace;background-color: #f0f8ff;border: 1px dotted black;border-radius: 0.25em;box-sizing: border-box;margin-bottom: 0.5em;}#sk-container-id-4 div.sk-estimator:hover {background-color: #d4ebff;}#sk-container-id-4 div.sk-parallel-item::after {content: \"\";width: 100%;border-bottom: 1px solid gray;flex-grow: 1;}#sk-container-id-4 div.sk-label:hover label.sk-toggleable__label {background-color: #d4ebff;}#sk-container-id-4 div.sk-serial::before {content: \"\";position: absolute;border-left: 1px solid gray;box-sizing: border-box;top: 0;bottom: 0;left: 50%;z-index: 0;}#sk-container-id-4 div.sk-serial {display: flex;flex-direction: column;align-items: center;background-color: white;padding-right: 0.2em;padding-left: 0.2em;position: relative;}#sk-container-id-4 div.sk-item {position: relative;z-index: 1;}#sk-container-id-4 div.sk-parallel {display: flex;align-items: stretch;justify-content: center;background-color: white;position: relative;}#sk-container-id-4 div.sk-item::before, #sk-container-id-4 div.sk-parallel-item::before {content: \"\";position: absolute;border-left: 1px solid gray;box-sizing: border-box;top: 0;bottom: 0;left: 50%;z-index: -1;}#sk-container-id-4 div.sk-parallel-item {display: flex;flex-direction: column;z-index: 1;position: relative;background-color: white;}#sk-container-id-4 div.sk-parallel-item:first-child::after {align-self: flex-end;width: 50%;}#sk-container-id-4 div.sk-parallel-item:last-child::after {align-self: flex-start;width: 50%;}#sk-container-id-4 div.sk-parallel-item:only-child::after {width: 0;}#sk-container-id-4 div.sk-dashed-wrapped {border: 1px dashed gray;margin: 0 0.4em 0.5em 0.4em;box-sizing: border-box;padding-bottom: 0.4em;background-color: white;}#sk-container-id-4 div.sk-label label {font-family: monospace;font-weight: bold;display: inline-block;line-height: 1.2em;}#sk-container-id-4 div.sk-label-container {text-align: center;}#sk-container-id-4 div.sk-container {/* jupyter's `normalize.less` sets `[hidden] { display: none; }` but bootstrap.min.css set `[hidden] { display: none !important; }` so we also need the `!important` here to be able to override the default hidden behavior on the sphinx rendered scikit-learn.org. See: https://github.com/scikit-learn/scikit-learn/issues/21755 */display: inline-block !important;position: relative;}#sk-container-id-4 div.sk-text-repr-fallback {display: none;}</style><div id=\"sk-container-id-4\" class=\"sk-top-container\"><div class=\"sk-text-repr-fallback\"><pre>Ridge(alpha=0.1)</pre><b>In a Jupyter environment, please rerun this cell to show the HTML representation or trust the notebook. <br />On GitHub, the HTML representation is unable to render, please try loading this page with nbviewer.org.</b></div><div class=\"sk-container\" hidden><div class=\"sk-item\"><div class=\"sk-estimator sk-toggleable\"><input class=\"sk-toggleable__control sk-hidden--visually\" id=\"sk-estimator-id-4\" type=\"checkbox\" checked><label for=\"sk-estimator-id-4\" class=\"sk-toggleable__label sk-toggleable__label-arrow\">Ridge</label><div class=\"sk-toggleable__content\"><pre>Ridge(alpha=0.1)</pre></div></div></div></div></div>"
            ]
          },
          "metadata": {},
          "execution_count": 83
        }
      ],
      "source": [
        "from sklearn import linear_model\n",
        "ridge_sklearn = linear_model.Ridge(alpha=0.1)\n",
        "ridge_sklearn.fit(x_train, y_train)\n",
        "\n",
        "# Grid Search ??"
      ]
    },
    {
      "cell_type": "markdown",
      "metadata": {
        "id": "bRGCZENmU_PW"
      },
      "source": [
        "# Evaluation (15 points)"
      ]
    },
    {
      "cell_type": "markdown",
      "metadata": {
        "id": "1KGVuWJUU_PW"
      },
      "source": [
        "For each model (the 2 models trained using `sklearn` and the ones based on your code), predict the output for the testing samples."
      ]
    },
    {
      "cell_type": "code",
      "execution_count": 84,
      "metadata": {
        "id": "JWkNVRW7U_PW"
      },
      "outputs": [],
      "source": [
        "preds_lasso_sklearn = lasso_sklearn.predict(x_test)\n",
        "preds_ridge_sklearn = ridge_sklearn.predict(x_test)\n",
        "preds_lasso_own = lasso_own.predict(x_test)\n",
        "preds_ridge_own = ridge_own.predict(x_test)\n",
        "\n",
        "preds_lasso_own = preds_lasso_own.reshape((len(preds_lasso_own), ))\n",
        "preds_ridge_own = preds_ridge_own.reshape((len(preds_ridge_own), ))"
      ]
    },
    {
      "cell_type": "code",
      "source": [
        "preds_ridge_sklearn.shape"
      ],
      "metadata": {
        "colab": {
          "base_uri": "https://localhost:8080/"
        },
        "id": "q2YsN4IUzS9W",
        "outputId": "d8af3946-8615-4129-e175-4ad8f9df8b89"
      },
      "execution_count": 85,
      "outputs": [
        {
          "output_type": "execute_result",
          "data": {
            "text/plain": [
              "(283,)"
            ]
          },
          "metadata": {},
          "execution_count": 85
        }
      ]
    },
    {
      "cell_type": "code",
      "source": [
        "preds_lasso_own.shape"
      ],
      "metadata": {
        "colab": {
          "base_uri": "https://localhost:8080/"
        },
        "id": "KPMG6-hQzPS-",
        "outputId": "4d51334a-87cb-446d-bd13-af05eb53acdc"
      },
      "execution_count": 86,
      "outputs": [
        {
          "output_type": "execute_result",
          "data": {
            "text/plain": [
              "(283,)"
            ]
          },
          "metadata": {},
          "execution_count": 86
        }
      ]
    },
    {
      "cell_type": "markdown",
      "metadata": {
        "id": "jm-OLTTvU_PX"
      },
      "source": [
        "Measure the performance of the models based on \"mean squared error\" and the \"coefficient of determination\" of the prediction."
      ]
    },
    {
      "cell_type": "code",
      "execution_count": 87,
      "metadata": {
        "colab": {
          "base_uri": "https://localhost:8080/"
        },
        "id": "-MqKWn_WU_PX",
        "outputId": "e9a0fae3-e31c-42b6-a5a7-352e428d7c72"
      },
      "outputs": [
        {
          "output_type": "stream",
          "name": "stdout",
          "text": [
            "************\n",
            "Lasso Sklearn\n",
            "MSE: 1.1356090630445429e-05\n",
            "R2: -0.0020254049144554642\n",
            "************\n",
            "Ridge Sklearn\n",
            "MSE: 1.1365181236810512e-05\n",
            "R2: -0.0028275311760643795\n",
            "************\n",
            "Lasso Own\n",
            "MSE: 0.00023693406982849642\n",
            "R2: -19.906310541536843\n",
            "************\n",
            "Ridge Own\n",
            "MSE: 1.7821689433810617e-05\n",
            "R2: -0.5725293282969606\n"
          ]
        }
      ],
      "source": [
        "from sklearn.metrics import r2_score\n",
        "from sklearn.metrics import mean_squared_error\n",
        "from sklearn.metrics import accuracy_score\n",
        "\n",
        "\n",
        "print('************')\n",
        "print('Lasso Sklearn')\n",
        "mse_lasso_sklearn = mean_squared_error(y_test, preds_lasso_sklearn)\n",
        "r2_lasso_sklearn = r2_score(y_test, preds_lasso_sklearn)\n",
        "print(\"MSE:\", mse_lasso_sklearn)\n",
        "print(\"R2:\", r2_lasso_sklearn)\n",
        "# print(\"Accuracy:\", accuracy_score(y_test.flatten(), preds_lasso_sklearn.flatten()))\n",
        "\n",
        "print('************')\n",
        "print('Ridge Sklearn')\n",
        "mse_ridge_sklearn = mean_squared_error(y_test, preds_ridge_sklearn)\n",
        "r2_ridge_sklearn = r2_score(y_test, preds_ridge_sklearn)\n",
        "print(\"MSE:\", mse_ridge_sklearn)\n",
        "print(\"R2:\", r2_ridge_sklearn)\n",
        "# print(\"Accuracy:\", accuracy_score(y_test, preds_ridge_sklearn))\n",
        "\n",
        "\n",
        "print('************')\n",
        "print('Lasso Own')\n",
        "mse_lasso_own = mean_squared_error(y_test, preds_lasso_own)\n",
        "r2_lasso_own = r2_score(y_test, preds_lasso_own)\n",
        "print(\"MSE:\", mse_lasso_own)\n",
        "print(\"R2:\", r2_lasso_own)\n",
        "# print(\"Accuracy:\", accuracy_score(y_test.flatten(), preds_lasso_own.flatten()))\n",
        "\n",
        "\n",
        "print('************')\n",
        "print('Ridge Own')\n",
        "mse_ridge_own = mean_squared_error(y_test, preds_ridge_own)\n",
        "r2_ridge_own = r2_score(y_test, preds_ridge_own)\n",
        "print(\"MSE:\", mse_ridge_own)\n",
        "print(\"R2:\", r2_ridge_own)\n",
        "# print(\"Accuracy:\", accuracy_score(y_test, preds_ridge_own))"
      ]
    },
    {
      "cell_type": "markdown",
      "metadata": {
        "id": "RKvQNxCBd4bH"
      },
      "source": [
        "# Kaggle"
      ]
    },
    {
      "cell_type": "markdown",
      "metadata": {
        "id": "SWVaPC-Yd6yb"
      },
      "source": [
        "Competition Link: https://www.kaggle.com/t/adbf95666e7c4f41a6be1129a9e4415c"
      ]
    },
    {
      "cell_type": "code",
      "execution_count": 88,
      "metadata": {
        "id": "0GdxbFAWyx6g"
      },
      "outputs": [],
      "source": [
        "# from google.colab import drive\n",
        "# drive.mount('/content/gdrive')\n",
        "# !touch \"/content/gdrive/My Drive/assignment4-test-data.csv\"\n"
      ]
    },
    {
      "cell_type": "code",
      "execution_count": 89,
      "metadata": {
        "id": "SXaSJvww0I9P"
      },
      "outputs": [],
      "source": [
        "# test_file_df = pd.read_csv('/content/gdrive/My Drive/assignment5-test-data.csv')\n"
      ]
    },
    {
      "cell_type": "code",
      "execution_count": 90,
      "metadata": {
        "id": "UOxlwXeTzVN6"
      },
      "outputs": [],
      "source": [
        "\n",
        "# one_hotted = pd.get_dummies(test_file_df['Country'])\n",
        "\n",
        "# len(one_hotted.columns)\n",
        "# for col in one_hotted.columns:\n",
        "#   if col not in df_new.columns:\n",
        "#     print(col)\n",
        "\n",
        "# test_file_df_new = test_file_df\n",
        "# for column in test_file_df_new.columns:\n",
        "#   type_ = test_file_df_new[column].dtype\n",
        "#   if type_ == 'object':\n",
        "#     one_hotted = pd.get_dummies(test_file_df_new[column])\n",
        "#     print(len(one_hotted.columns))\n",
        "#     test_file_df_new = test_file_df_new.drop(column,axis = 1)\n",
        "#     test_file_df_new = test_file_df_new.join(one_hotted)\n",
        "# test_file_df_new = test_file_df_new.reindex_like(df_new)\n"
      ]
    },
    {
      "cell_type": "code",
      "execution_count": 90,
      "metadata": {
        "id": "RF0hiOQP0KI4"
      },
      "outputs": [],
      "source": []
    }
  ],
  "metadata": {
    "colab": {
      "provenance": []
    },
    "kernelspec": {
      "display_name": "Python 3",
      "language": "python",
      "name": "python3"
    },
    "language_info": {
      "codemirror_mode": {
        "name": "ipython",
        "version": 3
      },
      "file_extension": ".py",
      "mimetype": "text/x-python",
      "name": "python",
      "nbconvert_exporter": "python",
      "pygments_lexer": "ipython3",
      "version": "3.7.12"
    }
  },
  "nbformat": 4,
  "nbformat_minor": 0
}