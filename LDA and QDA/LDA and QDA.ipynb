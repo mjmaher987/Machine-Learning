{
  "cells": [
    {
      "cell_type": "markdown",
      "metadata": {
        "id": "b07eb33c"
      },
      "source": [
        "<div>\n",
        "<img src='http://www-scf.usc.edu/~ghasemig/images/sharif.png' alt=\"SUT logo\" width=220 height=220 align=left class=\"saturate\">\n",
        "\n",
        "<br>\n",
        "<font face=\"Times New Roman\">\n",
        "<div dir=ltr align=center> \n",
        "<!-- <font color=0F5298 size=7> -->\n",
        "<font color=0F5298 size=6>\n",
        "    Introduction to Machine Learning <br> <br>\n",
        "<!-- <font color=2565AE size=5> -->\n",
        "<font size=5>\n",
        "    Computer Engineering Department <br>\n",
        "    Spring 2023 <br> <br>\n",
        "<font color=606060 size=5>\n",
        "    Homework 2: Practical - LDA & QDA <br> <br>\n",
        "<font color=686880 size=4>\n",
        "    TAs: Arman Malekzadeh - Arshia Soltani Moakhar\n",
        "    \n",
        "____"
      ]
    },
    {
      "cell_type": "markdown",
      "metadata": {
        "id": "f5a79508"
      },
      "source": [
        "### Full Name : Mohammad Javad Maheronnaghsh\n",
        "___"
      ]
    },
    {
      "cell_type": "code",
      "execution_count": 1,
      "metadata": {
        "id": "DILQa6lWBggF",
        "ExecuteTime": {
          "start_time": "2023-04-19T02:46:57.185367Z",
          "end_time": "2023-04-19T02:46:59.431282Z"
        }
      },
      "outputs": [],
      "source": [
        "import pandas as pd\n",
        "import numpy as np\n",
        "from sklearn.model_selection import train_test_split\n",
        "from sklearn.discriminant_analysis import LinearDiscriminantAnalysis\n",
        "from sklearn.metrics import classification_report\n",
        "from sklearn.discriminant_analysis import QuadraticDiscriminantAnalysis\n",
        "from sklearn.metrics import classification_report\n",
        "from sklearn.metrics import roc_auc_score"
      ]
    },
    {
      "cell_type": "markdown",
      "metadata": {
        "id": "HnzaQ-o1BggH"
      },
      "source": [
        "# Exploration (20 points)"
      ]
    },
    {
      "cell_type": "code",
      "execution_count": 2,
      "metadata": {
        "colab": {
          "base_uri": "https://localhost:8080/"
        },
        "id": "ft5kutyBBggJ",
        "outputId": "88c2f125-d1c2-4a3f-b0f7-73ea9de58e38"
      },
      "outputs": [
        {
          "output_type": "stream",
          "name": "stdout",
          "text": [
            "--2023-04-19 00:01:33--  https://github.com/sharif-ml/sharif-ml.github.io/raw/main/assignments/dataset-train.csv\n",
            "Resolving github.com (github.com)... 192.30.255.113\n",
            "Connecting to github.com (github.com)|192.30.255.113|:443... connected.\n",
            "HTTP request sent, awaiting response... 302 Found\n",
            "Location: https://raw.githubusercontent.com/sharif-ml/sharif-ml.github.io/main/assignments/dataset-train.csv [following]\n",
            "--2023-04-19 00:01:33--  https://raw.githubusercontent.com/sharif-ml/sharif-ml.github.io/main/assignments/dataset-train.csv\n",
            "Resolving raw.githubusercontent.com (raw.githubusercontent.com)... 185.199.108.133, 185.199.109.133, 185.199.110.133, ...\n",
            "Connecting to raw.githubusercontent.com (raw.githubusercontent.com)|185.199.108.133|:443... connected.\n",
            "HTTP request sent, awaiting response... 200 OK\n",
            "Length: 89401 (87K) [text/plain]\n",
            "Saving to: ‘dataset-train.csv’\n",
            "\n",
            "dataset-train.csv   100%[===================>]  87.31K  --.-KB/s    in 0.008s  \n",
            "\n",
            "2023-04-19 00:01:33 (11.0 MB/s) - ‘dataset-train.csv’ saved [89401/89401]\n",
            "\n"
          ]
        }
      ],
      "source": [
        "!wget https://github.com/sharif-ml/sharif-ml.github.io/raw/main/assignments/dataset-train.csv"
      ]
    },
    {
      "cell_type": "markdown",
      "metadata": {
        "id": "mnAKD1iPBggK"
      },
      "source": [
        "Load the dataset as a dataframe"
      ]
    },
    {
      "cell_type": "code",
      "execution_count": 3,
      "metadata": {
        "id": "b2m5R15PBggK",
        "ExecuteTime": {
          "start_time": "2023-04-19T02:46:59.429142Z",
          "end_time": "2023-04-19T02:46:59.458831Z"
        }
      },
      "outputs": [],
      "source": [
        "df = pd.read_csv('dataset-train.csv')"
      ]
    },
    {
      "cell_type": "markdown",
      "metadata": {
        "id": "_RAEyEnGBggL"
      },
      "source": [
        "Get the minimum \"Area Income\" for all Italians"
      ]
    },
    {
      "cell_type": "code",
      "execution_count": 4,
      "metadata": {
        "colab": {
          "base_uri": "https://localhost:8080/"
        },
        "id": "Sw2v_z0uBggM",
        "outputId": "2306051b-2500-42de-a9aa-b53a7a158dc6",
        "ExecuteTime": {
          "start_time": "2023-04-19T02:46:59.458769Z",
          "end_time": "2023-04-19T02:46:59.470662Z"
        }
      },
      "outputs": [
        {
          "output_type": "execute_result",
          "data": {
            "text/plain": [
              "54286.1"
            ]
          },
          "metadata": {},
          "execution_count": 4
        }
      ],
      "source": [
        "# just Italians\n",
        "italians = df[df.Country == 'Italy']\n",
        "# get the min\n",
        "italians['Area Income'].min()"
      ]
    },
    {
      "cell_type": "markdown",
      "metadata": {
        "id": "LDFnEQokBggM"
      },
      "source": [
        "Make a new dataframe called \"sample_df\" by sampling 100 rows from the previously made dataframe"
      ]
    },
    {
      "cell_type": "code",
      "execution_count": 5,
      "metadata": {
        "id": "nuXW_oJ0BggM",
        "ExecuteTime": {
          "start_time": "2023-04-19T02:46:59.468063Z",
          "end_time": "2023-04-19T02:46:59.478710Z"
        }
      },
      "outputs": [],
      "source": [
        "sample_df = df.sample(n = 100)"
      ]
    },
    {
      "cell_type": "markdown",
      "metadata": {
        "id": "suacG-6_BggM"
      },
      "source": [
        "Compare all men and women aged less than 30 years in terms of their average \"Daily Internet Usage\". Your result should contain the average daily usage for each age and gender, seperately."
      ]
    },
    {
      "cell_type": "code",
      "execution_count": 6,
      "metadata": {
        "colab": {
          "base_uri": "https://localhost:8080/"
        },
        "id": "LWYjnPOTBggN",
        "outputId": "cc46e488-07a6-4dfb-96db-f5f1c21f3d35",
        "ExecuteTime": {
          "start_time": "2023-04-19T02:46:59.483867Z",
          "end_time": "2023-04-19T02:46:59.525312Z"
        }
      },
      "outputs": [
        {
          "output_type": "stream",
          "name": "stdout",
          "text": [
            "Mean DIU of Women under 30 is 184.4093333333333\n",
            "Mean DIU of Men under 30 is 204.565625\n"
          ]
        }
      ],
      "source": [
        "from numpy.lib.function_base import average\n",
        "booleans_women = (sample_df.Age < 30) & (sample_df.Gender == 'female')\n",
        "booleans_men = (sample_df.Age < 30) & (sample_df.Gender == 'male')\n",
        "women_data = sample_df[booleans_women]\n",
        "men_data = sample_df[booleans_men]\n",
        "print(\"Mean DIU of Women under 30 is \" + str(average(women_data['Daily Internet Usage'])))\n",
        "print(\"Mean DIU of Men under 30 is \" + str(average(men_data['Daily Internet Usage'])))"
      ]
    },
    {
      "cell_type": "markdown",
      "metadata": {
        "id": "dlfpnrArBggN"
      },
      "source": [
        "# Preprocessing (30 points)"
      ]
    },
    {
      "cell_type": "markdown",
      "metadata": {
        "id": "JdRU5FFQBggN"
      },
      "source": [
        "Remove the following columns: \"Ad Topic Line\", \"Timestamp\""
      ]
    },
    {
      "cell_type": "code",
      "execution_count": 7,
      "metadata": {
        "id": "-3Ad4otcBggN",
        "ExecuteTime": {
          "start_time": "2023-04-19T02:46:59.486902Z",
          "end_time": "2023-04-19T02:46:59.526454Z"
        }
      },
      "outputs": [],
      "source": [
        "sample_df = df # Comment or Uncomment\n",
        "sample_df = sample_df.drop(['Ad Topic Line', 'Timestamp'], axis = 1)"
      ]
    },
    {
      "cell_type": "markdown",
      "metadata": {
        "id": "9PkOuMDXBggO"
      },
      "source": [
        "Convert the \"City\" and \"Country\" columns to their one-hot encoded versions.\n",
        "For each set of one-hot encoded columns, remove one of them to make the columns not correlated. Finally, remove the original columns named \"City\" and \"Country\"."
      ]
    },
    {
      "cell_type": "code",
      "execution_count": 8,
      "metadata": {
        "id": "TBMwY-rQBggO",
        "ExecuteTime": {
          "start_time": "2023-04-19T02:46:59.493718Z",
          "end_time": "2023-04-19T02:46:59.526883Z"
        }
      },
      "outputs": [],
      "source": [
        "cities = pd.Series(sample_df['City'])\n",
        "dummies = pd.get_dummies(cities)\n",
        "sample_df = pd.concat([sample_df, dummies], axis = 1)"
      ]
    },
    {
      "cell_type": "code",
      "execution_count": 9,
      "metadata": {
        "id": "7-5GKMh2BggO",
        "ExecuteTime": {
          "start_time": "2023-04-19T02:46:59.508455Z",
          "end_time": "2023-04-19T02:46:59.527055Z"
        }
      },
      "outputs": [],
      "source": [
        "countries = pd.Series(sample_df['Country'])\n",
        "dummies = pd.get_dummies(countries)\n",
        "sample_df = pd.concat([sample_df, dummies], axis = 1)"
      ]
    },
    {
      "cell_type": "code",
      "execution_count": 10,
      "metadata": {
        "id": "7e0VMVeYBggO",
        "ExecuteTime": {
          "start_time": "2023-04-19T02:46:59.516229Z",
          "end_time": "2023-04-19T02:46:59.527178Z"
        }
      },
      "outputs": [],
      "source": [
        "city_to_delete = cities.head(1)\n",
        "city_to_delete = str(city_to_delete.tolist()[0])\n",
        "\n",
        "country_to_Delete = countries.head(1)\n",
        "country_to_Delete = str(country_to_Delete.tolist()[0])\n",
        "\n",
        "sample_df = sample_df.drop([city_to_delete, country_to_Delete], axis = 1)"
      ]
    },
    {
      "cell_type": "code",
      "execution_count": 11,
      "metadata": {
        "id": "49BFrdQfBggP",
        "ExecuteTime": {
          "start_time": "2023-04-19T02:46:59.520278Z",
          "end_time": "2023-04-19T02:46:59.527522Z"
        }
      },
      "outputs": [],
      "source": [
        "sample_df = sample_df.drop(['City', 'Country'], axis = 1)"
      ]
    },
    {
      "cell_type": "markdown",
      "metadata": {
        "id": "6BtOHAvTBggP"
      },
      "source": [
        "Convert \"Gender\" column to a new binary column (having only 0 and 1 values). Then remove the original column."
      ]
    },
    {
      "cell_type": "code",
      "execution_count": 12,
      "metadata": {
        "id": "n8poMfGqBggP",
        "ExecuteTime": {
          "start_time": "2023-04-19T02:46:59.530698Z",
          "end_time": "2023-04-19T02:46:59.540675Z"
        }
      },
      "outputs": [],
      "source": [
        "genders = pd.Series(sample_df['Gender'])\n",
        "dummies = pd.get_dummies(genders)\n",
        "sample_df = pd.concat([sample_df, dummies], axis = 1)"
      ]
    },
    {
      "cell_type": "code",
      "execution_count": 13,
      "metadata": {
        "id": "GDqYpy3VBggP",
        "ExecuteTime": {
          "start_time": "2023-04-19T02:46:59.538118Z",
          "end_time": "2023-04-19T02:46:59.550672Z"
        }
      },
      "outputs": [],
      "source": [
        "sample_df = sample_df.drop(['Gender', 'female'], axis = 1)"
      ]
    },
    {
      "cell_type": "code",
      "execution_count": 14,
      "metadata": {
        "id": "bFjWqfQjBggP",
        "ExecuteTime": {
          "start_time": "2023-04-19T02:46:59.542616Z",
          "end_time": "2023-04-19T02:46:59.605743Z"
        }
      },
      "outputs": [],
      "source": [
        "sample_df = sample_df.rename(columns={\"male\": \"Gender\"})"
      ]
    },
    {
      "cell_type": "markdown",
      "metadata": {
        "id": "zyeVxUhjBggQ"
      },
      "source": [
        "By dropping the \"Clicked on Ad\" column, make a new dataframe called \"features_df\""
      ]
    },
    {
      "cell_type": "code",
      "source": [
        "sample_df"
      ],
      "metadata": {
        "id": "DJeNclpqm2G6",
        "colab": {
          "base_uri": "https://localhost:8080/",
          "height": 557
        },
        "outputId": "498dd7f2-04b8-4d16-d1db-f3b1674637c0",
        "ExecuteTime": {
          "start_time": "2023-04-19T02:46:59.556029Z",
          "end_time": "2023-04-19T02:46:59.616931Z"
        }
      },
      "execution_count": 15,
      "outputs": [
        {
          "output_type": "execute_result",
          "data": {
            "text/plain": [
              "     Daily Time Spent on Site  Age  Area Income  Daily Internet Usage  \\\n",
              "0                       68.95   35     61833.90                256.09   \n",
              "1                       80.23   31     68441.85                193.77   \n",
              "2                       69.47   26     59785.94                236.50   \n",
              "3                       74.15   29     54806.18                245.89   \n",
              "4                       68.37   35     73889.99                225.58   \n",
              "..                        ...  ...          ...                   ...   \n",
              "795                     75.64   29     69718.19                204.82   \n",
              "796                     79.22   27     63429.18                198.79   \n",
              "797                     77.05   34     65756.36                236.08   \n",
              "798                     66.83   46     77871.75                196.17   \n",
              "799                     76.20   24     47258.59                228.81   \n",
              "\n",
              "     Clicked on Ad  Adamsbury  Alanview  Alexanderfurt  Alexanderview  \\\n",
              "0                0          0         0              0              0   \n",
              "1                0          0         0              0              0   \n",
              "2                0          0         0              0              0   \n",
              "3                0          0         0              0              0   \n",
              "4                0          0         0              0              0   \n",
              "..             ...        ...       ...            ...            ...   \n",
              "795              0          0         0              0              0   \n",
              "796              0          0         0              0              0   \n",
              "797              0          0         0              0              0   \n",
              "798              0          0         0              0              0   \n",
              "799              0          0         0              0              0   \n",
              "\n",
              "     Alexisland  ...  Uzbekistan  Vanuatu  Venezuela  Vietnam  \\\n",
              "0             0  ...           0        0          0        0   \n",
              "1             0  ...           0        0          0        0   \n",
              "2             0  ...           0        0          0        0   \n",
              "3             0  ...           0        0          0        0   \n",
              "4             0  ...           0        0          0        0   \n",
              "..          ...  ...         ...      ...        ...      ...   \n",
              "795           0  ...           0        0          0        0   \n",
              "796           0  ...           0        0          0        0   \n",
              "797           0  ...           0        0          0        0   \n",
              "798           0  ...           0        0          0        0   \n",
              "799           0  ...           0        0          0        0   \n",
              "\n",
              "     Wallis and Futuna  Western Sahara  Yemen  Zambia  Zimbabwe  Gender  \n",
              "0                    0               0      0       0         0       0  \n",
              "1                    0               0      0       0         0       1  \n",
              "2                    0               0      0       0         0       0  \n",
              "3                    0               0      0       0         0       1  \n",
              "4                    0               0      0       0         0       0  \n",
              "..                 ...             ...    ...     ...       ...     ...  \n",
              "795                  0               0      0       0         0       1  \n",
              "796                  0               0      0       0         0       1  \n",
              "797                  0               0      0       0         0       0  \n",
              "798                  0               0      0       0         0       1  \n",
              "799                  0               0      0       0         0       1  \n",
              "\n",
              "[800 rows x 1017 columns]"
            ],
            "text/html": [
              "\n",
              "  <div id=\"df-503ae228-df7d-4e6c-817c-804d034d20f8\">\n",
              "    <div class=\"colab-df-container\">\n",
              "      <div>\n",
              "<style scoped>\n",
              "    .dataframe tbody tr th:only-of-type {\n",
              "        vertical-align: middle;\n",
              "    }\n",
              "\n",
              "    .dataframe tbody tr th {\n",
              "        vertical-align: top;\n",
              "    }\n",
              "\n",
              "    .dataframe thead th {\n",
              "        text-align: right;\n",
              "    }\n",
              "</style>\n",
              "<table border=\"1\" class=\"dataframe\">\n",
              "  <thead>\n",
              "    <tr style=\"text-align: right;\">\n",
              "      <th></th>\n",
              "      <th>Daily Time Spent on Site</th>\n",
              "      <th>Age</th>\n",
              "      <th>Area Income</th>\n",
              "      <th>Daily Internet Usage</th>\n",
              "      <th>Clicked on Ad</th>\n",
              "      <th>Adamsbury</th>\n",
              "      <th>Alanview</th>\n",
              "      <th>Alexanderfurt</th>\n",
              "      <th>Alexanderview</th>\n",
              "      <th>Alexisland</th>\n",
              "      <th>...</th>\n",
              "      <th>Uzbekistan</th>\n",
              "      <th>Vanuatu</th>\n",
              "      <th>Venezuela</th>\n",
              "      <th>Vietnam</th>\n",
              "      <th>Wallis and Futuna</th>\n",
              "      <th>Western Sahara</th>\n",
              "      <th>Yemen</th>\n",
              "      <th>Zambia</th>\n",
              "      <th>Zimbabwe</th>\n",
              "      <th>Gender</th>\n",
              "    </tr>\n",
              "  </thead>\n",
              "  <tbody>\n",
              "    <tr>\n",
              "      <th>0</th>\n",
              "      <td>68.95</td>\n",
              "      <td>35</td>\n",
              "      <td>61833.90</td>\n",
              "      <td>256.09</td>\n",
              "      <td>0</td>\n",
              "      <td>0</td>\n",
              "      <td>0</td>\n",
              "      <td>0</td>\n",
              "      <td>0</td>\n",
              "      <td>0</td>\n",
              "      <td>...</td>\n",
              "      <td>0</td>\n",
              "      <td>0</td>\n",
              "      <td>0</td>\n",
              "      <td>0</td>\n",
              "      <td>0</td>\n",
              "      <td>0</td>\n",
              "      <td>0</td>\n",
              "      <td>0</td>\n",
              "      <td>0</td>\n",
              "      <td>0</td>\n",
              "    </tr>\n",
              "    <tr>\n",
              "      <th>1</th>\n",
              "      <td>80.23</td>\n",
              "      <td>31</td>\n",
              "      <td>68441.85</td>\n",
              "      <td>193.77</td>\n",
              "      <td>0</td>\n",
              "      <td>0</td>\n",
              "      <td>0</td>\n",
              "      <td>0</td>\n",
              "      <td>0</td>\n",
              "      <td>0</td>\n",
              "      <td>...</td>\n",
              "      <td>0</td>\n",
              "      <td>0</td>\n",
              "      <td>0</td>\n",
              "      <td>0</td>\n",
              "      <td>0</td>\n",
              "      <td>0</td>\n",
              "      <td>0</td>\n",
              "      <td>0</td>\n",
              "      <td>0</td>\n",
              "      <td>1</td>\n",
              "    </tr>\n",
              "    <tr>\n",
              "      <th>2</th>\n",
              "      <td>69.47</td>\n",
              "      <td>26</td>\n",
              "      <td>59785.94</td>\n",
              "      <td>236.50</td>\n",
              "      <td>0</td>\n",
              "      <td>0</td>\n",
              "      <td>0</td>\n",
              "      <td>0</td>\n",
              "      <td>0</td>\n",
              "      <td>0</td>\n",
              "      <td>...</td>\n",
              "      <td>0</td>\n",
              "      <td>0</td>\n",
              "      <td>0</td>\n",
              "      <td>0</td>\n",
              "      <td>0</td>\n",
              "      <td>0</td>\n",
              "      <td>0</td>\n",
              "      <td>0</td>\n",
              "      <td>0</td>\n",
              "      <td>0</td>\n",
              "    </tr>\n",
              "    <tr>\n",
              "      <th>3</th>\n",
              "      <td>74.15</td>\n",
              "      <td>29</td>\n",
              "      <td>54806.18</td>\n",
              "      <td>245.89</td>\n",
              "      <td>0</td>\n",
              "      <td>0</td>\n",
              "      <td>0</td>\n",
              "      <td>0</td>\n",
              "      <td>0</td>\n",
              "      <td>0</td>\n",
              "      <td>...</td>\n",
              "      <td>0</td>\n",
              "      <td>0</td>\n",
              "      <td>0</td>\n",
              "      <td>0</td>\n",
              "      <td>0</td>\n",
              "      <td>0</td>\n",
              "      <td>0</td>\n",
              "      <td>0</td>\n",
              "      <td>0</td>\n",
              "      <td>1</td>\n",
              "    </tr>\n",
              "    <tr>\n",
              "      <th>4</th>\n",
              "      <td>68.37</td>\n",
              "      <td>35</td>\n",
              "      <td>73889.99</td>\n",
              "      <td>225.58</td>\n",
              "      <td>0</td>\n",
              "      <td>0</td>\n",
              "      <td>0</td>\n",
              "      <td>0</td>\n",
              "      <td>0</td>\n",
              "      <td>0</td>\n",
              "      <td>...</td>\n",
              "      <td>0</td>\n",
              "      <td>0</td>\n",
              "      <td>0</td>\n",
              "      <td>0</td>\n",
              "      <td>0</td>\n",
              "      <td>0</td>\n",
              "      <td>0</td>\n",
              "      <td>0</td>\n",
              "      <td>0</td>\n",
              "      <td>0</td>\n",
              "    </tr>\n",
              "    <tr>\n",
              "      <th>...</th>\n",
              "      <td>...</td>\n",
              "      <td>...</td>\n",
              "      <td>...</td>\n",
              "      <td>...</td>\n",
              "      <td>...</td>\n",
              "      <td>...</td>\n",
              "      <td>...</td>\n",
              "      <td>...</td>\n",
              "      <td>...</td>\n",
              "      <td>...</td>\n",
              "      <td>...</td>\n",
              "      <td>...</td>\n",
              "      <td>...</td>\n",
              "      <td>...</td>\n",
              "      <td>...</td>\n",
              "      <td>...</td>\n",
              "      <td>...</td>\n",
              "      <td>...</td>\n",
              "      <td>...</td>\n",
              "      <td>...</td>\n",
              "      <td>...</td>\n",
              "    </tr>\n",
              "    <tr>\n",
              "      <th>795</th>\n",
              "      <td>75.64</td>\n",
              "      <td>29</td>\n",
              "      <td>69718.19</td>\n",
              "      <td>204.82</td>\n",
              "      <td>0</td>\n",
              "      <td>0</td>\n",
              "      <td>0</td>\n",
              "      <td>0</td>\n",
              "      <td>0</td>\n",
              "      <td>0</td>\n",
              "      <td>...</td>\n",
              "      <td>0</td>\n",
              "      <td>0</td>\n",
              "      <td>0</td>\n",
              "      <td>0</td>\n",
              "      <td>0</td>\n",
              "      <td>0</td>\n",
              "      <td>0</td>\n",
              "      <td>0</td>\n",
              "      <td>0</td>\n",
              "      <td>1</td>\n",
              "    </tr>\n",
              "    <tr>\n",
              "      <th>796</th>\n",
              "      <td>79.22</td>\n",
              "      <td>27</td>\n",
              "      <td>63429.18</td>\n",
              "      <td>198.79</td>\n",
              "      <td>0</td>\n",
              "      <td>0</td>\n",
              "      <td>0</td>\n",
              "      <td>0</td>\n",
              "      <td>0</td>\n",
              "      <td>0</td>\n",
              "      <td>...</td>\n",
              "      <td>0</td>\n",
              "      <td>0</td>\n",
              "      <td>0</td>\n",
              "      <td>0</td>\n",
              "      <td>0</td>\n",
              "      <td>0</td>\n",
              "      <td>0</td>\n",
              "      <td>0</td>\n",
              "      <td>0</td>\n",
              "      <td>1</td>\n",
              "    </tr>\n",
              "    <tr>\n",
              "      <th>797</th>\n",
              "      <td>77.05</td>\n",
              "      <td>34</td>\n",
              "      <td>65756.36</td>\n",
              "      <td>236.08</td>\n",
              "      <td>0</td>\n",
              "      <td>0</td>\n",
              "      <td>0</td>\n",
              "      <td>0</td>\n",
              "      <td>0</td>\n",
              "      <td>0</td>\n",
              "      <td>...</td>\n",
              "      <td>0</td>\n",
              "      <td>0</td>\n",
              "      <td>0</td>\n",
              "      <td>0</td>\n",
              "      <td>0</td>\n",
              "      <td>0</td>\n",
              "      <td>0</td>\n",
              "      <td>0</td>\n",
              "      <td>0</td>\n",
              "      <td>0</td>\n",
              "    </tr>\n",
              "    <tr>\n",
              "      <th>798</th>\n",
              "      <td>66.83</td>\n",
              "      <td>46</td>\n",
              "      <td>77871.75</td>\n",
              "      <td>196.17</td>\n",
              "      <td>0</td>\n",
              "      <td>0</td>\n",
              "      <td>0</td>\n",
              "      <td>0</td>\n",
              "      <td>0</td>\n",
              "      <td>0</td>\n",
              "      <td>...</td>\n",
              "      <td>0</td>\n",
              "      <td>0</td>\n",
              "      <td>0</td>\n",
              "      <td>0</td>\n",
              "      <td>0</td>\n",
              "      <td>0</td>\n",
              "      <td>0</td>\n",
              "      <td>0</td>\n",
              "      <td>0</td>\n",
              "      <td>1</td>\n",
              "    </tr>\n",
              "    <tr>\n",
              "      <th>799</th>\n",
              "      <td>76.20</td>\n",
              "      <td>24</td>\n",
              "      <td>47258.59</td>\n",
              "      <td>228.81</td>\n",
              "      <td>0</td>\n",
              "      <td>0</td>\n",
              "      <td>0</td>\n",
              "      <td>0</td>\n",
              "      <td>0</td>\n",
              "      <td>0</td>\n",
              "      <td>...</td>\n",
              "      <td>0</td>\n",
              "      <td>0</td>\n",
              "      <td>0</td>\n",
              "      <td>0</td>\n",
              "      <td>0</td>\n",
              "      <td>0</td>\n",
              "      <td>0</td>\n",
              "      <td>0</td>\n",
              "      <td>0</td>\n",
              "      <td>1</td>\n",
              "    </tr>\n",
              "  </tbody>\n",
              "</table>\n",
              "<p>800 rows × 1017 columns</p>\n",
              "</div>\n",
              "      <button class=\"colab-df-convert\" onclick=\"convertToInteractive('df-503ae228-df7d-4e6c-817c-804d034d20f8')\"\n",
              "              title=\"Convert this dataframe to an interactive table.\"\n",
              "              style=\"display:none;\">\n",
              "        \n",
              "  <svg xmlns=\"http://www.w3.org/2000/svg\" height=\"24px\"viewBox=\"0 0 24 24\"\n",
              "       width=\"24px\">\n",
              "    <path d=\"M0 0h24v24H0V0z\" fill=\"none\"/>\n",
              "    <path d=\"M18.56 5.44l.94 2.06.94-2.06 2.06-.94-2.06-.94-.94-2.06-.94 2.06-2.06.94zm-11 1L8.5 8.5l.94-2.06 2.06-.94-2.06-.94L8.5 2.5l-.94 2.06-2.06.94zm10 10l.94 2.06.94-2.06 2.06-.94-2.06-.94-.94-2.06-.94 2.06-2.06.94z\"/><path d=\"M17.41 7.96l-1.37-1.37c-.4-.4-.92-.59-1.43-.59-.52 0-1.04.2-1.43.59L10.3 9.45l-7.72 7.72c-.78.78-.78 2.05 0 2.83L4 21.41c.39.39.9.59 1.41.59.51 0 1.02-.2 1.41-.59l7.78-7.78 2.81-2.81c.8-.78.8-2.07 0-2.86zM5.41 20L4 18.59l7.72-7.72 1.47 1.35L5.41 20z\"/>\n",
              "  </svg>\n",
              "      </button>\n",
              "      \n",
              "  <style>\n",
              "    .colab-df-container {\n",
              "      display:flex;\n",
              "      flex-wrap:wrap;\n",
              "      gap: 12px;\n",
              "    }\n",
              "\n",
              "    .colab-df-convert {\n",
              "      background-color: #E8F0FE;\n",
              "      border: none;\n",
              "      border-radius: 50%;\n",
              "      cursor: pointer;\n",
              "      display: none;\n",
              "      fill: #1967D2;\n",
              "      height: 32px;\n",
              "      padding: 0 0 0 0;\n",
              "      width: 32px;\n",
              "    }\n",
              "\n",
              "    .colab-df-convert:hover {\n",
              "      background-color: #E2EBFA;\n",
              "      box-shadow: 0px 1px 2px rgba(60, 64, 67, 0.3), 0px 1px 3px 1px rgba(60, 64, 67, 0.15);\n",
              "      fill: #174EA6;\n",
              "    }\n",
              "\n",
              "    [theme=dark] .colab-df-convert {\n",
              "      background-color: #3B4455;\n",
              "      fill: #D2E3FC;\n",
              "    }\n",
              "\n",
              "    [theme=dark] .colab-df-convert:hover {\n",
              "      background-color: #434B5C;\n",
              "      box-shadow: 0px 1px 3px 1px rgba(0, 0, 0, 0.15);\n",
              "      filter: drop-shadow(0px 1px 2px rgba(0, 0, 0, 0.3));\n",
              "      fill: #FFFFFF;\n",
              "    }\n",
              "  </style>\n",
              "\n",
              "      <script>\n",
              "        const buttonEl =\n",
              "          document.querySelector('#df-503ae228-df7d-4e6c-817c-804d034d20f8 button.colab-df-convert');\n",
              "        buttonEl.style.display =\n",
              "          google.colab.kernel.accessAllowed ? 'block' : 'none';\n",
              "\n",
              "        async function convertToInteractive(key) {\n",
              "          const element = document.querySelector('#df-503ae228-df7d-4e6c-817c-804d034d20f8');\n",
              "          const dataTable =\n",
              "            await google.colab.kernel.invokeFunction('convertToInteractive',\n",
              "                                                     [key], {});\n",
              "          if (!dataTable) return;\n",
              "\n",
              "          const docLinkHtml = 'Like what you see? Visit the ' +\n",
              "            '<a target=\"_blank\" href=https://colab.research.google.com/notebooks/data_table.ipynb>data table notebook</a>'\n",
              "            + ' to learn more about interactive tables.';\n",
              "          element.innerHTML = '';\n",
              "          dataTable['output_type'] = 'display_data';\n",
              "          await google.colab.output.renderOutput(dataTable, element);\n",
              "          const docLink = document.createElement('div');\n",
              "          docLink.innerHTML = docLinkHtml;\n",
              "          element.appendChild(docLink);\n",
              "        }\n",
              "      </script>\n",
              "    </div>\n",
              "  </div>\n",
              "  "
            ]
          },
          "metadata": {},
          "execution_count": 15
        }
      ]
    },
    {
      "cell_type": "code",
      "execution_count": 16,
      "metadata": {
        "id": "ln12OxHgBggQ",
        "ExecuteTime": {
          "start_time": "2023-04-19T02:46:59.577794Z",
          "end_time": "2023-04-19T02:46:59.617203Z"
        }
      },
      "outputs": [],
      "source": [
        "features_df = sample_df.drop(['Clicked on Ad'], axis = 1)"
      ]
    },
    {
      "cell_type": "markdown",
      "metadata": {
        "id": "dxaFyAvaBggQ"
      },
      "source": [
        "Make a new dataframe called \"target_df\" containing only the \"Clicked on Ad\" column"
      ]
    },
    {
      "cell_type": "code",
      "execution_count": 17,
      "metadata": {
        "id": "5EjMKpbJBggQ",
        "ExecuteTime": {
          "start_time": "2023-04-19T02:46:59.581359Z",
          "end_time": "2023-04-19T02:46:59.617333Z"
        }
      },
      "outputs": [],
      "source": [
        "target_df = sample_df['Clicked on Ad']"
      ]
    },
    {
      "cell_type": "markdown",
      "metadata": {
        "id": "F_ZIQC6kBggQ"
      },
      "source": [
        "Make two numpy arrays called \"x\" and \"y\" from \"features_df\" and \"target_df\" dataframes, respectively."
      ]
    },
    {
      "cell_type": "code",
      "execution_count": 18,
      "metadata": {
        "id": "ZSPTAc0WBggQ",
        "ExecuteTime": {
          "start_time": "2023-04-19T02:46:59.586330Z",
          "end_time": "2023-04-19T02:46:59.617493Z"
        }
      },
      "outputs": [],
      "source": [
        "x = features_df.to_numpy()\n",
        "y = target_df.to_numpy()"
      ]
    },
    {
      "cell_type": "markdown",
      "metadata": {
        "id": "y73KYiwCBggR"
      },
      "source": [
        "# Training Models (40 points)"
      ]
    },
    {
      "cell_type": "markdown",
      "metadata": {
        "id": "Fyi_lSXkBggR"
      },
      "source": [
        "Split the dataset (`x` and `y`) into \"training\" and \"testing\" parts containing 80% and 20% of the data respectively."
      ]
    },
    {
      "cell_type": "code",
      "execution_count": 19,
      "metadata": {
        "id": "0t_L5ScNBggR",
        "ExecuteTime": {
          "start_time": "2023-04-19T02:46:59.592918Z",
          "end_time": "2023-04-19T02:46:59.617615Z"
        }
      },
      "outputs": [],
      "source": [
        "x_train, x_test, y_train, y_test = train_test_split(x, y, test_size=0.20, random_state=42)"
      ]
    },
    {
      "cell_type": "markdown",
      "metadata": {
        "id": "MYF_Px_LBggR"
      },
      "source": [
        "Train both LDA and QDA models on the data using `sklearn`"
      ]
    },
    {
      "cell_type": "code",
      "execution_count": 20,
      "metadata": {
        "colab": {
          "base_uri": "https://localhost:8080/"
        },
        "id": "vfNlEQUeBggR",
        "outputId": "bbde6a54-1d0e-453d-9461-d9b3a4ba9cab",
        "ExecuteTime": {
          "start_time": "2023-04-19T02:46:59.607242Z",
          "end_time": "2023-04-19T02:47:00.016835Z"
        }
      },
      "outputs": [
        {
          "output_type": "stream",
          "name": "stdout",
          "text": [
            "LinearDiscriminantAnalysis()\n"
          ]
        }
      ],
      "source": [
        "from sklearn import discriminant_analysis\n",
        "LDA_Sklearn = discriminant_analysis.LinearDiscriminantAnalysis()\n",
        "LDA_Sklearn.fit(x_train, y_train)\n",
        "print(LDA_Sklearn)"
      ]
    },
    {
      "cell_type": "code",
      "execution_count": 21,
      "metadata": {
        "colab": {
          "base_uri": "https://localhost:8080/"
        },
        "id": "aSnL8mt3BggR",
        "outputId": "6f7aed24-dbfb-4660-ff3b-3514fc0c8752",
        "ExecuteTime": {
          "start_time": "2023-04-19T02:46:59.831243Z",
          "end_time": "2023-04-19T02:47:00.017348Z"
        }
      },
      "outputs": [
        {
          "output_type": "stream",
          "name": "stderr",
          "text": [
            "/usr/local/lib/python3.9/dist-packages/sklearn/discriminant_analysis.py:926: UserWarning: Variables are collinear\n",
            "  warnings.warn(\"Variables are collinear\")\n"
          ]
        },
        {
          "output_type": "stream",
          "name": "stdout",
          "text": [
            "QuadraticDiscriminantAnalysis()\n"
          ]
        }
      ],
      "source": [
        "QDA_Sklearn = discriminant_analysis.QuadraticDiscriminantAnalysis()\n",
        "QDA_Sklearn.fit(x_train, y_train)\n",
        "print(QDA_Sklearn)"
      ]
    },
    {
      "cell_type": "markdown",
      "metadata": {
        "id": "umnLf-OQBggS"
      },
      "source": [
        "Train LDA and QDA using your own code!"
      ]
    },
    {
      "cell_type": "markdown",
      "metadata": {
        "id": "aujjMnp7BggS"
      },
      "source": [
        "Linear Discriminant Analysis"
      ]
    },
    {
      "cell_type": "code",
      "execution_count": 26,
      "metadata": {
        "id": "Nx_9bCJBBggS",
        "ExecuteTime": {
          "start_time": "2023-04-19T02:57:23.690579Z",
          "end_time": "2023-04-19T02:57:23.693111Z"
        }
      },
      "outputs": [],
      "source": [
        "class LinearDiscriminantAnalysis:\n",
        "    \"\"\"\n",
        "    Fits it on data, then uses predict to get results.\n",
        "    \"\"\"\n",
        "\n",
        "    def __init__(self):\n",
        "        self.means = None\n",
        "        self.covariance = None\n",
        "        self.priors = None\n",
        "        self.classes = None\n",
        "\n",
        "    \n",
        "    def fit(self, X, y):\n",
        "        \"\"\"Fit the training data\n",
        "        Parameters\n",
        "        ----------\n",
        "        X : array-like, shape = [n_samples, n_features]\n",
        "            Features\n",
        "        y : array-like, shape = [n_samples, n_labels]\n",
        "            Labels\n",
        "        Returns\n",
        "        -------\n",
        "        self : object\n",
        "        \"\"\"\n",
        "\n",
        "        n_samples, n_features = X.shape\n",
        "        # n_samples_2, n_labels = y.shape\n",
        "\n",
        "        self.classes = np.unique(y)\n",
        "        n_classes = len(self.classes)\n",
        "        self.priors = np.zeros(n_classes)\n",
        "        self.means = np.zeros((n_classes, n_features))\n",
        "        self.covariances = np.zeros((n_classes, n_features, n_features))\n",
        "        self.xbar = np.zeros((1, n_features))\n",
        "\n",
        "        for idx, c in enumerate(self.classes):\n",
        "            X_c = X[y == c]\n",
        "            self.priors[idx] = X_c.shape[0] / float(n_samples)\n",
        "            self.means[idx, :] = X_c.mean(axis=0)\n",
        "            self.covariances[idx, :, :] = np.cov(X_c.T)\n",
        "            self.xbar += self.priors[idx] * self.means[idx, :]\n",
        "\n",
        "        self.covariance = np.zeros((n_features, n_features))\n",
        "        for idx, c in enumerate(self.classes):\n",
        "            self.covariance += self.priors[idx] * self.covariances[idx, :, :]\n",
        "\n",
        "        self.covariance = np.cov(X.T)\n",
        "\n",
        "        self.coef_ = np.zeros((n_classes, n_features))\n",
        "        self.intercept_ = np.zeros(n_classes)\n",
        "        for idx, c in enumerate(self.classes):\n",
        "            try:\n",
        "                self.coef_[idx, :] = np.dot(np.linalg.inv(self.covariance), (self.means[idx, :] - self.xbar).T)\n",
        "                self.intercept_[idx] = -0.5 * np.dot(np.dot(self.means[idx, :], np.linalg.inv(self.covariance)), self.means[idx, :].T) + 0.5 * np.dot(np.dot(self.xbar, np.linalg.inv(self.covariance)), self.xbar.T) + np.log(self.priors[idx])\n",
        "            except np.linalg.LinAlgError:\n",
        "                self.coef_[idx, :] = np.dot(np.linalg.pinv(self.covariance), (self.means[idx, :] - self.xbar).T)\n",
        "                self.intercept_[idx] = -0.5 * np.dot(np.dot(self.means[idx, :], np.linalg.pinv(self.covariance)), self.means[idx, :].T) + 0.5 * np.dot(np.dot(self.xbar, np.linalg.pinv(self.covariance)), self.xbar.T) + np.log(self.priors[idx])\n",
        "\n",
        "        return self\n",
        "    \n",
        "    def predict(self, X):\n",
        "        \"\"\" Predicts the value after the model has been trained.\n",
        "        Parameters\n",
        "        ----------\n",
        "        X : array-like, shape = [n_samples, n_features]\n",
        "            Features\n",
        "        Returns\n",
        "        -------\n",
        "        Predicted value\n",
        "        \"\"\"\n",
        "        n_samples, n_features = X.shape\n",
        "\n",
        "        y_pred = np.zeros(n_samples)\n",
        "        for idx, x in enumerate(X):\n",
        "            y_pred[idx] = self.classes[np.argmax(np.dot(self.coef_, x) + self.intercept_)]\n",
        "\n",
        "        return y_pred\n",
        "\n",
        "        # return self"
      ]
    },
    {
      "cell_type": "markdown",
      "metadata": {
        "id": "rdzyNZ4tBggS"
      },
      "source": [
        "Quadratic Discriminant Analysis (Optional) (15 bonus points)"
      ]
    },
    {
      "cell_type": "code",
      "execution_count": 25,
      "metadata": {
        "id": "_vTjIg_dBggS"
      },
      "outputs": [],
      "source": [
        "class QuadraticDiscriminantAnalysis:\n",
        "    \"\"\"\n",
        "    Fits it on data, then uses predict to get results.\n",
        "    \"\"\"\n",
        "\n",
        "    def __init__(self):\n",
        "        self.means = None\n",
        "\n",
        "        self.covariance = None\n",
        "        self.priors = None\n",
        "        self.classes = None\n",
        "        self.xbar = None\n",
        "        self.coef_ = None\n",
        "        self.intercept_ = None\n",
        "\n",
        "\n",
        "        # return self\n",
        "    \n",
        "    def fit(self, X, y):\n",
        "        \"\"\"Fit the training data\n",
        "        Parameters\n",
        "        ----------\n",
        "        X : array-like, shape = [n_samples, n_features]\n",
        "            Features\n",
        "        y : array-like, shape = [n_samples, n_labels]\n",
        "            Labels\n",
        "        Returns\n",
        "        -------\n",
        "        self : object\n",
        "        \"\"\"\n",
        "\n",
        "        n_samples, n_features = X.shape\n",
        "\n",
        "        # n_samples_2, n_labels = y.shape\n",
        "\n",
        "        self.classes = np.unique(y)\n",
        "        n_classes = len(self.classes)\n",
        "        self.priors = np.zeros(n_classes)\n",
        "        self.means = np.zeros((n_classes, n_features))\n",
        "        self.covariances = np.zeros((n_classes, n_features, n_features))\n",
        "        self.xbar = np.zeros((1, n_features))\n",
        "\n",
        "        for idx, c in enumerate(self.classes):\n",
        "            X_c = X[y == c]\n",
        "            self.priors[idx] = X_c.shape[0] / float(n_samples)\n",
        "            self.means[idx, :] = X_c.mean(axis=0)\n",
        "            self.covariances[idx, :, :] = np.cov(X_c.T)\n",
        "            self.xbar += self.priors[idx] * self.means[idx, :]\n",
        "\n",
        "        self.covariance = np.zeros((n_features, n_features))\n",
        "        for idx, c in enumerate(self.classes):\n",
        "            self.covariance += self.priors[idx] * self.covariances[idx, :, :]\n",
        "\n",
        "        self.covariance = np.cov(X.T)\n",
        "\n",
        "        self.coef_ = np.zeros((n_classes, n_features))\n",
        "        self.intercept_ = np.zeros(n_classes)\n",
        "        for idx, c in enumerate(self.classes):\n",
        "            try:\n",
        "                self.coef_[idx, :] = np.dot(np.linalg.inv(self.covariance), (self.means[idx, :] - self.xbar).T)\n",
        "                self.intercept_[idx] = -0.5 * np.dot(np.dot(self.means[idx, :], np.linalg.inv(self.covariance)), self.means[idx, :].T) + 0.5 * np.dot(np.dot(self.xbar, np.linalg.inv(self.covariance)), self.xbar.T) + np.log(self.priors[idx])\n",
        "            except np.linalg.LinAlgError:\n",
        "                self.coef_[idx, :] = np.dot(np.linalg.pinv(self.covariance), (self.means[idx, :] - self.xbar).T)\n",
        "                self.intercept_[idx] = -0.5 * np.dot(np.dot(self.means[idx, :], np.linalg.pinv(self.covariance)), self.means[idx, :].T) + 0.5 * np.dot(np.dot(self.xbar, np.linalg.pinv(self.covariance)), self.xbar.T) + np.log(self.priors[idx])\n",
        "\n",
        "\n",
        "        return self\n",
        "    \n",
        "    def predict(self, X):\n",
        "        \"\"\" Predicts the value after the model has been trained.\n",
        "        Parameters\n",
        "        ----------\n",
        "        X : array-like, shape = [n_samples, n_features]\n",
        "            Features\n",
        "        Returns\n",
        "        -------\n",
        "        Predicted value\n",
        "        \"\"\"\n",
        "        n_samples, n_features = X.shape\n",
        "\n",
        "        y_pred = np.zeros(n_samples)\n",
        "        for idx, x in enumerate(X):\n",
        "            y_pred[idx] = self.classes[np.argmax(np.dot(self.coef_, x) + self.intercept_)]\n",
        "\n",
        "        return y_pred\n"
      ]
    },
    {
      "cell_type": "code",
      "execution_count": 27,
      "metadata": {
        "id": "MvdMAykABggT",
        "colab": {
          "base_uri": "https://localhost:8080/",
          "height": 848
        },
        "outputId": "17cf8133-1f23-4678-e3af-70f4dc977be8"
      },
      "outputs": [
        {
          "output_type": "error",
          "ename": "ValueError",
          "evalue": "ignored",
          "traceback": [
            "\u001b[0;31m---------------------------------------------------------------------------\u001b[0m",
            "\u001b[0;31mLinAlgError\u001b[0m                               Traceback (most recent call last)",
            "\u001b[0;32m<ipython-input-26-c43c075ff475>\u001b[0m in \u001b[0;36mfit\u001b[0;34m(self, X, y)\u001b[0m\n\u001b[1;32m     52\u001b[0m             \u001b[0;32mtry\u001b[0m\u001b[0;34m:\u001b[0m\u001b[0;34m\u001b[0m\u001b[0;34m\u001b[0m\u001b[0m\n\u001b[0;32m---> 53\u001b[0;31m                 \u001b[0mself\u001b[0m\u001b[0;34m.\u001b[0m\u001b[0mcoef_\u001b[0m\u001b[0;34m[\u001b[0m\u001b[0midx\u001b[0m\u001b[0;34m,\u001b[0m \u001b[0;34m:\u001b[0m\u001b[0;34m]\u001b[0m \u001b[0;34m=\u001b[0m \u001b[0mnp\u001b[0m\u001b[0;34m.\u001b[0m\u001b[0mdot\u001b[0m\u001b[0;34m(\u001b[0m\u001b[0mnp\u001b[0m\u001b[0;34m.\u001b[0m\u001b[0mlinalg\u001b[0m\u001b[0;34m.\u001b[0m\u001b[0minv\u001b[0m\u001b[0;34m(\u001b[0m\u001b[0mself\u001b[0m\u001b[0;34m.\u001b[0m\u001b[0mcovariance\u001b[0m\u001b[0;34m)\u001b[0m\u001b[0;34m,\u001b[0m \u001b[0;34m(\u001b[0m\u001b[0mself\u001b[0m\u001b[0;34m.\u001b[0m\u001b[0mmeans\u001b[0m\u001b[0;34m[\u001b[0m\u001b[0midx\u001b[0m\u001b[0;34m,\u001b[0m \u001b[0;34m:\u001b[0m\u001b[0;34m]\u001b[0m \u001b[0;34m-\u001b[0m \u001b[0mself\u001b[0m\u001b[0;34m.\u001b[0m\u001b[0mxbar\u001b[0m\u001b[0;34m)\u001b[0m\u001b[0;34m.\u001b[0m\u001b[0mT\u001b[0m\u001b[0;34m)\u001b[0m\u001b[0;34m\u001b[0m\u001b[0;34m\u001b[0m\u001b[0m\n\u001b[0m\u001b[1;32m     54\u001b[0m                 \u001b[0mself\u001b[0m\u001b[0;34m.\u001b[0m\u001b[0mintercept_\u001b[0m\u001b[0;34m[\u001b[0m\u001b[0midx\u001b[0m\u001b[0;34m]\u001b[0m \u001b[0;34m=\u001b[0m \u001b[0;34m-\u001b[0m\u001b[0;36m0.5\u001b[0m \u001b[0;34m*\u001b[0m \u001b[0mnp\u001b[0m\u001b[0;34m.\u001b[0m\u001b[0mdot\u001b[0m\u001b[0;34m(\u001b[0m\u001b[0mnp\u001b[0m\u001b[0;34m.\u001b[0m\u001b[0mdot\u001b[0m\u001b[0;34m(\u001b[0m\u001b[0mself\u001b[0m\u001b[0;34m.\u001b[0m\u001b[0mmeans\u001b[0m\u001b[0;34m[\u001b[0m\u001b[0midx\u001b[0m\u001b[0;34m,\u001b[0m \u001b[0;34m:\u001b[0m\u001b[0;34m]\u001b[0m\u001b[0;34m,\u001b[0m \u001b[0mnp\u001b[0m\u001b[0;34m.\u001b[0m\u001b[0mlinalg\u001b[0m\u001b[0;34m.\u001b[0m\u001b[0minv\u001b[0m\u001b[0;34m(\u001b[0m\u001b[0mself\u001b[0m\u001b[0;34m.\u001b[0m\u001b[0mcovariance\u001b[0m\u001b[0;34m)\u001b[0m\u001b[0;34m)\u001b[0m\u001b[0;34m,\u001b[0m \u001b[0mself\u001b[0m\u001b[0;34m.\u001b[0m\u001b[0mmeans\u001b[0m\u001b[0;34m[\u001b[0m\u001b[0midx\u001b[0m\u001b[0;34m,\u001b[0m \u001b[0;34m:\u001b[0m\u001b[0;34m]\u001b[0m\u001b[0;34m.\u001b[0m\u001b[0mT\u001b[0m\u001b[0;34m)\u001b[0m \u001b[0;34m+\u001b[0m \u001b[0;36m0.5\u001b[0m \u001b[0;34m*\u001b[0m \u001b[0mnp\u001b[0m\u001b[0;34m.\u001b[0m\u001b[0mdot\u001b[0m\u001b[0;34m(\u001b[0m\u001b[0mnp\u001b[0m\u001b[0;34m.\u001b[0m\u001b[0mdot\u001b[0m\u001b[0;34m(\u001b[0m\u001b[0mself\u001b[0m\u001b[0;34m.\u001b[0m\u001b[0mxbar\u001b[0m\u001b[0;34m,\u001b[0m \u001b[0mnp\u001b[0m\u001b[0;34m.\u001b[0m\u001b[0mlinalg\u001b[0m\u001b[0;34m.\u001b[0m\u001b[0minv\u001b[0m\u001b[0;34m(\u001b[0m\u001b[0mself\u001b[0m\u001b[0;34m.\u001b[0m\u001b[0mcovariance\u001b[0m\u001b[0;34m)\u001b[0m\u001b[0;34m)\u001b[0m\u001b[0;34m,\u001b[0m \u001b[0mself\u001b[0m\u001b[0;34m.\u001b[0m\u001b[0mxbar\u001b[0m\u001b[0;34m.\u001b[0m\u001b[0mT\u001b[0m\u001b[0;34m)\u001b[0m \u001b[0;34m+\u001b[0m \u001b[0mnp\u001b[0m\u001b[0;34m.\u001b[0m\u001b[0mlog\u001b[0m\u001b[0;34m(\u001b[0m\u001b[0mself\u001b[0m\u001b[0;34m.\u001b[0m\u001b[0mpriors\u001b[0m\u001b[0;34m[\u001b[0m\u001b[0midx\u001b[0m\u001b[0;34m]\u001b[0m\u001b[0;34m)\u001b[0m\u001b[0;34m\u001b[0m\u001b[0;34m\u001b[0m\u001b[0m\n",
            "\u001b[0;32m/usr/local/lib/python3.9/dist-packages/numpy/core/overrides.py\u001b[0m in \u001b[0;36minv\u001b[0;34m(*args, **kwargs)\u001b[0m\n",
            "\u001b[0;32m/usr/local/lib/python3.9/dist-packages/numpy/linalg/linalg.py\u001b[0m in \u001b[0;36minv\u001b[0;34m(a)\u001b[0m\n\u001b[1;32m    544\u001b[0m     \u001b[0mextobj\u001b[0m \u001b[0;34m=\u001b[0m \u001b[0mget_linalg_error_extobj\u001b[0m\u001b[0;34m(\u001b[0m\u001b[0m_raise_linalgerror_singular\u001b[0m\u001b[0;34m)\u001b[0m\u001b[0;34m\u001b[0m\u001b[0;34m\u001b[0m\u001b[0m\n\u001b[0;32m--> 545\u001b[0;31m     \u001b[0mainv\u001b[0m \u001b[0;34m=\u001b[0m \u001b[0m_umath_linalg\u001b[0m\u001b[0;34m.\u001b[0m\u001b[0minv\u001b[0m\u001b[0;34m(\u001b[0m\u001b[0ma\u001b[0m\u001b[0;34m,\u001b[0m \u001b[0msignature\u001b[0m\u001b[0;34m=\u001b[0m\u001b[0msignature\u001b[0m\u001b[0;34m,\u001b[0m \u001b[0mextobj\u001b[0m\u001b[0;34m=\u001b[0m\u001b[0mextobj\u001b[0m\u001b[0;34m)\u001b[0m\u001b[0;34m\u001b[0m\u001b[0;34m\u001b[0m\u001b[0m\n\u001b[0m\u001b[1;32m    546\u001b[0m     \u001b[0;32mreturn\u001b[0m \u001b[0mwrap\u001b[0m\u001b[0;34m(\u001b[0m\u001b[0mainv\u001b[0m\u001b[0;34m.\u001b[0m\u001b[0mastype\u001b[0m\u001b[0;34m(\u001b[0m\u001b[0mresult_t\u001b[0m\u001b[0;34m,\u001b[0m \u001b[0mcopy\u001b[0m\u001b[0;34m=\u001b[0m\u001b[0;32mFalse\u001b[0m\u001b[0;34m)\u001b[0m\u001b[0;34m)\u001b[0m\u001b[0;34m\u001b[0m\u001b[0;34m\u001b[0m\u001b[0m\n",
            "\u001b[0;32m/usr/local/lib/python3.9/dist-packages/numpy/linalg/linalg.py\u001b[0m in \u001b[0;36m_raise_linalgerror_singular\u001b[0;34m(err, flag)\u001b[0m\n\u001b[1;32m     87\u001b[0m \u001b[0;32mdef\u001b[0m \u001b[0m_raise_linalgerror_singular\u001b[0m\u001b[0;34m(\u001b[0m\u001b[0merr\u001b[0m\u001b[0;34m,\u001b[0m \u001b[0mflag\u001b[0m\u001b[0;34m)\u001b[0m\u001b[0;34m:\u001b[0m\u001b[0;34m\u001b[0m\u001b[0;34m\u001b[0m\u001b[0m\n\u001b[0;32m---> 88\u001b[0;31m     \u001b[0;32mraise\u001b[0m \u001b[0mLinAlgError\u001b[0m\u001b[0;34m(\u001b[0m\u001b[0;34m\"Singular matrix\"\u001b[0m\u001b[0;34m)\u001b[0m\u001b[0;34m\u001b[0m\u001b[0;34m\u001b[0m\u001b[0m\n\u001b[0m\u001b[1;32m     89\u001b[0m \u001b[0;34m\u001b[0m\u001b[0m\n",
            "\u001b[0;31mLinAlgError\u001b[0m: Singular matrix",
            "\nDuring handling of the above exception, another exception occurred:\n",
            "\u001b[0;31mValueError\u001b[0m                                Traceback (most recent call last)",
            "\u001b[0;32m<ipython-input-27-88bd9aa46ce6>\u001b[0m in \u001b[0;36m<cell line: 7>\u001b[0;34m()\u001b[0m\n\u001b[1;32m      5\u001b[0m \u001b[0;31m# print(len(x_train))\u001b[0m\u001b[0;34m\u001b[0m\u001b[0;34m\u001b[0m\u001b[0m\n\u001b[1;32m      6\u001b[0m \u001b[0;31m# print(len(y_train))\u001b[0m\u001b[0;34m\u001b[0m\u001b[0;34m\u001b[0m\u001b[0m\n\u001b[0;32m----> 7\u001b[0;31m \u001b[0mLDA_Own\u001b[0m\u001b[0;34m.\u001b[0m\u001b[0mfit\u001b[0m\u001b[0;34m(\u001b[0m\u001b[0mx_train\u001b[0m\u001b[0;34m,\u001b[0m \u001b[0my_train\u001b[0m\u001b[0;34m)\u001b[0m\u001b[0;34m\u001b[0m\u001b[0;34m\u001b[0m\u001b[0m\n\u001b[0m\u001b[1;32m      8\u001b[0m \u001b[0;34m\u001b[0m\u001b[0m\n\u001b[1;32m      9\u001b[0m \u001b[0;34m\u001b[0m\u001b[0m\n",
            "\u001b[0;32m<ipython-input-26-c43c075ff475>\u001b[0m in \u001b[0;36mfit\u001b[0;34m(self, X, y)\u001b[0m\n\u001b[1;32m     54\u001b[0m                 \u001b[0mself\u001b[0m\u001b[0;34m.\u001b[0m\u001b[0mintercept_\u001b[0m\u001b[0;34m[\u001b[0m\u001b[0midx\u001b[0m\u001b[0;34m]\u001b[0m \u001b[0;34m=\u001b[0m \u001b[0;34m-\u001b[0m\u001b[0;36m0.5\u001b[0m \u001b[0;34m*\u001b[0m \u001b[0mnp\u001b[0m\u001b[0;34m.\u001b[0m\u001b[0mdot\u001b[0m\u001b[0;34m(\u001b[0m\u001b[0mnp\u001b[0m\u001b[0;34m.\u001b[0m\u001b[0mdot\u001b[0m\u001b[0;34m(\u001b[0m\u001b[0mself\u001b[0m\u001b[0;34m.\u001b[0m\u001b[0mmeans\u001b[0m\u001b[0;34m[\u001b[0m\u001b[0midx\u001b[0m\u001b[0;34m,\u001b[0m \u001b[0;34m:\u001b[0m\u001b[0;34m]\u001b[0m\u001b[0;34m,\u001b[0m \u001b[0mnp\u001b[0m\u001b[0;34m.\u001b[0m\u001b[0mlinalg\u001b[0m\u001b[0;34m.\u001b[0m\u001b[0minv\u001b[0m\u001b[0;34m(\u001b[0m\u001b[0mself\u001b[0m\u001b[0;34m.\u001b[0m\u001b[0mcovariance\u001b[0m\u001b[0;34m)\u001b[0m\u001b[0;34m)\u001b[0m\u001b[0;34m,\u001b[0m \u001b[0mself\u001b[0m\u001b[0;34m.\u001b[0m\u001b[0mmeans\u001b[0m\u001b[0;34m[\u001b[0m\u001b[0midx\u001b[0m\u001b[0;34m,\u001b[0m \u001b[0;34m:\u001b[0m\u001b[0;34m]\u001b[0m\u001b[0;34m.\u001b[0m\u001b[0mT\u001b[0m\u001b[0;34m)\u001b[0m \u001b[0;34m+\u001b[0m \u001b[0;36m0.5\u001b[0m \u001b[0;34m*\u001b[0m \u001b[0mnp\u001b[0m\u001b[0;34m.\u001b[0m\u001b[0mdot\u001b[0m\u001b[0;34m(\u001b[0m\u001b[0mnp\u001b[0m\u001b[0;34m.\u001b[0m\u001b[0mdot\u001b[0m\u001b[0;34m(\u001b[0m\u001b[0mself\u001b[0m\u001b[0;34m.\u001b[0m\u001b[0mxbar\u001b[0m\u001b[0;34m,\u001b[0m \u001b[0mnp\u001b[0m\u001b[0;34m.\u001b[0m\u001b[0mlinalg\u001b[0m\u001b[0;34m.\u001b[0m\u001b[0minv\u001b[0m\u001b[0;34m(\u001b[0m\u001b[0mself\u001b[0m\u001b[0;34m.\u001b[0m\u001b[0mcovariance\u001b[0m\u001b[0;34m)\u001b[0m\u001b[0;34m)\u001b[0m\u001b[0;34m,\u001b[0m \u001b[0mself\u001b[0m\u001b[0;34m.\u001b[0m\u001b[0mxbar\u001b[0m\u001b[0;34m.\u001b[0m\u001b[0mT\u001b[0m\u001b[0;34m)\u001b[0m \u001b[0;34m+\u001b[0m \u001b[0mnp\u001b[0m\u001b[0;34m.\u001b[0m\u001b[0mlog\u001b[0m\u001b[0;34m(\u001b[0m\u001b[0mself\u001b[0m\u001b[0;34m.\u001b[0m\u001b[0mpriors\u001b[0m\u001b[0;34m[\u001b[0m\u001b[0midx\u001b[0m\u001b[0;34m]\u001b[0m\u001b[0;34m)\u001b[0m\u001b[0;34m\u001b[0m\u001b[0;34m\u001b[0m\u001b[0m\n\u001b[1;32m     55\u001b[0m             \u001b[0;32mexcept\u001b[0m \u001b[0mnp\u001b[0m\u001b[0;34m.\u001b[0m\u001b[0mlinalg\u001b[0m\u001b[0;34m.\u001b[0m\u001b[0mLinAlgError\u001b[0m\u001b[0;34m:\u001b[0m\u001b[0;34m\u001b[0m\u001b[0;34m\u001b[0m\u001b[0m\n\u001b[0;32m---> 56\u001b[0;31m                 \u001b[0mself\u001b[0m\u001b[0;34m.\u001b[0m\u001b[0mcoef_\u001b[0m\u001b[0;34m[\u001b[0m\u001b[0midx\u001b[0m\u001b[0;34m,\u001b[0m \u001b[0;34m:\u001b[0m\u001b[0;34m]\u001b[0m \u001b[0;34m=\u001b[0m \u001b[0mnp\u001b[0m\u001b[0;34m.\u001b[0m\u001b[0mdot\u001b[0m\u001b[0;34m(\u001b[0m\u001b[0mnp\u001b[0m\u001b[0;34m.\u001b[0m\u001b[0mlinalg\u001b[0m\u001b[0;34m.\u001b[0m\u001b[0mpinv\u001b[0m\u001b[0;34m(\u001b[0m\u001b[0mself\u001b[0m\u001b[0;34m.\u001b[0m\u001b[0mcovariance\u001b[0m\u001b[0;34m)\u001b[0m\u001b[0;34m,\u001b[0m \u001b[0;34m(\u001b[0m\u001b[0mself\u001b[0m\u001b[0;34m.\u001b[0m\u001b[0mmeans\u001b[0m\u001b[0;34m[\u001b[0m\u001b[0midx\u001b[0m\u001b[0;34m,\u001b[0m \u001b[0;34m:\u001b[0m\u001b[0;34m]\u001b[0m \u001b[0;34m-\u001b[0m \u001b[0mself\u001b[0m\u001b[0;34m.\u001b[0m\u001b[0mxbar\u001b[0m\u001b[0;34m)\u001b[0m\u001b[0;34m.\u001b[0m\u001b[0mT\u001b[0m\u001b[0;34m)\u001b[0m\u001b[0;34m\u001b[0m\u001b[0;34m\u001b[0m\u001b[0m\n\u001b[0m\u001b[1;32m     57\u001b[0m                 \u001b[0mself\u001b[0m\u001b[0;34m.\u001b[0m\u001b[0mintercept_\u001b[0m\u001b[0;34m[\u001b[0m\u001b[0midx\u001b[0m\u001b[0;34m]\u001b[0m \u001b[0;34m=\u001b[0m \u001b[0;34m-\u001b[0m\u001b[0;36m0.5\u001b[0m \u001b[0;34m*\u001b[0m \u001b[0mnp\u001b[0m\u001b[0;34m.\u001b[0m\u001b[0mdot\u001b[0m\u001b[0;34m(\u001b[0m\u001b[0mnp\u001b[0m\u001b[0;34m.\u001b[0m\u001b[0mdot\u001b[0m\u001b[0;34m(\u001b[0m\u001b[0mself\u001b[0m\u001b[0;34m.\u001b[0m\u001b[0mmeans\u001b[0m\u001b[0;34m[\u001b[0m\u001b[0midx\u001b[0m\u001b[0;34m,\u001b[0m \u001b[0;34m:\u001b[0m\u001b[0;34m]\u001b[0m\u001b[0;34m,\u001b[0m \u001b[0mnp\u001b[0m\u001b[0;34m.\u001b[0m\u001b[0mlinalg\u001b[0m\u001b[0;34m.\u001b[0m\u001b[0mpinv\u001b[0m\u001b[0;34m(\u001b[0m\u001b[0mself\u001b[0m\u001b[0;34m.\u001b[0m\u001b[0mcovariance\u001b[0m\u001b[0;34m)\u001b[0m\u001b[0;34m)\u001b[0m\u001b[0;34m,\u001b[0m \u001b[0mself\u001b[0m\u001b[0;34m.\u001b[0m\u001b[0mmeans\u001b[0m\u001b[0;34m[\u001b[0m\u001b[0midx\u001b[0m\u001b[0;34m,\u001b[0m \u001b[0;34m:\u001b[0m\u001b[0;34m]\u001b[0m\u001b[0;34m.\u001b[0m\u001b[0mT\u001b[0m\u001b[0;34m)\u001b[0m \u001b[0;34m+\u001b[0m \u001b[0;36m0.5\u001b[0m \u001b[0;34m*\u001b[0m \u001b[0mnp\u001b[0m\u001b[0;34m.\u001b[0m\u001b[0mdot\u001b[0m\u001b[0;34m(\u001b[0m\u001b[0mnp\u001b[0m\u001b[0;34m.\u001b[0m\u001b[0mdot\u001b[0m\u001b[0;34m(\u001b[0m\u001b[0mself\u001b[0m\u001b[0;34m.\u001b[0m\u001b[0mxbar\u001b[0m\u001b[0;34m,\u001b[0m \u001b[0mnp\u001b[0m\u001b[0;34m.\u001b[0m\u001b[0mlinalg\u001b[0m\u001b[0;34m.\u001b[0m\u001b[0mpinv\u001b[0m\u001b[0;34m(\u001b[0m\u001b[0mself\u001b[0m\u001b[0;34m.\u001b[0m\u001b[0mcovariance\u001b[0m\u001b[0;34m)\u001b[0m\u001b[0;34m)\u001b[0m\u001b[0;34m,\u001b[0m \u001b[0mself\u001b[0m\u001b[0;34m.\u001b[0m\u001b[0mxbar\u001b[0m\u001b[0;34m.\u001b[0m\u001b[0mT\u001b[0m\u001b[0;34m)\u001b[0m \u001b[0;34m+\u001b[0m \u001b[0mnp\u001b[0m\u001b[0;34m.\u001b[0m\u001b[0mlog\u001b[0m\u001b[0;34m(\u001b[0m\u001b[0mself\u001b[0m\u001b[0;34m.\u001b[0m\u001b[0mpriors\u001b[0m\u001b[0;34m[\u001b[0m\u001b[0midx\u001b[0m\u001b[0;34m]\u001b[0m\u001b[0;34m)\u001b[0m\u001b[0;34m\u001b[0m\u001b[0;34m\u001b[0m\u001b[0m\n\u001b[1;32m     58\u001b[0m \u001b[0;34m\u001b[0m\u001b[0m\n",
            "\u001b[0;31mValueError\u001b[0m: could not broadcast input array from shape (1016,1) into shape (1016,)"
          ]
        }
      ],
      "source": [
        "# Train your own models\n",
        "LDA_Own = LinearDiscriminantAnalysis()\n",
        "# print(x_train.shape)\n",
        "# print(y_train.shape)\n",
        "# print(len(x_train))\n",
        "# print(len(y_train))\n",
        "LDA_Own.fit(x_train, y_train)\n",
        "\n",
        "\n",
        "\n",
        "QDA_Own = quadraticdiscriminantanalysis()\n",
        "QDA_Own.fit(x_train, y_train)"
      ]
    },
    {
      "cell_type": "markdown",
      "metadata": {
        "id": "t-lXFW_BBggT"
      },
      "source": [
        "# Evaluation (10 points)"
      ]
    },
    {
      "cell_type": "markdown",
      "metadata": {
        "id": "alDyfK7kBggT"
      },
      "source": [
        "Using all 4 models, predict the labels for all samples belonging to the \"testing\" part"
      ]
    },
    {
      "cell_type": "code",
      "execution_count": null,
      "metadata": {
        "id": "oERQndwtBggT"
      },
      "outputs": [],
      "source": [
        "y_pred_sklda = LDA_Sklearn.predict(x_test)\n",
        "y_pred_skqda = QDA_Sklearn.predict(x_test)\n",
        "\n",
        "\n",
        "y_pred_lda = LDA_Own.predict(x_test)\n",
        "y_pred_qda = QDA_Own.predict(x_test)"
      ]
    },
    {
      "cell_type": "markdown",
      "metadata": {
        "id": "d8MCPkghBggT"
      },
      "source": [
        "Calculate Accuracy, Recall, and F1-Scores"
      ]
    },
    {
      "cell_type": "code",
      "execution_count": null,
      "metadata": {
        "id": "AQPki8BRBggT"
      },
      "outputs": [],
      "source": [
        "from sklearn import metrics\n",
        "print(metrics.classification_report(y_test, y_pred_sklda))\n",
        "print(metrics.classification_report(y_test, y_pred_skqda))"
      ]
    },
    {
      "cell_type": "code",
      "execution_count": null,
      "metadata": {
        "id": "7HFotvE8BggU"
      },
      "outputs": [],
      "source": [
        "print(metrics.classification_report(y_test, y_pred_lda))\n",
        "print(metrics.classification_report(y_test, y_pred_qda))"
      ]
    },
    {
      "cell_type": "markdown",
      "metadata": {
        "id": "JidSYlejBggU"
      },
      "source": [
        "Compute the ROC AUC Score using `sklearn` (for both LDA and QDA models trained using this library)"
      ]
    },
    {
      "cell_type": "code",
      "execution_count": null,
      "metadata": {
        "id": "XGOLeq9FBggU"
      },
      "outputs": [],
      "source": [
        "from sklearn.metrics import roc_auc_score\n",
        "print(roc_auc_score(y_test, y_pred_sklda))\n",
        "\n",
        "print(roc_auc_score(y_test, y_pred_skqda))"
      ]
    },
    {
      "cell_type": "code",
      "execution_count": null,
      "metadata": {
        "id": "TW0uyPuaBggU"
      },
      "outputs": [],
      "source": [
        "print(roc_auc_score(y_test, y_pred_lda))\n",
        "\n",
        "print(roc_auc_score(y_test, y_pred_qda))"
      ]
    },
    {
      "cell_type": "markdown",
      "metadata": {
        "id": "u2E49REsHDZx"
      },
      "source": [
        "# Kaggle Competition"
      ]
    },
    {
      "cell_type": "markdown",
      "metadata": {
        "id": "Ib2aOdWFHF3J"
      },
      "source": [
        "Link: https://www.kaggle.com/t/988b0aa2db2446fd85cff571d69c6386"
      ]
    },
    {
      "cell_type": "code",
      "execution_count": null,
      "metadata": {
        "id": "czqzONZmodcv"
      },
      "outputs": [],
      "source": [
        "# load a local .csv file and train and predict the data\n",
        "from google.colab import drive \n",
        "drive.mount('/content/gdrive')"
      ]
    },
    {
      "cell_type": "code",
      "source": [
        "df_train = pd.read_csv('/content/gdrive/My Drive/assignment2-train-data.csv')\n",
        "df_test = pd.read_csv('/content/gdrive/My Drive/assignment2-test-data.csv')\n",
        "df_train = df_train.drop(['Ad Topic Line', 'Timestamp'], axis = 1)\n",
        "df_test = df_test.drop(['Ad Topic Line', 'Timestamp'], axis = 1)"
      ],
      "metadata": {
        "id": "VQHY83lqlqqZ"
      },
      "execution_count": null,
      "outputs": []
    },
    {
      "cell_type": "code",
      "source": [
        "cities1 = pd.Series(df_train['City'])\n",
        "dummies1 = pd.get_dummies(cities1)\n",
        "df_train = pd.concat([df_train, dummies1], axis = 1)\n",
        "\n",
        "cities2 = pd.Series(df_test['City'])\n",
        "dummies2 = pd.get_dummies(cities2)\n",
        "df_test = pd.concat([df_test, dummies2], axis = 1)"
      ],
      "metadata": {
        "id": "IDipXN3fnR01"
      },
      "execution_count": null,
      "outputs": []
    },
    {
      "cell_type": "code",
      "source": [
        "countries1 = pd.Series(df_train['Country'])\n",
        "dummies1 = pd.get_dummies(countries1)\n",
        "df_train1 = pd.concat([df_train, dummies1], axis = 1)\n",
        "\n",
        "countries2 = pd.Series(df_test['Country'])\n",
        "dummies2 = pd.get_dummies(countries2)\n",
        "df_test = pd.concat([df_test, dummies2], axis = 1)"
      ],
      "metadata": {
        "id": "TKyB7lbZnSYC"
      },
      "execution_count": null,
      "outputs": []
    },
    {
      "cell_type": "code",
      "source": [
        "city_to_delete1 = cities1.head(1)\n",
        "city_to_delete1 = str(city_to_delete1.tolist()[0])\n",
        "\n",
        "country_to_Delete1 = countries1.head(1)\n",
        "country_to_Delete1 = str(country_to_Delete1.tolist()[0])\n",
        "\n",
        "df_train = df_train.drop([city_to_delete1, country_to_Delete], axis = 1)\n",
        "\n",
        "city_to_delete2 = cities2.head(1)\n",
        "city_to_delete2 = str(city_to_delete2.tolist()[0])\n",
        "\n",
        "country_to_Delete = countries2.head(1)\n",
        "country_to_Delete = str(country_to_Delete.tolist()[0])\n",
        "df_test = df_test.drop([city_to_delete, country_to_Delete], axis = 1)"
      ],
      "metadata": {
        "id": "k-e4mkgenVLl"
      },
      "execution_count": null,
      "outputs": []
    },
    {
      "cell_type": "code",
      "source": [
        "df_train = df_train.drop(['City', 'Country'], axis = 1)\n",
        "df_test = df_test.drop(['City', 'Country'], axis = 1)"
      ],
      "metadata": {
        "id": "vhp3XhoUnZ5I"
      },
      "execution_count": null,
      "outputs": []
    },
    {
      "cell_type": "code",
      "source": [
        "genders = pd.Series(df_train['Gender'])\n",
        "dummies = pd.get_dummies(genders)\n",
        "df_train = pd.concat([df_train, dummies], axis = 1)\n",
        "\n",
        "genders = pd.Series(df_test['Gender'])\n",
        "dummies = pd.get_dummies(genders)\n",
        "df_test = pd.concat([df_test, dummies], axis = 1)"
      ],
      "metadata": {
        "id": "x8l-CgI5nhUd"
      },
      "execution_count": null,
      "outputs": []
    },
    {
      "cell_type": "code",
      "source": [
        "df_train = df_train.drop(['Gender', 'female'], axis = 1)\n",
        "df_test = df_test.drop(['Gender', 'female'], axis = 1)"
      ],
      "metadata": {
        "id": "ytnXXYxhnmLw"
      },
      "execution_count": null,
      "outputs": []
    },
    {
      "cell_type": "code",
      "source": [
        "df_train = df_train.rename(columns={\"male\": \"Gender\"})\n",
        "df_test = df_test.rename(columns={\"male\": \"Gender\"})"
      ],
      "metadata": {
        "id": "eyAv7xShnqaB"
      },
      "execution_count": null,
      "outputs": []
    },
    {
      "cell_type": "code",
      "source": [
        "features_df_train = df_train.drop(['Clicked on Ad'], axis = 1)\n",
        "features_df_test = df_train"
      ],
      "metadata": {
        "id": "KVm_aAfunrC4"
      },
      "execution_count": null,
      "outputs": []
    },
    {
      "cell_type": "code",
      "source": [
        "target_df_train = df_train['Clicked on Ad']"
      ],
      "metadata": {
        "id": "iJn1cDJFnukN"
      },
      "execution_count": null,
      "outputs": []
    },
    {
      "cell_type": "code",
      "source": [
        "x = features_df_train.to_numpy()\n",
        "y = target_df_train.to_numpy()\n",
        "x_test = features_df_test.to_numpy()"
      ],
      "metadata": {
        "id": "fCvDQAwynzbO"
      },
      "execution_count": null,
      "outputs": []
    },
    {
      "cell_type": "code",
      "source": [
        "x_train, y_train = x, y\n",
        "x_test = x_test"
      ],
      "metadata": {
        "id": "Zhl93KiRn3Rx"
      },
      "execution_count": null,
      "outputs": []
    },
    {
      "cell_type": "code",
      "source": [
        "from sklearn import discriminant_analysis\n",
        "LDA_Sklearn = discriminant_analysis.LinearDiscriminantAnalysis()\n",
        "LDA_Sklearn.fit(x_train, y_train)\n",
        "print(LDA_Sklearn)\n",
        "\n",
        "QDA_Sklearn = discriminant_analysis.QuadraticDiscriminantAnalysis()\n",
        "QDA_Sklearn.fit(x_train, y_train)\n",
        "print(QDA_Sklearn)"
      ],
      "metadata": {
        "id": "uY0Kq-g6n7Bg"
      },
      "execution_count": null,
      "outputs": []
    },
    {
      "cell_type": "code",
      "source": [
        "y_pred_sklda = LDA_Sklearn.predict(x_test)\n",
        "y_pred_skqda = QDA_Sklearn.predict(x_test)"
      ],
      "metadata": {
        "id": "ec5hNeKpoCBn"
      },
      "execution_count": null,
      "outputs": []
    }
  ],
  "metadata": {
    "colab": {
      "provenance": []
    },
    "kernelspec": {
      "display_name": "base",
      "language": "python",
      "name": "python3"
    },
    "language_info": {
      "codemirror_mode": {
        "name": "ipython",
        "version": 3
      },
      "file_extension": ".py",
      "mimetype": "text/x-python",
      "name": "python",
      "nbconvert_exporter": "python",
      "pygments_lexer": "ipython3",
      "version": "3.9.13"
    }
  },
  "nbformat": 4,
  "nbformat_minor": 0
}
