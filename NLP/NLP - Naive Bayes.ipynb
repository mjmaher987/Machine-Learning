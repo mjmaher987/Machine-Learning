{
  "cells": [
    {
      "cell_type": "markdown",
      "metadata": {
        "id": "b07eb33c"
      },
      "source": [
        "<div>\n",
        "<img src='http://www-scf.usc.edu/~ghasemig/images/sharif.png' alt=\"SUT logo\" width=220 height=220 align=left class=\"saturate\">\n",
        "\n",
        "<br>\n",
        "<font face=\"Times New Roman\">\n",
        "<div dir=ltr align=center> \n",
        "<!-- <font color=0F5298 size=7> -->\n",
        "<font color=0F5298 size=6>\n",
        "    Introduction to Machine Learning <br> <br>\n",
        "<!-- <font color=2565AE size=5> -->\n",
        "<font size=5>\n",
        "    Computer Engineering Department <br>\n",
        "    Spring 2023 <br> <br>\n",
        "<font color=606060 size=5>\n",
        "    Homework 4: Practical - Naive Bayes <br> <br>\n",
        "<font color=686880 size=4>\n",
        "    TAs: Alireza Farashah - Arman Malekzadeh - Ali Salesi\n",
        "    \n",
        "____"
      ]
    },
    {
      "cell_type": "markdown",
      "metadata": {
        "id": "f5a79508"
      },
      "source": [
        "### Full Name : Mohammad Javad Maheronnaghsh\n",
        "___"
      ]
    },
    {
      "cell_type": "markdown",
      "metadata": {
        "id": "QTZBzFXNv8pP"
      },
      "source": [
        "Note 1: In this assignment, we are trying to simulate the functionality of something called \"CountVectorizer\" which is used in natural language processing. You are advised to take a look at this link before beginning to answer the questions:\n",
        "\n",
        "https://www.geeksforgeeks.org/using-countvectorizer-to-extracting-features-from-text/\n",
        "\n",
        "Note 2: One or two TA sessions will be held related to this assignment to make sure you get familiarized with this topic. Therefore, keep calm and write code!"
      ]
    },
    {
      "cell_type": "markdown",
      "metadata": {
        "id": "Dsp-qF9vLbUt"
      },
      "source": [
        "# Download the Dataset"
      ]
    },
    {
      "cell_type": "code",
      "execution_count": 4,
      "metadata": {
        "colab": {
          "base_uri": "https://localhost:8080/"
        },
        "id": "YQG4cjKvK4zZ",
        "outputId": "b9f5d0ed-bea5-47e5-a515-ef052086e39d"
      },
      "outputs": [
        {
          "name": "stdout",
          "output_type": "stream",
          "text": [
            "--2023-05-05 16:49:53--  https://www.dropbox.com/s/yf195wl0sp3term/dataset-train.zip?dl=1\n",
            "Resolving www.dropbox.com (www.dropbox.com)... 162.125.1.18, 2620:100:6016:18::a27d:112\n",
            "Connecting to www.dropbox.com (www.dropbox.com)|162.125.1.18|:443... connected.\n",
            "HTTP request sent, awaiting response... 302 Found\n",
            "Location: /s/dl/yf195wl0sp3term/dataset-train.zip [following]\n",
            "--2023-05-05 16:49:53--  https://www.dropbox.com/s/dl/yf195wl0sp3term/dataset-train.zip\n",
            "Reusing existing connection to www.dropbox.com:443.\n",
            "HTTP request sent, awaiting response... 302 Found\n",
            "Location: https://uce6e8ee17be2e8a20f1fe0da056.dl.dropboxusercontent.com/cd/0/get/B7cJUR9dWjbEN9XSGd2chUSAXdouCK7EzjTg1YZA4DapETdBNjrBaXxpm47yUT1PiQKSSElaAK7YZMBA_NSnupWm1Wgxprb34SjXHU2uf-IjQ26eow_wkVT0MkrfC-i4_4N3aw4zRp2CsXWD-zFaTp_ScOkUVcbhkw04AFfEiPnHw4WaiF84Xkmh0rqn8FXa95k/file?dl=1# [following]\n",
            "--2023-05-05 16:49:53--  https://uce6e8ee17be2e8a20f1fe0da056.dl.dropboxusercontent.com/cd/0/get/B7cJUR9dWjbEN9XSGd2chUSAXdouCK7EzjTg1YZA4DapETdBNjrBaXxpm47yUT1PiQKSSElaAK7YZMBA_NSnupWm1Wgxprb34SjXHU2uf-IjQ26eow_wkVT0MkrfC-i4_4N3aw4zRp2CsXWD-zFaTp_ScOkUVcbhkw04AFfEiPnHw4WaiF84Xkmh0rqn8FXa95k/file?dl=1\n",
            "Resolving uce6e8ee17be2e8a20f1fe0da056.dl.dropboxusercontent.com (uce6e8ee17be2e8a20f1fe0da056.dl.dropboxusercontent.com)... 162.125.1.15, 2620:100:6016:15::a27d:10f\n",
            "Connecting to uce6e8ee17be2e8a20f1fe0da056.dl.dropboxusercontent.com (uce6e8ee17be2e8a20f1fe0da056.dl.dropboxusercontent.com)|162.125.1.15|:443... connected.\n",
            "HTTP request sent, awaiting response... 200 OK\n",
            "Length: 170224802 (162M) [application/binary]\n",
            "Saving to: ‘/content/dataset.zip’\n",
            "\n",
            "/content/dataset.zi 100%[===================>] 162.34M   174MB/s    in 0.9s    \n",
            "\n",
            "2023-05-05 16:49:55 (174 MB/s) - ‘/content/dataset.zip’ saved [170224802/170224802]\n",
            "\n"
          ]
        }
      ],
      "source": [
        "!wget -O /content/dataset.zip \"https://www.dropbox.com/s/yf195wl0sp3term/dataset-train.zip?dl=1\""
      ]
    },
    {
      "cell_type": "code",
      "execution_count": 5,
      "metadata": {
        "colab": {
          "base_uri": "https://localhost:8080/"
        },
        "id": "GkjLDi1xBR-r",
        "outputId": "90b1d836-c8f4-4430-f9b7-292a1aa68fee"
      },
      "outputs": [
        {
          "name": "stdout",
          "output_type": "stream",
          "text": [
            "Archive:  /content/dataset.zip\n",
            "  inflating: /content/dataset/content/news-train.csv  \n"
          ]
        }
      ],
      "source": [
        "!mkdir /content/dataset/\n",
        "!unzip '/content/dataset.zip' -d /content/dataset/"
      ]
    },
    {
      "cell_type": "markdown",
      "metadata": {
        "id": "AI_tN2UDLgT_"
      },
      "source": [
        "# Preprocessing"
      ]
    },
    {
      "cell_type": "code",
      "execution_count": 6,
      "metadata": {
        "id": "xzZeY9pcBo-7"
      },
      "outputs": [],
      "source": [
        "import pandas as pd\n",
        "import numpy as np\n",
        "from sklearn.feature_extraction.text import CountVectorizer\n",
        "from sklearn.naive_bayes import MultinomialNB\n",
        "from sklearn.preprocessing import LabelEncoder\n",
        "from sklearn.model_selection import train_test_split\n",
        "from sklearn.metrics import classification_report"
      ]
    },
    {
      "cell_type": "markdown",
      "metadata": {
        "id": "bovAIGr4LkcU"
      },
      "source": [
        "Read the csv file and load it as a dataframe."
      ]
    },
    {
      "cell_type": "code",
      "execution_count": 7,
      "metadata": {
        "id": "5XkCekbTQzaf"
      },
      "outputs": [],
      "source": [
        "df = pd.read_csv('/content/dataset/content/news-train.csv')"
      ]
    },
    {
      "cell_type": "code",
      "execution_count": 8,
      "metadata": {
        "colab": {
          "base_uri": "https://localhost:8080/",
          "height": 423
        },
        "id": "-Px262SWmvgf",
        "outputId": "f288eb7e-a565-4101-d97c-d502d8751305"
      },
      "outputs": [
        {
          "data": {
            "text/html": [
              "\n",
              "  <div id=\"df-1c688f0e-64d2-4f5a-a965-7eed60cef8da\">\n",
              "    <div class=\"colab-df-container\">\n",
              "      <div>\n",
              "<style scoped>\n",
              "    .dataframe tbody tr th:only-of-type {\n",
              "        vertical-align: middle;\n",
              "    }\n",
              "\n",
              "    .dataframe tbody tr th {\n",
              "        vertical-align: top;\n",
              "    }\n",
              "\n",
              "    .dataframe thead th {\n",
              "        text-align: right;\n",
              "    }\n",
              "</style>\n",
              "<table border=\"1\" class=\"dataframe\">\n",
              "  <thead>\n",
              "    <tr style=\"text-align: right;\">\n",
              "      <th></th>\n",
              "      <th>topic</th>\n",
              "      <th>text</th>\n",
              "    </tr>\n",
              "  </thead>\n",
              "  <tbody>\n",
              "    <tr>\n",
              "      <th>0</th>\n",
              "      <td>sports</td>\n",
              "      <td>به گزارش ورزش سه تیم فوتبال پدیده در روزی که ا...</td>\n",
              "    </tr>\n",
              "    <tr>\n",
              "      <th>1</th>\n",
              "      <td>politics</td>\n",
              "      <td>پاسخ مثبت به انتقادات شورای نگهبان البته # قبل...</td>\n",
              "    </tr>\n",
              "    <tr>\n",
              "      <th>2</th>\n",
              "      <td>politics</td>\n",
              "      <td># دهم در پاسخ به سوالی درباره اینکه آیا سفر وی...</td>\n",
              "    </tr>\n",
              "    <tr>\n",
              "      <th>3</th>\n",
              "      <td>economics</td>\n",
              "      <td>کنفرانس # بودن بازار خودرو و تاثیر آن بر اقتصا...</td>\n",
              "    </tr>\n",
              "    <tr>\n",
              "      <th>4</th>\n",
              "      <td>economics</td>\n",
              "      <td>به گزارش ایسنا صحبت با برخی # # آن است که امرو...</td>\n",
              "    </tr>\n",
              "    <tr>\n",
              "      <th>...</th>\n",
              "      <td>...</td>\n",
              "      <td>...</td>\n",
              "    </tr>\n",
              "    <tr>\n",
              "      <th>197356</th>\n",
              "      <td>sports</td>\n",
              "      <td>به گزارش ورزش سه و به نقل از مارکا رقابت‌های ب...</td>\n",
              "    </tr>\n",
              "    <tr>\n",
              "      <th>197357</th>\n",
              "      <td>sports</td>\n",
              "      <td>به گزارش ایسنا و به نقل از فوتبال ایتالیا یوون...</td>\n",
              "    </tr>\n",
              "    <tr>\n",
              "      <th>197358</th>\n",
              "      <td>sports</td>\n",
              "      <td>سرمربی تیم والیبال دانشجویان گفت ما اصلا فرصت ...</td>\n",
              "    </tr>\n",
              "    <tr>\n",
              "      <th>197359</th>\n",
              "      <td>sports</td>\n",
              "      <td>به گزارش ورزش سه مرتضی # باشگاه # مصر # را نسب...</td>\n",
              "    </tr>\n",
              "    <tr>\n",
              "      <th>197360</th>\n",
              "      <td>sports</td>\n",
              "      <td>به گزارش ورزش سه احمد # با تایید این خبر می‌گو...</td>\n",
              "    </tr>\n",
              "  </tbody>\n",
              "</table>\n",
              "<p>197361 rows × 2 columns</p>\n",
              "</div>\n",
              "      <button class=\"colab-df-convert\" onclick=\"convertToInteractive('df-1c688f0e-64d2-4f5a-a965-7eed60cef8da')\"\n",
              "              title=\"Convert this dataframe to an interactive table.\"\n",
              "              style=\"display:none;\">\n",
              "        \n",
              "  <svg xmlns=\"http://www.w3.org/2000/svg\" height=\"24px\"viewBox=\"0 0 24 24\"\n",
              "       width=\"24px\">\n",
              "    <path d=\"M0 0h24v24H0V0z\" fill=\"none\"/>\n",
              "    <path d=\"M18.56 5.44l.94 2.06.94-2.06 2.06-.94-2.06-.94-.94-2.06-.94 2.06-2.06.94zm-11 1L8.5 8.5l.94-2.06 2.06-.94-2.06-.94L8.5 2.5l-.94 2.06-2.06.94zm10 10l.94 2.06.94-2.06 2.06-.94-2.06-.94-.94-2.06-.94 2.06-2.06.94z\"/><path d=\"M17.41 7.96l-1.37-1.37c-.4-.4-.92-.59-1.43-.59-.52 0-1.04.2-1.43.59L10.3 9.45l-7.72 7.72c-.78.78-.78 2.05 0 2.83L4 21.41c.39.39.9.59 1.41.59.51 0 1.02-.2 1.41-.59l7.78-7.78 2.81-2.81c.8-.78.8-2.07 0-2.86zM5.41 20L4 18.59l7.72-7.72 1.47 1.35L5.41 20z\"/>\n",
              "  </svg>\n",
              "      </button>\n",
              "      \n",
              "  <style>\n",
              "    .colab-df-container {\n",
              "      display:flex;\n",
              "      flex-wrap:wrap;\n",
              "      gap: 12px;\n",
              "    }\n",
              "\n",
              "    .colab-df-convert {\n",
              "      background-color: #E8F0FE;\n",
              "      border: none;\n",
              "      border-radius: 50%;\n",
              "      cursor: pointer;\n",
              "      display: none;\n",
              "      fill: #1967D2;\n",
              "      height: 32px;\n",
              "      padding: 0 0 0 0;\n",
              "      width: 32px;\n",
              "    }\n",
              "\n",
              "    .colab-df-convert:hover {\n",
              "      background-color: #E2EBFA;\n",
              "      box-shadow: 0px 1px 2px rgba(60, 64, 67, 0.3), 0px 1px 3px 1px rgba(60, 64, 67, 0.15);\n",
              "      fill: #174EA6;\n",
              "    }\n",
              "\n",
              "    [theme=dark] .colab-df-convert {\n",
              "      background-color: #3B4455;\n",
              "      fill: #D2E3FC;\n",
              "    }\n",
              "\n",
              "    [theme=dark] .colab-df-convert:hover {\n",
              "      background-color: #434B5C;\n",
              "      box-shadow: 0px 1px 3px 1px rgba(0, 0, 0, 0.15);\n",
              "      filter: drop-shadow(0px 1px 2px rgba(0, 0, 0, 0.3));\n",
              "      fill: #FFFFFF;\n",
              "    }\n",
              "  </style>\n",
              "\n",
              "      <script>\n",
              "        const buttonEl =\n",
              "          document.querySelector('#df-1c688f0e-64d2-4f5a-a965-7eed60cef8da button.colab-df-convert');\n",
              "        buttonEl.style.display =\n",
              "          google.colab.kernel.accessAllowed ? 'block' : 'none';\n",
              "\n",
              "        async function convertToInteractive(key) {\n",
              "          const element = document.querySelector('#df-1c688f0e-64d2-4f5a-a965-7eed60cef8da');\n",
              "          const dataTable =\n",
              "            await google.colab.kernel.invokeFunction('convertToInteractive',\n",
              "                                                     [key], {});\n",
              "          if (!dataTable) return;\n",
              "\n",
              "          const docLinkHtml = 'Like what you see? Visit the ' +\n",
              "            '<a target=\"_blank\" href=https://colab.research.google.com/notebooks/data_table.ipynb>data table notebook</a>'\n",
              "            + ' to learn more about interactive tables.';\n",
              "          element.innerHTML = '';\n",
              "          dataTable['output_type'] = 'display_data';\n",
              "          await google.colab.output.renderOutput(dataTable, element);\n",
              "          const docLink = document.createElement('div');\n",
              "          docLink.innerHTML = docLinkHtml;\n",
              "          element.appendChild(docLink);\n",
              "        }\n",
              "      </script>\n",
              "    </div>\n",
              "  </div>\n",
              "  "
            ],
            "text/plain": [
              "            topic                                               text\n",
              "0          sports  به گزارش ورزش سه تیم فوتبال پدیده در روزی که ا...\n",
              "1        politics  پاسخ مثبت به انتقادات شورای نگهبان البته # قبل...\n",
              "2        politics  # دهم در پاسخ به سوالی درباره اینکه آیا سفر وی...\n",
              "3       economics  کنفرانس # بودن بازار خودرو و تاثیر آن بر اقتصا...\n",
              "4       economics  به گزارش ایسنا صحبت با برخی # # آن است که امرو...\n",
              "...           ...                                                ...\n",
              "197356     sports  به گزارش ورزش سه و به نقل از مارکا رقابت‌های ب...\n",
              "197357     sports  به گزارش ایسنا و به نقل از فوتبال ایتالیا یوون...\n",
              "197358     sports  سرمربی تیم والیبال دانشجویان گفت ما اصلا فرصت ...\n",
              "197359     sports  به گزارش ورزش سه مرتضی # باشگاه # مصر # را نسب...\n",
              "197360     sports  به گزارش ورزش سه احمد # با تایید این خبر می‌گو...\n",
              "\n",
              "[197361 rows x 2 columns]"
            ]
          },
          "execution_count": 8,
          "metadata": {},
          "output_type": "execute_result"
        }
      ],
      "source": [
        "df"
      ]
    },
    {
      "cell_type": "markdown",
      "metadata": {
        "id": "b2eq6fRZZroS"
      },
      "source": [
        "# Dealing with Class Imbalance"
      ]
    },
    {
      "cell_type": "markdown",
      "metadata": {
        "id": "__mdmjwgNSRb"
      },
      "source": [
        "For each \"topic\", count and display the number of news belonging to it. (5 points)"
      ]
    },
    {
      "cell_type": "code",
      "execution_count": 9,
      "metadata": {
        "colab": {
          "base_uri": "https://localhost:8080/"
        },
        "id": "1f0oIh-PNYLB",
        "outputId": "722042e0-9ea1-45f7-d2c3-17821491c6cf"
      },
      "outputs": [
        {
          "data": {
            "text/plain": [
              "sports       123105\n",
              "economics     49600\n",
              "cultural      13359\n",
              "politics      11297\n",
              "Name: topic, dtype: int64"
            ]
          },
          "execution_count": 9,
          "metadata": {},
          "output_type": "execute_result"
        }
      ],
      "source": [
        "occurancies = df['topic'].value_counts()\n",
        "occurancies"
      ]
    },
    {
      "cell_type": "markdown",
      "metadata": {
        "id": "8ETq4g97Oj0c"
      },
      "source": [
        "Balance the dataset in a way that all of the topics get associated with the same number of news. For this purpose, find the topic for which the minimum number of news exists. Then, use downsampling to lower the number of news associated with the other topics.<br>\n",
        "Finally, save the result as a new dataframe. (15 points)"
      ]
    },
    {
      "cell_type": "code",
      "execution_count": 10,
      "metadata": {
        "colab": {
          "base_uri": "https://localhost:8080/"
        },
        "id": "XJawN5XRDFYf",
        "outputId": "62378598-a6ff-430b-81a6-669fc1f82a98"
      },
      "outputs": [
        {
          "name": "stdout",
          "output_type": "stream",
          "text": [
            "The topic with the lowest number of occurancies is : politics and the occurancy of this topic is : 11297\n"
          ]
        }
      ],
      "source": [
        "# Find the topic with the minimum occurancy\n",
        "min_news_arg = np.argmin(occurancies)\n",
        "list_of_topics = occurancies.index.tolist()\n",
        "min_news = list_of_topics[min_news_arg]\n",
        "min_occurancy = occurancies[min_news_arg]\n",
        "print('The topic with the lowest number of occurancies is : ' + min_news + \n",
        "      ' and the occurancy of this topic is : ' + str(min_occurancy))\n",
        "\n"
      ]
    },
    {
      "cell_type": "code",
      "execution_count": 11,
      "metadata": {
        "colab": {
          "base_uri": "https://localhost:8080/"
        },
        "id": "kQh0V12aqhmF",
        "outputId": "e2ea1f18-3d62-46d4-9c98-4fc9f8e26e04"
      },
      "outputs": [
        {
          "name": "stdout",
          "output_type": "stream",
          "text": [
            "(11297,)\n",
            "(11297, 2)\n",
            "(11297,)\n",
            "(22594, 2)\n",
            "(11297,)\n",
            "(33891, 2)\n"
          ]
        },
        {
          "name": "stderr",
          "output_type": "stream",
          "text": [
            "<ipython-input-11-ab1bcfa79da1>:10: FutureWarning: The frame.append method is deprecated and will be removed from pandas in a future version. Use pandas.concat instead.\n",
            "  new_df = new_df.append(pd.DataFrame(downsampled.T, columns = ['topic', 'text']))\n",
            "<ipython-input-11-ab1bcfa79da1>:10: FutureWarning: The frame.append method is deprecated and will be removed from pandas in a future version. Use pandas.concat instead.\n",
            "  new_df = new_df.append(pd.DataFrame(downsampled.T, columns = ['topic', 'text']))\n",
            "<ipython-input-11-ab1bcfa79da1>:10: FutureWarning: The frame.append method is deprecated and will be removed from pandas in a future version. Use pandas.concat instead.\n",
            "  new_df = new_df.append(pd.DataFrame(downsampled.T, columns = ['topic', 'text']))\n",
            "<ipython-input-11-ab1bcfa79da1>:17: FutureWarning: The frame.append method is deprecated and will be removed from pandas in a future version. Use pandas.concat instead.\n",
            "  new_df = new_df.append(pd.DataFrame(not_downsampled.T, columns = ['topic', 'text']))\n"
          ]
        }
      ],
      "source": [
        "\n",
        "# Downsampling\n",
        "new_df = pd.DataFrame({'topic':[], 'text':[]})\n",
        "for other_topic in list_of_topics:\n",
        "  if other_topic != min_news:\n",
        "    downsampled = np.random.choice(df[df.topic == other_topic]['text'], size=min_occurancy, replace=False)\n",
        "    topic = np.array([other_topic for i in range(min_occurancy)]).reshape((min_occurancy,))\n",
        "    print(topic.shape)\n",
        "    \n",
        "    downsampled = np.stack([topic, downsampled])\n",
        "    new_df = new_df.append(pd.DataFrame(downsampled.T, columns = ['topic', 'text']))\n",
        "    print(new_df.shape)\n",
        "    type(downsampled)\n",
        "  else:\n",
        "    not_downsampled = np.array(df[df.topic == min_news]['text'])\n",
        "    topic = np.array([min_news for i in range(min_occurancy)]).reshape((min_occurancy,))\n",
        "    not_downsampled = np.stack([topic, not_downsampled])\n",
        "    new_df = new_df.append(pd.DataFrame(not_downsampled.T, columns = ['topic', 'text']))\n"
      ]
    },
    {
      "cell_type": "code",
      "execution_count": 12,
      "metadata": {
        "colab": {
          "base_uri": "https://localhost:8080/",
          "height": 423
        },
        "id": "9MXTVBJuu0dj",
        "outputId": "b368c9bd-3d5c-480e-c948-cccbe4afa86c"
      },
      "outputs": [
        {
          "data": {
            "text/html": [
              "\n",
              "  <div id=\"df-7bd63ebd-a065-4704-9586-99de8f65a718\">\n",
              "    <div class=\"colab-df-container\">\n",
              "      <div>\n",
              "<style scoped>\n",
              "    .dataframe tbody tr th:only-of-type {\n",
              "        vertical-align: middle;\n",
              "    }\n",
              "\n",
              "    .dataframe tbody tr th {\n",
              "        vertical-align: top;\n",
              "    }\n",
              "\n",
              "    .dataframe thead th {\n",
              "        text-align: right;\n",
              "    }\n",
              "</style>\n",
              "<table border=\"1\" class=\"dataframe\">\n",
              "  <thead>\n",
              "    <tr style=\"text-align: right;\">\n",
              "      <th></th>\n",
              "      <th>topic</th>\n",
              "      <th>text</th>\n",
              "    </tr>\n",
              "  </thead>\n",
              "  <tbody>\n",
              "    <tr>\n",
              "      <th>0</th>\n",
              "      <td>sports</td>\n",
              "      <td># سواری در خراسان شمالی روزهای # را می‌گذارند ...</td>\n",
              "    </tr>\n",
              "    <tr>\n",
              "      <th>1</th>\n",
              "      <td>sports</td>\n",
              "      <td>به گزارش ورزش سه لیورپول فردا شب در شرایطی در ...</td>\n",
              "    </tr>\n",
              "    <tr>\n",
              "      <th>2</th>\n",
              "      <td>sports</td>\n",
              "      <td>به گزارش ایسنا # # سرمربی تیم ملی والیبال بعد ...</td>\n",
              "    </tr>\n",
              "    <tr>\n",
              "      <th>3</th>\n",
              "      <td>sports</td>\n",
              "      <td>به گزارش ورزش سه در هفته بیست و ششم رقابت‌های ...</td>\n",
              "    </tr>\n",
              "    <tr>\n",
              "      <th>4</th>\n",
              "      <td>sports</td>\n",
              "      <td>به گزارش ورزش سه با اینکه فصل سرد فرا رسیده و ...</td>\n",
              "    </tr>\n",
              "    <tr>\n",
              "      <th>...</th>\n",
              "      <td>...</td>\n",
              "      <td>...</td>\n",
              "    </tr>\n",
              "    <tr>\n",
              "      <th>11292</th>\n",
              "      <td>politics</td>\n",
              "      <td>آیین # و # فرمانده نیروی دریایی سپاه دیروز با ...</td>\n",
              "    </tr>\n",
              "    <tr>\n",
              "      <th>11293</th>\n",
              "      <td>politics</td>\n",
              "      <td>رئیس‌جمهور با اشاره به تلاش‌های انجام شده برای...</td>\n",
              "    </tr>\n",
              "    <tr>\n",
              "      <th>11294</th>\n",
              "      <td>politics</td>\n",
              "      <td>عضو مجمع تشخیص مصلحت نظام گفت در حال حاضر حاکم...</td>\n",
              "    </tr>\n",
              "    <tr>\n",
              "      <th>11295</th>\n",
              "      <td>politics</td>\n",
              "      <td>پس از پایان دور ششم مذاکرات وین طرفین به مثبت ...</td>\n",
              "    </tr>\n",
              "    <tr>\n",
              "      <th>11296</th>\n",
              "      <td>politics</td>\n",
              "      <td># از اصلاح‌طلبان دو هفته پیش با ارسال نامه‌ای ...</td>\n",
              "    </tr>\n",
              "  </tbody>\n",
              "</table>\n",
              "<p>45188 rows × 2 columns</p>\n",
              "</div>\n",
              "      <button class=\"colab-df-convert\" onclick=\"convertToInteractive('df-7bd63ebd-a065-4704-9586-99de8f65a718')\"\n",
              "              title=\"Convert this dataframe to an interactive table.\"\n",
              "              style=\"display:none;\">\n",
              "        \n",
              "  <svg xmlns=\"http://www.w3.org/2000/svg\" height=\"24px\"viewBox=\"0 0 24 24\"\n",
              "       width=\"24px\">\n",
              "    <path d=\"M0 0h24v24H0V0z\" fill=\"none\"/>\n",
              "    <path d=\"M18.56 5.44l.94 2.06.94-2.06 2.06-.94-2.06-.94-.94-2.06-.94 2.06-2.06.94zm-11 1L8.5 8.5l.94-2.06 2.06-.94-2.06-.94L8.5 2.5l-.94 2.06-2.06.94zm10 10l.94 2.06.94-2.06 2.06-.94-2.06-.94-.94-2.06-.94 2.06-2.06.94z\"/><path d=\"M17.41 7.96l-1.37-1.37c-.4-.4-.92-.59-1.43-.59-.52 0-1.04.2-1.43.59L10.3 9.45l-7.72 7.72c-.78.78-.78 2.05 0 2.83L4 21.41c.39.39.9.59 1.41.59.51 0 1.02-.2 1.41-.59l7.78-7.78 2.81-2.81c.8-.78.8-2.07 0-2.86zM5.41 20L4 18.59l7.72-7.72 1.47 1.35L5.41 20z\"/>\n",
              "  </svg>\n",
              "      </button>\n",
              "      \n",
              "  <style>\n",
              "    .colab-df-container {\n",
              "      display:flex;\n",
              "      flex-wrap:wrap;\n",
              "      gap: 12px;\n",
              "    }\n",
              "\n",
              "    .colab-df-convert {\n",
              "      background-color: #E8F0FE;\n",
              "      border: none;\n",
              "      border-radius: 50%;\n",
              "      cursor: pointer;\n",
              "      display: none;\n",
              "      fill: #1967D2;\n",
              "      height: 32px;\n",
              "      padding: 0 0 0 0;\n",
              "      width: 32px;\n",
              "    }\n",
              "\n",
              "    .colab-df-convert:hover {\n",
              "      background-color: #E2EBFA;\n",
              "      box-shadow: 0px 1px 2px rgba(60, 64, 67, 0.3), 0px 1px 3px 1px rgba(60, 64, 67, 0.15);\n",
              "      fill: #174EA6;\n",
              "    }\n",
              "\n",
              "    [theme=dark] .colab-df-convert {\n",
              "      background-color: #3B4455;\n",
              "      fill: #D2E3FC;\n",
              "    }\n",
              "\n",
              "    [theme=dark] .colab-df-convert:hover {\n",
              "      background-color: #434B5C;\n",
              "      box-shadow: 0px 1px 3px 1px rgba(0, 0, 0, 0.15);\n",
              "      filter: drop-shadow(0px 1px 2px rgba(0, 0, 0, 0.3));\n",
              "      fill: #FFFFFF;\n",
              "    }\n",
              "  </style>\n",
              "\n",
              "      <script>\n",
              "        const buttonEl =\n",
              "          document.querySelector('#df-7bd63ebd-a065-4704-9586-99de8f65a718 button.colab-df-convert');\n",
              "        buttonEl.style.display =\n",
              "          google.colab.kernel.accessAllowed ? 'block' : 'none';\n",
              "\n",
              "        async function convertToInteractive(key) {\n",
              "          const element = document.querySelector('#df-7bd63ebd-a065-4704-9586-99de8f65a718');\n",
              "          const dataTable =\n",
              "            await google.colab.kernel.invokeFunction('convertToInteractive',\n",
              "                                                     [key], {});\n",
              "          if (!dataTable) return;\n",
              "\n",
              "          const docLinkHtml = 'Like what you see? Visit the ' +\n",
              "            '<a target=\"_blank\" href=https://colab.research.google.com/notebooks/data_table.ipynb>data table notebook</a>'\n",
              "            + ' to learn more about interactive tables.';\n",
              "          element.innerHTML = '';\n",
              "          dataTable['output_type'] = 'display_data';\n",
              "          await google.colab.output.renderOutput(dataTable, element);\n",
              "          const docLink = document.createElement('div');\n",
              "          docLink.innerHTML = docLinkHtml;\n",
              "          element.appendChild(docLink);\n",
              "        }\n",
              "      </script>\n",
              "    </div>\n",
              "  </div>\n",
              "  "
            ],
            "text/plain": [
              "          topic                                               text\n",
              "0        sports  # سواری در خراسان شمالی روزهای # را می‌گذارند ...\n",
              "1        sports  به گزارش ورزش سه لیورپول فردا شب در شرایطی در ...\n",
              "2        sports  به گزارش ایسنا # # سرمربی تیم ملی والیبال بعد ...\n",
              "3        sports  به گزارش ورزش سه در هفته بیست و ششم رقابت‌های ...\n",
              "4        sports  به گزارش ورزش سه با اینکه فصل سرد فرا رسیده و ...\n",
              "...         ...                                                ...\n",
              "11292  politics  آیین # و # فرمانده نیروی دریایی سپاه دیروز با ...\n",
              "11293  politics  رئیس‌جمهور با اشاره به تلاش‌های انجام شده برای...\n",
              "11294  politics  عضو مجمع تشخیص مصلحت نظام گفت در حال حاضر حاکم...\n",
              "11295  politics  پس از پایان دور ششم مذاکرات وین طرفین به مثبت ...\n",
              "11296  politics  # از اصلاح‌طلبان دو هفته پیش با ارسال نامه‌ای ...\n",
              "\n",
              "[45188 rows x 2 columns]"
            ]
          },
          "execution_count": 12,
          "metadata": {},
          "output_type": "execute_result"
        }
      ],
      "source": [
        "new_df"
      ]
    },
    {
      "cell_type": "markdown",
      "metadata": {
        "id": "9DMwlMiwZ4Ql"
      },
      "source": [
        "# Preparation and Feature Extraction"
      ]
    },
    {
      "cell_type": "markdown",
      "metadata": {
        "id": "FyrxWwjXQcfV"
      },
      "source": [
        "Split the dataframe to two parts for training (80%) and testing (20%). (5 points)"
      ]
    },
    {
      "cell_type": "code",
      "execution_count": 13,
      "metadata": {
        "id": "BXM2X_tJZIJ2"
      },
      "outputs": [],
      "source": [
        "from sklearn.model_selection import train_test_split\n",
        "df_train, df_test = train_test_split(new_df, test_size=0.2)"
      ]
    },
    {
      "cell_type": "code",
      "execution_count": 14,
      "metadata": {
        "colab": {
          "base_uri": "https://localhost:8080/"
        },
        "id": "XXHoVGAe7ove",
        "outputId": "8ce1509f-11d8-4d4c-d83b-f9b0a5f3ac2a"
      },
      "outputs": [
        {
          "name": "stdout",
          "output_type": "stream",
          "text": [
            "Size of train is : 0.8\n"
          ]
        }
      ],
      "source": [
        "print('Size of train is : ' + str(round(len(df_train)/ (len(df_train) + len(df_test)), 2)))"
      ]
    },
    {
      "cell_type": "markdown",
      "metadata": {
        "id": "tSzLXYMhaL3R"
      },
      "source": [
        "In this part, we will extract features from the textual data using a very basic method."
      ]
    },
    {
      "cell_type": "markdown",
      "metadata": {
        "id": "BCejmR4nhABv"
      },
      "source": [
        "Consider the following sentence:\n",
        "```\n",
        "Sometimes a dog can run faster than a cat.\n",
        "```\n",
        "In the above sentence, the \"tokens\" are:\n",
        "\n",
        "```\n",
        "\"sometimes\", \"a\", \"dog\", \"can\", \"run\", \"faster\", \"than\", \"a\", \"cat\"\n",
        "```"
      ]
    },
    {
      "cell_type": "markdown",
      "metadata": {
        "id": "fTnb43swgo8r"
      },
      "source": [
        "Find the tokens of each news article in the \"training dataframe\" by splitting it based on the occurence of the space character (5 points). For instance, the following sentence:\n",
        "```\n",
        "او به میدان رفت\n",
        "```\n",
        "gets converted to these tokens:\n",
        "```\n",
        "[\"او\",\"به\",\"میدان\",\"رفت\"]\n",
        "```"
      ]
    },
    {
      "cell_type": "code",
      "execution_count": 15,
      "metadata": {
        "colab": {
          "base_uri": "https://localhost:8080/",
          "height": 423
        },
        "id": "MIkOZDA_8J_I",
        "outputId": "109787dc-caa0-49e0-8e57-98f3b14fad5c"
      },
      "outputs": [
        {
          "data": {
            "text/html": [
              "\n",
              "  <div id=\"df-c9f19fab-cace-47bd-9a42-a094fb6a1be4\">\n",
              "    <div class=\"colab-df-container\">\n",
              "      <div>\n",
              "<style scoped>\n",
              "    .dataframe tbody tr th:only-of-type {\n",
              "        vertical-align: middle;\n",
              "    }\n",
              "\n",
              "    .dataframe tbody tr th {\n",
              "        vertical-align: top;\n",
              "    }\n",
              "\n",
              "    .dataframe thead th {\n",
              "        text-align: right;\n",
              "    }\n",
              "</style>\n",
              "<table border=\"1\" class=\"dataframe\">\n",
              "  <thead>\n",
              "    <tr style=\"text-align: right;\">\n",
              "      <th></th>\n",
              "      <th>topic</th>\n",
              "      <th>text</th>\n",
              "    </tr>\n",
              "  </thead>\n",
              "  <tbody>\n",
              "    <tr>\n",
              "      <th>8547</th>\n",
              "      <td>cultural</td>\n",
              "      <td>وزیر فرهنگ و ارشاد اسلامی صبح دیروز در دیدار ب...</td>\n",
              "    </tr>\n",
              "    <tr>\n",
              "      <th>4183</th>\n",
              "      <td>cultural</td>\n",
              "      <td>ارکستر ملی ایران به رهبری فریدون # در حالی به ...</td>\n",
              "    </tr>\n",
              "    <tr>\n",
              "      <th>1131</th>\n",
              "      <td>economics</td>\n",
              "      <td>مخالفت بانک مرکزی به عنوان اصلی‌ترین نهاد تصمی...</td>\n",
              "    </tr>\n",
              "    <tr>\n",
              "      <th>6254</th>\n",
              "      <td>politics</td>\n",
              "      <td>در فرایند برگزاری انتخابات همکاری مناسبی بین د...</td>\n",
              "    </tr>\n",
              "    <tr>\n",
              "      <th>7682</th>\n",
              "      <td>politics</td>\n",
              "      <td>اعتماد نگران ناامید خسته عباس عبدی نگران ناامی...</td>\n",
              "    </tr>\n",
              "    <tr>\n",
              "      <th>...</th>\n",
              "      <td>...</td>\n",
              "      <td>...</td>\n",
              "    </tr>\n",
              "    <tr>\n",
              "      <th>3261</th>\n",
              "      <td>cultural</td>\n",
              "      <td>در حال حاضر وضع ادبیات معاصر در دانشگاه‌ها به ...</td>\n",
              "    </tr>\n",
              "    <tr>\n",
              "      <th>9862</th>\n",
              "      <td>sports</td>\n",
              "      <td>به‌ گزارش ‌ایسنا رقابت‌های سه وزن دوم و پایانی...</td>\n",
              "    </tr>\n",
              "    <tr>\n",
              "      <th>6382</th>\n",
              "      <td>economics</td>\n",
              "      <td>مشاور وزیر تعاون کار و رفاه اجتماعی در امور با...</td>\n",
              "    </tr>\n",
              "    <tr>\n",
              "      <th>6064</th>\n",
              "      <td>sports</td>\n",
              "      <td>به گزارش ورزش سه # که در اولین بازی شان در شرو...</td>\n",
              "    </tr>\n",
              "    <tr>\n",
              "      <th>7450</th>\n",
              "      <td>cultural</td>\n",
              "      <td>رییس دانشگاه علوم پزشکی شهید بهشتی در جشنواره ...</td>\n",
              "    </tr>\n",
              "  </tbody>\n",
              "</table>\n",
              "<p>36150 rows × 2 columns</p>\n",
              "</div>\n",
              "      <button class=\"colab-df-convert\" onclick=\"convertToInteractive('df-c9f19fab-cace-47bd-9a42-a094fb6a1be4')\"\n",
              "              title=\"Convert this dataframe to an interactive table.\"\n",
              "              style=\"display:none;\">\n",
              "        \n",
              "  <svg xmlns=\"http://www.w3.org/2000/svg\" height=\"24px\"viewBox=\"0 0 24 24\"\n",
              "       width=\"24px\">\n",
              "    <path d=\"M0 0h24v24H0V0z\" fill=\"none\"/>\n",
              "    <path d=\"M18.56 5.44l.94 2.06.94-2.06 2.06-.94-2.06-.94-.94-2.06-.94 2.06-2.06.94zm-11 1L8.5 8.5l.94-2.06 2.06-.94-2.06-.94L8.5 2.5l-.94 2.06-2.06.94zm10 10l.94 2.06.94-2.06 2.06-.94-2.06-.94-.94-2.06-.94 2.06-2.06.94z\"/><path d=\"M17.41 7.96l-1.37-1.37c-.4-.4-.92-.59-1.43-.59-.52 0-1.04.2-1.43.59L10.3 9.45l-7.72 7.72c-.78.78-.78 2.05 0 2.83L4 21.41c.39.39.9.59 1.41.59.51 0 1.02-.2 1.41-.59l7.78-7.78 2.81-2.81c.8-.78.8-2.07 0-2.86zM5.41 20L4 18.59l7.72-7.72 1.47 1.35L5.41 20z\"/>\n",
              "  </svg>\n",
              "      </button>\n",
              "      \n",
              "  <style>\n",
              "    .colab-df-container {\n",
              "      display:flex;\n",
              "      flex-wrap:wrap;\n",
              "      gap: 12px;\n",
              "    }\n",
              "\n",
              "    .colab-df-convert {\n",
              "      background-color: #E8F0FE;\n",
              "      border: none;\n",
              "      border-radius: 50%;\n",
              "      cursor: pointer;\n",
              "      display: none;\n",
              "      fill: #1967D2;\n",
              "      height: 32px;\n",
              "      padding: 0 0 0 0;\n",
              "      width: 32px;\n",
              "    }\n",
              "\n",
              "    .colab-df-convert:hover {\n",
              "      background-color: #E2EBFA;\n",
              "      box-shadow: 0px 1px 2px rgba(60, 64, 67, 0.3), 0px 1px 3px 1px rgba(60, 64, 67, 0.15);\n",
              "      fill: #174EA6;\n",
              "    }\n",
              "\n",
              "    [theme=dark] .colab-df-convert {\n",
              "      background-color: #3B4455;\n",
              "      fill: #D2E3FC;\n",
              "    }\n",
              "\n",
              "    [theme=dark] .colab-df-convert:hover {\n",
              "      background-color: #434B5C;\n",
              "      box-shadow: 0px 1px 3px 1px rgba(0, 0, 0, 0.15);\n",
              "      filter: drop-shadow(0px 1px 2px rgba(0, 0, 0, 0.3));\n",
              "      fill: #FFFFFF;\n",
              "    }\n",
              "  </style>\n",
              "\n",
              "      <script>\n",
              "        const buttonEl =\n",
              "          document.querySelector('#df-c9f19fab-cace-47bd-9a42-a094fb6a1be4 button.colab-df-convert');\n",
              "        buttonEl.style.display =\n",
              "          google.colab.kernel.accessAllowed ? 'block' : 'none';\n",
              "\n",
              "        async function convertToInteractive(key) {\n",
              "          const element = document.querySelector('#df-c9f19fab-cace-47bd-9a42-a094fb6a1be4');\n",
              "          const dataTable =\n",
              "            await google.colab.kernel.invokeFunction('convertToInteractive',\n",
              "                                                     [key], {});\n",
              "          if (!dataTable) return;\n",
              "\n",
              "          const docLinkHtml = 'Like what you see? Visit the ' +\n",
              "            '<a target=\"_blank\" href=https://colab.research.google.com/notebooks/data_table.ipynb>data table notebook</a>'\n",
              "            + ' to learn more about interactive tables.';\n",
              "          element.innerHTML = '';\n",
              "          dataTable['output_type'] = 'display_data';\n",
              "          await google.colab.output.renderOutput(dataTable, element);\n",
              "          const docLink = document.createElement('div');\n",
              "          docLink.innerHTML = docLinkHtml;\n",
              "          element.appendChild(docLink);\n",
              "        }\n",
              "      </script>\n",
              "    </div>\n",
              "  </div>\n",
              "  "
            ],
            "text/plain": [
              "          topic                                               text\n",
              "8547   cultural  وزیر فرهنگ و ارشاد اسلامی صبح دیروز در دیدار ب...\n",
              "4183   cultural  ارکستر ملی ایران به رهبری فریدون # در حالی به ...\n",
              "1131  economics  مخالفت بانک مرکزی به عنوان اصلی‌ترین نهاد تصمی...\n",
              "6254   politics  در فرایند برگزاری انتخابات همکاری مناسبی بین د...\n",
              "7682   politics  اعتماد نگران ناامید خسته عباس عبدی نگران ناامی...\n",
              "...         ...                                                ...\n",
              "3261   cultural  در حال حاضر وضع ادبیات معاصر در دانشگاه‌ها به ...\n",
              "9862     sports  به‌ گزارش ‌ایسنا رقابت‌های سه وزن دوم و پایانی...\n",
              "6382  economics  مشاور وزیر تعاون کار و رفاه اجتماعی در امور با...\n",
              "6064     sports  به گزارش ورزش سه # که در اولین بازی شان در شرو...\n",
              "7450   cultural  رییس دانشگاه علوم پزشکی شهید بهشتی در جشنواره ...\n",
              "\n",
              "[36150 rows x 2 columns]"
            ]
          },
          "execution_count": 15,
          "metadata": {},
          "output_type": "execute_result"
        }
      ],
      "source": [
        "df_train"
      ]
    },
    {
      "cell_type": "code",
      "execution_count": 16,
      "metadata": {
        "id": "YiMzIGFx-aen"
      },
      "outputs": [],
      "source": [
        "# !pip install hazm"
      ]
    },
    {
      "cell_type": "code",
      "execution_count": 17,
      "metadata": {
        "id": "S86YRaf2-w0W"
      },
      "outputs": [],
      "source": [
        "# from __future__ import unicode_literals\n",
        "# from hazm import *\n",
        "# # test\n",
        "# word_tokenize ( 'ولی برای پردازش، جدا بهتر نیست؟' )"
      ]
    },
    {
      "cell_type": "code",
      "execution_count": 18,
      "metadata": {
        "id": "_dlCAqisb6cT"
      },
      "outputs": [],
      "source": [
        "all_tokens_list = []\n",
        "all_tokens_flattened = []\n",
        "for index, row in df_train.iterrows():\n",
        "  tokenized = row['text'].split()\n",
        "  for token in tokenized:\n",
        "    all_tokens_flattened.append(token)\n",
        "  all_tokens_list.append(tokenized)\n",
        "# print(all_tokens_list)\n",
        "# TODO: SPLIT BASED ON space instead of 'hazm'"
      ]
    },
    {
      "cell_type": "code",
      "execution_count": 19,
      "metadata": {
        "colab": {
          "base_uri": "https://localhost:8080/"
        },
        "id": "AqpBPUHk_DJ0",
        "outputId": "175df302-db02-4ffa-e786-4427d1848dc0"
      },
      "outputs": [
        {
          "data": {
            "text/plain": [
              "36150"
            ]
          },
          "execution_count": 19,
          "metadata": {},
          "output_type": "execute_result"
        }
      ],
      "source": [
        "len(all_tokens_list)"
      ]
    },
    {
      "cell_type": "markdown",
      "metadata": {
        "id": "eD-UebxhiUyd"
      },
      "source": [
        "Count the tokens and list the top 5 frequent ones (5 points)"
      ]
    },
    {
      "cell_type": "code",
      "execution_count": 20,
      "metadata": {
        "colab": {
          "base_uri": "https://localhost:8080/"
        },
        "id": "rg-aJqkSiEJb",
        "outputId": "046154dd-6ead-41f8-f98e-588b11054140"
      },
      "outputs": [
        {
          "name": "stdout",
          "output_type": "stream",
          "text": [
            "19540886\n"
          ]
        }
      ],
      "source": [
        "print(len(all_tokens_flattened))"
      ]
    },
    {
      "cell_type": "code",
      "execution_count": 21,
      "metadata": {
        "colab": {
          "base_uri": "https://localhost:8080/"
        },
        "id": "HtxTdbthBHvk",
        "outputId": "faab5e85-9bb6-494d-af43-e4bbcb499205"
      },
      "outputs": [
        {
          "data": {
            "text/plain": [
              "#     1631961\n",
              "و      881712\n",
              "در     746708\n",
              "به     585050\n",
              "از     437573\n",
              "dtype: int64"
            ]
          },
          "execution_count": 21,
          "metadata": {},
          "output_type": "execute_result"
        }
      ],
      "source": [
        "flattened_tokens = pd.DataFrame(all_tokens_flattened)\n",
        "top_5 = flattened_tokens.value_counts()[:5]\n",
        "top_5"
      ]
    },
    {
      "cell_type": "markdown",
      "metadata": {
        "id": "dJyE1s6Wi0ZH"
      },
      "source": [
        "Consider the following sentence:\n",
        "```\n",
        "تیم فوتبال بارسلونا امشب با بایرن مونیخ دیدار می‌کند.\n",
        "```\n",
        "In the above sentence, we do not need the word `با` to determine that the topic is \"sports\". This word doesn't have any impact on the category this sentence belongs to. \n",
        "This word and similar ones are called \"stopwords\". A list of stopwords for the Persian language can be found in this text file:\n",
        "https://github.com/ziaa/Persian-stopwords-collection/raw/master/Stopwords/Savoy/persianST.txt\n",
        "\n",
        "Use it to remove all tokens that are actually stopwords.\n",
        "Also, remove the `#` token. (10 points)"
      ]
    },
    {
      "cell_type": "code",
      "execution_count": 22,
      "metadata": {
        "colab": {
          "base_uri": "https://localhost:8080/"
        },
        "id": "6xV_zvIvjtH1",
        "outputId": "35484c51-a3bf-49ac-b863-d43cd9e84969"
      },
      "outputs": [
        {
          "name": "stdout",
          "output_type": "stream",
          "text": [
            "--2023-05-05 16:50:21--  https://github.com/ziaa/Persian-stopwords-collection/raw/master/Stopwords/Savoy/persianST.txt\n",
            "Resolving github.com (github.com)... 192.30.255.112\n",
            "Connecting to github.com (github.com)|192.30.255.112|:443... connected.\n",
            "HTTP request sent, awaiting response... 302 Found\n",
            "Location: https://raw.githubusercontent.com/ziaa/Persian-stopwords-collection/master/Stopwords/Savoy/persianST.txt [following]\n",
            "--2023-05-05 16:50:21--  https://raw.githubusercontent.com/ziaa/Persian-stopwords-collection/master/Stopwords/Savoy/persianST.txt\n",
            "Resolving raw.githubusercontent.com (raw.githubusercontent.com)... 185.199.108.133, 185.199.109.133, 185.199.110.133, ...\n",
            "Connecting to raw.githubusercontent.com (raw.githubusercontent.com)|185.199.108.133|:443... connected.\n",
            "HTTP request sent, awaiting response... 200 OK\n",
            "Length: 2942 (2.9K) [text/plain]\n",
            "Saving to: ‘/content/stopwords.txt’\n",
            "\n",
            "/content/stopwords. 100%[===================>]   2.87K  --.-KB/s    in 0s      \n",
            "\n",
            "2023-05-05 16:50:21 (40.3 MB/s) - ‘/content/stopwords.txt’ saved [2942/2942]\n",
            "\n"
          ]
        }
      ],
      "source": [
        "!wget -O /content/stopwords.txt https://github.com/ziaa/Persian-stopwords-collection/raw/master/Stopwords/Savoy/persianST.txt"
      ]
    },
    {
      "cell_type": "code",
      "execution_count": 23,
      "metadata": {
        "colab": {
          "base_uri": "https://localhost:8080/"
        },
        "id": "w5TLeugQjxIt",
        "outputId": "858bf173-c499-46e7-aa7a-0c146d5cc95d"
      },
      "outputs": [
        {
          "name": "stdout",
          "output_type": "stream",
          "text": [
            "1637\n"
          ]
        }
      ],
      "source": [
        "f = open('/content/stopwords.txt', 'r')\n",
        "stop_words = f.read()\n",
        "print(len(stop_words))"
      ]
    },
    {
      "cell_type": "code",
      "execution_count": 24,
      "metadata": {
        "colab": {
          "base_uri": "https://localhost:8080/"
        },
        "id": "brRRzf-TCGtE",
        "outputId": "916217fb-d372-47cd-c4ca-b3d3fdaa5122"
      },
      "outputs": [
        {
          "name": "stderr",
          "output_type": "stream",
          "text": [
            "100% (36150 of 36150) |##################| Elapsed Time: 0:00:19 Time:  0:00:19\n"
          ]
        }
      ],
      "source": [
        "# Delete the stop words in the list of articles and their tokens\n",
        "all_tokens_removed_stop_words = []\n",
        "from time import sleep\n",
        "from progressbar import progressbar\n",
        "\n",
        "for i in progressbar(range(len(all_tokens_list))):\n",
        "  list_ = all_tokens_list[i]\n",
        "  new_list = []\n",
        "  for token in list_:\n",
        "    if token not in stop_words and token != '#':\n",
        "      new_list.append(token)\n",
        "  all_tokens_removed_stop_words.append(new_list)"
      ]
    },
    {
      "cell_type": "code",
      "execution_count": 25,
      "metadata": {
        "colab": {
          "base_uri": "https://localhost:8080/"
        },
        "id": "P8IC363VDHML",
        "outputId": "a1ea5768-486c-4d5d-a43d-10b86f4e02eb"
      },
      "outputs": [
        {
          "name": "stdout",
          "output_type": "stream",
          "text": [
            "36150\n"
          ]
        }
      ],
      "source": [
        "print(len(all_tokens_removed_stop_words))"
      ]
    },
    {
      "cell_type": "code",
      "execution_count": 26,
      "metadata": {
        "id": "G2NdLCr_CRoP"
      },
      "outputs": [],
      "source": [
        "# Delete the stop words in the list of all tokens\n",
        "all_tokens_flattened_removed_stop_words = []\n",
        "for token in all_tokens_flattened:\n",
        "  if token not in stop_words and token != '#':\n",
        "    all_tokens_flattened_removed_stop_words.append(token)\n",
        "  "
      ]
    },
    {
      "cell_type": "code",
      "execution_count": 27,
      "metadata": {
        "colab": {
          "base_uri": "https://localhost:8080/"
        },
        "id": "OlvyxJ9GECc8",
        "outputId": "d8630e47-ce4d-4f2f-b97f-e1429866a8ea"
      },
      "outputs": [
        {
          "name": "stdout",
          "output_type": "stream",
          "text": [
            "10706615\n"
          ]
        }
      ],
      "source": [
        "print(len(all_tokens_flattened_removed_stop_words))"
      ]
    },
    {
      "cell_type": "code",
      "execution_count": 28,
      "metadata": {
        "id": "N0q1nNnzEN6B"
      },
      "outputs": [],
      "source": [
        "# Free space\n",
        "del(all_tokens_flattened)\n",
        "del(all_tokens_list)"
      ]
    },
    {
      "cell_type": "markdown",
      "metadata": {
        "id": "WH6Lw66Xk-Vb"
      },
      "source": [
        "Make a list of the remaining unique tokens (5 points)"
      ]
    },
    {
      "cell_type": "code",
      "execution_count": 29,
      "metadata": {
        "colab": {
          "base_uri": "https://localhost:8080/"
        },
        "id": "ASLpUFZgkROF",
        "outputId": "732a0d16-ce4e-4327-8369-2d3cdc9afd83"
      },
      "outputs": [
        {
          "name": "stdout",
          "output_type": "stream",
          "text": [
            "4717\n"
          ]
        }
      ],
      "source": [
        "unique_tkns = set(all_tokens_flattened_removed_stop_words)\n",
        "print(len(unique_tkns))"
      ]
    },
    {
      "cell_type": "markdown",
      "metadata": {
        "id": "xI9kbGYql-WU"
      },
      "source": [
        "Count the number of the occurences of each token in each document. This way, you can make a numpy array to represent each document. Call this new array `x_train`. (10 points)\n",
        "\n",
        "Example:\n",
        "\n",
        "Unique tokens in all documents: \n",
        "```\n",
        "0: hen\n",
        "1: sometimes\n",
        "2: a\n",
        "3: the\n",
        "4: dog\n",
        "5: runs\n",
        "6: faster\n",
        "7: than\n",
        "8: cat\n",
        "9: bird\n",
        "```\n",
        "\n",
        "Current Document: `sometimes a dog runs faster than a cat`\n",
        "\n",
        "The representation of the document:\n",
        "\n",
        "```\n",
        "[0, 1, 2, 0, 1, 1, 1, 1, 1, 0]\n",
        "```\n",
        "\n",
        "The meaning of this representation:\n",
        "\n",
        "```\n",
        "0: the document doesn't contain \"hen\"\n",
        "1: the document contains 1 \"sometimes\"\n",
        "2: the document contains 2 \"a\"\n",
        "0: the document doesn't contain \"the\"\n",
        "1: the document contains 1 \"dog\"\n",
        "1: the document contains 1 \"runs\"\n",
        "1: the document contains 1 \"faster\"\n",
        "1: the document contains 1 \"than\"\n",
        "1: the document contains 1 \"cat\"\n",
        "0: the document doesn't contain \"bird\"\n",
        "``` "
      ]
    },
    {
      "cell_type": "code",
      "execution_count": 30,
      "metadata": {
        "colab": {
          "base_uri": "https://localhost:8080/"
        },
        "id": "y16Y9M93NVre",
        "outputId": "8138a08f-c9c3-4bc5-ab90-f516a2f21784"
      },
      "outputs": [
        {
          "name": "stdout",
          "output_type": "stream",
          "text": [
            "36150\n"
          ]
        }
      ],
      "source": [
        "print(len(df_train))"
      ]
    },
    {
      "cell_type": "code",
      "execution_count": 31,
      "metadata": {
        "id": "j2resARdwHDZ"
      },
      "outputs": [],
      "source": [
        "token_dict = dict()\n",
        "set_to_list = list(unique_tkns)\n",
        "for token_idx in range(len(unique_tkns)):\n",
        "  token = set_to_list[token_idx]\n",
        "  token_dict[token] = token_idx"
      ]
    },
    {
      "cell_type": "code",
      "execution_count": 32,
      "metadata": {
        "colab": {
          "base_uri": "https://localhost:8080/"
        },
        "id": "-mUO73qLxby9",
        "outputId": "bd69ec4e-3b1a-4242-9d54-9f522012e830"
      },
      "outputs": [
        {
          "data": {
            "text/plain": [
              "{'گواردیولا': 0,\n",
              " 'متاسفانه': 1,\n",
              " 'زدند': 2,\n",
              " 'منتقدان': 3,\n",
              " 'پیمانکاران': 4,\n",
              " 'سرخیو': 5,\n",
              " 'کین': 6,\n",
              " 'کوچک': 7,\n",
              " 'پیامبر': 8,\n",
              " 'دچار': 9,\n",
              " 'دیوار': 10,\n",
              " 'نگرش': 11,\n",
              " 'زنی': 12,\n",
              " 'گل\\u200cمحمدی': 13,\n",
              " 'می\\u200cگیرد': 14,\n",
              " 'پنجشنبه': 15,\n",
              " 'قاسم': 16,\n",
              " 'دوست': 17,\n",
              " 'عبارت': 18,\n",
              " 'درمانی': 19,\n",
              " 'جزئیات': 20,\n",
              " 'خانم': 21,\n",
              " 'طبیعی': 22,\n",
              " 'آوردیم': 23,\n",
              " 'اردوی': 24,\n",
              " 'مصاحبه\\u200cای': 25,\n",
              " 'دادم': 26,\n",
              " 'آتش': 27,\n",
              " 'تاسیس': 28,\n",
              " 'متفاوتی': 29,\n",
              " 'آنقدر': 30,\n",
              " 'لباس': 31,\n",
              " 'ارجاع': 32,\n",
              " 'نصب': 33,\n",
              " 'نعمتی': 34,\n",
              " 'اجتماعی': 35,\n",
              " 'توییتر': 36,\n",
              " 'زیبا': 37,\n",
              " 'نویسندگی': 38,\n",
              " 'راموس': 39,\n",
              " 'رهبر': 40,\n",
              " 'واقعه': 41,\n",
              " 'تقدیر': 42,\n",
              " 'جنجالی': 43,\n",
              " 'فعلی': 44,\n",
              " 'دایره': 45,\n",
              " 'پشتوانه': 46,\n",
              " 'تبدیل': 47,\n",
              " 'گام\\u200cهای': 48,\n",
              " 'حالت': 49,\n",
              " 'مسعود': 50,\n",
              " 'عزم': 51,\n",
              " 'مانع': 52,\n",
              " 'وظایف': 53,\n",
              " 'تدریج': 54,\n",
              " 'می\\u200cخواهد': 55,\n",
              " 'مشکلی': 56,\n",
              " 'سارا': 57,\n",
              " 'شخصیت': 58,\n",
              " 'مارادونا': 59,\n",
              " 'روستایی': 60,\n",
              " 'شمس': 61,\n",
              " 'تلاش': 62,\n",
              " 'پست': 63,\n",
              " 'کوتاهی': 64,\n",
              " '\\u200c': 65,\n",
              " 'امتیاز': 66,\n",
              " 'تعویق': 67,\n",
              " 'می\\u200cکشد': 68,\n",
              " 'هایی': 69,\n",
              " 'فرصت\\u200cهای': 70,\n",
              " 'ملت\\u200cهای': 71,\n",
              " 'جنگل': 72,\n",
              " 'المللی': 73,\n",
              " 'نیمی': 74,\n",
              " 'طالبان': 75,\n",
              " 'اجماع': 76,\n",
              " 'حضوری': 77,\n",
              " 'لوایح': 78,\n",
              " 'مبارک': 79,\n",
              " 'محققان': 80,\n",
              " 'اوست': 81,\n",
              " 'رجایی': 82,\n",
              " 'وام': 83,\n",
              " 'بنابراین': 84,\n",
              " 'حسن': 85,\n",
              " 'وضع': 86,\n",
              " 'پرده': 87,\n",
              " 'استانداری': 88,\n",
              " 'شناخت': 89,\n",
              " 'انسجام': 90,\n",
              " 'قابلیت': 91,\n",
              " 'تحقیق': 92,\n",
              " 'داریوش': 93,\n",
              " 'شوراهای': 94,\n",
              " 'همایش': 95,\n",
              " 'جلوگیری': 96,\n",
              " 'خیال': 97,\n",
              " 'جشنواره\\u200cهای': 98,\n",
              " 'می\\u200cرسید': 99,\n",
              " 'حفاظت': 100,\n",
              " 'شنبه': 101,\n",
              " 'خواستند': 102,\n",
              " 'مرتبه': 103,\n",
              " 'پیشکسوت': 104,\n",
              " 'بگذاریم': 105,\n",
              " 'نفوذ': 106,\n",
              " 'دوومیدانی': 107,\n",
              " 'گوش': 108,\n",
              " 'همین\\u200cطور': 109,\n",
              " 'تاریخی': 110,\n",
              " 'غالب': 111,\n",
              " 'ترسیم': 112,\n",
              " 'مهندسی': 113,\n",
              " 'عده\\u200cای': 114,\n",
              " 'ترابی': 115,\n",
              " 'نگارش': 116,\n",
              " 'رویای': 117,\n",
              " 'ماشین\\u200cسازی': 118,\n",
              " 'سرنوشت': 119,\n",
              " 'ورزش': 120,\n",
              " 'تماس': 121,\n",
              " 'باتوجه': 122,\n",
              " 'خطا': 123,\n",
              " 'اثرگذار': 124,\n",
              " 'صورتی': 125,\n",
              " 'خودروهای': 126,\n",
              " 'وریا': 127,\n",
              " 'نادرست': 128,\n",
              " 'کاوه': 129,\n",
              " 'شبکه\\u200cهای': 130,\n",
              " 'سبک': 131,\n",
              " 'طرف\\u200cهای': 132,\n",
              " 'الان': 133,\n",
              " 'روزگار': 134,\n",
              " 'همکاری\\u200cهای': 135,\n",
              " 'رفتند': 136,\n",
              " 'معترض': 137,\n",
              " 'حبیب': 138,\n",
              " 'خاطر': 139,\n",
              " 'می\\u200cرویم': 140,\n",
              " 'دروازه': 141,\n",
              " 'تجارت': 142,\n",
              " 'کارایی': 143,\n",
              " 'آرا': 144,\n",
              " 'دوره': 145,\n",
              " 'ملاقات': 146,\n",
              " 'برگزار': 147,\n",
              " 'تروریسم': 148,\n",
              " 'چنانچه': 149,\n",
              " 'اکران': 150,\n",
              " 'وزرای': 151,\n",
              " 'دقایق': 152,\n",
              " 'معدن': 153,\n",
              " 'بلوچستان': 154,\n",
              " 'پاییز': 155,\n",
              " 'ارزش\\u200cهای': 156,\n",
              " 'پیراهن': 157,\n",
              " 'حاصل': 158,\n",
              " 'دهید': 159,\n",
              " 'غیرمستقیم': 160,\n",
              " 'راه\\u200cهای': 161,\n",
              " 'ضعف': 162,\n",
              " 'عالی': 163,\n",
              " 'خاتمی': 164,\n",
              " 'خطر': 165,\n",
              " 'فاز': 166,\n",
              " 'سپیدرود': 167,\n",
              " 'استرس': 168,\n",
              " 'جلسه\\u200cای': 169,\n",
              " 'معنا': 170,\n",
              " 'فرهنگسرای': 171,\n",
              " 'طارمی': 172,\n",
              " 'آرای': 173,\n",
              " 'گفتن': 174,\n",
              " 'خاطره': 175,\n",
              " 'آن\\u200cها': 176,\n",
              " 'نظارتی': 177,\n",
              " 'ساکن': 178,\n",
              " 'گذشته': 179,\n",
              " 'مخالف': 180,\n",
              " 'پیام': 181,\n",
              " 'سلاح': 182,\n",
              " 'فاجعه': 183,\n",
              " 'ویلموتس': 184,\n",
              " 'فعالیت\\u200cهای': 185,\n",
              " 'زیرمجموعه': 186,\n",
              " 'بافت': 187,\n",
              " 'راهکارهای': 188,\n",
              " 'مسئله': 189,\n",
              " 'شور': 190,\n",
              " 'دهه\\u200cهای': 191,\n",
              " 'توضیح': 192,\n",
              " 'بدی': 193,\n",
              " 'خودروسازان': 194,\n",
              " 'مسائلی': 195,\n",
              " 'دبیرخانه': 196,\n",
              " 'قریب': 197,\n",
              " 'نگرفت': 198,\n",
              " 'تکرار': 199,\n",
              " 'کمیسیون': 200,\n",
              " 'میزبان': 201,\n",
              " 'شیخ': 202,\n",
              " 'شرکت\\u200cها': 203,\n",
              " 'بخش\\u200cهای': 204,\n",
              " 'تخصصی': 205,\n",
              " 'پای': 206,\n",
              " 'بقیه': 207,\n",
              " 'وابستگی': 208,\n",
              " 'خودرو': 209,\n",
              " 'تعریف': 210,\n",
              " 'خودم': 211,\n",
              " 'بازرسی': 212,\n",
              " 'اوضاع': 213,\n",
              " 'تفاوت': 214,\n",
              " 'نظامی': 215,\n",
              " 'شناخته': 216,\n",
              " 'ایراد': 217,\n",
              " 'آشنا': 218,\n",
              " 'فروشی': 219,\n",
              " 'منشا': 220,\n",
              " 'طبقات': 221,\n",
              " 'شهدا': 222,\n",
              " 'آمدم': 223,\n",
              " 'گرفتم': 224,\n",
              " 'برساند': 225,\n",
              " 'آشنایی': 226,\n",
              " 'کاربران': 227,\n",
              " 'سیف': 228,\n",
              " 'کی\\u200cروش': 229,\n",
              " 'کوتاه': 230,\n",
              " 'نهادهای': 231,\n",
              " 'ضرورت': 232,\n",
              " 'واحدهای': 233,\n",
              " 'مدیر': 234,\n",
              " 'علیپور': 235,\n",
              " 'نظری': 236,\n",
              " 'معاون': 237,\n",
              " 'کریم': 238,\n",
              " 'همانند': 239,\n",
              " 'بدتر': 240,\n",
              " 'کودکان': 241,\n",
              " 'پذیرش': 242,\n",
              " 'حریف': 243,\n",
              " 'منچستریونایتد': 244,\n",
              " 'رئیسه': 245,\n",
              " 'تشییع': 246,\n",
              " 'چای': 247,\n",
              " 'هفته\\u200c': 248,\n",
              " 'محاکمه': 249,\n",
              " 'مامور': 250,\n",
              " 'کناره\\u200cگیری': 251,\n",
              " 'جامعه\\u200cای': 252,\n",
              " 'عدم': 253,\n",
              " 'خودروسازی': 254,\n",
              " 'خاتمه': 255,\n",
              " 'تحصیلی': 256,\n",
              " 'قبال': 257,\n",
              " 'تفسیر': 258,\n",
              " 'می\\u200cبینیم': 259,\n",
              " 'سفرهای': 260,\n",
              " 'کامل': 261,\n",
              " 'رویارویی': 262,\n",
              " 'طیف': 263,\n",
              " 'حادثه': 264,\n",
              " 'صالحی': 265,\n",
              " 'بازی': 266,\n",
              " 'آثاری': 267,\n",
              " 'اعتبار': 268,\n",
              " 'مجدد': 269,\n",
              " 'سیاوش': 270,\n",
              " 'عرصه': 271,\n",
              " 'سرمایه\\u200cگذاری': 272,\n",
              " 'تخصیص': 273,\n",
              " 'فراتر': 274,\n",
              " 'مقالات': 275,\n",
              " 'محاسبه': 276,\n",
              " 'پایداری': 277,\n",
              " 'یارانه': 278,\n",
              " 'نگاهی': 279,\n",
              " 'فرماندهی': 280,\n",
              " 'جیمز': 281,\n",
              " 'دستگاه': 282,\n",
              " 'نهضت': 283,\n",
              " 'گذاشته\\u200cاند': 284,\n",
              " 'افراد': 285,\n",
              " 'زحمت': 286,\n",
              " 'صادرکنندگان': 287,\n",
              " 'رقم': 288,\n",
              " 'اردوغان': 289,\n",
              " 'رونمایی': 290,\n",
              " 'مهرماه': 291,\n",
              " 'می\\u200cداند': 292,\n",
              " 'بلیت': 293,\n",
              " 'نمی\\u200cتوان': 294,\n",
              " 'میلیارد': 295,\n",
              " 'قطع': 296,\n",
              " 'موقعیتی': 297,\n",
              " 'دامنه': 298,\n",
              " 'جمله': 299,\n",
              " 'مستقیم': 300,\n",
              " 'سپرده\\u200cهای': 301,\n",
              " 'گاه': 302,\n",
              " 'دلالان': 303,\n",
              " 'سه\\u200cشنبه': 304,\n",
              " 'بزنم': 305,\n",
              " 'صربستان': 306,\n",
              " 'محله': 307,\n",
              " 'رسیدگی': 308,\n",
              " 'زندگی': 309,\n",
              " 'ذکر': 310,\n",
              " 'مدیریتی': 311,\n",
              " 'ضریب': 312,\n",
              " 'پنجمین': 313,\n",
              " 'سرخ': 314,\n",
              " 'سعدی': 315,\n",
              " 'کارشان': 316,\n",
              " 'یابند': 317,\n",
              " 'مقاومتی': 318,\n",
              " 'تمدن': 319,\n",
              " 'مشهور': 320,\n",
              " 'محدودیت\\u200cها': 321,\n",
              " 'بازارها': 322,\n",
              " 'رفتن': 323,\n",
              " 'ملوان': 324,\n",
              " 'آرژانتینی': 325,\n",
              " 'صندوق\\u200cها': 326,\n",
              " 'نزولی': 327,\n",
              " 'اراده': 328,\n",
              " 'مثبتی': 329,\n",
              " 'توانست': 330,\n",
              " 'مسجدسلیمان': 331,\n",
              " 'هرکس': 332,\n",
              " 'هزینه\\u200cها': 333,\n",
              " 'جدی': 334,\n",
              " 'داور': 335,\n",
              " 'سفیر': 336,\n",
              " 'نحو': 337,\n",
              " 'ماهانه': 338,\n",
              " 'کارگاه': 339,\n",
              " 'همت': 340,\n",
              " 'یادآوری': 341,\n",
              " 'تبلیغاتی': 342,\n",
              " 'درآمده': 343,\n",
              " 'انبوه': 344,\n",
              " 'دموکراسی': 345,\n",
              " 'می\\u200cبیند': 346,\n",
              " 'غزه': 347,\n",
              " 'این\\u200cها': 348,\n",
              " 'می\\u200cآمد': 349,\n",
              " 'گفت\\u200cوگوی': 350,\n",
              " 'زودتر': 351,\n",
              " 'جمع': 352,\n",
              " 'بگویند': 353,\n",
              " 'ارمنستان': 354,\n",
              " 'سیاست\\u200cها': 355,\n",
              " 'موجود': 356,\n",
              " 'کار': 357,\n",
              " 'این\\u200cکه': 358,\n",
              " 'همراه': 359,\n",
              " 'تعطیلی': 360,\n",
              " 'زمینه': 361,\n",
              " 'دیگری': 362,\n",
              " 'آرمان': 363,\n",
              " 'نیستیم': 364,\n",
              " 'خوشحالم': 365,\n",
              " 'مکعب': 366,\n",
              " 'آسیای': 367,\n",
              " 'نشریات': 368,\n",
              " 'تلفن': 369,\n",
              " 'نتایج': 370,\n",
              " 'کاملا': 371,\n",
              " 'برنامه\\u200cها': 372,\n",
              " 'ماست': 373,\n",
              " 'معتقدیم': 374,\n",
              " 'شاید': 375,\n",
              " 'به\\u200cخصوص': 376,\n",
              " 'پارس': 377,\n",
              " 'شفاف': 378,\n",
              " 'روشنی': 379,\n",
              " 'امید': 380,\n",
              " 'ماموریت': 381,\n",
              " 'دلار': 382,\n",
              " 'بخش': 383,\n",
              " 'احتیاج': 384,\n",
              " 'ادغام': 385,\n",
              " 'ناظر': 386,\n",
              " 'توضیحات': 387,\n",
              " 'انسان\\u200cها': 388,\n",
              " 'برند': 389,\n",
              " 'مذاکراتی': 390,\n",
              " 'بتوانند': 391,\n",
              " 'پوگبا': 392,\n",
              " 'مالک': 393,\n",
              " 'عمق': 394,\n",
              " 'مواجه': 395,\n",
              " 'پژو': 396,\n",
              " 'استعدادهای': 397,\n",
              " 'نگه': 398,\n",
              " 'می\\u200cگردد': 399,\n",
              " 'اسطوره': 400,\n",
              " 'اعدام': 401,\n",
              " 'فتح': 402,\n",
              " 'می\\u200cشود': 403,\n",
              " 'نتیجه': 404,\n",
              " 'متولیان': 405,\n",
              " 'ثالث': 406,\n",
              " 'مشکلات': 407,\n",
              " 'معرفی': 408,\n",
              " 'ایتالیا': 409,\n",
              " 'مهر': 410,\n",
              " 'برنده': 411,\n",
              " 'کند': 412,\n",
              " 'گردشگر': 413,\n",
              " 'تاتنهام': 414,\n",
              " 'هستی': 415,\n",
              " 'می\\u200cشوم': 416,\n",
              " 'بشر': 417,\n",
              " 'استاد': 418,\n",
              " 'نگرانی': 419,\n",
              " 'منچستر': 420,\n",
              " 'لبنی': 421,\n",
              " 'حکایت': 422,\n",
              " 'دوجانبه': 423,\n",
              " 'استعفا': 424,\n",
              " 'پذیرفته': 425,\n",
              " 'آرژانتین': 426,\n",
              " 'دائمی': 427,\n",
              " 'یکی': 428,\n",
              " 'خواهیم': 429,\n",
              " 'کاندیداهای': 430,\n",
              " 'این\\u200c': 431,\n",
              " 'نوشتن': 432,\n",
              " 'عزیزان': 433,\n",
              " 'می\\u200cدانست': 434,\n",
              " 'وعده': 435,\n",
              " 'میزان': 436,\n",
              " 'گذاری': 437,\n",
              " 'مالزی': 438,\n",
              " 'روابط': 439,\n",
              " 'زلزله': 440,\n",
              " 'می\\u200cخواهند': 441,\n",
              " 'تاثیرات': 442,\n",
              " 'ششم': 443,\n",
              " 'خرداد': 444,\n",
              " 'نماد': 445,\n",
              " 'سازمانی': 446,\n",
              " 'شهاب': 447,\n",
              " 'میثم': 448,\n",
              " 'لطمه': 449,\n",
              " 'هوا': 450,\n",
              " 'درگیر': 451,\n",
              " 'تقریبا': 452,\n",
              " 'فرهنگ': 453,\n",
              " 'فروش': 454,\n",
              " 'همبستگی': 455,\n",
              " 'روزنامه': 456,\n",
              " 'بهترین\\u200cهای': 457,\n",
              " 'سایه': 458,\n",
              " 'استعفای': 459,\n",
              " 'محکوم': 460,\n",
              " 'اموال': 461,\n",
              " 'فراگیر': 462,\n",
              " 'یورویی': 463,\n",
              " 'قدیمی': 464,\n",
              " 'تهیه\\u200cکنندگی': 465,\n",
              " 'نکرد': 466,\n",
              " 'بدهید': 467,\n",
              " 'بسیج': 468,\n",
              " 'تحمیلی': 469,\n",
              " 'علامه': 470,\n",
              " 'ناشی': 471,\n",
              " 'مشابه': 472,\n",
              " 'شناور': 473,\n",
              " 'اخذ': 474,\n",
              " 'نوجوانان': 475,\n",
              " 'رمضان': 476,\n",
              " 'جانب': 477,\n",
              " 'هسته\\u200cای': 478,\n",
              " 'یکم': 479,\n",
              " 'فدراسیون': 480,\n",
              " 'ثبات': 481,\n",
              " 'نکردم': 482,\n",
              " 'اکثر': 483,\n",
              " 'دروازه\\u200cبان': 484,\n",
              " 'تحریم\\u200cها': 485,\n",
              " 'گره': 486,\n",
              " 'اقدامات': 487,\n",
              " 'شعبه': 488,\n",
              " 'یادم': 489,\n",
              " 'افغانستان': 490,\n",
              " 'کرده\\u200cاند': 491,\n",
              " 'ایشان': 492,\n",
              " 'نتیجه\\u200c': 493,\n",
              " 'صبر': 494,\n",
              " 'ناشران': 495,\n",
              " 'مقامات': 496,\n",
              " 'تبصره': 497,\n",
              " 'بحث': 498,\n",
              " 'شوک': 499,\n",
              " 'پوشان': 500,\n",
              " 'بهبود': 501,\n",
              " 'اخلاقی': 502,\n",
              " 'بانکها': 503,\n",
              " 'کاهشی': 504,\n",
              " 'هیات\\u200cمدیره': 505,\n",
              " 'می\\u200cخواستم': 506,\n",
              " 'ردیف': 507,\n",
              " 'مستمر': 508,\n",
              " 'موفقیت': 509,\n",
              " 'برخلاف': 510,\n",
              " 'برآورد': 511,\n",
              " 'فرض': 512,\n",
              " 'آیین\\u200cنامه': 513,\n",
              " 'می\\u200cبرد': 514,\n",
              " 'چراکه': 515,\n",
              " 'تولیدکننده': 516,\n",
              " 'فرقی': 517,\n",
              " 'خروجی': 518,\n",
              " 'ایرج': 519,\n",
              " 'تاسف': 520,\n",
              " 'کاندیدا': 521,\n",
              " 'استاندار': 522,\n",
              " 'جلسه': 523,\n",
              " 'به\\u200cهمین\\u200cدلیل': 524,\n",
              " 'زن': 525,\n",
              " 'کارهای': 526,\n",
              " 'متعهد': 527,\n",
              " 'می\\u200cشوند': 528,\n",
              " 'ساختار': 529,\n",
              " 'بررسی': 530,\n",
              " 'خسرو': 531,\n",
              " 'میلیونی': 532,\n",
              " 'ایران\\u200cخودرو': 533,\n",
              " 'جان': 534,\n",
              " 'باشگاه\\u200cها': 535,\n",
              " 'فرنگی': 536,\n",
              " 'آذر': 537,\n",
              " 'متمرکز': 538,\n",
              " 'مکتوب': 539,\n",
              " 'هشتم': 540,\n",
              " 'تعویض': 541,\n",
              " 'هیچ\\u200cکس': 542,\n",
              " 'باقیمانده': 543,\n",
              " 'قوه': 544,\n",
              " 'شکسته': 545,\n",
              " 'اسدی': 546,\n",
              " 'انتقالات': 547,\n",
              " 'مدیرکل': 548,\n",
              " 'بزرگسالان': 549,\n",
              " 'بردارد': 550,\n",
              " 'الملل': 551,\n",
              " 'واریز': 552,\n",
              " 'دهمین': 553,\n",
              " 'سیمان': 554,\n",
              " 'امن': 555,\n",
              " 'مبادلات': 556,\n",
              " 'یونان': 557,\n",
              " 'جی': 558,\n",
              " 'زیبایی': 559,\n",
              " 'نهایی': 560,\n",
              " 'انتظارات': 561,\n",
              " 'مازاد': 562,\n",
              " 'درخصوص': 563,\n",
              " 'دایی': 564,\n",
              " 'یافتند': 565,\n",
              " 'می\\u200cپردازد': 566,\n",
              " 'بی\\u200cسابقه': 567,\n",
              " 'ریاست': 568,\n",
              " 'خلق': 569,\n",
              " 'اربعین': 570,\n",
              " 'انتخاباتی': 571,\n",
              " 'می\\u200cرسد': 572,\n",
              " 'کلیه': 573,\n",
              " 'توانستند': 574,\n",
              " 'نداشتن': 575,\n",
              " 'حمیدرضا': 576,\n",
              " 'ماندن': 577,\n",
              " 'پیر': 578,\n",
              " 'خاک': 579,\n",
              " 'ووشو': 580,\n",
              " 'کرده': 581,\n",
              " 'نهمین': 582,\n",
              " 'فنی': 583,\n",
              " 'ایرانیان': 584,\n",
              " 'مصدومیت': 585,\n",
              " 'پر': 586,\n",
              " 'آدم\\u200cها': 587,\n",
              " 'نباشد': 588,\n",
              " 'قوی': 589,\n",
              " 'قادر': 590,\n",
              " 'ارمغان': 591,\n",
              " 'می\\u200cخواهم': 592,\n",
              " 'می\\u200cدانستند': 593,\n",
              " 'ارتباط': 594,\n",
              " 'شایعه': 595,\n",
              " 'پیش\\u200cرو': 596,\n",
              " 'حمید': 597,\n",
              " 'بیرانوند': 598,\n",
              " 'عرضه': 599,\n",
              " 'نوزدهم': 600,\n",
              " 'زاویه': 601,\n",
              " 'عاشق': 602,\n",
              " '\\u200cاست': 603,\n",
              " 'صعود': 604,\n",
              " 'انگلیس': 605,\n",
              " 'رفاه': 606,\n",
              " 'ابتدایی': 607,\n",
              " 'ارتقا': 608,\n",
              " 'همایون': 609,\n",
              " 'جناح': 610,\n",
              " 'نشان\\u200cدهنده': 611,\n",
              " 'پایدار': 612,\n",
              " 'آب\\u200cهای': 613,\n",
              " 'عملکردی': 614,\n",
              " 'پارک': 615,\n",
              " 'پنجره': 616,\n",
              " 'امینی': 617,\n",
              " 'پیمان': 618,\n",
              " 'پیگیری': 619,\n",
              " 'رنگ': 620,\n",
              " 'مسائل': 621,\n",
              " 'کمی': 622,\n",
              " 'واکنش': 623,\n",
              " 'ریاست\\u200cجمهوری': 624,\n",
              " 'تیرماه': 625,\n",
              " 'آسیب\\u200cهای': 626,\n",
              " 'ارومیه': 627,\n",
              " 'مربی': 628,\n",
              " 'بانک': 629,\n",
              " 'نوعی': 630,\n",
              " 'بهترین': 631,\n",
              " 'فشار': 632,\n",
              " 'گرفتیم': 633,\n",
              " 'دانشگاه\\u200cهای': 634,\n",
              " 'حاکی': 635,\n",
              " 'میانگین': 636,\n",
              " 'مهاجم': 637,\n",
              " 'اثری': 638,\n",
              " 'سرشناس': 639,\n",
              " 'صفحه': 640,\n",
              " 'قاره': 641,\n",
              " 'مشتری': 642,\n",
              " 'معنای': 643,\n",
              " 'معروف': 644,\n",
              " 'فوری': 645,\n",
              " 'مسوولیت': 646,\n",
              " 'مبارز': 647,\n",
              " 'صلاح': 648,\n",
              " 'رغم': 649,\n",
              " 'هایش': 650,\n",
              " 'پیست': 651,\n",
              " 'سواری': 652,\n",
              " 'غیررسمی': 653,\n",
              " 'صنایع': 654,\n",
              " 'صف': 655,\n",
              " 'دید': 656,\n",
              " 'پوشاک': 657,\n",
              " 'گرفتند': 658,\n",
              " 'اکبر': 659,\n",
              " 'می\\u200cرفت': 660,\n",
              " 'صوتی': 661,\n",
              " 'ساختمانی': 662,\n",
              " 'امیرحسین': 663,\n",
              " 'گوناگون': 664,\n",
              " 'آسیا': 665,\n",
              " 'وزیران': 666,\n",
              " 'بهینه': 667,\n",
              " 'بامداد': 668,\n",
              " 'صحبت\\u200cهای': 669,\n",
              " 'احمدی': 670,\n",
              " 'تسویه': 671,\n",
              " 'کتابخانه': 672,\n",
              " 'راحتی': 673,\n",
              " 'خبرگزاری': 674,\n",
              " 'اروپایی': 675,\n",
              " 'آندره': 676,\n",
              " 'واقع': 677,\n",
              " 'رقابت': 678,\n",
              " 'آبی': 679,\n",
              " 'گل\\u200cهای': 680,\n",
              " 'تومان': 681,\n",
              " 'اسبق': 682,\n",
              " 'پرهیز': 683,\n",
              " 'مرتکب': 684,\n",
              " 'رویدادهای': 685,\n",
              " 'پتروشیمی': 686,\n",
              " 'دادرسی': 687,\n",
              " 'یافت': 688,\n",
              " 'دیدارهای': 689,\n",
              " 'نوسازی': 690,\n",
              " 'گسترده\\u200cای': 691,\n",
              " 'فراهم': 692,\n",
              " 'فیلم\\u200cهای': 693,\n",
              " 'خیلی': 694,\n",
              " 'ورزشی': 695,\n",
              " 'بزرگان': 696,\n",
              " 'عبارتند': 697,\n",
              " 'قدرتمند': 698,\n",
              " 'مارکا': 699,\n",
              " 'تاسیسات': 700,\n",
              " 'جهان': 701,\n",
              " 'رویداد': 702,\n",
              " 'چک': 703,\n",
              " 'انضباطی': 704,\n",
              " 'مجموع': 705,\n",
              " 'می\\u200cگفت': 706,\n",
              " 'امروزه': 707,\n",
              " 'کاغذ': 708,\n",
              " 'ایفا': 709,\n",
              " 'اصولگرا': 710,\n",
              " 'لزوم': 711,\n",
              " 'رحمان': 712,\n",
              " 'دامن': 713,\n",
              " 'برداشته': 714,\n",
              " 'مناطق': 715,\n",
              " 'پلیس': 716,\n",
              " 'سوار': 717,\n",
              " 'سقف': 718,\n",
              " 'موفقیت\\u200cهای': 719,\n",
              " 'الکترونیک': 720,\n",
              " 'بخواهند': 721,\n",
              " 'نهایتا': 722,\n",
              " 'اولین\\u200cبار': 723,\n",
              " 'تایلند': 724,\n",
              " 'نوشت': 725,\n",
              " 'معامله': 726,\n",
              " 'مکانی': 727,\n",
              " 'نوسان': 728,\n",
              " 'قیمتی': 729,\n",
              " 'گفتم': 730,\n",
              " 'قم': 731,\n",
              " 'دوش': 732,\n",
              " 'بازیکنانی': 733,\n",
              " 'خوشحالی': 734,\n",
              " 'ادعای': 735,\n",
              " 'طبقه': 736,\n",
              " 'توضیحاتی': 737,\n",
              " 'موضوعی': 738,\n",
              " 'کشف': 739,\n",
              " 'بانک\\u200cهای': 740,\n",
              " 'مردی': 741,\n",
              " 'محور': 742,\n",
              " 'مذهبی': 743,\n",
              " 'موفقی': 744,\n",
              " 'نمی\\u200cکند': 745,\n",
              " 'روند': 746,\n",
              " 'پزشکان': 747,\n",
              " 'گمان': 748,\n",
              " 'سایپا': 749,\n",
              " 'وگرنه': 750,\n",
              " 'سیتی': 751,\n",
              " 'تماشاگر': 752,\n",
              " 'مدتی': 753,\n",
              " 'شایعات': 754,\n",
              " 'صرف': 755,\n",
              " 'شده\\u200cایم': 756,\n",
              " 'رستمی': 757,\n",
              " 'دیدگاه': 758,\n",
              " 'کتابی': 759,\n",
              " 'مایل': 760,\n",
              " 'کنی': 761,\n",
              " 'خاصی': 762,\n",
              " 'بحرانی': 763,\n",
              " 'فرستاده': 764,\n",
              " 'جهانی': 765,\n",
              " 'انبار': 766,\n",
              " 'جنگ': 767,\n",
              " 'ترکیب': 768,\n",
              " 'مبلغی': 769,\n",
              " 'ابزار': 770,\n",
              " 'بدن': 771,\n",
              " 'راهبردی': 772,\n",
              " 'مدنظر': 773,\n",
              " 'ژانویه': 774,\n",
              " 'ماموران': 775,\n",
              " 'تمایل': 776,\n",
              " 'نیازمند': 777,\n",
              " 'بازرگانی': 778,\n",
              " 'بیاورند': 779,\n",
              " 'کانون': 780,\n",
              " 'انگلیسی': 781,\n",
              " 'نکند': 782,\n",
              " 'دیگو': 783,\n",
              " 'دوری': 784,\n",
              " 'علی\\u200cرغم': 785,\n",
              " 'می\\u200cگیریم': 786,\n",
              " 'مطلع': 787,\n",
              " 'هجوم': 788,\n",
              " 'سپری': 789,\n",
              " 'آنکه': 790,\n",
              " 'حکومتی': 791,\n",
              " 'گلر': 792,\n",
              " 'هنرهای': 793,\n",
              " 'صنف': 794,\n",
              " 'اصلی': 795,\n",
              " 'این': 796,\n",
              " 'ماهیت': 797,\n",
              " 'سازندگان': 798,\n",
              " 'فروند': 799,\n",
              " 'مخاطب': 800,\n",
              " 'خالص': 801,\n",
              " 'ملاحظه': 802,\n",
              " 'جغرافیایی': 803,\n",
              " 'اشخاص': 804,\n",
              " 'قانون': 805,\n",
              " 'حملات': 806,\n",
              " 'موظف': 807,\n",
              " 'آکادمی': 808,\n",
              " 'گفتنی': 809,\n",
              " 'پرویز': 810,\n",
              " 'اورتون': 811,\n",
              " '\\u200cملی': 812,\n",
              " 'اجرای': 813,\n",
              " 'تراکتورسازی': 814,\n",
              " 'قیمت\\u200cگذاری': 815,\n",
              " 'روندی': 816,\n",
              " 'بازنشستگی': 817,\n",
              " 'انجمن': 818,\n",
              " 'نساجی': 819,\n",
              " 'مذاکرات': 820,\n",
              " 'مقاله': 821,\n",
              " 'کارگروه': 822,\n",
              " 'نمی\\u200cخواهد': 823,\n",
              " 'فرآورده\\u200cهای': 824,\n",
              " 'کارشناسی': 825,\n",
              " 'کلمه': 826,\n",
              " 'باستان': 827,\n",
              " 'بیل': 828,\n",
              " 'سال\\u200cجاری': 829,\n",
              " 'رئیس\\u200cجمهور': 830,\n",
              " 'سرخ\\u200cها': 831,\n",
              " 'حافظ': 832,\n",
              " 'می\\u200cکنم': 833,\n",
              " 'اقلیم': 834,\n",
              " 'شایان': 835,\n",
              " 'می\\u200cافتد': 836,\n",
              " 'برادران': 837,\n",
              " 'نویسندگان': 838,\n",
              " 'دارویی': 839,\n",
              " 'مطالعات': 840,\n",
              " 'واقعی': 841,\n",
              " 'محبوب': 842,\n",
              " 'احتمال': 843,\n",
              " 'نداده': 844,\n",
              " 'مفاهیم': 845,\n",
              " 'معین': 846,\n",
              " 'ارائه': 847,\n",
              " 'فن': 848,\n",
              " 'گاهی': 849,\n",
              " 'انیمیشن': 850,\n",
              " 'ببینید': 851,\n",
              " 'معلم': 852,\n",
              " 'مشغول': 853,\n",
              " 'کلمبیا': 854,\n",
              " 'اصلاح\\u200cطلبان': 855,\n",
              " 'دولتی': 856,\n",
              " 'به\\u200cراحتی': 857,\n",
              " 'والنسیا': 858,\n",
              " 'نظارت': 859,\n",
              " 'درگذشت': 860,\n",
              " 'اینترنت': 861,\n",
              " 'معاونت': 862,\n",
              " 'عجیبی': 863,\n",
              " 'وقایع': 864,\n",
              " 'قهرمان': 865,\n",
              " 'کف': 866,\n",
              " 'سالی': 867,\n",
              " 'مستندات': 868,\n",
              " 'معمول': 869,\n",
              " 'ورزشکاران': 870,\n",
              " 'سید': 871,\n",
              " 'تعادل': 872,\n",
              " 'بازگشایی': 873,\n",
              " 'خدمت': 874,\n",
              " 'آلومینیوم': 875,\n",
              " 'مسیرهای': 876,\n",
              " 'می\\u200cگوییم': 877,\n",
              " 'دیدگی': 878,\n",
              " 'انتخاب': 879,\n",
              " 'انگیزه': 880,\n",
              " 'دانش\\u200cبنیان': 881,\n",
              " 'لحظه': 882,\n",
              " 'می\\u200cنویسد': 883,\n",
              " 'کنفدراسیون': 884,\n",
              " 'شواهد': 885,\n",
              " 'همچنین': 886,\n",
              " 'میهمان': 887,\n",
              " 'اقتصاد': 888,\n",
              " 'صرفا': 889,\n",
              " 'بندرعباس': 890,\n",
              " 'روستاها': 891,\n",
              " 'سکوی': 892,\n",
              " 'دانشجویان': 893,\n",
              " 'هزارو': 894,\n",
              " 'ماجرا': 895,\n",
              " 'جزیره': 896,\n",
              " 'معماری': 897,\n",
              " 'پیگیری\\u200cهای': 898,\n",
              " 'بنگاه': 899,\n",
              " 'مقدمه': 900,\n",
              " 'صمت': 901,\n",
              " 'راه\\u200cاندازی': 902,\n",
              " 'آرش': 903,\n",
              " 'پتانسیل': 904,\n",
              " 'ناپولی': 905,\n",
              " 'هزینه': 906,\n",
              " 'جزء': 907,\n",
              " 'اعتدال': 908,\n",
              " 'واقعا': 909,\n",
              " 'بویژه': 910,\n",
              " 'استان': 911,\n",
              " 'کرواسی': 912,\n",
              " 'موج': 913,\n",
              " 'نمی\\u200cکنیم': 914,\n",
              " 'بابک': 915,\n",
              " 'مشکوک': 916,\n",
              " 'بازی\\u200cهای': 917,\n",
              " 'واگذار': 918,\n",
              " 'تفاوتی': 919,\n",
              " 'پرتغال': 920,\n",
              " 'قدرت\\u200cهای': 921,\n",
              " 'نایب\\u200cرئیس': 922,\n",
              " 'هدفمند': 923,\n",
              " 'بروم': 924,\n",
              " 'خارجی': 925,\n",
              " 'فاقد': 926,\n",
              " 'یورو': 927,\n",
              " 'مسلح': 928,\n",
              " 'نقاشی': 929,\n",
              " 'مهمی': 930,\n",
              " 'سوئد': 931,\n",
              " 'شکل': 932,\n",
              " 'زود': 933,\n",
              " 'روزهای': 934,\n",
              " 'گذاشتن': 935,\n",
              " 'وصول': 936,\n",
              " 'پایین': 937,\n",
              " 'پارلمان': 938,\n",
              " 'اصلاح\\u200cطلب': 939,\n",
              " 'نشستی': 940,\n",
              " 'ساله': 941,\n",
              " 'اوج': 942,\n",
              " 'مناسب': 943,\n",
              " 'نبودیم': 944,\n",
              " 'چقدر': 945,\n",
              " 'ملزم': 946,\n",
              " 'آموزش\\u200cهای': 947,\n",
              " 'خانه\\u200cهای': 948,\n",
              " 'درعین\\u200cحال': 949,\n",
              " 'آن\\u200cقدر': 950,\n",
              " 'نیامده': 951,\n",
              " 'اسلام': 952,\n",
              " 'ثانیه': 953,\n",
              " 'انداز': 954,\n",
              " 'پرداخته': 955,\n",
              " 'بودید': 956,\n",
              " 'مخابرات': 957,\n",
              " 'پیش\\u200cتر': 958,\n",
              " 'ارزشمند': 959,\n",
              " 'تونس': 960,\n",
              " 'سولسشر': 961,\n",
              " 'توجهی': 962,\n",
              " 'خبرهای': 963,\n",
              " 'سعودی': 964,\n",
              " 'احتمالی': 965,\n",
              " 'دیروز': 966,\n",
              " 'اظهارات': 967,\n",
              " 'استمرار': 968,\n",
              " 'فراز': 969,\n",
              " 'زمینه\\u200cهای': 970,\n",
              " 'حسینی': 971,\n",
              " 'حمل\\u200cونقل': 972,\n",
              " 'عظیمی': 973,\n",
              " 'صندوق': 974,\n",
              " 'پیشبرد': 975,\n",
              " 'اوت': 976,\n",
              " 'موضع': 977,\n",
              " 'بومی': 978,\n",
              " 'نامه\\u200cای': 979,\n",
              " 'آقایی': 980,\n",
              " 'دینی': 981,\n",
              " 'فوق\\u200cالعاده': 982,\n",
              " 'نمی\\u200cداند': 983,\n",
              " 'سینمایی': 984,\n",
              " 'پیوسته': 985,\n",
              " 'پالایشگاه': 986,\n",
              " 'مجله': 987,\n",
              " 'فردوسی': 988,\n",
              " 'حاتمی': 989,\n",
              " 'دوستانه': 990,\n",
              " 'درگیری': 991,\n",
              " 'حدادی': 992,\n",
              " 'سرخپوشان': 993,\n",
              " 'ایستادگی': 994,\n",
              " 'حرم': 995,\n",
              " 'نامزد': 996,\n",
              " 'والیبال': 997,\n",
              " 'اعتبارات': 998,\n",
              " 'فرودگاه': 999,\n",
              " ...}"
            ]
          },
          "execution_count": 32,
          "metadata": {},
          "output_type": "execute_result"
        }
      ],
      "source": [
        "token_dict"
      ]
    },
    {
      "cell_type": "code",
      "execution_count": 33,
      "metadata": {
        "colab": {
          "base_uri": "https://localhost:8080/"
        },
        "id": "yn0lj7qo-W7y",
        "outputId": "e342c6f9-9d8e-44ec-9ee8-f0e39844ec3f"
      },
      "outputs": [
        {
          "name": "stderr",
          "output_type": "stream",
          "text": [
            "100% (36150 of 36150) |##################| Elapsed Time: 0:00:10 Time:  0:00:10\n"
          ]
        }
      ],
      "source": [
        "\n",
        "doc_representations = []\n",
        "from time import sleep\n",
        "from progressbar import progressbar\n",
        "\n",
        "for doc_num in progressbar(range(len(df_train))):\n",
        "  current_doc = [0 for i in range(len(unique_tkns))]\n",
        "  for token in all_tokens_removed_stop_words[doc_num]:\n",
        "    # occurancies = all_tokens_removed_stop_words[doc_num].count(token)\n",
        "    # current_doc.append(occurancies)\n",
        "    token_idx = token_dict[token]\n",
        "    current_doc[token_idx] += 1\n",
        "    \n",
        "  doc_representations.append(current_doc)\n",
        "    \n",
        "    # Maybe we can increase the speed by looping over all tokens and add "
      ]
    },
    {
      "cell_type": "code",
      "execution_count": 34,
      "metadata": {
        "colab": {
          "base_uri": "https://localhost:8080/"
        },
        "id": "jfJpOTrcN01G",
        "outputId": "92386e85-5aa3-4600-9898-5eb6f51ea457"
      },
      "outputs": [
        {
          "name": "stdout",
          "output_type": "stream",
          "text": [
            "[0, 0, 0, 0, 0, 0, 0, 0, 0, 0, 0, 0, 0, 0, 0, 0, 0, 0, 0, 0, 0, 0, 0, 0, 0, 0, 0, 0, 1, 0, 0, 0, 0, 0, 0, 0, 0, 0, 0, 0, 0, 0, 0, 0, 0, 0, 0, 0, 0, 0, 0, 0, 0, 0, 0, 0, 0, 0, 0, 0, 0, 0, 0, 0, 0, 1, 0, 0, 0, 0, 0, 0, 0, 0, 1, 0, 0, 0, 0, 0, 0, 0, 0, 6, 0, 0, 0, 0, 0, 0, 0, 0, 0, 0, 0, 0, 0, 0, 0, 0, 0, 0, 0, 0, 0, 0, 0, 0, 0, 0, 0, 0, 0, 0, 0, 0, 0, 0, 0, 0, 0, 0, 0, 0, 0, 1, 0, 0, 0, 0, 0, 0, 0, 0, 0, 0, 0, 0, 0, 0, 0, 0, 0, 0, 0, 0, 0, 0, 0, 0, 0, 0, 0, 0, 0, 0, 0, 0, 0, 0, 0, 0, 0, 0, 0, 0, 0, 0, 0, 0, 0, 0, 0, 0, 0, 0, 0, 0, 0, 2, 0, 0, 0, 0, 0, 0, 0, 0, 0, 0, 0, 0, 0, 0, 0, 0, 0, 0, 0, 0, 0, 0, 0, 0, 0, 0, 0, 0, 0, 0, 0, 0, 0, 0, 0, 0, 0, 0, 0, 0, 0, 0, 0, 0, 0, 0, 0, 0, 0, 0, 0, 0, 0, 0, 0, 0, 0, 1, 0, 0, 0, 0, 0, 0, 0, 0, 0, 0, 0, 0, 0, 0, 0, 0, 0, 0, 0, 0, 0, 0, 0, 0, 0, 0, 0, 0, 0, 0, 2, 0, 0, 1, 0, 0, 0, 0, 0, 0, 0, 0, 0, 0, 0, 0, 0, 0, 0, 0, 0, 0, 0, 0, 0, 0, 0, 0, 0, 0, 0, 0, 0, 0, 0, 0, 0, 0, 0, 0, 0, 0, 0, 0, 0, 0, 0, 0, 0, 0, 0, 0, 0, 0, 0, 0, 0, 0, 0, 0, 0, 0, 0, 0, 0, 0, 0, 0, 0, 0, 0, 0, 0, 0, 0, 0, 0, 0, 0, 0, 0, 0, 0, 0, 0, 0, 0, 0, 0, 1, 0, 0, 0, 0, 0, 0, 0, 0, 0, 0, 0, 0, 0, 0, 0, 0, 0, 0, 0, 0, 0, 0, 0, 0, 0, 0, 0, 0, 0, 0, 0, 0, 0, 0, 0, 0, 0, 0, 0, 0, 0, 0, 0, 0, 0, 0, 0, 0, 0, 0, 0, 0, 0, 0, 3, 0, 0, 0, 0, 0, 0, 0, 0, 0, 0, 0, 0, 0, 0, 0, 0, 0, 0, 0, 0, 0, 0, 2, 0, 0, 0, 0, 0, 0, 0, 0, 0, 0, 0, 0, 0, 0, 0, 0, 0, 0, 0, 0, 0, 0, 0, 0, 0, 0, 0, 0, 0, 0, 0, 0, 0, 0, 0, 0, 0, 0, 0, 0, 0, 0, 0, 0, 0, 0, 0, 0, 0, 0, 0, 0, 0, 0, 0, 0, 0, 0, 0, 0, 0, 0, 0, 0, 0, 0, 0, 0, 0, 0, 0, 0, 0, 0, 0, 0, 0, 0, 0, 0, 0, 0, 0, 0, 0, 0, 0, 0, 0, 0, 0, 0, 0, 0, 0, 0, 4, 0, 0, 0, 0, 0, 0, 0, 0, 0, 0, 0, 0, 0, 0, 0, 1, 0, 0, 0, 0, 0, 0, 0, 0, 0, 0, 0, 0, 0, 0, 0, 0, 0, 0, 0, 0, 0, 0, 0, 1, 0, 0, 0, 0, 0, 0, 0, 0, 2, 0, 0, 0, 0, 0, 0, 1, 0, 0, 0, 0, 0, 0, 0, 0, 0, 0, 0, 0, 0, 0, 0, 0, 0, 0, 0, 0, 0, 0, 0, 0, 0, 0, 0, 0, 0, 0, 0, 0, 0, 0, 0, 0, 0, 0, 0, 0, 8, 0, 0, 0, 0, 0, 0, 0, 0, 0, 0, 0, 0, 0, 0, 0, 0, 0, 0, 0, 0, 0, 0, 0, 0, 0, 0, 1, 0, 0, 0, 0, 0, 0, 0, 0, 0, 0, 0, 0, 0, 0, 0, 0, 0, 1, 0, 0, 0, 0, 0, 0, 0, 0, 0, 0, 0, 0, 0, 0, 0, 0, 0, 2, 0, 0, 0, 0, 0, 0, 0, 0, 0, 0, 0, 0, 0, 0, 0, 0, 0, 0, 0, 0, 0, 0, 0, 0, 0, 0, 0, 0, 0, 0, 0, 0, 0, 0, 0, 0, 0, 0, 0, 0, 0, 0, 0, 0, 0, 1, 0, 1, 0, 1, 0, 0, 0, 0, 0, 0, 0, 0, 0, 0, 0, 0, 0, 0, 0, 0, 0, 0, 0, 0, 0, 0, 0, 0, 0, 0, 0, 0, 0, 0, 0, 0, 0, 0, 0, 0, 0, 0, 0, 0, 0, 0, 0, 0, 0, 0, 0, 0, 0, 0, 0, 0, 0, 11, 0, 0, 0, 0, 0, 0, 0, 0, 0, 0, 0, 0, 0, 0, 0, 0, 2, 0, 0, 0, 0, 0, 0, 0, 0, 0, 0, 0, 0, 0, 0, 0, 0, 0, 0, 0, 0, 0, 0, 0, 0, 0, 0, 0, 0, 0, 0, 0, 0, 0, 0, 0, 0, 0, 0, 0, 0, 0, 0, 0, 0, 0, 0, 0, 0, 0, 0, 0, 0, 0, 0, 0, 0, 0, 0, 0, 0, 0, 0, 0, 0, 0, 0, 0, 0, 0, 0, 0, 0, 0, 0, 0, 0, 0, 0, 0, 1, 0, 0, 0, 0, 0, 0, 0, 0, 0, 0, 0, 0, 0, 0, 0, 0, 0, 0, 0, 0, 0, 0, 0, 0, 0, 0, 0, 0, 0, 0, 0, 0, 0, 0, 0, 0, 0, 0, 1, 0, 0, 0, 0, 0, 0, 0, 0, 0, 0, 0, 0, 0, 0, 0, 0, 0, 0, 0, 0, 0, 1, 0, 0, 0, 0, 0, 0, 0, 0, 0, 0, 0, 0, 0, 0, 0, 0, 0, 0, 0, 1, 0, 0, 0, 0, 0, 0, 0, 0, 0, 0, 0, 0, 0, 0, 0, 0, 0, 0, 0, 0, 0, 0, 0, 2, 0, 0, 0, 0, 0, 0, 0, 0, 0, 0, 0, 0, 0, 0, 0, 0, 0, 0, 0, 0, 0, 0, 0, 0, 0, 0, 0, 2, 0, 0, 0, 0, 0, 0, 0, 0, 0, 0, 0, 0, 0, 0, 0, 0, 0, 0, 0, 0, 0, 0, 0, 0, 0, 0, 7, 0, 0, 0, 0, 0, 0, 0, 0, 0, 0, 0, 0, 0, 0, 0, 0, 0, 0, 0, 0, 0, 0, 0, 0, 0, 0, 0, 0, 0, 0, 0, 0, 0, 0, 0, 0, 0, 2, 0, 0, 0, 0, 0, 0, 0, 0, 0, 0, 0, 0, 0, 0, 0, 0, 0, 0, 0, 0, 0, 0, 0, 0, 0, 0, 0, 0, 0, 0, 0, 0, 0, 0, 0, 0, 0, 0, 0, 0, 0, 0, 0, 0, 0, 0, 0, 0, 0, 0, 0, 0, 0, 0, 0, 0, 0, 0, 0, 0, 0, 0, 0, 0, 0, 0, 0, 0, 0, 0, 0, 0, 0, 0, 2, 0, 0, 0, 0, 0, 0, 0, 0, 0, 0, 0, 0, 0, 0, 0, 0, 0, 0, 0, 0, 0, 0, 0, 0, 0, 0, 0, 0, 0, 0, 0, 0, 0, 0, 0, 0, 0, 0, 0, 0, 0, 0, 0, 0, 0, 0, 0, 0, 0, 0, 0, 0, 0, 0, 0, 0, 0, 0, 0, 0, 0, 0, 0, 0, 0, 0, 0, 0, 0, 0, 0, 0, 0, 0, 0, 0, 1, 0, 0, 0, 0, 0, 0, 0, 0, 0, 0, 0, 0, 0, 0, 0, 0, 0, 0, 0, 0, 0, 0, 0, 0, 0, 0, 0, 0, 0, 0, 0, 0, 0, 0, 0, 0, 0, 0, 0, 0, 0, 0, 0, 0, 0, 0, 0, 0, 0, 0, 0, 0, 0, 0, 0, 0, 0, 0, 0, 0, 0, 0, 0, 0, 0, 0, 0, 0, 0, 0, 0, 0, 0, 0, 0, 0, 0, 0, 0, 0, 0, 0, 0, 0, 0, 0, 0, 0, 0, 0, 0, 0, 0, 0, 0, 0, 0, 0, 0, 0, 0, 0, 0, 0, 0, 0, 0, 0, 0, 0, 0, 0, 0, 0, 0, 0, 0, 0, 0, 0, 0, 0, 0, 0, 0, 0, 0, 0, 0, 0, 0, 0, 0, 0, 0, 0, 0, 0, 0, 0, 0, 0, 0, 0, 0, 0, 0, 0, 0, 0, 0, 0, 0, 0, 0, 0, 0, 0, 0, 0, 0, 0, 0, 0, 0, 0, 0, 0, 0, 0, 0, 0, 0, 0, 0, 0, 0, 0, 0, 0, 0, 0, 0, 0, 0, 0, 0, 0, 0, 0, 0, 0, 0, 0, 0, 0, 0, 0, 0, 0, 0, 0, 0, 0, 0, 0, 0, 0, 0, 0, 0, 0, 0, 0, 0, 0, 0, 0, 0, 0, 0, 0, 0, 0, 0, 0, 0, 0, 0, 0, 0, 0, 0, 0, 0, 0, 0, 0, 0, 0, 0, 0, 0, 0, 0, 0, 0, 0, 0, 0, 0, 0, 0, 0, 0, 0, 0, 0, 0, 0, 0, 0, 0, 0, 0, 0, 0, 0, 0, 1, 0, 0, 0, 0, 0, 0, 0, 0, 0, 0, 0, 1, 0, 0, 0, 0, 0, 0, 0, 0, 0, 0, 0, 0, 0, 0, 0, 0, 0, 0, 0, 0, 0, 0, 0, 0, 0, 0, 0, 0, 0, 0, 0, 0, 1, 0, 0, 0, 0, 0, 0, 0, 0, 0, 0, 0, 0, 0, 0, 0, 0, 0, 0, 0, 0, 0, 0, 0, 0, 0, 0, 2, 0, 0, 0, 0, 0, 0, 0, 0, 0, 0, 0, 0, 0, 0, 0, 0, 0, 0, 0, 0, 0, 0, 0, 0, 0, 0, 1, 0, 0, 0, 0, 0, 0, 0, 0, 0, 0, 0, 0, 0, 0, 0, 0, 0, 0, 0, 0, 0, 0, 0, 0, 0, 0, 0, 0, 0, 0, 0, 0, 0, 0, 0, 0, 0, 0, 0, 0, 0, 0, 0, 0, 0, 0, 0, 1, 0, 0, 0, 0, 0, 0, 0, 0, 0, 0, 0, 0, 0, 0, 0, 0, 0, 0, 0, 0, 0, 0, 0, 0, 0, 0, 0, 0, 0, 0, 0, 0, 0, 0, 0, 0, 0, 0, 0, 0, 0, 0, 0, 0, 0, 0, 0, 0, 0, 0, 0, 0, 0, 0, 0, 0, 0, 0, 0, 0, 0, 0, 0, 0, 0, 0, 0, 0, 0, 0, 0, 0, 0, 0, 0, 0, 0, 0, 0, 0, 0, 0, 0, 0, 0, 0, 0, 0, 0, 0, 0, 0, 0, 0, 0, 0, 0, 0, 0, 0, 0, 0, 0, 0, 0, 0, 0, 0, 0, 0, 0, 0, 0, 0, 0, 0, 0, 0, 0, 0, 0, 0, 0, 0, 0, 0, 0, 0, 0, 0, 0, 0, 0, 0, 0, 0, 0, 0, 0, 1, 0, 0, 0, 0, 0, 0, 0, 0, 0, 0, 0, 0, 0, 0, 0, 0, 0, 0, 0, 0, 0, 0, 0, 0, 0, 0, 0, 0, 0, 0, 0, 0, 0, 0, 0, 0, 0, 0, 0, 0, 0, 0, 0, 0, 0, 0, 0, 0, 0, 0, 0, 0, 0, 0, 0, 0, 0, 0, 0, 0, 0, 0, 0, 0, 0, 0, 0, 0, 0, 0, 0, 0, 0, 0, 0, 0, 0, 0, 0, 0, 0, 0, 0, 0, 0, 0, 0, 0, 0, 0, 0, 0, 0, 0, 0, 0, 0, 0, 0, 0, 0, 0, 0, 0, 0, 0, 0, 0, 0, 0, 0, 0, 0, 0, 0, 0, 0, 0, 0, 0, 1, 0, 0, 0, 0, 0, 0, 0, 0, 0, 0, 0, 0, 0, 0, 0, 0, 0, 0, 0, 0, 0, 0, 0, 0, 0, 0, 1, 0, 0, 0, 0, 0, 0, 0, 0, 0, 0, 0, 0, 0, 0, 0, 1, 0, 0, 0, 0, 0, 0, 0, 0, 0, 0, 0, 0, 0, 0, 1, 0, 0, 0, 0, 0, 0, 0, 0, 0, 0, 0, 0, 0, 0, 0, 0, 0, 0, 0, 0, 0, 0, 0, 0, 0, 0, 0, 0, 0, 0, 0, 0, 0, 0, 0, 0, 0, 0, 2, 0, 0, 0, 0, 0, 0, 0, 0, 0, 0, 1, 0, 0, 0, 0, 0, 0, 0, 0, 0, 0, 0, 0, 0, 0, 0, 0, 0, 0, 0, 0, 0, 0, 0, 0, 0, 0, 0, 0, 0, 0, 0, 0, 0, 0, 0, 0, 0, 0, 0, 0, 0, 0, 0, 0, 0, 3, 0, 0, 0, 0, 0, 0, 0, 0, 0, 0, 0, 0, 0, 0, 0, 0, 0, 0, 0, 0, 0, 0, 0, 0, 0, 0, 0, 0, 0, 0, 0, 0, 0, 0, 0, 0, 0, 0, 0, 0, 0, 0, 0, 0, 0, 0, 0, 0, 0, 0, 0, 0, 0, 0, 0, 0, 0, 0, 0, 0, 0, 0, 0, 0, 0, 0, 1, 0, 0, 0, 0, 0, 0, 0, 0, 0, 0, 0, 0, 0, 0, 0, 0, 0, 0, 0, 0, 0, 0, 0, 0, 0, 0, 0, 0, 0, 0, 0, 0, 0, 0, 0, 0, 0, 0, 0, 0, 0, 0, 0, 0, 0, 0, 0, 0, 0, 0, 0, 0, 0, 0, 0, 0, 0, 0, 0, 0, 0, 0, 0, 0, 0, 7, 0, 0, 0, 0, 0, 0, 0, 0, 0, 0, 0, 1, 0, 0, 0, 0, 0, 0, 0, 1, 0, 0, 0, 0, 0, 0, 0, 0, 0, 0, 0, 0, 0, 0, 0, 0, 0, 1, 0, 0, 0, 0, 0, 0, 0, 0, 0, 0, 0, 1, 0, 0, 0, 0, 1, 0, 0, 0, 0, 0, 0, 0, 0, 0, 0, 0, 0, 0, 0, 0, 0, 0, 0, 0, 0, 0, 0, 0, 0, 0, 0, 0, 0, 0, 0, 0, 0, 0, 1, 2, 0, 0, 0, 0, 0, 0, 0, 0, 0, 0, 0, 0, 0, 0, 0, 0, 0, 0, 0, 0, 0, 0, 0, 0, 0, 0, 0, 0, 0, 0, 0, 0, 0, 0, 0, 0, 0, 0, 0, 0, 0, 0, 0, 0, 0, 0, 0, 0, 0, 0, 0, 0, 0, 0, 0, 0, 0, 3, 0, 0, 0, 1, 0, 0, 0, 0, 0, 0, 0, 0, 0, 0, 0, 0, 0, 0, 0, 0, 0, 0, 0, 0, 0, 0, 0, 0, 0, 0, 0, 0, 0, 0, 0, 0, 0, 0, 0, 0, 0, 0, 0, 0, 0, 0, 0, 0, 0, 0, 0, 0, 0, 0, 0, 0, 0, 0, 0, 0, 0, 0, 0, 0, 0, 0, 0, 0, 0, 1, 0, 0, 0, 0, 1, 0, 0, 0, 0, 0, 0, 0, 0, 0, 0, 0, 0, 0, 0, 0, 0, 0, 0, 0, 4, 0, 0, 0, 0, 0, 0, 0, 0, 0, 0, 0, 0, 0, 0, 0, 0, 0, 0, 0, 0, 0, 0, 0, 0, 0, 0, 0, 0, 0, 0, 0, 0, 0, 0, 0, 0, 0, 0, 0, 0, 0, 0, 0, 0, 0, 0, 0, 0, 0, 0, 0, 0, 0, 0, 0, 0, 0, 0, 0, 0, 0, 0, 0, 0, 0, 0, 0, 0, 0, 0, 0, 0, 0, 0, 0, 0, 0, 0, 0, 0, 0, 0, 0, 0, 0, 0, 0, 0, 0, 0, 0, 0, 0, 0, 0, 0, 0, 0, 0, 0, 0, 0, 0, 0, 0, 0, 0, 0, 0, 0, 0, 0, 0, 0, 0, 0, 0, 0, 0, 0, 0, 0, 0, 0, 0, 0, 0, 0, 0, 0, 0, 0, 0, 0, 0, 0, 0, 0, 2, 0, 0, 0, 0, 0, 0, 0, 0, 0, 0, 0, 0, 0, 0, 0, 0, 0, 0, 0, 0, 0, 0, 0, 0, 0, 0, 0, 0, 0, 0, 0, 0, 0, 0, 0, 0, 0, 0, 0, 0, 1, 0, 0, 0, 0, 0, 0, 0, 0, 0, 0, 0, 0, 0, 0, 0, 0, 0, 0, 0, 0, 0, 0, 0, 0, 0, 0, 0, 0, 0, 0, 0, 0, 0, 0, 0, 0, 0, 0, 0, 0, 0, 0, 0, 0, 0, 0, 0, 0, 0, 0, 0, 0, 0, 0, 0, 0, 0, 0, 0, 0, 0, 0, 0, 0, 3, 0, 0, 0, 0, 0, 0, 0, 0, 0, 0, 0, 0, 0, 0, 0, 0, 4, 0, 0, 0, 0, 0, 0, 0, 0, 0, 0, 0, 0, 0, 0, 0, 0, 0, 0, 0, 0, 0, 0, 0, 0, 0, 0, 0, 0, 0, 0, 0, 0, 0, 0, 0, 0, 0, 0, 0, 0, 0, 0, 0, 0, 0, 0, 0, 0, 0, 0, 0, 0, 0, 0, 0, 0, 0, 0, 0, 0, 0, 0, 0, 0, 0, 0, 0, 0, 0, 0, 0, 0, 0, 0, 0, 0, 0, 0, 0, 0, 0, 0, 0, 0, 0, 0, 0, 0, 0, 0, 0, 0, 0, 0, 0, 0, 0, 0, 0, 0, 0, 0, 0, 0, 0, 0, 0, 0, 0, 0, 0, 0, 0, 0, 0, 0, 0, 0, 0, 0, 0, 0, 0, 0, 0, 0, 0, 0, 0, 0, 0, 0, 0, 0, 0, 0, 0, 0, 0, 0, 0, 0, 0, 0, 0, 0, 0, 0, 0, 0, 0, 0, 0, 0, 0, 0, 0, 0, 0, 0, 0, 0, 0, 0, 0, 0, 0, 0, 0, 0, 0, 0, 0, 0, 0, 0, 0, 0, 0, 0, 0, 0, 0, 0, 0, 0, 0, 0, 0, 1, 0, 0, 0, 0, 0, 0, 0, 0, 0, 0, 0, 0, 0, 0, 0, 0, 0, 0, 0, 0, 0, 0, 0, 0, 0, 0, 0, 0, 0, 0, 0, 0, 0, 0, 0, 0, 0, 0, 0, 0, 0, 0, 1, 1, 0, 0, 0, 0, 0, 0, 0, 0, 0, 0, 0, 0, 0, 0, 0, 0, 0, 3, 0, 0, 0, 0, 0, 0, 0, 0, 0, 0, 0, 0, 0, 0, 0, 2, 0, 0, 0, 0, 0, 0, 0, 0, 0, 0, 0, 0, 0, 0, 0, 0, 0, 0, 0, 0, 0, 0, 0, 0, 0, 0, 0, 0, 0, 0, 0, 0, 0, 0, 0, 0, 0, 0, 0, 0, 0, 0, 0, 0, 0, 0, 0, 0, 0, 0, 0, 0, 0, 0, 0, 0, 0, 0, 0, 0, 0, 0, 0, 0, 0, 0, 0, 0, 0, 0, 0, 0, 0, 0, 0, 1, 0, 0, 0, 0, 0, 0, 0, 0, 0, 0, 0, 0, 0, 0, 0, 0, 0, 0, 0, 0, 0, 0, 0, 0, 0, 0, 0, 0, 0, 0, 0, 0, 0, 0, 0, 0, 0, 0, 0, 0, 3, 0, 0, 0, 0, 0, 0, 0, 0, 1, 0, 0, 0, 0, 0, 0, 0, 0, 0, 0, 0, 0, 0, 0, 0, 0, 0, 0, 0, 0, 0, 0, 0, 0, 0, 0, 2, 0, 0, 0, 0, 0, 0, 0, 0, 0, 0, 0, 0, 0, 0, 0, 0, 0, 0, 0, 0, 0, 0, 0, 0, 0, 0, 0, 0, 0, 0, 0, 0, 0, 0, 0, 0, 0, 0, 0, 0, 0, 0, 0, 0, 0, 0, 0, 0, 0, 0, 0, 0, 0, 0, 0, 0, 0, 0, 0, 0, 0, 0, 0, 0, 0, 0, 0, 0, 0, 0, 0, 0, 0, 0, 0, 0, 0, 0, 0, 0, 0, 0, 0, 0, 0, 0, 0, 0, 0, 0, 0, 0, 0, 0, 0, 1, 0, 0, 0, 0, 0, 0, 0, 0, 0, 0, 0, 0, 0, 0, 0, 0, 0, 0, 0, 0, 0, 0, 0, 0, 0, 0, 0, 0, 0, 0, 0, 0, 0, 0, 0, 0, 0, 0, 0, 0, 0, 0, 0, 0, 0, 0, 0, 0, 0, 0, 0, 0, 0, 0, 0, 0, 0, 0, 0, 0, 0, 0, 1, 0, 0, 0, 0, 0, 0, 0, 0, 0, 0, 0, 0, 0, 1, 0, 0, 0, 0, 0, 0, 0, 0, 0, 0, 0, 0, 0, 0, 0, 0, 0, 0, 0, 0, 0, 0, 0, 0, 0, 0, 0, 0, 0, 0, 0, 0, 0, 0, 0, 0, 0, 0, 0, 0, 0, 0, 0, 0, 0, 0, 0, 0, 0, 0, 0, 0, 0, 0, 0, 0, 0, 0, 0, 0, 0, 0, 0, 0, 0, 0, 0, 0, 0, 0, 0, 0, 0, 0, 0, 0, 0, 0, 2, 0, 0, 0, 0, 0, 0, 0, 0, 0, 0, 0, 0, 0, 0, 0, 0, 0, 0, 0, 0, 0, 0, 0, 0, 0, 0, 0, 0, 0, 0, 0, 0, 0, 0, 0, 0, 0, 0, 0, 0, 0, 0, 0, 0, 0, 0, 0, 0, 0, 1, 0, 0, 0, 0, 0, 0, 0, 0, 0, 0, 0, 0, 0, 0, 1, 0, 0, 0, 0, 0, 0, 0, 0, 0, 0, 0, 0, 0, 0, 0, 0, 0, 0, 0, 0, 0, 1, 0, 0, 0, 0, 0, 0, 0, 0, 0, 0, 0, 0, 0, 0, 0, 0, 0, 0, 0, 0, 0, 0, 0, 0, 0, 0, 0, 0, 0, 0, 0, 0, 0, 0, 0, 0, 0, 0, 0, 0, 0, 0, 0, 0, 0, 0, 0, 0, 0, 0, 0, 0, 0, 0, 0, 0, 0, 0, 0, 0, 0, 0, 0, 0, 0, 0, 1, 0, 0, 0, 0, 1, 0, 0, 0, 0, 0, 0, 0, 0, 0, 0, 0, 0, 0, 0, 0, 0, 0, 0, 0, 0, 0, 0, 0, 0, 0, 0, 0, 0, 0, 0, 0, 0, 0, 0, 0, 0, 0, 0, 0, 0, 0, 0, 2, 0, 0, 0, 0, 0, 0, 0, 0, 0, 0, 0, 0, 0, 0, 0, 0, 0, 0, 1, 0, 1, 0, 0, 0, 0, 0, 0, 0, 0, 0, 0, 0, 0, 0, 0, 0, 0, 0, 0, 0, 0, 0, 0, 0, 0, 0, 0, 0, 0, 0, 0, 0, 0, 0, 0, 0, 0, 0, 0, 0, 0, 0, 0, 0, 0, 0, 0, 0, 0, 0, 0, 0, 0, 0, 0, 0, 0, 0, 0, 0, 0, 0, 0, 0, 0, 0, 0, 0, 0, 0, 0, 0, 0, 0, 0, 0, 0, 0, 0, 0, 0, 0, 0, 0, 0, 0, 0, 0, 0, 0, 0, 0, 0, 0, 0, 0, 0, 0, 0, 0, 0, 0, 0, 0, 0, 0, 0, 0, 0, 0, 0, 0, 0, 0, 0, 0, 0, 0, 0, 0, 0, 0, 0, 0, 0, 0, 0, 0, 0, 0, 0, 0, 0, 0, 0, 0, 0, 0, 0, 0, 0, 0, 2, 0, 0, 0, 0, 0, 0, 2, 0, 0, 0, 0, 0, 0, 0, 0, 0, 0, 0, 0, 0, 0, 0, 0, 0, 0, 0, 0, 0, 0, 0, 0, 0, 0, 0, 0, 0, 0, 0, 0, 0, 0, 0, 0, 0, 0, 0, 0, 0, 0, 0, 0, 0, 0, 0, 0, 0, 0, 1, 0, 0, 0, 0, 0, 0, 0, 0, 0, 0, 0, 0, 0, 0, 0, 1, 0, 0, 0, 0, 0, 0, 0, 0, 0, 0, 0, 0, 0, 0, 0, 0, 0, 0, 0, 0, 0, 0, 0, 0, 0, 0, 0, 0, 0, 0, 1, 0, 0, 0, 0, 0, 0, 0, 0, 0, 0, 0, 0, 0, 0, 0, 0, 0, 0, 0, 0, 1, 0, 0, 0, 0, 0, 0, 0, 0, 0, 0, 0, 0, 0, 0, 0, 0, 0, 0, 0, 0, 0, 0, 0, 0, 0, 0, 0, 0, 0, 0, 0, 0, 0, 0, 0, 0, 0, 0, 0, 0, 0, 0, 0, 0, 0, 0, 0, 0, 0, 0, 0, 0, 0, 0, 0, 0, 0, 0, 0, 0, 0, 0, 0, 0, 1, 0, 0, 0, 0, 0, 0, 0, 0, 0, 0, 0, 0, 0, 0, 0, 0, 0, 0, 0, 0, 0, 0, 0, 0, 2, 0, 0, 0, 0, 0, 0, 0, 0, 0, 0, 0, 1, 0, 0, 0, 0, 0, 0, 0, 0, 0, 0, 0, 0, 0, 0, 0, 0, 0, 0, 0, 0, 0, 0, 0, 0, 0, 0, 0, 0, 0, 0, 0, 0, 0, 0, 0, 0, 0, 0, 0, 0, 0, 0, 0, 0, 0, 0, 0, 0, 0, 0, 0, 0, 0, 0, 0, 0, 0, 0, 0, 0, 0, 0, 1, 0, 0, 0, 0, 0, 0, 0, 0, 4, 0, 0, 0, 0, 0, 0, 0, 0, 0, 0, 0, 0, 0, 0, 0, 0, 0, 0, 0, 0, 0, 0, 0, 0, 0, 0, 0, 0, 0, 0, 0, 0, 0, 0, 0, 0, 0, 0, 0, 0, 0, 0, 0, 0, 0, 0, 0, 0, 0, 0, 0, 0, 0, 0, 0, 0, 0, 0, 0, 1, 0, 0, 0, 0, 0, 0, 0, 0, 0, 0, 2, 0, 0, 0, 0, 0, 0, 0, 0, 1, 0, 0, 0, 0, 1, 0, 0, 0, 0, 0, 0, 0, 0, 0, 0, 0, 0, 0, 0, 0, 0, 0, 0, 0, 0, 0, 0, 0, 0, 0, 0, 1, 0, 0, 0, 0, 0, 0, 0, 0, 0, 0, 0, 0, 0, 0, 0, 0, 0, 1, 0, 0, 0, 0, 0, 0, 0, 0, 0, 0, 0, 0, 0, 0, 0, 0, 0, 1, 0, 0, 0, 0, 0, 0, 0, 0, 0, 0, 0, 0, 0, 0, 0, 0, 0, 0, 0, 0, 0, 0, 0, 2, 0, 0, 0, 0, 0, 0, 0, 0, 0, 0, 0, 1, 0, 0, 0, 0, 0, 0, 0, 0, 0, 0, 0, 0, 0, 0, 0, 0, 0, 0, 0, 0, 0, 0, 0, 0, 1, 0, 0, 0, 0, 0, 0, 0, 0, 0, 0, 0, 0, 1, 0, 0, 0, 0, 0, 0, 0, 0, 0, 0, 0, 0, 0, 0, 0, 0, 0, 0, 0, 0, 0, 0, 0, 0, 0, 0, 0, 0, 0, 0, 0, 2, 0, 0, 0, 0, 0, 0, 0, 0, 0, 0, 1, 0, 0, 0, 0, 1, 0, 0, 0, 0, 0, 0, 0, 0, 0, 0, 0, 0, 0, 0, 0, 0, 0, 0, 0, 0, 0, 0, 0, 0, 0, 0, 0, 0, 0, 0, 1, 0, 0, 0, 0, 0, 0, 0, 0, 1, 0, 0, 0, 0, 0, 0, 0, 0, 0, 0, 0, 0, 0, 0, 0, 0, 0, 0, 0, 0, 0, 0, 0, 0, 0, 0, 0, 0, 0, 0, 0, 0, 0, 0, 0, 0, 0, 0, 0, 0, 0, 0, 0, 0, 0, 0, 0, 0, 0, 0, 0, 0, 0, 0, 0, 0, 0, 0, 0, 0, 2, 0, 0, 0, 0, 0, 0, 0, 0, 0, 0, 0, 0, 0, 0, 0, 0, 0, 0, 0, 0, 0, 0, 0, 0, 0, 0, 0, 1, 0, 0, 0, 0, 0, 0, 0, 0, 0, 0, 0, 0, 0, 0, 0, 1, 0, 0, 0, 0, 0, 0, 0, 0, 0, 2, 3, 0, 0, 0, 0, 0, 0, 0, 0, 0, 0, 0, 0, 0, 0, 0, 1, 0, 0, 0, 0, 0, 0, 0, 0, 0, 0, 0, 0, 0, 0, 0, 0, 0, 0, 0, 0, 1, 1, 0, 0, 0, 0, 0, 0, 0, 0, 0, 0, 0, 0, 0, 0, 0, 0, 0, 0, 0, 0, 0, 0, 0, 0, 0, 0, 0, 0, 0, 0, 0, 0, 0, 0, 0, 0, 0, 0, 0, 0, 0, 0, 0, 0, 0, 0, 0, 0, 0, 0, 0, 0, 0, 0, 0, 0, 0, 0, 0, 0, 0, 0, 0, 0, 0, 0, 0, 0, 0, 0, 0, 0, 0, 0, 0, 0, 0, 0, 0, 0, 0, 0, 0, 0, 0, 0, 0, 0, 0, 0, 0, 0, 0, 0, 0, 0, 0, 0, 0, 0, 0, 0, 0, 0, 0, 0, 0, 0, 0, 0, 0, 0, 0, 0, 0, 0, 0, 0, 0, 0, 0, 0, 0, 0, 0, 0, 0, 0, 0, 0, 0, 0, 0, 0, 0, 0, 0, 0, 0, 0, 0, 0, 0, 0, 0, 0, 0, 0, 0, 0, 0, 0, 0, 0, 0, 1, 0, 0, 0, 0, 0, 0, 0, 0, 0, 0, 0, 0, 0, 0, 0, 0, 0, 0, 0, 0, 0, 0, 0, 0, 0, 0, 0, 0, 0, 0, 0, 0, 0, 0, 0, 0, 0, 0, 0, 0, 0, 0, 0, 0, 0]\n",
            "36150\n",
            "4717\n"
          ]
        }
      ],
      "source": [
        "print(doc_representations[2])\n",
        "print(len(doc_representations))\n",
        "print(len(doc_representations[0]))"
      ]
    },
    {
      "cell_type": "code",
      "execution_count": 35,
      "metadata": {
        "id": "PZVah_Ggx1HJ"
      },
      "outputs": [],
      "source": [
        "x_train = np.array(doc_representations)"
      ]
    },
    {
      "cell_type": "code",
      "execution_count": 36,
      "metadata": {
        "colab": {
          "base_uri": "https://localhost:8080/"
        },
        "id": "2iX1TQNV17SI",
        "outputId": "1b414dee-2e6d-48c7-81b6-e9ecd5fb96cd"
      },
      "outputs": [
        {
          "name": "stdout",
          "output_type": "stream",
          "text": [
            "(36150, 4717)\n"
          ]
        }
      ],
      "source": [
        "print(x_train.shape)"
      ]
    },
    {
      "cell_type": "markdown",
      "metadata": {
        "id": "NXeW76p2pjnc"
      },
      "source": [
        "Make another numpy array by converting the topics associated with the training news to numbers. For instance, if the topics are: `sports`, `economics`, `politics`, and `cultural`, convert them to `0` to `3`. Call this new array `y_train`. (5 points)"
      ]
    },
    {
      "cell_type": "code",
      "execution_count": 37,
      "metadata": {
        "id": "wV5zeofEF3Nn"
      },
      "outputs": [],
      "source": [
        "y_train = np.array([])\n",
        "for topic in df_train['topic']:\n",
        "  if topic == 'sports':\n",
        "    y_train = np.append(y_train, 3)\n",
        "  elif topic == 'economics':\n",
        "    y_train = np.append(y_train, 2)\n",
        "  elif topic == 'politics':\n",
        "    y_train = np.append(y_train, 1)\n",
        "  elif topic == 'cultural':\n",
        "    y_train = np.append(y_train, 4)\n",
        "  else:\n",
        "    print('Error')"
      ]
    },
    {
      "cell_type": "code",
      "execution_count": 38,
      "metadata": {
        "colab": {
          "base_uri": "https://localhost:8080/"
        },
        "id": "LieM2-5xyWhq",
        "outputId": "019f60bd-081b-4441-838a-c7384fca1643"
      },
      "outputs": [
        {
          "data": {
            "text/plain": [
              "(36150,)"
            ]
          },
          "execution_count": 38,
          "metadata": {},
          "output_type": "execute_result"
        }
      ],
      "source": [
        "y_train.shape"
      ]
    },
    {
      "cell_type": "markdown",
      "metadata": {
        "id": "lew_jlNPqhPb"
      },
      "source": [
        "Using the unique tokens you found in the training news, represent the testing news as another numpy array called `x_test`. (5 points)\n",
        "\n",
        "Note: Do not forget to remove stopwords and the `#` token."
      ]
    },
    {
      "cell_type": "code",
      "execution_count": 39,
      "metadata": {
        "colab": {
          "base_uri": "https://localhost:8080/"
        },
        "id": "RIy2qMABrQcy",
        "outputId": "a0867a45-c30b-414f-8afa-db2d64ffc378"
      },
      "outputs": [
        {
          "name": "stderr",
          "output_type": "stream",
          "text": [
            "100% (9038 of 9038) |####################| Elapsed Time: 0:00:05 Time:  0:00:05\n"
          ]
        }
      ],
      "source": [
        "tkns_list = []\n",
        "for index, row in df_test.iterrows():\n",
        "  tokenized = row['text'].split()\n",
        "  tkns_list.append(tokenized)\n",
        "\n",
        "tkns_removed_stps_test = []\n",
        "\n",
        "for i in progressbar(range(len(tkns_list))):\n",
        "  list_ = tkns_list[i]\n",
        "  new_list = []\n",
        "  for token in list_:\n",
        "    if token not in stop_words and token != '#' and token in unique_tkns:\n",
        "      new_list.append(token)\n",
        "  tkns_removed_stps_test.append(new_list)"
      ]
    },
    {
      "cell_type": "code",
      "execution_count": 40,
      "metadata": {
        "colab": {
          "base_uri": "https://localhost:8080/"
        },
        "id": "lUEzP4XC0bj_",
        "outputId": "ee2631fe-f068-4442-df29-d0998e94624f"
      },
      "outputs": [
        {
          "name": "stderr",
          "output_type": "stream",
          "text": [
            "100% (9038 of 9038) |####################| Elapsed Time: 0:00:02 Time:  0:00:02\n"
          ]
        }
      ],
      "source": [
        "dec_test = []\n",
        "for doc_num in progressbar(range(len(df_test))):\n",
        "  current_doc = [0 for i in range(len(unique_tkns))]\n",
        "  for token in tkns_removed_stps_test[doc_num]:\n",
        "    token_idx = token_dict[token]\n",
        "    current_doc[token_idx] += 1\n",
        "    \n",
        "  dec_test.append(current_doc)"
      ]
    },
    {
      "cell_type": "code",
      "execution_count": 41,
      "metadata": {
        "colab": {
          "base_uri": "https://localhost:8080/"
        },
        "id": "YPnn4JXL0pSZ",
        "outputId": "3bc31427-95d8-4d8a-8a56-80b1b3a94700"
      },
      "outputs": [
        {
          "name": "stdout",
          "output_type": "stream",
          "text": [
            "4717\n",
            "9038\n"
          ]
        }
      ],
      "source": [
        "print(len(dec_test[0]))\n",
        "print(len(dec_test))\n",
        "x_test = dec_test"
      ]
    },
    {
      "cell_type": "markdown",
      "metadata": {
        "id": "QWIRhxS_rX7M"
      },
      "source": [
        "Convert the topics associated with the testing news to their equivalent numbers (as before), and save the result as a numpy array called `y_test`. (5 points)"
      ]
    },
    {
      "cell_type": "code",
      "execution_count": 42,
      "metadata": {
        "id": "T0tXlWRHrWUI"
      },
      "outputs": [],
      "source": [
        "y_test = np.array([])\n",
        "for topic in df_test['topic']:\n",
        "  if topic == 'sports':\n",
        "    y_test = np.append(y_test, 3)\n",
        "  elif topic == 'economics':\n",
        "    y_test = np.append(y_test, 2)\n",
        "  elif topic == 'politics':\n",
        "    y_test = np.append(y_test, 1)\n",
        "  elif topic == 'cultural':\n",
        "    y_test = np.append(y_test, 4)\n",
        "  else:\n",
        "    print('Error')"
      ]
    },
    {
      "cell_type": "markdown",
      "metadata": {
        "id": "LQdf4UuQrvme"
      },
      "source": [
        "# Model Training and Evaluation"
      ]
    },
    {
      "cell_type": "markdown",
      "metadata": {
        "id": "MwkWJbTEsoWy"
      },
      "source": [
        "## Using sklearn (10 points)"
      ]
    },
    {
      "cell_type": "markdown",
      "metadata": {
        "id": "sGcrjKBgr1uL"
      },
      "source": [
        "Train a Multinomial Naive Bayes Model on the training news (`x_train` and `y_train`) using `sklearn`."
      ]
    },
    {
      "cell_type": "code",
      "execution_count": 43,
      "metadata": {
        "colab": {
          "base_uri": "https://localhost:8080/"
        },
        "id": "iqKqjlE91t2l",
        "outputId": "e86bc2c7-0c62-4e39-c4e4-d478a0de8038"
      },
      "outputs": [
        {
          "name": "stdout",
          "output_type": "stream",
          "text": [
            "(36150, 4717)\n",
            "(36150,)\n"
          ]
        }
      ],
      "source": [
        "print(x_train.shape)\n",
        "print(y_train.shape)"
      ]
    },
    {
      "cell_type": "code",
      "execution_count": 44,
      "metadata": {
        "colab": {
          "base_uri": "https://localhost:8080/",
          "height": 74
        },
        "id": "yJTD0NB7rW2P",
        "outputId": "bbdf0edb-da9d-4be5-e54d-3322385a0cb3"
      },
      "outputs": [
        {
          "data": {
            "text/html": [
              "<style>#sk-container-id-1 {color: black;background-color: white;}#sk-container-id-1 pre{padding: 0;}#sk-container-id-1 div.sk-toggleable {background-color: white;}#sk-container-id-1 label.sk-toggleable__label {cursor: pointer;display: block;width: 100%;margin-bottom: 0;padding: 0.3em;box-sizing: border-box;text-align: center;}#sk-container-id-1 label.sk-toggleable__label-arrow:before {content: \"▸\";float: left;margin-right: 0.25em;color: #696969;}#sk-container-id-1 label.sk-toggleable__label-arrow:hover:before {color: black;}#sk-container-id-1 div.sk-estimator:hover label.sk-toggleable__label-arrow:before {color: black;}#sk-container-id-1 div.sk-toggleable__content {max-height: 0;max-width: 0;overflow: hidden;text-align: left;background-color: #f0f8ff;}#sk-container-id-1 div.sk-toggleable__content pre {margin: 0.2em;color: black;border-radius: 0.25em;background-color: #f0f8ff;}#sk-container-id-1 input.sk-toggleable__control:checked~div.sk-toggleable__content {max-height: 200px;max-width: 100%;overflow: auto;}#sk-container-id-1 input.sk-toggleable__control:checked~label.sk-toggleable__label-arrow:before {content: \"▾\";}#sk-container-id-1 div.sk-estimator input.sk-toggleable__control:checked~label.sk-toggleable__label {background-color: #d4ebff;}#sk-container-id-1 div.sk-label input.sk-toggleable__control:checked~label.sk-toggleable__label {background-color: #d4ebff;}#sk-container-id-1 input.sk-hidden--visually {border: 0;clip: rect(1px 1px 1px 1px);clip: rect(1px, 1px, 1px, 1px);height: 1px;margin: -1px;overflow: hidden;padding: 0;position: absolute;width: 1px;}#sk-container-id-1 div.sk-estimator {font-family: monospace;background-color: #f0f8ff;border: 1px dotted black;border-radius: 0.25em;box-sizing: border-box;margin-bottom: 0.5em;}#sk-container-id-1 div.sk-estimator:hover {background-color: #d4ebff;}#sk-container-id-1 div.sk-parallel-item::after {content: \"\";width: 100%;border-bottom: 1px solid gray;flex-grow: 1;}#sk-container-id-1 div.sk-label:hover label.sk-toggleable__label {background-color: #d4ebff;}#sk-container-id-1 div.sk-serial::before {content: \"\";position: absolute;border-left: 1px solid gray;box-sizing: border-box;top: 0;bottom: 0;left: 50%;z-index: 0;}#sk-container-id-1 div.sk-serial {display: flex;flex-direction: column;align-items: center;background-color: white;padding-right: 0.2em;padding-left: 0.2em;position: relative;}#sk-container-id-1 div.sk-item {position: relative;z-index: 1;}#sk-container-id-1 div.sk-parallel {display: flex;align-items: stretch;justify-content: center;background-color: white;position: relative;}#sk-container-id-1 div.sk-item::before, #sk-container-id-1 div.sk-parallel-item::before {content: \"\";position: absolute;border-left: 1px solid gray;box-sizing: border-box;top: 0;bottom: 0;left: 50%;z-index: -1;}#sk-container-id-1 div.sk-parallel-item {display: flex;flex-direction: column;z-index: 1;position: relative;background-color: white;}#sk-container-id-1 div.sk-parallel-item:first-child::after {align-self: flex-end;width: 50%;}#sk-container-id-1 div.sk-parallel-item:last-child::after {align-self: flex-start;width: 50%;}#sk-container-id-1 div.sk-parallel-item:only-child::after {width: 0;}#sk-container-id-1 div.sk-dashed-wrapped {border: 1px dashed gray;margin: 0 0.4em 0.5em 0.4em;box-sizing: border-box;padding-bottom: 0.4em;background-color: white;}#sk-container-id-1 div.sk-label label {font-family: monospace;font-weight: bold;display: inline-block;line-height: 1.2em;}#sk-container-id-1 div.sk-label-container {text-align: center;}#sk-container-id-1 div.sk-container {/* jupyter's `normalize.less` sets `[hidden] { display: none; }` but bootstrap.min.css set `[hidden] { display: none !important; }` so we also need the `!important` here to be able to override the default hidden behavior on the sphinx rendered scikit-learn.org. See: https://github.com/scikit-learn/scikit-learn/issues/21755 */display: inline-block !important;position: relative;}#sk-container-id-1 div.sk-text-repr-fallback {display: none;}</style><div id=\"sk-container-id-1\" class=\"sk-top-container\"><div class=\"sk-text-repr-fallback\"><pre>MultinomialNB(force_alpha=True)</pre><b>In a Jupyter environment, please rerun this cell to show the HTML representation or trust the notebook. <br />On GitHub, the HTML representation is unable to render, please try loading this page with nbviewer.org.</b></div><div class=\"sk-container\" hidden><div class=\"sk-item\"><div class=\"sk-estimator sk-toggleable\"><input class=\"sk-toggleable__control sk-hidden--visually\" id=\"sk-estimator-id-1\" type=\"checkbox\" checked><label for=\"sk-estimator-id-1\" class=\"sk-toggleable__label sk-toggleable__label-arrow\">MultinomialNB</label><div class=\"sk-toggleable__content\"><pre>MultinomialNB(force_alpha=True)</pre></div></div></div></div></div>"
            ],
            "text/plain": [
              "MultinomialNB(force_alpha=True)"
            ]
          },
          "execution_count": 44,
          "metadata": {},
          "output_type": "execute_result"
        }
      ],
      "source": [
        "# This is its documentation: https://scikit-learn.org/stable/modules/generated/sklearn.naive_bayes.MultinomialNB.html\n",
        "from sklearn.naive_bayes import MultinomialNB\n",
        "clf = MultinomialNB(force_alpha=True)\n",
        "clf.fit(x_train, y_train)\n"
      ]
    },
    {
      "cell_type": "markdown",
      "metadata": {
        "id": "OeFDzw61sCna"
      },
      "source": [
        "Get the predictions of the model for the testing news (`x_test`)."
      ]
    },
    {
      "cell_type": "code",
      "execution_count": 45,
      "metadata": {
        "id": "f0KP-84CsCJX"
      },
      "outputs": [],
      "source": [
        "predicts_sklearn_mlt = clf.predict(x_test)"
      ]
    },
    {
      "cell_type": "markdown",
      "metadata": {
        "id": "G1KAXbhJsb5o"
      },
      "source": [
        "Print the classification report containing \"precision\", \"recall\", and \"f1-score\" for each class, and their averages. (you can use `sklearn` for this part)"
      ]
    },
    {
      "cell_type": "code",
      "execution_count": 46,
      "metadata": {
        "colab": {
          "base_uri": "https://localhost:8080/"
        },
        "id": "1fLYOmgMsWns",
        "outputId": "8da8af95-23ff-4e25-e679-f8386fe13ed6"
      },
      "outputs": [
        {
          "name": "stdout",
          "output_type": "stream",
          "text": [
            "              precision    recall  f1-score   support\n",
            "\n",
            "           0       0.94      0.91      0.92      2229\n",
            "           1       0.91      0.94      0.93      2269\n",
            "           2       0.99      0.98      0.99      2242\n",
            "           3       0.94      0.96      0.95      2298\n",
            "\n",
            "    accuracy                           0.95      9038\n",
            "   macro avg       0.95      0.95      0.95      9038\n",
            "weighted avg       0.95      0.95      0.95      9038\n",
            "\n"
          ]
        }
      ],
      "source": [
        "# documentation: https://scikit-learn.org/stable/modules/generated/sklearn.metrics.classification_report.html\n",
        "from sklearn.metrics import classification_report\n",
        "print(classification_report(y_test, predicts_sklearn_mlt, target_names=['0', '1', '2', '3']))"
      ]
    },
    {
      "cell_type": "markdown",
      "metadata": {
        "id": "dM7sjbu6stRn"
      },
      "source": [
        "## Using your own code (15 points)"
      ]
    },
    {
      "cell_type": "code",
      "execution_count": 99,
      "metadata": {
        "id": "LgTbqyNwsZ5U"
      },
      "outputs": [],
      "source": [
        "class Naive_Bayes:\n",
        "    def __init__(self):\n",
        "        \"\"\"\n",
        "        YOUR CODE (IF NECESSARY)\n",
        "        \"\"\"\n",
        "  \n",
        "    def fit(self, X, y):\n",
        "        \"\"\"Fit the training data\n",
        "        Parameters\n",
        "        ----------\n",
        "        x : array-like, shape = [n_samples, n_features]\n",
        "            Training samples\n",
        "        y : array-like, shape = [n_samples, n_target_values]\n",
        "            Target values\n",
        "        Returns\n",
        "        -------\n",
        "        self : object\n",
        "        \"\"\"\n",
        "\n",
        "        n_samples, n_features = X.shape\n",
        "        \"\"\"\n",
        "        YOUR CODE\n",
        "        \"\"\"\n",
        "        self.all_classes = np.unique(y)\n",
        "        n_classes = len(self.all_classes)\n",
        "\n",
        "        self.priors = np.zeros(n_classes)\n",
        "        self.likelihoods = np.zeros((n_classes, n_features))\n",
        "\n",
        "        for index, class_ in enumerate(self.all_classes):\n",
        "            X_ = X[class_ == y]\n",
        "            self.priors[index] = X_.shape[0] / n_samples\n",
        "            self.likelihoods[index, :] = ((X_.sum(axis=0)) + 1) / (np.sum(X_.sum(axis=0) + 1))\n",
        "    \n",
        "    def predict(self, X):\n",
        "        \"\"\" Predicts the value after the model has been trained.\n",
        "        Parameters\n",
        "        ----------\n",
        "        x : array-like, shape = [n_samples, n_features]\n",
        "            Test samples\n",
        "        Returns\n",
        "        -------\n",
        "        Predicted value\n",
        "        \"\"\"\n",
        "        y_pred = []\n",
        "        for x in X:\n",
        "          posteriors = []\n",
        "          for index, _ in enumerate(self.all_classes):\n",
        "              prior = np.log(self.priors[index])\n",
        "              likelihoods_ = np.log(self.likelihoods[index,:]) * x\n",
        "              posteriors.append(np.sum(likelihoods_) + prior)\n",
        "          y_pred.append(self.all_classes[np.argmax(posteriors)])\n",
        "        return y_pred"
      ]
    },
    {
      "cell_type": "code",
      "execution_count": 50,
      "metadata": {
        "colab": {
          "base_uri": "https://localhost:8080/"
        },
        "id": "IbOyiSVdnaFX",
        "outputId": "e61522af-c67a-419a-cab3-99769c5c0859"
      },
      "outputs": [
        {
          "data": {
            "text/plain": [
              "(36150,)"
            ]
          },
          "execution_count": 50,
          "metadata": {},
          "output_type": "execute_result"
        }
      ],
      "source": [
        "y_train.shape"
      ]
    },
    {
      "cell_type": "markdown",
      "metadata": {
        "id": "ZYpwLACxtlFy"
      },
      "source": [
        "Train your own Multinomial Naive Bayes Model on the training news (`x_train` and `y_train`)."
      ]
    },
    {
      "cell_type": "code",
      "execution_count": 100,
      "metadata": {
        "id": "QBnzQoqyIl-q"
      },
      "outputs": [],
      "source": [
        "my_own_model = Naive_Bayes()\n",
        "my_own_model.fit(x_train, y_train)"
      ]
    },
    {
      "cell_type": "markdown",
      "metadata": {
        "id": "pPSZVHBCtndS"
      },
      "source": [
        "Get the predictions of your model for the testing news (`x_test`)."
      ]
    },
    {
      "cell_type": "code",
      "execution_count": 101,
      "metadata": {
        "id": "T7SMtuR0tskf"
      },
      "outputs": [],
      "source": [
        "predicts_own_model = my_own_model.predict(x_test)"
      ]
    },
    {
      "cell_type": "markdown",
      "metadata": {
        "id": "hIlERTP1ttCW"
      },
      "source": [
        "Print the classification report containing \"precision\", \"recall\", and \"f1-score\" for each class, and their averages. (you can use `sklearn` for this part)"
      ]
    },
    {
      "cell_type": "code",
      "execution_count": 102,
      "metadata": {
        "colab": {
          "base_uri": "https://localhost:8080/"
        },
        "id": "9MfxJtbmtugx",
        "outputId": "efb0a23f-226a-4a33-c5cc-7aa7f691349b"
      },
      "outputs": [
        {
          "name": "stdout",
          "output_type": "stream",
          "text": [
            "              precision    recall  f1-score   support\n",
            "\n",
            "           0       0.94      0.91      0.92      2229\n",
            "           1       0.91      0.94      0.93      2269\n",
            "           2       0.99      0.98      0.99      2242\n",
            "           3       0.94      0.96      0.95      2298\n",
            "\n",
            "    accuracy                           0.95      9038\n",
            "   macro avg       0.95      0.95      0.95      9038\n",
            "weighted avg       0.95      0.95      0.95      9038\n",
            "\n"
          ]
        }
      ],
      "source": [
        "print(classification_report(y_test, predicts_own_model, target_names=['0', '1', '2', '3']))"
      ]
    },
    {
      "cell_type": "markdown",
      "metadata": {
        "id": "ElMEcOMAeFA1"
      },
      "source": [
        "# Kaggle"
      ]
    },
    {
      "cell_type": "markdown",
      "metadata": {
        "id": "64J1wFXweGsH"
      },
      "source": [
        "Competition Link: https://www.kaggle.com/t/88f1b6e251e34575b2e4cb4b91aed0ef"
      ]
    },
    {
      "cell_type": "code",
      "execution_count": null,
      "metadata": {
        "id": "RJJ8TxM-ExUD"
      },
      "outputs": [],
      "source": [
        "'''\n",
        "here we are going to predict the test files\n",
        "given in kaggle\n",
        "we will predict based on the pre-constructed model\n",
        "in this assignment (as it was before, in the previous HWs)\n",
        "'''\n",
        "# I have uploaded the test file to my google drive\n",
        "# mount drive\n",
        "from google.colab import drive\n",
        "drive.mount('/content/gdrive')\n"
      ]
    },
    {
      "cell_type": "code",
      "execution_count": null,
      "metadata": {
        "id": "kvGtzX3SFwXK"
      },
      "outputs": [],
      "source": [
        "# read csv\n",
        "!touch \"/content/gdrive/My Drive/assignment4-test-data.csv\"\n",
        "test_file_df = pd.read_csv('/content/gdrive/My Drive/assignment4-test-data.csv')"
      ]
    },
    {
      "cell_type": "code",
      "execution_count": null,
      "metadata": {
        "id": "7Gzzz5r3GjKq"
      },
      "outputs": [],
      "source": [
        "test_file_df"
      ]
    },
    {
      "cell_type": "code",
      "execution_count": null,
      "metadata": {
        "id": "O_pXv7E5Gpms"
      },
      "outputs": [],
      "source": [
        "tkns_list_kaggle = []\n",
        "for index, row in test_file_df.iterrows():\n",
        "  tokenized = row['text'].split()\n",
        "  tkns_list_kaggle.append(tokenized)\n",
        "\n",
        "tkns_removed_stps_test_kaggle = []\n",
        "\n",
        "for i in progressbar(range(len(tkns_list_kaggle))):\n",
        "  list_ = tkns_list_kaggle[i]\n",
        "  new_list = []\n",
        "  for token in list_:\n",
        "    if token not in stop_words and token != '#' and token in unique_tkns:\n",
        "      new_list.append(token)\n",
        "  tkns_removed_stps_test_kaggle.append(new_list)"
      ]
    },
    {
      "cell_type": "code",
      "execution_count": null,
      "metadata": {
        "id": "0KEkhEAmGsUB"
      },
      "outputs": [],
      "source": [
        "dec_test_kaggle = []\n",
        "for doc_num in progressbar(range(len(test_file_df))):\n",
        "  current_doc = [0 for i in range(len(unique_tkns))]\n",
        "  for token in tkns_removed_stps_test_kaggle[doc_num]:\n",
        "    token_idx = token_dict[token]\n",
        "    current_doc[token_idx] += 1\n",
        "    \n",
        "  dec_test_kaggle.append(current_doc)"
      ]
    },
    {
      "cell_type": "code",
      "execution_count": null,
      "metadata": {
        "id": "D-OdVUVcGvdx"
      },
      "outputs": [],
      "source": [
        "print(len(dec_test_kaggle[0]))\n",
        "print(len(dec_test_kaggle))\n",
        "x_test_kaggle = dec_test_kaggle"
      ]
    },
    {
      "cell_type": "code",
      "execution_count": null,
      "metadata": {
        "id": "B4S0uETJImVP"
      },
      "outputs": [],
      "source": [
        "predicts_sklearn_mlt = clf.predict(x_test_kaggle)\n",
        "predicts_sklearn_mlt = np.array([int(x) for x in predicts_sklearn_mlt])"
      ]
    },
    {
      "cell_type": "code",
      "execution_count": null,
      "metadata": {
        "id": "w4tasm-3IyRW"
      },
      "outputs": [],
      "source": [
        "topic = predicts_sklearn_mlt\n",
        "ID = np.array([i+1 for i in range(500)])"
      ]
    },
    {
      "cell_type": "code",
      "execution_count": null,
      "metadata": {
        "id": "S5gwMHwfG0E-"
      },
      "outputs": [],
      "source": [
        "from google.colab import files\n",
        "nparray = np.vstack([topic, ID])\n",
        "df_to_download = pd.DataFrame(nparray.T, columns = ['topic', 'ID'])\n",
        "from numpy import savetxt\n",
        "savetxt('results.csv', df_to_download, delimiter=',')\n",
        "files.download('results.csv')"
      ]
    }
  ],
  "metadata": {
    "accelerator": "GPU",
    "colab": {
      "gpuType": "T4",
      "provenance": [],
      "toc_visible": true
    },
    "gpuClass": "standard",
    "kernelspec": {
      "display_name": "Python 3",
      "name": "python3"
    },
    "language_info": {
      "name": "python"
    }
  },
  "nbformat": 4,
  "nbformat_minor": 0
}
