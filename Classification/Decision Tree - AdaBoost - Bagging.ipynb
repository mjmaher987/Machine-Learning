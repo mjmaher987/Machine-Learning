{
  "metadata": {
    "kernelspec": {
      "language": "python",
      "display_name": "Python 3",
      "name": "python3"
    },
    "language_info": {
      "name": "python",
      "version": "3.10.10",
      "mimetype": "text/x-python",
      "codemirror_mode": {
        "name": "ipython",
        "version": 3
      },
      "pygments_lexer": "ipython3",
      "nbconvert_exporter": "python",
      "file_extension": ".py"
    },
    "colab": {
      "provenance": []
    }
  },
  "nbformat_minor": 0,
  "nbformat": 4,
  "cells": [
    {
      "cell_type": "markdown",
      "metadata": {
        "id": "b07eb33c"
      },
      "source": [
        "<div>\n",
        "<img src='https://upload.wikimedia.org/wikipedia/commons/6/64/Sharif_University_Logo.jpg' alt=\"SUT logo\" width=220 height=220 align=left class=\"saturate\">\n",
        "\n",
        "<br>\n",
        "<font face=\"Times New Roman\">\n",
        "<div dir=ltr align=center> \n",
        "<!-- <font color=0F5298 size=7> -->\n",
        "<font color=0F5298 size=6>\n",
        "    Introduction to Machine Learning <br> <br>\n",
        "<!-- <font color=2565AE size=5> -->\n",
        "<font size=5>\n",
        "    Computer Engineering Department <br>\n",
        "    Spring 2023 <br> <br>\n",
        "<font color=606060 size=5>\n",
        "    Homework 7: Practical - Decision Tree and Ensembles <br> <br>\n",
        "<font color=686880 size=4>\n",
        "    TAs: Amirhossein Ramazani Bonab - Arman Malekzadeh\n",
        "    \n",
        "____"
      ]
    },
    {
      "cell_type": "markdown",
      "metadata": {
        "id": "f5a79508"
      },
      "source": [
        "### Full Name : Mohammad Javad Maheronnaghsh\n",
        "### Student Number : 99105691\n",
        "### Colab Link: https://colab.research.google.com/drive/16-z-jnQnAgBKSVNM45_ErmPeu6eQAiwL?usp=sharing\n",
        "___"
      ]
    },
    {
      "cell_type": "markdown",
      "source": [
        "**About the Dataset:**\n",
        "\n",
        "\n",
        "Measurements of geometrical properties of kernels belonging to three different varieties of wheat.\n",
        "\n",
        "A soft X-ray technique and GRAINS package were used to construct all seven, real-valued attributes.\n",
        "\n",
        "**Data Set Information:**\n",
        "\n",
        "\n",
        "The examined group comprised kernels belonging to three different varieties of wheat: Kama, Rosa and Canadian, 70 elements each, randomly selected for\n",
        "the experiment. High quality visualization of the internal kernel structure was detected using a soft X-ray technique. It is non-destructive and considerably cheaper than other more sophisticated imaging techniques like scanning microscopy or laser technology. The images were recorded on 13x18 cm X-ray KODAK plates. Studies were conducted using combine harvested wheat grain originating from experimental fields, explored at the Institute of Agrophysics of the Polish Academy of Sciences in Lublin.\n",
        "\n",
        "To construct the data, seven geometric parameters of wheat kernels were measured:\n",
        "\n",
        "- area A,\n",
        "- perimeter P,\n",
        "- compactness C = 4piA/P^2,\n",
        "- length of kernel,\n",
        "- width of kernel,\n",
        "- asymmetry coefficient\n",
        "- length of kernel groove.\n",
        "\n",
        "The target column is \"Type\".\n",
        "\n",
        "The data set can be used for the tasks of classification and cluster analysis.\n",
        "\n",
        "https://archive.ics.uci.edu/ml/datasets/seeds"
      ],
      "metadata": {
        "id": "8R9A8RKJa07c"
      }
    },
    {
      "cell_type": "code",
      "source": [
        "# you can use the following packages\n",
        "\n",
        "import pandas as pd\n",
        "import numpy as np\n",
        "\n",
        "import matplotlib.pyplot as plt\n",
        "%matplotlib inline\n",
        "import seaborn as sns\n",
        "\n",
        "from sklearn.model_selection import train_test_split\n",
        "\n",
        "from random import choices\n",
        "import math"
      ],
      "metadata": {
        "execution": {
          "iopub.status.busy": "2023-05-24T07:40:35.643418Z",
          "iopub.execute_input": "2023-05-24T07:40:35.643859Z",
          "iopub.status.idle": "2023-05-24T07:40:35.652079Z",
          "shell.execute_reply.started": "2023-05-24T07:40:35.643823Z",
          "shell.execute_reply": "2023-05-24T07:40:35.650632Z"
        },
        "trusted": true,
        "id": "_s9VlwRcUmDE"
      },
      "execution_count": 1,
      "outputs": []
    },
    {
      "cell_type": "markdown",
      "source": [
        "## P1: Explore the Dataset"
      ],
      "metadata": {
        "id": "pXav8LQyUmDG"
      }
    },
    {
      "cell_type": "code",
      "source": [
        "!wget -O dataset.csv https://www.dropbox.com/s/xc1tbfju2mn59yj/seeds%20%281%29.csv?dl=1"
      ],
      "metadata": {
        "id": "Qp8d_3l88cOp",
        "colab": {
          "base_uri": "https://localhost:8080/"
        },
        "outputId": "5a631a6e-b50c-450c-8aa8-0905dab06910"
      },
      "execution_count": 2,
      "outputs": [
        {
          "output_type": "stream",
          "name": "stdout",
          "text": [
            "--2023-06-06 08:10:36--  https://www.dropbox.com/s/xc1tbfju2mn59yj/seeds%20%281%29.csv?dl=1\n",
            "Resolving www.dropbox.com (www.dropbox.com)... 162.125.3.18, 2620:100:6018:18::a27d:312\n",
            "Connecting to www.dropbox.com (www.dropbox.com)|162.125.3.18|:443... connected.\n",
            "HTTP request sent, awaiting response... 302 Found\n",
            "Location: /s/dl/xc1tbfju2mn59yj/seeds%20%281%29.csv [following]\n",
            "--2023-06-06 08:10:36--  https://www.dropbox.com/s/dl/xc1tbfju2mn59yj/seeds%20%281%29.csv\n",
            "Reusing existing connection to www.dropbox.com:443.\n",
            "HTTP request sent, awaiting response... 302 Found\n",
            "Location: https://ucc556457e2f78e50fbb64adfaf1.dl.dropboxusercontent.com/cd/0/get/B9e0gHmH-2jN4ejUlX8Hko4Ko6Pcou10ysSk-3SXkaS1rmzmdqOHSvLN2OC4w8BvJWC2p-sqR9XJgix-aDgVwKU5Ab0y8tvzrC_fwKsGh9VS2dIbT4r6RS0M48VGOtFHHYLVybQrrSffYKcmXyKZBFPHfMn3Jr5ipfJSPRhhYiEgAM_lYa7RPW_8Z3asl0EyvJU/file?dl=1# [following]\n",
            "--2023-06-06 08:10:36--  https://ucc556457e2f78e50fbb64adfaf1.dl.dropboxusercontent.com/cd/0/get/B9e0gHmH-2jN4ejUlX8Hko4Ko6Pcou10ysSk-3SXkaS1rmzmdqOHSvLN2OC4w8BvJWC2p-sqR9XJgix-aDgVwKU5Ab0y8tvzrC_fwKsGh9VS2dIbT4r6RS0M48VGOtFHHYLVybQrrSffYKcmXyKZBFPHfMn3Jr5ipfJSPRhhYiEgAM_lYa7RPW_8Z3asl0EyvJU/file?dl=1\n",
            "Resolving ucc556457e2f78e50fbb64adfaf1.dl.dropboxusercontent.com (ucc556457e2f78e50fbb64adfaf1.dl.dropboxusercontent.com)... 162.125.3.15, 2620:100:6018:15::a27d:30f\n",
            "Connecting to ucc556457e2f78e50fbb64adfaf1.dl.dropboxusercontent.com (ucc556457e2f78e50fbb64adfaf1.dl.dropboxusercontent.com)|162.125.3.15|:443... connected.\n",
            "HTTP request sent, awaiting response... 200 OK\n",
            "Length: 9125 (8.9K) [application/binary]\n",
            "Saving to: ‘dataset.csv’\n",
            "\n",
            "dataset.csv         100%[===================>]   8.91K  --.-KB/s    in 0s      \n",
            "\n",
            "2023-06-06 08:10:37 (193 MB/s) - ‘dataset.csv’ saved [9125/9125]\n",
            "\n"
          ]
        }
      ]
    },
    {
      "cell_type": "markdown",
      "source": [
        "Load the dataset as a dataframe"
      ],
      "metadata": {
        "id": "d9Imt5hubwiz"
      }
    },
    {
      "cell_type": "code",
      "source": [
        "df = pd.read_csv('dataset.csv')"
      ],
      "metadata": {
        "id": "RuRn5PGpskHI"
      },
      "execution_count": 3,
      "outputs": []
    },
    {
      "cell_type": "code",
      "source": [
        "df"
      ],
      "metadata": {
        "colab": {
          "base_uri": "https://localhost:8080/",
          "height": 423
        },
        "id": "JpJfIJmBVDJY",
        "outputId": "3de4fe7a-73fb-4b22-aa32-e9dcbb143e43"
      },
      "execution_count": 4,
      "outputs": [
        {
          "output_type": "execute_result",
          "data": {
            "text/plain": [
              "      Area  Perimeter  Compactness  Kernel.Length  Kernel.Width  \\\n",
              "0    15.26      14.84       0.8710          5.763         3.312   \n",
              "1    14.88      14.57       0.8811          5.554         3.333   \n",
              "2    14.29      14.09       0.9050          5.291         3.337   \n",
              "3    13.84      13.94       0.8955          5.324         3.379   \n",
              "4    16.14      14.99       0.9034          5.658         3.562   \n",
              "..     ...        ...          ...            ...           ...   \n",
              "194  12.19      13.20       0.8783          5.137         2.981   \n",
              "195  11.23      12.88       0.8511          5.140         2.795   \n",
              "196  13.20      13.66       0.8883          5.236         3.232   \n",
              "197  11.84      13.21       0.8521          5.175         2.836   \n",
              "198  12.30      13.34       0.8684          5.243         2.974   \n",
              "\n",
              "     Asymmetry.Coeff  Kernel.Groove  Type  \n",
              "0              2.221          5.220     1  \n",
              "1              1.018          4.956     1  \n",
              "2              2.699          4.825     1  \n",
              "3              2.259          4.805     1  \n",
              "4              1.355          5.175     1  \n",
              "..               ...            ...   ...  \n",
              "194            3.631          4.870     3  \n",
              "195            4.325          5.003     3  \n",
              "196            8.315          5.056     3  \n",
              "197            3.598          5.044     3  \n",
              "198            5.637          5.063     3  \n",
              "\n",
              "[199 rows x 8 columns]"
            ],
            "text/html": [
              "\n",
              "  <div id=\"df-a02a8e2a-37f0-482c-912c-2a57b37e450f\">\n",
              "    <div class=\"colab-df-container\">\n",
              "      <div>\n",
              "<style scoped>\n",
              "    .dataframe tbody tr th:only-of-type {\n",
              "        vertical-align: middle;\n",
              "    }\n",
              "\n",
              "    .dataframe tbody tr th {\n",
              "        vertical-align: top;\n",
              "    }\n",
              "\n",
              "    .dataframe thead th {\n",
              "        text-align: right;\n",
              "    }\n",
              "</style>\n",
              "<table border=\"1\" class=\"dataframe\">\n",
              "  <thead>\n",
              "    <tr style=\"text-align: right;\">\n",
              "      <th></th>\n",
              "      <th>Area</th>\n",
              "      <th>Perimeter</th>\n",
              "      <th>Compactness</th>\n",
              "      <th>Kernel.Length</th>\n",
              "      <th>Kernel.Width</th>\n",
              "      <th>Asymmetry.Coeff</th>\n",
              "      <th>Kernel.Groove</th>\n",
              "      <th>Type</th>\n",
              "    </tr>\n",
              "  </thead>\n",
              "  <tbody>\n",
              "    <tr>\n",
              "      <th>0</th>\n",
              "      <td>15.26</td>\n",
              "      <td>14.84</td>\n",
              "      <td>0.8710</td>\n",
              "      <td>5.763</td>\n",
              "      <td>3.312</td>\n",
              "      <td>2.221</td>\n",
              "      <td>5.220</td>\n",
              "      <td>1</td>\n",
              "    </tr>\n",
              "    <tr>\n",
              "      <th>1</th>\n",
              "      <td>14.88</td>\n",
              "      <td>14.57</td>\n",
              "      <td>0.8811</td>\n",
              "      <td>5.554</td>\n",
              "      <td>3.333</td>\n",
              "      <td>1.018</td>\n",
              "      <td>4.956</td>\n",
              "      <td>1</td>\n",
              "    </tr>\n",
              "    <tr>\n",
              "      <th>2</th>\n",
              "      <td>14.29</td>\n",
              "      <td>14.09</td>\n",
              "      <td>0.9050</td>\n",
              "      <td>5.291</td>\n",
              "      <td>3.337</td>\n",
              "      <td>2.699</td>\n",
              "      <td>4.825</td>\n",
              "      <td>1</td>\n",
              "    </tr>\n",
              "    <tr>\n",
              "      <th>3</th>\n",
              "      <td>13.84</td>\n",
              "      <td>13.94</td>\n",
              "      <td>0.8955</td>\n",
              "      <td>5.324</td>\n",
              "      <td>3.379</td>\n",
              "      <td>2.259</td>\n",
              "      <td>4.805</td>\n",
              "      <td>1</td>\n",
              "    </tr>\n",
              "    <tr>\n",
              "      <th>4</th>\n",
              "      <td>16.14</td>\n",
              "      <td>14.99</td>\n",
              "      <td>0.9034</td>\n",
              "      <td>5.658</td>\n",
              "      <td>3.562</td>\n",
              "      <td>1.355</td>\n",
              "      <td>5.175</td>\n",
              "      <td>1</td>\n",
              "    </tr>\n",
              "    <tr>\n",
              "      <th>...</th>\n",
              "      <td>...</td>\n",
              "      <td>...</td>\n",
              "      <td>...</td>\n",
              "      <td>...</td>\n",
              "      <td>...</td>\n",
              "      <td>...</td>\n",
              "      <td>...</td>\n",
              "      <td>...</td>\n",
              "    </tr>\n",
              "    <tr>\n",
              "      <th>194</th>\n",
              "      <td>12.19</td>\n",
              "      <td>13.20</td>\n",
              "      <td>0.8783</td>\n",
              "      <td>5.137</td>\n",
              "      <td>2.981</td>\n",
              "      <td>3.631</td>\n",
              "      <td>4.870</td>\n",
              "      <td>3</td>\n",
              "    </tr>\n",
              "    <tr>\n",
              "      <th>195</th>\n",
              "      <td>11.23</td>\n",
              "      <td>12.88</td>\n",
              "      <td>0.8511</td>\n",
              "      <td>5.140</td>\n",
              "      <td>2.795</td>\n",
              "      <td>4.325</td>\n",
              "      <td>5.003</td>\n",
              "      <td>3</td>\n",
              "    </tr>\n",
              "    <tr>\n",
              "      <th>196</th>\n",
              "      <td>13.20</td>\n",
              "      <td>13.66</td>\n",
              "      <td>0.8883</td>\n",
              "      <td>5.236</td>\n",
              "      <td>3.232</td>\n",
              "      <td>8.315</td>\n",
              "      <td>5.056</td>\n",
              "      <td>3</td>\n",
              "    </tr>\n",
              "    <tr>\n",
              "      <th>197</th>\n",
              "      <td>11.84</td>\n",
              "      <td>13.21</td>\n",
              "      <td>0.8521</td>\n",
              "      <td>5.175</td>\n",
              "      <td>2.836</td>\n",
              "      <td>3.598</td>\n",
              "      <td>5.044</td>\n",
              "      <td>3</td>\n",
              "    </tr>\n",
              "    <tr>\n",
              "      <th>198</th>\n",
              "      <td>12.30</td>\n",
              "      <td>13.34</td>\n",
              "      <td>0.8684</td>\n",
              "      <td>5.243</td>\n",
              "      <td>2.974</td>\n",
              "      <td>5.637</td>\n",
              "      <td>5.063</td>\n",
              "      <td>3</td>\n",
              "    </tr>\n",
              "  </tbody>\n",
              "</table>\n",
              "<p>199 rows × 8 columns</p>\n",
              "</div>\n",
              "      <button class=\"colab-df-convert\" onclick=\"convertToInteractive('df-a02a8e2a-37f0-482c-912c-2a57b37e450f')\"\n",
              "              title=\"Convert this dataframe to an interactive table.\"\n",
              "              style=\"display:none;\">\n",
              "        \n",
              "  <svg xmlns=\"http://www.w3.org/2000/svg\" height=\"24px\"viewBox=\"0 0 24 24\"\n",
              "       width=\"24px\">\n",
              "    <path d=\"M0 0h24v24H0V0z\" fill=\"none\"/>\n",
              "    <path d=\"M18.56 5.44l.94 2.06.94-2.06 2.06-.94-2.06-.94-.94-2.06-.94 2.06-2.06.94zm-11 1L8.5 8.5l.94-2.06 2.06-.94-2.06-.94L8.5 2.5l-.94 2.06-2.06.94zm10 10l.94 2.06.94-2.06 2.06-.94-2.06-.94-.94-2.06-.94 2.06-2.06.94z\"/><path d=\"M17.41 7.96l-1.37-1.37c-.4-.4-.92-.59-1.43-.59-.52 0-1.04.2-1.43.59L10.3 9.45l-7.72 7.72c-.78.78-.78 2.05 0 2.83L4 21.41c.39.39.9.59 1.41.59.51 0 1.02-.2 1.41-.59l7.78-7.78 2.81-2.81c.8-.78.8-2.07 0-2.86zM5.41 20L4 18.59l7.72-7.72 1.47 1.35L5.41 20z\"/>\n",
              "  </svg>\n",
              "      </button>\n",
              "      \n",
              "  <style>\n",
              "    .colab-df-container {\n",
              "      display:flex;\n",
              "      flex-wrap:wrap;\n",
              "      gap: 12px;\n",
              "    }\n",
              "\n",
              "    .colab-df-convert {\n",
              "      background-color: #E8F0FE;\n",
              "      border: none;\n",
              "      border-radius: 50%;\n",
              "      cursor: pointer;\n",
              "      display: none;\n",
              "      fill: #1967D2;\n",
              "      height: 32px;\n",
              "      padding: 0 0 0 0;\n",
              "      width: 32px;\n",
              "    }\n",
              "\n",
              "    .colab-df-convert:hover {\n",
              "      background-color: #E2EBFA;\n",
              "      box-shadow: 0px 1px 2px rgba(60, 64, 67, 0.3), 0px 1px 3px 1px rgba(60, 64, 67, 0.15);\n",
              "      fill: #174EA6;\n",
              "    }\n",
              "\n",
              "    [theme=dark] .colab-df-convert {\n",
              "      background-color: #3B4455;\n",
              "      fill: #D2E3FC;\n",
              "    }\n",
              "\n",
              "    [theme=dark] .colab-df-convert:hover {\n",
              "      background-color: #434B5C;\n",
              "      box-shadow: 0px 1px 3px 1px rgba(0, 0, 0, 0.15);\n",
              "      filter: drop-shadow(0px 1px 2px rgba(0, 0, 0, 0.3));\n",
              "      fill: #FFFFFF;\n",
              "    }\n",
              "  </style>\n",
              "\n",
              "      <script>\n",
              "        const buttonEl =\n",
              "          document.querySelector('#df-a02a8e2a-37f0-482c-912c-2a57b37e450f button.colab-df-convert');\n",
              "        buttonEl.style.display =\n",
              "          google.colab.kernel.accessAllowed ? 'block' : 'none';\n",
              "\n",
              "        async function convertToInteractive(key) {\n",
              "          const element = document.querySelector('#df-a02a8e2a-37f0-482c-912c-2a57b37e450f');\n",
              "          const dataTable =\n",
              "            await google.colab.kernel.invokeFunction('convertToInteractive',\n",
              "                                                     [key], {});\n",
              "          if (!dataTable) return;\n",
              "\n",
              "          const docLinkHtml = 'Like what you see? Visit the ' +\n",
              "            '<a target=\"_blank\" href=https://colab.research.google.com/notebooks/data_table.ipynb>data table notebook</a>'\n",
              "            + ' to learn more about interactive tables.';\n",
              "          element.innerHTML = '';\n",
              "          dataTable['output_type'] = 'display_data';\n",
              "          await google.colab.output.renderOutput(dataTable, element);\n",
              "          const docLink = document.createElement('div');\n",
              "          docLink.innerHTML = docLinkHtml;\n",
              "          element.appendChild(docLink);\n",
              "        }\n",
              "      </script>\n",
              "    </div>\n",
              "  </div>\n",
              "  "
            ]
          },
          "metadata": {},
          "execution_count": 4
        }
      ]
    },
    {
      "cell_type": "markdown",
      "source": [
        "Check if there are any missing values (and remove them) **(P1-1: 2 points)**"
      ],
      "metadata": {
        "id": "RWiHRlHkb1Bf"
      }
    },
    {
      "cell_type": "code",
      "source": [
        "np.any(df.isnull()) # There is no null value -> there is no need to remove anything"
      ],
      "metadata": {
        "execution": {
          "iopub.status.busy": "2023-05-24T06:42:35.080087Z",
          "iopub.execute_input": "2023-05-24T06:42:35.080727Z",
          "iopub.status.idle": "2023-05-24T06:42:35.091722Z",
          "shell.execute_reply.started": "2023-05-24T06:42:35.080676Z",
          "shell.execute_reply": "2023-05-24T06:42:35.089794Z"
        },
        "trusted": true,
        "id": "YqfwGyG9UmDI",
        "colab": {
          "base_uri": "https://localhost:8080/"
        },
        "outputId": "b03d649e-ca80-4afc-c58f-d6616c30493a"
      },
      "execution_count": 5,
      "outputs": [
        {
          "output_type": "execute_result",
          "data": {
            "text/plain": [
              "False"
            ]
          },
          "metadata": {},
          "execution_count": 5
        }
      ]
    },
    {
      "cell_type": "markdown",
      "source": [
        "Plot the heatmap of the correlation matrix between features **(P1-2: 3 points)**"
      ],
      "metadata": {
        "id": "VF5wHd-8b-aE"
      }
    },
    {
      "cell_type": "code",
      "source": [
        "df_features = df.drop('Type', axis = 1)\n",
        "sns.heatmap(df_features.corr())"
      ],
      "metadata": {
        "execution": {
          "iopub.status.busy": "2023-05-24T06:43:36.794295Z",
          "iopub.execute_input": "2023-05-24T06:43:36.794843Z",
          "iopub.status.idle": "2023-05-24T06:43:37.411526Z",
          "shell.execute_reply.started": "2023-05-24T06:43:36.794803Z",
          "shell.execute_reply": "2023-05-24T06:43:37.410238Z"
        },
        "trusted": true,
        "id": "NP0TksdUUmDI",
        "colab": {
          "base_uri": "https://localhost:8080/",
          "height": 558
        },
        "outputId": "984bbe3a-21cd-455d-d421-24e2e7e9cf10"
      },
      "execution_count": 6,
      "outputs": [
        {
          "output_type": "execute_result",
          "data": {
            "text/plain": [
              "<Axes: >"
            ]
          },
          "metadata": {},
          "execution_count": 6
        },
        {
          "output_type": "display_data",
          "data": {
            "text/plain": [
              "<Figure size 640x480 with 2 Axes>"
            ],
            "image/png": "[encoded data removed]"
          },
          "metadata": {}
        }
      ]
    },
    {
      "cell_type": "markdown",
      "source": [
        "Remove features which are highly correlated (> 95%) with the other ones **(P1-3: 5 points)**"
      ],
      "metadata": {
        "id": "DC874nRgcG38"
      }
    },
    {
      "cell_type": "code",
      "source": [
        "corr_matrix = df_features.corr()\n",
        "upper = corr_matrix.where(np.triu(np.ones(corr_matrix.shape), k=1).astype(np.bool))\n",
        "# find features with correlation greater than 0.95\n",
        "to_drop = [column for column in upper.columns if any(upper[column] > 0.95)]\n",
        "# drop highly correlated features\n",
        "df.drop(to_drop, axis=1, inplace=True)"
      ],
      "metadata": {
        "execution": {
          "iopub.status.busy": "2023-05-24T06:47:34.398266Z",
          "iopub.execute_input": "2023-05-24T06:47:34.398700Z",
          "iopub.status.idle": "2023-05-24T06:47:34.418229Z",
          "shell.execute_reply.started": "2023-05-24T06:47:34.398658Z",
          "shell.execute_reply": "2023-05-24T06:47:34.417048Z"
        },
        "trusted": true,
        "id": "yPdwUIV4UmDJ",
        "colab": {
          "base_uri": "https://localhost:8080/"
        },
        "outputId": "da2a5725-568f-43da-fd29-d7d4e5df50f3"
      },
      "execution_count": 7,
      "outputs": [
        {
          "output_type": "stream",
          "name": "stderr",
          "text": [
            "<ipython-input-7-4d8f9c658046>:2: DeprecationWarning: `np.bool` is a deprecated alias for the builtin `bool`. To silence this warning, use `bool` by itself. Doing this will not modify any behavior and is safe. If you specifically wanted the numpy scalar type, use `np.bool_` here.\n",
            "Deprecated in NumPy 1.20; for more details and guidance: https://numpy.org/devdocs/release/1.20.0-notes.html#deprecations\n",
            "  upper = corr_matrix.where(np.triu(np.ones(corr_matrix.shape), k=1).astype(np.bool))\n"
          ]
        }
      ]
    },
    {
      "cell_type": "code",
      "source": [
        "df"
      ],
      "metadata": {
        "colab": {
          "base_uri": "https://localhost:8080/",
          "height": 423
        },
        "id": "R87NVwCTXpQP",
        "outputId": "14d561de-1772-4c3e-a685-f64b7bc0cee3"
      },
      "execution_count": 8,
      "outputs": [
        {
          "output_type": "execute_result",
          "data": {
            "text/plain": [
              "      Area  Compactness  Asymmetry.Coeff  Kernel.Groove  Type\n",
              "0    15.26       0.8710            2.221          5.220     1\n",
              "1    14.88       0.8811            1.018          4.956     1\n",
              "2    14.29       0.9050            2.699          4.825     1\n",
              "3    13.84       0.8955            2.259          4.805     1\n",
              "4    16.14       0.9034            1.355          5.175     1\n",
              "..     ...          ...              ...            ...   ...\n",
              "194  12.19       0.8783            3.631          4.870     3\n",
              "195  11.23       0.8511            4.325          5.003     3\n",
              "196  13.20       0.8883            8.315          5.056     3\n",
              "197  11.84       0.8521            3.598          5.044     3\n",
              "198  12.30       0.8684            5.637          5.063     3\n",
              "\n",
              "[199 rows x 5 columns]"
            ],
            "text/html": [
              "\n",
              "  <div id=\"df-0ebe6b77-8d4b-4394-91e8-cfeef1652bb6\">\n",
              "    <div class=\"colab-df-container\">\n",
              "      <div>\n",
              "<style scoped>\n",
              "    .dataframe tbody tr th:only-of-type {\n",
              "        vertical-align: middle;\n",
              "    }\n",
              "\n",
              "    .dataframe tbody tr th {\n",
              "        vertical-align: top;\n",
              "    }\n",
              "\n",
              "    .dataframe thead th {\n",
              "        text-align: right;\n",
              "    }\n",
              "</style>\n",
              "<table border=\"1\" class=\"dataframe\">\n",
              "  <thead>\n",
              "    <tr style=\"text-align: right;\">\n",
              "      <th></th>\n",
              "      <th>Area</th>\n",
              "      <th>Compactness</th>\n",
              "      <th>Asymmetry.Coeff</th>\n",
              "      <th>Kernel.Groove</th>\n",
              "      <th>Type</th>\n",
              "    </tr>\n",
              "  </thead>\n",
              "  <tbody>\n",
              "    <tr>\n",
              "      <th>0</th>\n",
              "      <td>15.26</td>\n",
              "      <td>0.8710</td>\n",
              "      <td>2.221</td>\n",
              "      <td>5.220</td>\n",
              "      <td>1</td>\n",
              "    </tr>\n",
              "    <tr>\n",
              "      <th>1</th>\n",
              "      <td>14.88</td>\n",
              "      <td>0.8811</td>\n",
              "      <td>1.018</td>\n",
              "      <td>4.956</td>\n",
              "      <td>1</td>\n",
              "    </tr>\n",
              "    <tr>\n",
              "      <th>2</th>\n",
              "      <td>14.29</td>\n",
              "      <td>0.9050</td>\n",
              "      <td>2.699</td>\n",
              "      <td>4.825</td>\n",
              "      <td>1</td>\n",
              "    </tr>\n",
              "    <tr>\n",
              "      <th>3</th>\n",
              "      <td>13.84</td>\n",
              "      <td>0.8955</td>\n",
              "      <td>2.259</td>\n",
              "      <td>4.805</td>\n",
              "      <td>1</td>\n",
              "    </tr>\n",
              "    <tr>\n",
              "      <th>4</th>\n",
              "      <td>16.14</td>\n",
              "      <td>0.9034</td>\n",
              "      <td>1.355</td>\n",
              "      <td>5.175</td>\n",
              "      <td>1</td>\n",
              "    </tr>\n",
              "    <tr>\n",
              "      <th>...</th>\n",
              "      <td>...</td>\n",
              "      <td>...</td>\n",
              "      <td>...</td>\n",
              "      <td>...</td>\n",
              "      <td>...</td>\n",
              "    </tr>\n",
              "    <tr>\n",
              "      <th>194</th>\n",
              "      <td>12.19</td>\n",
              "      <td>0.8783</td>\n",
              "      <td>3.631</td>\n",
              "      <td>4.870</td>\n",
              "      <td>3</td>\n",
              "    </tr>\n",
              "    <tr>\n",
              "      <th>195</th>\n",
              "      <td>11.23</td>\n",
              "      <td>0.8511</td>\n",
              "      <td>4.325</td>\n",
              "      <td>5.003</td>\n",
              "      <td>3</td>\n",
              "    </tr>\n",
              "    <tr>\n",
              "      <th>196</th>\n",
              "      <td>13.20</td>\n",
              "      <td>0.8883</td>\n",
              "      <td>8.315</td>\n",
              "      <td>5.056</td>\n",
              "      <td>3</td>\n",
              "    </tr>\n",
              "    <tr>\n",
              "      <th>197</th>\n",
              "      <td>11.84</td>\n",
              "      <td>0.8521</td>\n",
              "      <td>3.598</td>\n",
              "      <td>5.044</td>\n",
              "      <td>3</td>\n",
              "    </tr>\n",
              "    <tr>\n",
              "      <th>198</th>\n",
              "      <td>12.30</td>\n",
              "      <td>0.8684</td>\n",
              "      <td>5.637</td>\n",
              "      <td>5.063</td>\n",
              "      <td>3</td>\n",
              "    </tr>\n",
              "  </tbody>\n",
              "</table>\n",
              "<p>199 rows × 5 columns</p>\n",
              "</div>\n",
              "      <button class=\"colab-df-convert\" onclick=\"convertToInteractive('df-0ebe6b77-8d4b-4394-91e8-cfeef1652bb6')\"\n",
              "              title=\"Convert this dataframe to an interactive table.\"\n",
              "              style=\"display:none;\">\n",
              "        \n",
              "  <svg xmlns=\"http://www.w3.org/2000/svg\" height=\"24px\"viewBox=\"0 0 24 24\"\n",
              "       width=\"24px\">\n",
              "    <path d=\"M0 0h24v24H0V0z\" fill=\"none\"/>\n",
              "    <path d=\"M18.56 5.44l.94 2.06.94-2.06 2.06-.94-2.06-.94-.94-2.06-.94 2.06-2.06.94zm-11 1L8.5 8.5l.94-2.06 2.06-.94-2.06-.94L8.5 2.5l-.94 2.06-2.06.94zm10 10l.94 2.06.94-2.06 2.06-.94-2.06-.94-.94-2.06-.94 2.06-2.06.94z\"/><path d=\"M17.41 7.96l-1.37-1.37c-.4-.4-.92-.59-1.43-.59-.52 0-1.04.2-1.43.59L10.3 9.45l-7.72 7.72c-.78.78-.78 2.05 0 2.83L4 21.41c.39.39.9.59 1.41.59.51 0 1.02-.2 1.41-.59l7.78-7.78 2.81-2.81c.8-.78.8-2.07 0-2.86zM5.41 20L4 18.59l7.72-7.72 1.47 1.35L5.41 20z\"/>\n",
              "  </svg>\n",
              "      </button>\n",
              "      \n",
              "  <style>\n",
              "    .colab-df-container {\n",
              "      display:flex;\n",
              "      flex-wrap:wrap;\n",
              "      gap: 12px;\n",
              "    }\n",
              "\n",
              "    .colab-df-convert {\n",
              "      background-color: #E8F0FE;\n",
              "      border: none;\n",
              "      border-radius: 50%;\n",
              "      cursor: pointer;\n",
              "      display: none;\n",
              "      fill: #1967D2;\n",
              "      height: 32px;\n",
              "      padding: 0 0 0 0;\n",
              "      width: 32px;\n",
              "    }\n",
              "\n",
              "    .colab-df-convert:hover {\n",
              "      background-color: #E2EBFA;\n",
              "      box-shadow: 0px 1px 2px rgba(60, 64, 67, 0.3), 0px 1px 3px 1px rgba(60, 64, 67, 0.15);\n",
              "      fill: #174EA6;\n",
              "    }\n",
              "\n",
              "    [theme=dark] .colab-df-convert {\n",
              "      background-color: #3B4455;\n",
              "      fill: #D2E3FC;\n",
              "    }\n",
              "\n",
              "    [theme=dark] .colab-df-convert:hover {\n",
              "      background-color: #434B5C;\n",
              "      box-shadow: 0px 1px 3px 1px rgba(0, 0, 0, 0.15);\n",
              "      filter: drop-shadow(0px 1px 2px rgba(0, 0, 0, 0.3));\n",
              "      fill: #FFFFFF;\n",
              "    }\n",
              "  </style>\n",
              "\n",
              "      <script>\n",
              "        const buttonEl =\n",
              "          document.querySelector('#df-0ebe6b77-8d4b-4394-91e8-cfeef1652bb6 button.colab-df-convert');\n",
              "        buttonEl.style.display =\n",
              "          google.colab.kernel.accessAllowed ? 'block' : 'none';\n",
              "\n",
              "        async function convertToInteractive(key) {\n",
              "          const element = document.querySelector('#df-0ebe6b77-8d4b-4394-91e8-cfeef1652bb6');\n",
              "          const dataTable =\n",
              "            await google.colab.kernel.invokeFunction('convertToInteractive',\n",
              "                                                     [key], {});\n",
              "          if (!dataTable) return;\n",
              "\n",
              "          const docLinkHtml = 'Like what you see? Visit the ' +\n",
              "            '<a target=\"_blank\" href=https://colab.research.google.com/notebooks/data_table.ipynb>data table notebook</a>'\n",
              "            + ' to learn more about interactive tables.';\n",
              "          element.innerHTML = '';\n",
              "          dataTable['output_type'] = 'display_data';\n",
              "          await google.colab.output.renderOutput(dataTable, element);\n",
              "          const docLink = document.createElement('div');\n",
              "          docLink.innerHTML = docLinkHtml;\n",
              "          element.appendChild(docLink);\n",
              "        }\n",
              "      </script>\n",
              "    </div>\n",
              "  </div>\n",
              "  "
            ]
          },
          "metadata": {},
          "execution_count": 8
        }
      ]
    },
    {
      "cell_type": "markdown",
      "source": [
        "Check for imbalance between classes **(P1-4: 3 points)**"
      ],
      "metadata": {
        "id": "2O2NEn6McNgN"
      }
    },
    {
      "cell_type": "code",
      "source": [
        "print(len(df[df.Type == 1]))\n",
        "print(len(df[df.Type == 2]))\n",
        "print(len(df[df.Type == 3]))\n",
        "# There is no significant imbalance between classes"
      ],
      "metadata": {
        "execution": {
          "iopub.status.busy": "2023-05-24T06:50:13.895162Z",
          "iopub.execute_input": "2023-05-24T06:50:13.895599Z",
          "iopub.status.idle": "2023-05-24T06:50:13.905600Z",
          "shell.execute_reply.started": "2023-05-24T06:50:13.895565Z",
          "shell.execute_reply": "2023-05-24T06:50:13.904313Z"
        },
        "trusted": true,
        "id": "jfApFEhjUmDJ",
        "colab": {
          "base_uri": "https://localhost:8080/"
        },
        "outputId": "9d4ce631-cc02-48fc-b1ab-edcf8f656fe8"
      },
      "execution_count": 9,
      "outputs": [
        {
          "output_type": "stream",
          "name": "stdout",
          "text": [
            "66\n",
            "68\n",
            "65\n"
          ]
        }
      ]
    },
    {
      "cell_type": "markdown",
      "source": [
        "## P2: Prepare the Training Data"
      ],
      "metadata": {
        "id": "iqg_DkvfUmDK"
      }
    },
    {
      "cell_type": "markdown",
      "source": [
        "Convert features and the target into numpy arrays **(P2-1: 2 points)**"
      ],
      "metadata": {
        "id": "SNbqym9_cfX7"
      }
    },
    {
      "cell_type": "code",
      "source": [
        "df_features = df.drop('Type', axis = 1)\n",
        "df_target = df['Type']\n",
        "x_np = df_features.to_numpy()\n",
        "y_np = df_target.to_numpy()"
      ],
      "metadata": {
        "execution": {
          "iopub.status.busy": "2023-05-24T06:53:36.362537Z",
          "iopub.execute_input": "2023-05-24T06:53:36.362962Z",
          "iopub.status.idle": "2023-05-24T06:53:36.372547Z",
          "shell.execute_reply.started": "2023-05-24T06:53:36.362921Z",
          "shell.execute_reply": "2023-05-24T06:53:36.371066Z"
        },
        "trusted": true,
        "id": "bjIaMSwDUmDK"
      },
      "execution_count": 10,
      "outputs": []
    },
    {
      "cell_type": "markdown",
      "source": [
        "Split the samples into training (80%) and testing (20%) arrays **(P2-2: 5 points)**"
      ],
      "metadata": {
        "id": "WAbTVPmsc_NZ"
      }
    },
    {
      "cell_type": "code",
      "source": [
        "x_train, x_test, y_train, y_test = train_test_split(x_np, y_np, test_size=0.2)"
      ],
      "metadata": {
        "execution": {
          "iopub.status.busy": "2023-05-24T06:55:50.649173Z",
          "iopub.execute_input": "2023-05-24T06:55:50.649684Z",
          "iopub.status.idle": "2023-05-24T06:55:50.657736Z",
          "shell.execute_reply.started": "2023-05-24T06:55:50.649644Z",
          "shell.execute_reply": "2023-05-24T06:55:50.656442Z"
        },
        "trusted": true,
        "id": "tuVoQeG5UmDK"
      },
      "execution_count": 11,
      "outputs": []
    },
    {
      "cell_type": "markdown",
      "source": [
        "## P3: Decision Tree Implementation"
      ],
      "metadata": {
        "id": "vK8uumlAUmDL"
      }
    },
    {
      "cell_type": "markdown",
      "source": [
        "Implement desicion tree for classification from scratch **(P3-1: 20 points)**"
      ],
      "metadata": {
        "id": "cjUlsiCYdd69"
      }
    },
    {
      "cell_type": "code",
      "source": [
        "class DecisionTree:\n",
        "     \n",
        "    def __init__(self, criterion=\"entropy\", max_depth=None):\n",
        "        \"\"\"\n",
        "        Parameters:\n",
        "        \n",
        "        criterion -- “gini” for the Gini impurity and “entropy” for the Information Gain. (default “entropy”)\n",
        "        max_depth -- The maximum depth of the tree. If None, then nodes are expanded until all leaves are pure. (default=None)\n",
        "        \"\"\"\n",
        "        self.criterion = criterion\n",
        "        self.max_depth = max_depth\n",
        "    \n",
        "    def fit(self, X, y):\n",
        "        \"\"\"\n",
        "        Build a decision tree classifier from the training set (X, y).\n",
        "\n",
        "        Returns:\n",
        "        self : Fitted estimator\n",
        "        \"\"\"\n",
        "        # Convert inputs to array if they are not already\n",
        "        X = np.asarray(X)\n",
        "        y = np.asarray(y)\n",
        "        \n",
        "        # Recursively build the tree\n",
        "        self.tree_ = self._build_tree(X, y, depth=0)\n",
        "        \n",
        "        return self\n",
        "    \n",
        "    def predict(self, X):\n",
        "        \"\"\"\n",
        "        Predict class value for X.\n",
        "\n",
        "        Returns:\n",
        "        y : The predicted classes\n",
        "        \"\"\"\n",
        "        X = np.asarray(X)\n",
        "        y = [self._traverse_tree(x, self.tree_) for x in X]\n",
        "        \n",
        "        return np.asarray(y)\n",
        "    \n",
        "    def _build_tree(self, X, y, depth):\n",
        "        n_samples, n_features = X.shape\n",
        "        if (self.max_depth is not None and depth >= self.max_depth) or len(np.unique(y)) == 1:\n",
        "            leaf_value = self._get_leaf_value(y)\n",
        "            return {'is_leaf': True, 'class': leaf_value}\n",
        "        \n",
        "        feature_idxs = np.random.choice(n_features, size=int(np.sqrt(n_features)), replace=False)\n",
        "        best_feature, best_split = self._get_best_split(X, y, feature_idxs)\n",
        "        \n",
        "        if best_split['impurity'] == 0:\n",
        "            leaf_value = self._get_leaf_value(y)\n",
        "            return {'is_leaf': True, 'class': leaf_value}\n",
        "        \n",
        "        left_idxs = X[:, best_feature] <= best_split['value']\n",
        "        right_idxs = X[:, best_feature] > best_split['value']\n",
        "        left_tree = self._build_tree(X[left_idxs], y[left_idxs], depth + 1)\n",
        "        right_tree = self._build_tree(X[right_idxs], y[right_idxs], depth + 1)\n",
        "        \n",
        "        return {'is_leaf': False, 'feature_idx': best_feature, 'split': best_split, 'left': left_tree, 'right': right_tree}\n",
        "    \n",
        "    def _get_best_split(self, X, y, feature_idxs):\n",
        "        best_feature = None\n",
        "        best_split = {'feature_idx': -1, 'value': -1, 'impurity': 0}\n",
        "        best_impurity = float('inf')\n",
        "        \n",
        "        for feature_idx in feature_idxs:\n",
        "            feature_values = np.unique(X[:, feature_idx])\n",
        "            for value in feature_values:\n",
        "                left_idxs = X[:, feature_idx] <= value\n",
        "                right_idxs = X[:, feature_idx] > value\n",
        "                left_y = y[left_idxs]\n",
        "                right_y = y[right_idxs]\n",
        "                \n",
        "                if self.criterion == 'entropy':\n",
        "                    left_impurity = self._entropy(left_y)\n",
        "                    right_impurity = self._entropy(right_y)\n",
        "                    impurity = (len(left_y) / len(y)) * left_impurity + (len(right_y) / len(y)) * right_impurity\n",
        "                else:\n",
        "                    left_impurity = self._gini_impurity(left_y)\n",
        "                    right_impurity = self._gini_impurity(right_y)\n",
        "                    impurity = (len(left_y) / len(y)) * left_impurity + (len(right_y) / len(y)) * right_impurity\n",
        "                \n",
        "                if impurity < best_impurity:\n",
        "                    best_feature = feature_idx\n",
        "                    best_split = {'feature_idx': feature_idx, 'value': value, 'impurity': impurity}\n",
        "                    best_impurity = impurity\n",
        "        \n",
        "        return best_feature, best_split\n",
        "    \n",
        "    def _traverse_tree(self, x, tree):\n",
        "        if tree['is_leaf']:\n",
        "            return tree['class']\n",
        "        else:\n",
        "            if x[tree['feature_idx']] <= tree['split']['value']:\n",
        "                return self._traverse_tree(x, tree['left'])\n",
        "            else:\n",
        "                return self._traverse_tree(x, tree['right'])\n",
        "    \n",
        "    def _get_leaf_value(self, y):\n",
        "        unique, counts = np.unique(y, return_counts=True)\n",
        "        return unique[np.argmax(counts)]\n",
        "    \n",
        "    def _entropy(self, y):\n",
        "        _, counts = np.unique(y, return_counts=True)\n",
        "        probs = counts / len(y)\n",
        "        entropy = -np.sum(probs * np.log2(probs))\n",
        "        return entropy\n",
        "    \n",
        "    def _gini_impurity(self, y):\n",
        "        _, counts = np.unique(y, return_counts=True)\n",
        "        probs = counts / len(y)\n",
        "        impurity = 1 - np.sum(probs ** 2)\n",
        "        return impurity"
      ],
      "metadata": {
        "id": "b9N9B5KpUmDL"
      },
      "execution_count": 12,
      "outputs": []
    },
    {
      "cell_type": "markdown",
      "source": [
        "Define two decision trees with two different criteria **(P3-2: 3 points)**"
      ],
      "metadata": {
        "id": "0zZRBqIwdjfX"
      }
    },
    {
      "cell_type": "code",
      "source": [
        "decision_tree_entropy = DecisionTree(criterion = 'entropy')\n",
        "decision_tree_gini = DecisionTree(criterion = 'gini')"
      ],
      "metadata": {
        "id": "48Gvh2AvUmDM"
      },
      "execution_count": 13,
      "outputs": []
    },
    {
      "cell_type": "markdown",
      "source": [
        "Fit the defined decision trees on training samples **(P3-3: 2 points)**"
      ],
      "metadata": {
        "id": "yP1tHIzsdvdf"
      }
    },
    {
      "cell_type": "code",
      "source": [
        "decision_tree_entropy.fit(x_train, y_train)\n",
        "decision_tree_gini.fit(x_train, y_train)"
      ],
      "metadata": {
        "id": "hYINieZEUmDM",
        "colab": {
          "base_uri": "https://localhost:8080/"
        },
        "outputId": "4bc27d17-b608-492e-8cd5-a9eb442f567d"
      },
      "execution_count": 14,
      "outputs": [
        {
          "output_type": "execute_result",
          "data": {
            "text/plain": [
              "<__main__.DecisionTree at 0x7fc4e2cdfaf0>"
            ]
          },
          "metadata": {},
          "execution_count": 14
        }
      ]
    },
    {
      "cell_type": "markdown",
      "source": [
        "Get the results on the test set **(P3-4: 5 points)**"
      ],
      "metadata": {
        "id": "8OFAB5DZdz7s"
      }
    },
    {
      "cell_type": "code",
      "source": [
        "preds_entropy = decision_tree_entropy.predict(x_test)\n",
        "preds_gini = decision_tree_gini.predict(x_test)\n",
        "\n",
        "print(np.sum((preds_entropy == y_test)) / len(y_test))\n",
        "print(np.sum((preds_gini == y_test)) / len(y_test))\n"
      ],
      "metadata": {
        "id": "4PSIJEkmUmDM",
        "colab": {
          "base_uri": "https://localhost:8080/"
        },
        "outputId": "4f82a1e8-93c9-4148-d9c9-ecee4cd0b075"
      },
      "execution_count": 15,
      "outputs": [
        {
          "output_type": "stream",
          "name": "stdout",
          "text": [
            "0.925\n",
            "0.775\n"
          ]
        }
      ]
    },
    {
      "cell_type": "markdown",
      "source": [
        "Train the decision trees, considering the values [1,2,3,4,5] as the maximum depth **(P3-5: 5 points)**"
      ],
      "metadata": {
        "id": "4fVMCCuMd6uC"
      }
    },
    {
      "cell_type": "code",
      "source": [
        "decision_tree_entropy = DecisionTree(criterion = 'entropy', max_depth = 5)\n",
        "decision_tree_gini = DecisionTree(criterion = 'gini', max_depth = 5)\n",
        "\n",
        "\n",
        "decision_tree_entropy.fit(x_train, y_train)\n",
        "decision_tree_gini.fit(x_train, y_train)\n",
        "\n",
        "preds_entropy = decision_tree_entropy.predict(x_test)\n",
        "preds_gini = decision_tree_gini.predict(x_test)\n",
        "\n",
        "print(np.sum((preds_entropy == y_test)) / len(y_test))\n",
        "print(np.sum((preds_gini == y_test)) / len(y_test))"
      ],
      "metadata": {
        "id": "W6iKq_N6UmDM",
        "colab": {
          "base_uri": "https://localhost:8080/"
        },
        "outputId": "08548854-eaaf-4b7d-821f-add499f6da1e"
      },
      "execution_count": 16,
      "outputs": [
        {
          "output_type": "stream",
          "name": "stdout",
          "text": [
            "0.95\n",
            "0.75\n"
          ]
        }
      ]
    },
    {
      "cell_type": "markdown",
      "source": [
        "Compare the accuracy score of the decision trees with and without using the \"max_depth\" parameter and discuss the effects of limiting the maximum depth of decision trees. **(P3-6: 5 points)**"
      ],
      "metadata": {
        "id": "RzSv_Rb5eR6M"
      }
    },
    {
      "cell_type": "code",
      "source": [
        "# generally, setting max depth is helpful in increasing accuracy\n",
        "'''\n",
        "The \"max_depth\" parameter limits the maximum depth of the decision tree,\n",
        " which can prevent overfitting to the training data.\n",
        "\n",
        "Without using the \"max_depth\" parameter, the decision tree can continue\n",
        " to split the data until each leaf node only contains one sample. \n",
        " This can result in a very complex and overfitted model, which may\n",
        "  not perform well on new, unseen data. \n",
        "\n",
        "On the other hand, by limiting the maximum depth of the decision tree,\n",
        " we can prevent it from becoming too complex and overfitting the training data.\n",
        "  This can improve the generalization performance of the model on new data.\n",
        "'''"
      ],
      "metadata": {
        "id": "Si-JEqhsUmDN",
        "colab": {
          "base_uri": "https://localhost:8080/",
          "height": 90
        },
        "outputId": "bf1940a8-df77-46e9-c590-9be7e6f8e992"
      },
      "execution_count": 17,
      "outputs": [
        {
          "output_type": "execute_result",
          "data": {
            "text/plain": [
              "'\\nThe \"max_depth\" parameter limits the maximum depth of the decision tree,\\n which can prevent overfitting to the training data.\\n\\nWithout using the \"max_depth\" parameter, the decision tree can continue\\n to split the data until each leaf node only contains one sample. \\n This can result in a very complex and overfitted model, which may\\n  not perform well on new, unseen data. \\n\\nOn the other hand, by limiting the maximum depth of the decision tree,\\n we can prevent it from becoming too complex and overfitting the training data.\\n  This can improve the generalization performance of the model on new data.\\n'"
            ],
            "application/vnd.google.colaboratory.intrinsic+json": {
              "type": "string"
            }
          },
          "metadata": {},
          "execution_count": 17
        }
      ]
    },
    {
      "cell_type": "markdown",
      "source": [
        "## P4: Ensemble Models"
      ],
      "metadata": {
        "id": "FDJ3KWH2UmDN"
      }
    },
    {
      "cell_type": "markdown",
      "source": [
        "### P4-1: Bagging"
      ],
      "metadata": {
        "id": "CoVu14uOUmDN"
      }
    },
    {
      "cell_type": "markdown",
      "source": [
        "Implement the bagging algorithm for classification from scratch **(P4-1-1: 15 points)**"
      ],
      "metadata": {
        "id": "QSFF3YN2exyE"
      }
    },
    {
      "cell_type": "code",
      "source": [
        "class BaggingDecisionTree:\n",
        "     \n",
        "    def __init__(self, bootstraped_training_num=50, predictors_num=50):\n",
        "        \"\"\"\n",
        "        Parameters:\n",
        "        \n",
        "        bootstraped_training_num -- The number of training sets we are gonna have\n",
        "        predictors_num -- The number of predictors we want to use for each test sample\n",
        "        \"\"\"\n",
        "        self.bootstraped_training_num = bootstraped_training_num\n",
        "        self.predictors_num = predictors_num\n",
        "        self.classifiers_ = []\n",
        "        \n",
        "    def fit(self, X, y):\n",
        "        \"\"\"\n",
        "        Create `self.bootstraped_training_num` training sets by random sampling of the input training elements with replacement.\n",
        "        Then create the same number of classifiers and fit each classifier on the corresponding training set.\n",
        "        \n",
        "        Paramters:\n",
        "        X : training features array\n",
        "        y : target array\n",
        "        \n",
        "        Returns:\n",
        "        self : Fitted estimator\n",
        "        \"\"\"\n",
        "        X = np.asarray(X)\n",
        "        y = np.asarray(y)\n",
        "        \n",
        "        n_samples = X.shape[0]\n",
        "        bootstraped_samples_num = int(n_samples * 0.8)\n",
        "        \n",
        "        for i in range(self.bootstraped_training_num):\n",
        "            bootstrap_idxs = np.random.choice(n_samples, size=bootstraped_samples_num, replace=True)\n",
        "            X_bootstrap = X[bootstrap_idxs]\n",
        "            y_bootstrap = y[bootstrap_idxs]\n",
        "            \n",
        "            clf = DecisionTree()\n",
        "            clf.fit(X_bootstrap, y_bootstrap)\n",
        "            self.classifiers_.append(clf)\n",
        "        \n",
        "        return self\n",
        "    \n",
        "    def predict(self, X):\n",
        "        \"\"\"\n",
        "        Predict class value for X using majority voting of `self.predictors_num` classifiers.\n",
        "\n",
        "        Parameters:\n",
        "        X : training features array\n",
        "        \n",
        "        Returns:\n",
        "        y : The predicted classes\n",
        "        \"\"\"\n",
        "        X = np.asarray(X)\n",
        "        \n",
        "        y_votes = np.zeros((X.shape[0], len(self.classifiers_)))\n",
        "        for i, clf in enumerate(self.classifiers_):\n",
        "            y_votes[:, i] = clf.predict(X)\n",
        "\n",
        "        y_votes = y_votes.astype(int)\n",
        "        y_pred = np.zeros(X.shape[0])\n",
        "        for i in range(X.shape[0]):\n",
        "            y_pred[i] = np.bincount(y_votes[i]).argmax()\n",
        "        \n",
        "        return y_pred"
      ],
      "metadata": {
        "id": "Fftoht45UmDN"
      },
      "execution_count": 18,
      "outputs": []
    },
    {
      "cell_type": "markdown",
      "source": [
        "Create an instance of the BaggingDecisionTree class with `bootstraped_training_num=50`, `predictors_num=50` and fit it on the training data **(P4-1-2: 3 points)**"
      ],
      "metadata": {
        "id": "2g__7Wppe-8x"
      }
    },
    {
      "cell_type": "code",
      "source": [
        "bagging1 = BaggingDecisionTree(bootstraped_training_num=50, predictors_num=50)\n",
        "bagging1.fit(x_train, y_train)"
      ],
      "metadata": {
        "execution": {
          "iopub.status.busy": "2023-05-24T07:37:02.732776Z",
          "iopub.execute_input": "2023-05-24T07:37:02.733345Z",
          "iopub.status.idle": "2023-05-24T07:37:02.755458Z",
          "shell.execute_reply.started": "2023-05-24T07:37:02.733301Z",
          "shell.execute_reply": "2023-05-24T07:37:02.754110Z"
        },
        "trusted": true,
        "id": "0DO4IpI8UmDO",
        "colab": {
          "base_uri": "https://localhost:8080/"
        },
        "outputId": "f230e13d-a8f5-4c6e-9f76-6ab61f37bd2a"
      },
      "execution_count": 19,
      "outputs": [
        {
          "output_type": "execute_result",
          "data": {
            "text/plain": [
              "<__main__.BaggingDecisionTree at 0x7fc4e2d3f820>"
            ]
          },
          "metadata": {},
          "execution_count": 19
        }
      ]
    },
    {
      "cell_type": "markdown",
      "source": [
        "Create another instance of the BaggingDecisionTree class with `bootstraped_training_num=50`, `predictors_num=7` and fit it on the training data **(P4-1-3: 2 points)**"
      ],
      "metadata": {
        "id": "C3P5M4QtfOn4"
      }
    },
    {
      "cell_type": "code",
      "source": [
        "bagging2 = BaggingDecisionTree(bootstraped_training_num=50, predictors_num=7)\n",
        "bagging2.fit(x_train, y_train)"
      ],
      "metadata": {
        "id": "aovAzNhPUmDO",
        "colab": {
          "base_uri": "https://localhost:8080/"
        },
        "outputId": "59486593-35fa-43b6-a867-ef2218f82e86"
      },
      "execution_count": 20,
      "outputs": [
        {
          "output_type": "execute_result",
          "data": {
            "text/plain": [
              "<__main__.BaggingDecisionTree at 0x7fc4e2d3ef20>"
            ]
          },
          "metadata": {},
          "execution_count": 20
        }
      ]
    },
    {
      "cell_type": "markdown",
      "source": [
        "Test the created models on the test set. Discuss differences of two approaches we adopted. **(P4-1-4: 5 points)**"
      ],
      "metadata": {
        "id": "wbncvgGBoiHF"
      }
    },
    {
      "cell_type": "code",
      "source": [
        "preds_bag_1 = bagging1.predict(x_test)\n",
        "preds_bag_2 = bagging2.predict(x_test)\n",
        "\n",
        "\n",
        "print(np.sum(preds_bag_1 == y_test) / len(y_test))\n",
        "print(np.sum(preds_bag_2 == y_test) / len(y_test))"
      ],
      "metadata": {
        "id": "4R7mpMH3oqnM",
        "colab": {
          "base_uri": "https://localhost:8080/"
        },
        "outputId": "2c5dc274-0d5b-4694-9db3-1e3508f934f7"
      },
      "execution_count": 21,
      "outputs": [
        {
          "output_type": "stream",
          "name": "stdout",
          "text": [
            "0.85\n",
            "0.925\n"
          ]
        }
      ]
    },
    {
      "cell_type": "markdown",
      "source": [
        "### P4-2: Boosting"
      ],
      "metadata": {
        "id": "oZDz7B3DUmDO"
      }
    },
    {
      "cell_type": "markdown",
      "source": [
        "Implement the Adaboost algorithm for classification from scratch **(P4-2-1: 10 points)**"
      ],
      "metadata": {
        "id": "rJhWmus3pDHI"
      }
    },
    {
      "cell_type": "code",
      "source": [
        "from sklearn.tree import DecisionTreeClassifier\n",
        "\n",
        "class AdaBoost:\n",
        "     \n",
        "    def __init__(self, weak_classifiers_count=50):\n",
        "        \"\"\"\n",
        "        Parameters:\n",
        "        weak_classifiers_count -- The number of weak classifiers we are gonna have\n",
        "        \"\"\"\n",
        "        self.weak_classifiers_n = weak_classifiers_count\n",
        "    \n",
        "    def _compute_error(self, y_true, y_pred, w):\n",
        "        errors = []\n",
        "        for k in range(self.class_count):\n",
        "            check = (y_true == k+1)\n",
        "            errors.append(np.sum(w[check] * (y_true[check] != y_pred[check])) / np.sum(w[check]))\n",
        "        return np.mean(errors)\n",
        "    \n",
        "    def _compute_alpha(self, error):\n",
        "        return np.log((1 - error) / (error + 1e-10)) + np.log(self.class_count-1)\n",
        "\n",
        "    def _give_prediction(self, X, y, sample_weight):\n",
        "      # Train\n",
        "      classifier = DecisionTreeClassifier(max_depth=1)\n",
        "      classifier.fit(X, y, sample_weight=sample_weight)\n",
        "\n",
        "      y_pred = classifier.predict(X)\n",
        "      return classifier, y_pred\n",
        "\n",
        "    def _do_fit_related_things(self, errors, X, y, weights):\n",
        "       for i in range(self.weak_classifiers_n):\n",
        "            classifier, y_pred = self._give_prediction(X, y, sample_weight=weights)\n",
        "            \n",
        "            errors[i] = self._compute_error(y, y_pred, weights)\n",
        "            self._alphas[i] = self._compute_alpha(errors[i])\n",
        "            \n",
        "            weights *= np.exp(self._alphas[i] * (y != y_pred))\n",
        "            weights /= np.sum(weights)\n",
        "            \n",
        "            self._classifiers.append(classifier)\n",
        "\n",
        "    def fit(self, X, y):\n",
        "        \"\"\"\n",
        "        Fit the AdaBoost on training data. take DecisionTree with max_depth of 1 as your weak classifier.\n",
        "        \n",
        "        Paramters:\n",
        "        X : training features array\n",
        "        y : target array\n",
        "        \n",
        "        Returns:\n",
        "        self : Fitted estimator\n",
        "        \n",
        "        \"\"\"\n",
        "        weights = np.full(y.shape[0], 1 / y.shape[0])\n",
        "        errors = np.empty(self.weak_classifiers_n)\n",
        "\n",
        "        self.class_count = len(np.unique(y))\n",
        "        self._classifiers = []\n",
        "        self._alphas = np.empty(self.weak_classifiers_n)\n",
        "        self._do_fit_related_things(errors, X, y, weights)\n",
        "        \n",
        "       \n",
        "    \n",
        "    def predict(self, X):\n",
        "        \"\"\"\n",
        "        Predict class value for X using majority voting of self.predictors_num classifiers.\n",
        "\n",
        "        Paramters:\n",
        "        X : training features array\n",
        "        \n",
        "        Returns:\n",
        "        y : The predicted classes\n",
        "        \"\"\"\n",
        "        probs = np.zeros((X.shape[0], self.class_count))\n",
        "        for alpha, classifier in zip(self._alphas, self._classifiers):\n",
        "            predictions = classifier.predict(X)\n",
        "            for k in range(self.class_count):\n",
        "                probs[:, k] += alpha * (predictions == k+1)\n",
        "        return np.argmax(probs, axis=1) + 1"
      ],
      "metadata": {
        "id": "3xkDqLJVUmDO"
      },
      "execution_count": 63,
      "outputs": []
    },
    {
      "cell_type": "markdown",
      "source": [
        "Create an instance of Adaboost and fit it to the data **(P4-2-2: 2 points)**"
      ],
      "metadata": {
        "id": "kADfP8A-rvJ-"
      }
    },
    {
      "cell_type": "code",
      "source": [
        "adaboost = AdaBoost()\n",
        "adaboost.fit(x_train, y_train)"
      ],
      "metadata": {
        "id": "o4EcOGGoUmDO"
      },
      "execution_count": 64,
      "outputs": []
    },
    {
      "cell_type": "markdown",
      "source": [
        "Test Adaboost on the testing set **(P4-2-3: 3 points)**"
      ],
      "metadata": {
        "id": "DUDo-Q2Or5Eu"
      }
    },
    {
      "cell_type": "code",
      "source": [
        "preds = adaboost.predict(x_test)"
      ],
      "metadata": {
        "id": "WdRVUc4MUmDP"
      },
      "execution_count": 65,
      "outputs": []
    },
    {
      "cell_type": "code",
      "source": [
        "print(np.sum(preds == y_test) / len(y_test))"
      ],
      "metadata": {
        "colab": {
          "base_uri": "https://localhost:8080/"
        },
        "id": "UGNP-ZUsogfo",
        "outputId": "0be27867-7a9f-4fa2-d06f-e4a08fe0b974"
      },
      "execution_count": 66,
      "outputs": [
        {
          "output_type": "stream",
          "name": "stdout",
          "text": [
            "0.925\n"
          ]
        }
      ]
    }
  ]
}