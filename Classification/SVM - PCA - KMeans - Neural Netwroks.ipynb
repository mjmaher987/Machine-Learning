{
  "nbformat": 4,
  "nbformat_minor": 0,
  "metadata": {
    "colab": {
      "provenance": []
    },
    "kernelspec": {
      "name": "python3",
      "display_name": "Python 3"
    },
    "language_info": {
      "name": "python"
    }
  },
  "cells": [
    {
      "cell_type": "markdown",
      "metadata": {
        "id": "b07eb33c"
      },
      "source": [
        "<div>\n",
        "<img src='https://upload.wikimedia.org/wikipedia/commons/6/64/Sharif_University_Logo.jpg' alt=\"SUT logo\" width=220 height=220 align=left class=\"saturate\">\n",
        "\n",
        "<br>\n",
        "<font face=\"Times New Roman\">\n",
        "<div dir=ltr align=center>\n",
        "<!-- <font color=0F5298 size=7> -->\n",
        "<font color=0F5298 size=6>\n",
        "    Introduction to Machine Learning <br> <br>\n",
        "<!-- <font color=2565AE size=5> -->\n",
        "<font size=5>\n",
        "    Computer Engineering Department <br>\n",
        "    Spring 2023 <br> <br>\n",
        "<font color=606060 size=5>\n",
        "    Homeworks 8 & 9 (Combined): Practical - Faces <br> <br>\n",
        "<font color=686880 size=4>\n",
        "    TAs: Arman Malekzadeh - Amirhossein Ramazani Bonab - Yalda Shabanzadeh\n",
        "    \n",
        "____"
      ]
    },
    {
      "cell_type": "markdown",
      "metadata": {
        "id": "f5a79508"
      },
      "source": [
        "### Full Name : Mohammad Javad Maheronnaghsh\n",
        "___"
      ]
    },
    {
      "cell_type": "markdown",
      "source": [
        "In this assignment, you'll be dealing with a dataset consisting of 400 faces, belonging to 40 people. Your main task is to train models capable of recognizing those faces.\n",
        "The faces are `jpg` images packed together as a zip file called `images.zip`, and the `meta.csv` determines from which person each image was taken."
      ],
      "metadata": {
        "id": "QCHy_MoXZJXG"
      }
    },
    {
      "cell_type": "code",
      "execution_count": 5,
      "metadata": {
        "id": "aZE1y9wJY1Ex",
        "colab": {
          "base_uri": "https://localhost:8080/"
        },
        "outputId": "23649c0a-6420-4887-abf8-5260db7da953"
      },
      "outputs": [
        {
          "output_type": "stream",
          "name": "stdout",
          "text": [
            "--2023-06-27 18:12:12--  https://www.dropbox.com/s/wrias0bjyte3rr2/images.zip?dl=1\n",
            "Resolving www.dropbox.com (www.dropbox.com)... 162.125.5.18, 2620:100:601d:18::a27d:512\n",
            "Connecting to www.dropbox.com (www.dropbox.com)|162.125.5.18|:443... connected.\n",
            "HTTP request sent, awaiting response... 302 Found\n",
            "Location: /s/dl/wrias0bjyte3rr2/images.zip [following]\n",
            "--2023-06-27 18:12:13--  https://www.dropbox.com/s/dl/wrias0bjyte3rr2/images.zip\n",
            "Reusing existing connection to www.dropbox.com:443.\n",
            "HTTP request sent, awaiting response... 302 Found\n",
            "Location: https://uc416c4a6f98a7c2239cd5f9ff51.dl.dropboxusercontent.com/cd/0/get/B-xbl8CJDxMdSDKX__14-XaNQlWeNIHe8Iq0FRDpbyN9M8UE8oBVf_B9u33QDtDV8BztMdFngVbOe2TATuGYwZL7slxH_-QCt-6FRbFXTNfllNpdpqJCSa_esADXef4l2cCJY-t7pjGc8qBRjsE_RGmJNbCKrc2qomCJwzIMG-8EDht0m5UE9bqrwW8Wz-pumf4/file?dl=1# [following]\n",
            "--2023-06-27 18:12:13--  https://uc416c4a6f98a7c2239cd5f9ff51.dl.dropboxusercontent.com/cd/0/get/B-xbl8CJDxMdSDKX__14-XaNQlWeNIHe8Iq0FRDpbyN9M8UE8oBVf_B9u33QDtDV8BztMdFngVbOe2TATuGYwZL7slxH_-QCt-6FRbFXTNfllNpdpqJCSa_esADXef4l2cCJY-t7pjGc8qBRjsE_RGmJNbCKrc2qomCJwzIMG-8EDht0m5UE9bqrwW8Wz-pumf4/file?dl=1\n",
            "Resolving uc416c4a6f98a7c2239cd5f9ff51.dl.dropboxusercontent.com (uc416c4a6f98a7c2239cd5f9ff51.dl.dropboxusercontent.com)... 162.125.5.15, 2620:100:601d:15::a27d:50f\n",
            "Connecting to uc416c4a6f98a7c2239cd5f9ff51.dl.dropboxusercontent.com (uc416c4a6f98a7c2239cd5f9ff51.dl.dropboxusercontent.com)|162.125.5.15|:443... connected.\n",
            "HTTP request sent, awaiting response... 200 OK\n",
            "Length: 506158 (494K) [application/binary]\n",
            "Saving to: ‘images.zip’\n",
            "\n",
            "images.zip          100%[===================>] 494.29K  --.-KB/s    in 0.09s   \n",
            "\n",
            "2023-06-27 18:12:13 (5.11 MB/s) - ‘images.zip’ saved [506158/506158]\n",
            "\n",
            "--2023-06-27 18:12:13--  https://www.dropbox.com/s/vqt1v8sfmz18rcf/faces-metadata.csv?dl=1\n",
            "Resolving www.dropbox.com (www.dropbox.com)... 162.125.5.18, 2620:100:601d:18::a27d:512\n",
            "Connecting to www.dropbox.com (www.dropbox.com)|162.125.5.18|:443... connected.\n",
            "HTTP request sent, awaiting response... 302 Found\n",
            "Location: /s/dl/vqt1v8sfmz18rcf/faces-metadata.csv [following]\n",
            "--2023-06-27 18:12:14--  https://www.dropbox.com/s/dl/vqt1v8sfmz18rcf/faces-metadata.csv\n",
            "Reusing existing connection to www.dropbox.com:443.\n",
            "HTTP request sent, awaiting response... 302 Found\n",
            "Location: https://uc82ca6f967ca460eef8da6641ed.dl.dropboxusercontent.com/cd/0/get/B-xo4WbVMmewjr4OFYd-WshXHY4f-EldQ30wPGv8Nm3PnaoJTnrDdxNGoXzoR4Cu6V6oid-VJrnN2Qz3i6ZAje2eS9eLBOqvRnK3ZVt2ZtEZczx7JfKJH_xuQohUo4_x68vnRR30sKMD_wTqvUwe1cGVMIZQOUHH283SHZ7vsllWwfqvqJ3PhUeyrAg5LxswnRM/file?dl=1# [following]\n",
            "--2023-06-27 18:12:14--  https://uc82ca6f967ca460eef8da6641ed.dl.dropboxusercontent.com/cd/0/get/B-xo4WbVMmewjr4OFYd-WshXHY4f-EldQ30wPGv8Nm3PnaoJTnrDdxNGoXzoR4Cu6V6oid-VJrnN2Qz3i6ZAje2eS9eLBOqvRnK3ZVt2ZtEZczx7JfKJH_xuQohUo4_x68vnRR30sKMD_wTqvUwe1cGVMIZQOUHH283SHZ7vsllWwfqvqJ3PhUeyrAg5LxswnRM/file?dl=1\n",
            "Resolving uc82ca6f967ca460eef8da6641ed.dl.dropboxusercontent.com (uc82ca6f967ca460eef8da6641ed.dl.dropboxusercontent.com)... 162.125.5.15, 2620:100:601d:15::a27d:50f\n",
            "Connecting to uc82ca6f967ca460eef8da6641ed.dl.dropboxusercontent.com (uc82ca6f967ca460eef8da6641ed.dl.dropboxusercontent.com)|162.125.5.15|:443... connected.\n",
            "HTTP request sent, awaiting response... 200 OK\n",
            "Length: 5891 (5.8K) [application/binary]\n",
            "Saving to: ‘meta.csv’\n",
            "\n",
            "meta.csv            100%[===================>]   5.75K  --.-KB/s    in 0s      \n",
            "\n",
            "2023-06-27 18:12:14 (649 MB/s) - ‘meta.csv’ saved [5891/5891]\n",
            "\n"
          ]
        }
      ],
      "source": [
        "!wget -O images.zip https://www.dropbox.com/s/wrias0bjyte3rr2/images.zip?dl=1\n",
        "!wget -O meta.csv https://www.dropbox.com/s/vqt1v8sfmz18rcf/faces-metadata.csv?dl=1"
      ]
    },
    {
      "cell_type": "code",
      "source": [
        "# you can use the following packages\n",
        "from PIL import Image\n",
        "import numpy as np\n",
        "import pandas as pd\n",
        "from sklearn.preprocessing import LabelEncoder\n",
        "from sklearn.model_selection import train_test_split\n",
        "import tensorflow as tf\n",
        "from tensorflow import keras\n",
        "from tensorflow.keras import layers\n",
        "from sklearn.cluster import KMeans\n",
        "from sklearn.decomposition import TruncatedSVD\n",
        "import plotly.express as px"
      ],
      "metadata": {
        "id": "6_7895lFnun2"
      },
      "execution_count": 6,
      "outputs": []
    },
    {
      "cell_type": "markdown",
      "source": [
        "# Sec 1: Data Preparation"
      ],
      "metadata": {
        "id": "rOuCpoXVxYAc"
      }
    },
    {
      "cell_type": "markdown",
      "source": [
        "Load all images as a numpy array (called `x`) and the metadata as a dataframe **(P1-1: 25 points)**\n",
        "\n",
        "\n"
      ],
      "metadata": {
        "id": "D67J4M0lnD62"
      }
    },
    {
      "cell_type": "code",
      "source": [
        "metadata = pd.read_csv('meta.csv')"
      ],
      "metadata": {
        "id": "J1a0H7bPQRZA"
      },
      "execution_count": 7,
      "outputs": []
    },
    {
      "cell_type": "code",
      "source": [
        "metadata"
      ],
      "metadata": {
        "colab": {
          "base_uri": "https://localhost:8080/",
          "height": 423
        },
        "id": "01PBuU0WxjhQ",
        "outputId": "bad4cd91-72d0-4690-8b75-26be2b0deeee"
      },
      "execution_count": 8,
      "outputs": [
        {
          "output_type": "execute_result",
          "data": {
            "text/plain": [
              "        path  label\n",
              "0      0.jpg  jones\n",
              "1      1.jpg  jones\n",
              "2      2.jpg  jones\n",
              "3      3.jpg  jones\n",
              "4      4.jpg  jones\n",
              "..       ...    ...\n",
              "395  395.jpg   vaux\n",
              "396  396.jpg   vaux\n",
              "397  397.jpg   vaux\n",
              "398  398.jpg   vaux\n",
              "399  399.jpg   vaux\n",
              "\n",
              "[400 rows x 2 columns]"
            ],
            "text/html": [
              "\n",
              "  <div id=\"df-e7f5f30f-7d1a-470a-9462-786df5116849\">\n",
              "    <div class=\"colab-df-container\">\n",
              "      <div>\n",
              "<style scoped>\n",
              "    .dataframe tbody tr th:only-of-type {\n",
              "        vertical-align: middle;\n",
              "    }\n",
              "\n",
              "    .dataframe tbody tr th {\n",
              "        vertical-align: top;\n",
              "    }\n",
              "\n",
              "    .dataframe thead th {\n",
              "        text-align: right;\n",
              "    }\n",
              "</style>\n",
              "<table border=\"1\" class=\"dataframe\">\n",
              "  <thead>\n",
              "    <tr style=\"text-align: right;\">\n",
              "      <th></th>\n",
              "      <th>path</th>\n",
              "      <th>label</th>\n",
              "    </tr>\n",
              "  </thead>\n",
              "  <tbody>\n",
              "    <tr>\n",
              "      <th>0</th>\n",
              "      <td>0.jpg</td>\n",
              "      <td>jones</td>\n",
              "    </tr>\n",
              "    <tr>\n",
              "      <th>1</th>\n",
              "      <td>1.jpg</td>\n",
              "      <td>jones</td>\n",
              "    </tr>\n",
              "    <tr>\n",
              "      <th>2</th>\n",
              "      <td>2.jpg</td>\n",
              "      <td>jones</td>\n",
              "    </tr>\n",
              "    <tr>\n",
              "      <th>3</th>\n",
              "      <td>3.jpg</td>\n",
              "      <td>jones</td>\n",
              "    </tr>\n",
              "    <tr>\n",
              "      <th>4</th>\n",
              "      <td>4.jpg</td>\n",
              "      <td>jones</td>\n",
              "    </tr>\n",
              "    <tr>\n",
              "      <th>...</th>\n",
              "      <td>...</td>\n",
              "      <td>...</td>\n",
              "    </tr>\n",
              "    <tr>\n",
              "      <th>395</th>\n",
              "      <td>395.jpg</td>\n",
              "      <td>vaux</td>\n",
              "    </tr>\n",
              "    <tr>\n",
              "      <th>396</th>\n",
              "      <td>396.jpg</td>\n",
              "      <td>vaux</td>\n",
              "    </tr>\n",
              "    <tr>\n",
              "      <th>397</th>\n",
              "      <td>397.jpg</td>\n",
              "      <td>vaux</td>\n",
              "    </tr>\n",
              "    <tr>\n",
              "      <th>398</th>\n",
              "      <td>398.jpg</td>\n",
              "      <td>vaux</td>\n",
              "    </tr>\n",
              "    <tr>\n",
              "      <th>399</th>\n",
              "      <td>399.jpg</td>\n",
              "      <td>vaux</td>\n",
              "    </tr>\n",
              "  </tbody>\n",
              "</table>\n",
              "<p>400 rows × 2 columns</p>\n",
              "</div>\n",
              "      <button class=\"colab-df-convert\" onclick=\"convertToInteractive('df-e7f5f30f-7d1a-470a-9462-786df5116849')\"\n",
              "              title=\"Convert this dataframe to an interactive table.\"\n",
              "              style=\"display:none;\">\n",
              "        \n",
              "  <svg xmlns=\"http://www.w3.org/2000/svg\" height=\"24px\"viewBox=\"0 0 24 24\"\n",
              "       width=\"24px\">\n",
              "    <path d=\"M0 0h24v24H0V0z\" fill=\"none\"/>\n",
              "    <path d=\"M18.56 5.44l.94 2.06.94-2.06 2.06-.94-2.06-.94-.94-2.06-.94 2.06-2.06.94zm-11 1L8.5 8.5l.94-2.06 2.06-.94-2.06-.94L8.5 2.5l-.94 2.06-2.06.94zm10 10l.94 2.06.94-2.06 2.06-.94-2.06-.94-.94-2.06-.94 2.06-2.06.94z\"/><path d=\"M17.41 7.96l-1.37-1.37c-.4-.4-.92-.59-1.43-.59-.52 0-1.04.2-1.43.59L10.3 9.45l-7.72 7.72c-.78.78-.78 2.05 0 2.83L4 21.41c.39.39.9.59 1.41.59.51 0 1.02-.2 1.41-.59l7.78-7.78 2.81-2.81c.8-.78.8-2.07 0-2.86zM5.41 20L4 18.59l7.72-7.72 1.47 1.35L5.41 20z\"/>\n",
              "  </svg>\n",
              "      </button>\n",
              "      \n",
              "  <style>\n",
              "    .colab-df-container {\n",
              "      display:flex;\n",
              "      flex-wrap:wrap;\n",
              "      gap: 12px;\n",
              "    }\n",
              "\n",
              "    .colab-df-convert {\n",
              "      background-color: #E8F0FE;\n",
              "      border: none;\n",
              "      border-radius: 50%;\n",
              "      cursor: pointer;\n",
              "      display: none;\n",
              "      fill: #1967D2;\n",
              "      height: 32px;\n",
              "      padding: 0 0 0 0;\n",
              "      width: 32px;\n",
              "    }\n",
              "\n",
              "    .colab-df-convert:hover {\n",
              "      background-color: #E2EBFA;\n",
              "      box-shadow: 0px 1px 2px rgba(60, 64, 67, 0.3), 0px 1px 3px 1px rgba(60, 64, 67, 0.15);\n",
              "      fill: #174EA6;\n",
              "    }\n",
              "\n",
              "    [theme=dark] .colab-df-convert {\n",
              "      background-color: #3B4455;\n",
              "      fill: #D2E3FC;\n",
              "    }\n",
              "\n",
              "    [theme=dark] .colab-df-convert:hover {\n",
              "      background-color: #434B5C;\n",
              "      box-shadow: 0px 1px 3px 1px rgba(0, 0, 0, 0.15);\n",
              "      filter: drop-shadow(0px 1px 2px rgba(0, 0, 0, 0.3));\n",
              "      fill: #FFFFFF;\n",
              "    }\n",
              "  </style>\n",
              "\n",
              "      <script>\n",
              "        const buttonEl =\n",
              "          document.querySelector('#df-e7f5f30f-7d1a-470a-9462-786df5116849 button.colab-df-convert');\n",
              "        buttonEl.style.display =\n",
              "          google.colab.kernel.accessAllowed ? 'block' : 'none';\n",
              "\n",
              "        async function convertToInteractive(key) {\n",
              "          const element = document.querySelector('#df-e7f5f30f-7d1a-470a-9462-786df5116849');\n",
              "          const dataTable =\n",
              "            await google.colab.kernel.invokeFunction('convertToInteractive',\n",
              "                                                     [key], {});\n",
              "          if (!dataTable) return;\n",
              "\n",
              "          const docLinkHtml = 'Like what you see? Visit the ' +\n",
              "            '<a target=\"_blank\" href=https://colab.research.google.com/notebooks/data_table.ipynb>data table notebook</a>'\n",
              "            + ' to learn more about interactive tables.';\n",
              "          element.innerHTML = '';\n",
              "          dataTable['output_type'] = 'display_data';\n",
              "          await google.colab.output.renderOutput(dataTable, element);\n",
              "          const docLink = document.createElement('div');\n",
              "          docLink.innerHTML = docLinkHtml;\n",
              "          element.appendChild(docLink);\n",
              "        }\n",
              "      </script>\n",
              "    </div>\n",
              "  </div>\n",
              "  "
            ]
          },
          "metadata": {},
          "execution_count": 8
        }
      ]
    },
    {
      "cell_type": "code",
      "source": [
        "import zipfile\n",
        "\n",
        "with zipfile.ZipFile('images.zip', 'r') as zip_ref:\n",
        "    zip_ref.extractall('images_folder')"
      ],
      "metadata": {
        "id": "e7efiRcliW93"
      },
      "execution_count": 9,
      "outputs": []
    },
    {
      "cell_type": "code",
      "source": [
        "import os\n",
        "\n",
        "images_folder = 'images_folder/content/img-data'\n",
        "\n",
        "filenames = sorted(os.listdir(images_folder))"
      ],
      "metadata": {
        "id": "f4PEo0DKiHz2"
      },
      "execution_count": 10,
      "outputs": []
    },
    {
      "cell_type": "code",
      "source": [
        "x = []\n",
        "counter = 0\n",
        "for filename in filenames:\n",
        "    image = Image.open(os.path.join(images_folder, filename))\n",
        "    new_img = np.array(image)\n",
        "    x.append(new_img)\n",
        "x = np.array(x)"
      ],
      "metadata": {
        "id": "mMOG-Hffjl2q"
      },
      "execution_count": 11,
      "outputs": []
    },
    {
      "cell_type": "code",
      "source": [
        "x.shape"
      ],
      "metadata": {
        "colab": {
          "base_uri": "https://localhost:8080/"
        },
        "id": "cHpL0TmpkzbJ",
        "outputId": "6afbc5d6-55bc-410e-d8c1-3a7538c2cc7c"
      },
      "execution_count": 12,
      "outputs": [
        {
          "output_type": "execute_result",
          "data": {
            "text/plain": [
              "(400, 64, 64)"
            ]
          },
          "metadata": {},
          "execution_count": 12
        }
      ]
    },
    {
      "cell_type": "code",
      "source": [
        "# Visualize a picture\n",
        "import matplotlib.pyplot as plt\n",
        "img_array = x[3]\n",
        "plt.imshow(img_array)\n",
        "plt.show()"
      ],
      "metadata": {
        "colab": {
          "base_uri": "https://localhost:8080/",
          "height": 432
        },
        "id": "lo-oQWQ0kJx5",
        "outputId": "34467e9c-5b58-49ab-986a-ac5d77889b70"
      },
      "execution_count": 13,
      "outputs": [
        {
          "output_type": "display_data",
          "data": {
            "text/plain": [
              "<Figure size 640x480 with 1 Axes>"
            ],
            "image/png": "[encoded data removed]"
          },
          "metadata": {}
        }
      ]
    },
    {
      "cell_type": "markdown",
      "source": [
        "Flatten and normalize the images **(P1-2: 10 points)**\n",
        "\n",
        "Note: For this part, normalization only means dividing by 255."
      ],
      "metadata": {
        "id": "Bllz0xnSn6Gv"
      }
    },
    {
      "cell_type": "code",
      "source": [
        "x = x / 255.0\n",
        "# I have flatten it in the next parts"
      ],
      "metadata": {
        "id": "mcAT92tIvMk_"
      },
      "execution_count": 14,
      "outputs": []
    },
    {
      "cell_type": "markdown",
      "source": [
        "Encode the labels using `LabelEncoder` and save the result as a numpy array called `y` **(P1-3: 5 points)**"
      ],
      "metadata": {
        "id": "ZyXQqbNLuAJg"
      }
    },
    {
      "cell_type": "code",
      "source": [
        "# Source: http://scikit-learn.org/stable/modules/generated/sklearn.preprocessing.LabelEncoder.html\n",
        "le = LabelEncoder()\n",
        "le.fit(metadata['label'])"
      ],
      "metadata": {
        "id": "rz1_cg3ipHLE",
        "colab": {
          "base_uri": "https://localhost:8080/",
          "height": 74
        },
        "outputId": "c53417d9-cc27-4385-85aa-cccb2f33a3e7"
      },
      "execution_count": 15,
      "outputs": [
        {
          "output_type": "execute_result",
          "data": {
            "text/plain": [
              "LabelEncoder()"
            ],
            "text/html": [
              "<style>#sk-container-id-1 {color: black;background-color: white;}#sk-container-id-1 pre{padding: 0;}#sk-container-id-1 div.sk-toggleable {background-color: white;}#sk-container-id-1 label.sk-toggleable__label {cursor: pointer;display: block;width: 100%;margin-bottom: 0;padding: 0.3em;box-sizing: border-box;text-align: center;}#sk-container-id-1 label.sk-toggleable__label-arrow:before {content: \"▸\";float: left;margin-right: 0.25em;color: #696969;}#sk-container-id-1 label.sk-toggleable__label-arrow:hover:before {color: black;}#sk-container-id-1 div.sk-estimator:hover label.sk-toggleable__label-arrow:before {color: black;}#sk-container-id-1 div.sk-toggleable__content {max-height: 0;max-width: 0;overflow: hidden;text-align: left;background-color: #f0f8ff;}#sk-container-id-1 div.sk-toggleable__content pre {margin: 0.2em;color: black;border-radius: 0.25em;background-color: #f0f8ff;}#sk-container-id-1 input.sk-toggleable__control:checked~div.sk-toggleable__content {max-height: 200px;max-width: 100%;overflow: auto;}#sk-container-id-1 input.sk-toggleable__control:checked~label.sk-toggleable__label-arrow:before {content: \"▾\";}#sk-container-id-1 div.sk-estimator input.sk-toggleable__control:checked~label.sk-toggleable__label {background-color: #d4ebff;}#sk-container-id-1 div.sk-label input.sk-toggleable__control:checked~label.sk-toggleable__label {background-color: #d4ebff;}#sk-container-id-1 input.sk-hidden--visually {border: 0;clip: rect(1px 1px 1px 1px);clip: rect(1px, 1px, 1px, 1px);height: 1px;margin: -1px;overflow: hidden;padding: 0;position: absolute;width: 1px;}#sk-container-id-1 div.sk-estimator {font-family: monospace;background-color: #f0f8ff;border: 1px dotted black;border-radius: 0.25em;box-sizing: border-box;margin-bottom: 0.5em;}#sk-container-id-1 div.sk-estimator:hover {background-color: #d4ebff;}#sk-container-id-1 div.sk-parallel-item::after {content: \"\";width: 100%;border-bottom: 1px solid gray;flex-grow: 1;}#sk-container-id-1 div.sk-label:hover label.sk-toggleable__label {background-color: #d4ebff;}#sk-container-id-1 div.sk-serial::before {content: \"\";position: absolute;border-left: 1px solid gray;box-sizing: border-box;top: 0;bottom: 0;left: 50%;z-index: 0;}#sk-container-id-1 div.sk-serial {display: flex;flex-direction: column;align-items: center;background-color: white;padding-right: 0.2em;padding-left: 0.2em;position: relative;}#sk-container-id-1 div.sk-item {position: relative;z-index: 1;}#sk-container-id-1 div.sk-parallel {display: flex;align-items: stretch;justify-content: center;background-color: white;position: relative;}#sk-container-id-1 div.sk-item::before, #sk-container-id-1 div.sk-parallel-item::before {content: \"\";position: absolute;border-left: 1px solid gray;box-sizing: border-box;top: 0;bottom: 0;left: 50%;z-index: -1;}#sk-container-id-1 div.sk-parallel-item {display: flex;flex-direction: column;z-index: 1;position: relative;background-color: white;}#sk-container-id-1 div.sk-parallel-item:first-child::after {align-self: flex-end;width: 50%;}#sk-container-id-1 div.sk-parallel-item:last-child::after {align-self: flex-start;width: 50%;}#sk-container-id-1 div.sk-parallel-item:only-child::after {width: 0;}#sk-container-id-1 div.sk-dashed-wrapped {border: 1px dashed gray;margin: 0 0.4em 0.5em 0.4em;box-sizing: border-box;padding-bottom: 0.4em;background-color: white;}#sk-container-id-1 div.sk-label label {font-family: monospace;font-weight: bold;display: inline-block;line-height: 1.2em;}#sk-container-id-1 div.sk-label-container {text-align: center;}#sk-container-id-1 div.sk-container {/* jupyter's `normalize.less` sets `[hidden] { display: none; }` but bootstrap.min.css set `[hidden] { display: none !important; }` so we also need the `!important` here to be able to override the default hidden behavior on the sphinx rendered scikit-learn.org. See: https://github.com/scikit-learn/scikit-learn/issues/21755 */display: inline-block !important;position: relative;}#sk-container-id-1 div.sk-text-repr-fallback {display: none;}</style><div id=\"sk-container-id-1\" class=\"sk-top-container\"><div class=\"sk-text-repr-fallback\"><pre>LabelEncoder()</pre><b>In a Jupyter environment, please rerun this cell to show the HTML representation or trust the notebook. <br />On GitHub, the HTML representation is unable to render, please try loading this page with nbviewer.org.</b></div><div class=\"sk-container\" hidden><div class=\"sk-item\"><div class=\"sk-estimator sk-toggleable\"><input class=\"sk-toggleable__control sk-hidden--visually\" id=\"sk-estimator-id-1\" type=\"checkbox\" checked><label for=\"sk-estimator-id-1\" class=\"sk-toggleable__label sk-toggleable__label-arrow\">LabelEncoder</label><div class=\"sk-toggleable__content\"><pre>LabelEncoder()</pre></div></div></div></div></div>"
            ]
          },
          "metadata": {},
          "execution_count": 15
        }
      ]
    },
    {
      "cell_type": "code",
      "source": [
        "len(le.classes_) # Number of people"
      ],
      "metadata": {
        "colab": {
          "base_uri": "https://localhost:8080/"
        },
        "id": "CZSEiWNp7kKt",
        "outputId": "7eced425-f0e4-4853-d17e-90636a64c97a"
      },
      "execution_count": 16,
      "outputs": [
        {
          "output_type": "execute_result",
          "data": {
            "text/plain": [
              "39"
            ]
          },
          "metadata": {},
          "execution_count": 16
        }
      ]
    },
    {
      "cell_type": "code",
      "source": [
        "y = le.transform(metadata['label'])"
      ],
      "metadata": {
        "id": "WGzyaXM-7yfi"
      },
      "execution_count": 17,
      "outputs": []
    },
    {
      "cell_type": "code",
      "source": [
        "print(len(x))\n",
        "print(len(y))"
      ],
      "metadata": {
        "colab": {
          "base_uri": "https://localhost:8080/"
        },
        "id": "a-5NCzg772Ah",
        "outputId": "55a6fd6a-db2b-4c24-a7fd-645e5800e075"
      },
      "execution_count": 18,
      "outputs": [
        {
          "output_type": "stream",
          "name": "stdout",
          "text": [
            "400\n",
            "400\n"
          ]
        }
      ]
    },
    {
      "cell_type": "markdown",
      "source": [
        "Split the data into training (80%), validation (10%), and testing (10%) parts. **(P1-4: 10 points)**\n",
        "\n",
        "Note: The split procedure should maintain the class balance. This is sometimes called \"[stratified sampling](https://en.wikipedia.org/wiki/Stratified_sampling)\"."
      ],
      "metadata": {
        "id": "o4yGbT6HuDks"
      }
    },
    {
      "cell_type": "code",
      "source": [
        "x_train, x_test, y_train, y_test = train_test_split(x, y, test_size=0.2, stratify=y)\n",
        "x_val, x_test, y_val, y_test = train_test_split(x_test, y_test, test_size=0.5, stratify=y_test)"
      ],
      "metadata": {
        "id": "MtOoeS0ewOye"
      },
      "execution_count": 19,
      "outputs": []
    },
    {
      "cell_type": "markdown",
      "source": [
        "# Sec 2: SVM"
      ],
      "metadata": {
        "id": "G8YV5obFxgmr"
      }
    },
    {
      "cell_type": "markdown",
      "source": [
        "## Subsec 2.1."
      ],
      "metadata": {
        "id": "ZhlriGrP1T9q"
      }
    },
    {
      "cell_type": "markdown",
      "source": [
        "Train a SVM using `sklearn`. Note that the hyperparameter tuning should be done using the \"validation\" set. **(P2-1-1: 20 points)**"
      ],
      "metadata": {
        "id": "5n0SLDtE0vih"
      }
    },
    {
      "cell_type": "code",
      "source": [
        "x_train.shape"
      ],
      "metadata": {
        "colab": {
          "base_uri": "https://localhost:8080/"
        },
        "id": "rp6Tr5-W9zzY",
        "outputId": "69ecf8ad-5ea6-4fac-fe43-700c5be517af"
      },
      "execution_count": 20,
      "outputs": [
        {
          "output_type": "execute_result",
          "data": {
            "text/plain": [
              "(320, 64, 64)"
            ]
          },
          "metadata": {},
          "execution_count": 20
        }
      ]
    },
    {
      "cell_type": "code",
      "source": [
        "# Flatten the images\n",
        "x_train = np.reshape(x_train, (x_train.shape[0], -1))\n",
        "x_val = np.reshape(x_val, (x_val.shape[0], -1))\n",
        "x_test = np.reshape(x_test, (x_test.shape[0], -1))"
      ],
      "metadata": {
        "id": "_bkBhHlC41l2"
      },
      "execution_count": 21,
      "outputs": []
    },
    {
      "cell_type": "code",
      "source": [
        "x_train.shape"
      ],
      "metadata": {
        "colab": {
          "base_uri": "https://localhost:8080/"
        },
        "id": "rffVEbv2-nMa",
        "outputId": "5edc8f91-0813-47d8-aec9-9d62cc6a663d"
      },
      "execution_count": 22,
      "outputs": [
        {
          "output_type": "execute_result",
          "data": {
            "text/plain": [
              "(320, 4096)"
            ]
          },
          "metadata": {},
          "execution_count": 22
        }
      ]
    },
    {
      "cell_type": "code",
      "source": [
        "x_val.shape"
      ],
      "metadata": {
        "colab": {
          "base_uri": "https://localhost:8080/"
        },
        "id": "bOfw0kaU-oZ0",
        "outputId": "aa9cf156-47ff-459c-d3e1-318b56e4817f"
      },
      "execution_count": 23,
      "outputs": [
        {
          "output_type": "execute_result",
          "data": {
            "text/plain": [
              "(40, 4096)"
            ]
          },
          "metadata": {},
          "execution_count": 23
        }
      ]
    },
    {
      "cell_type": "code",
      "source": [
        "x_test.shape"
      ],
      "metadata": {
        "colab": {
          "base_uri": "https://localhost:8080/"
        },
        "id": "4ADRe3Ip-pvH",
        "outputId": "76648ab8-2ed6-43f9-e495-3a223ae226fe"
      },
      "execution_count": 24,
      "outputs": [
        {
          "output_type": "execute_result",
          "data": {
            "text/plain": [
              "(40, 4096)"
            ]
          },
          "metadata": {},
          "execution_count": 24
        }
      ]
    },
    {
      "cell_type": "code",
      "source": [
        "np.array(sorted(y_val))"
      ],
      "metadata": {
        "colab": {
          "base_uri": "https://localhost:8080/"
        },
        "id": "BMAuD8al-toG",
        "outputId": "9848346c-d455-47a4-9eeb-81992598b448"
      },
      "execution_count": 25,
      "outputs": [
        {
          "output_type": "execute_result",
          "data": {
            "text/plain": [
              "array([ 0,  1,  2,  3,  4,  5,  6,  7,  8,  9, 10, 11, 12, 13, 14, 15, 16,\n",
              "       17, 18, 19, 20, 21, 22, 23, 24, 25, 26, 27, 28, 29, 30, 30, 31, 32,\n",
              "       33, 34, 35, 36, 37, 38])"
            ]
          },
          "metadata": {},
          "execution_count": 25
        }
      ]
    },
    {
      "cell_type": "code",
      "source": [
        "np.array(sorted(y_test))"
      ],
      "metadata": {
        "colab": {
          "base_uri": "https://localhost:8080/"
        },
        "id": "ALI8r2QF-2kR",
        "outputId": "14eacc25-6336-4cee-f5f6-2051a6774a70"
      },
      "execution_count": 26,
      "outputs": [
        {
          "output_type": "execute_result",
          "data": {
            "text/plain": [
              "array([ 0,  1,  2,  3,  4,  5,  6,  7,  8,  9, 10, 11, 12, 13, 14, 15, 16,\n",
              "       17, 18, 19, 20, 21, 22, 23, 24, 25, 26, 27, 28, 29, 30, 30, 31, 32,\n",
              "       33, 34, 35, 36, 37, 38])"
            ]
          },
          "metadata": {},
          "execution_count": 26
        }
      ]
    },
    {
      "cell_type": "code",
      "source": [
        "# import libs\n",
        "from sklearn.svm import SVC\n",
        "from sklearn.metrics import accuracy_score\n",
        "\n",
        "# First I used GridSearchC, but it wasn't useful, and I tried another way\n",
        "param_grid = {'C': [0.01, 0.1, 0.2, 1, 2, 3, 10], 'kernel': ('rbf', 'poly', 'linear'), 'degree': [2, 3, 4], 'gamma': ['scale', 'auto', 0.1, 1, 2, 3, 4, 10]}\n",
        "\n",
        "# Here we are going to iterate over all possible hyperparamters for finding the best one\n",
        "best_set = {'C': '', 'kernel': '', 'degree': 0, 'gamma': 0}\n",
        "best_accuracy = 0.0\n",
        "for c in param_grid['C']:\n",
        "  for kernel in param_grid['kernel']:\n",
        "    for degree in param_grid['degree']:\n",
        "      for gamma in param_grid['gamma']:\n",
        "        svm = SVC(C=c, kernel=kernel, degree = degree, gamma=gamma)\n",
        "        svm.fit(x_val, y_val)\n",
        "        predictions_val = svm.predict(x_val)\n",
        "        accuracy = accuracy_score(y_val, predictions_val)\n",
        "        if accuracy > best_accuracy:\n",
        "          best_accuracy = accuracy\n",
        "          best_set['C']=c\n",
        "          best_set['kernel']=kernel\n",
        "          best_set['degree']=degree\n",
        "          best_set['gamma']=gamma\n",
        "\n",
        "\n",
        "\n",
        "\n",
        "# best hyperparameters\n",
        "best_c = best_set['C']\n",
        "best_kernel = best_set['kernel']\n",
        "best_degree = best_set['degree']\n",
        "best_gamma = best_set['gamma']\n",
        "\n",
        "\n",
        "# train the SVM on the training and validation set\n",
        "svm_tuned = SVC(C=best_c, kernel=best_kernel, degree = best_degree, gamma=best_gamma)\n",
        "svm_tuned.fit(np.concatenate((x_train, x_val)), np.concatenate((y_train, y_val)))"
      ],
      "metadata": {
        "id": "LBA5UHB9_4Sr",
        "colab": {
          "base_uri": "https://localhost:8080/",
          "height": 74
        },
        "outputId": "70d0d004-486b-4623-e224-035849784211"
      },
      "execution_count": 27,
      "outputs": [
        {
          "output_type": "execute_result",
          "data": {
            "text/plain": [
              "SVC(C=0.01, degree=2, gamma=0.1, kernel='poly')"
            ],
            "text/html": [
              "<style>#sk-container-id-2 {color: black;background-color: white;}#sk-container-id-2 pre{padding: 0;}#sk-container-id-2 div.sk-toggleable {background-color: white;}#sk-container-id-2 label.sk-toggleable__label {cursor: pointer;display: block;width: 100%;margin-bottom: 0;padding: 0.3em;box-sizing: border-box;text-align: center;}#sk-container-id-2 label.sk-toggleable__label-arrow:before {content: \"▸\";float: left;margin-right: 0.25em;color: #696969;}#sk-container-id-2 label.sk-toggleable__label-arrow:hover:before {color: black;}#sk-container-id-2 div.sk-estimator:hover label.sk-toggleable__label-arrow:before {color: black;}#sk-container-id-2 div.sk-toggleable__content {max-height: 0;max-width: 0;overflow: hidden;text-align: left;background-color: #f0f8ff;}#sk-container-id-2 div.sk-toggleable__content pre {margin: 0.2em;color: black;border-radius: 0.25em;background-color: #f0f8ff;}#sk-container-id-2 input.sk-toggleable__control:checked~div.sk-toggleable__content {max-height: 200px;max-width: 100%;overflow: auto;}#sk-container-id-2 input.sk-toggleable__control:checked~label.sk-toggleable__label-arrow:before {content: \"▾\";}#sk-container-id-2 div.sk-estimator input.sk-toggleable__control:checked~label.sk-toggleable__label {background-color: #d4ebff;}#sk-container-id-2 div.sk-label input.sk-toggleable__control:checked~label.sk-toggleable__label {background-color: #d4ebff;}#sk-container-id-2 input.sk-hidden--visually {border: 0;clip: rect(1px 1px 1px 1px);clip: rect(1px, 1px, 1px, 1px);height: 1px;margin: -1px;overflow: hidden;padding: 0;position: absolute;width: 1px;}#sk-container-id-2 div.sk-estimator {font-family: monospace;background-color: #f0f8ff;border: 1px dotted black;border-radius: 0.25em;box-sizing: border-box;margin-bottom: 0.5em;}#sk-container-id-2 div.sk-estimator:hover {background-color: #d4ebff;}#sk-container-id-2 div.sk-parallel-item::after {content: \"\";width: 100%;border-bottom: 1px solid gray;flex-grow: 1;}#sk-container-id-2 div.sk-label:hover label.sk-toggleable__label {background-color: #d4ebff;}#sk-container-id-2 div.sk-serial::before {content: \"\";position: absolute;border-left: 1px solid gray;box-sizing: border-box;top: 0;bottom: 0;left: 50%;z-index: 0;}#sk-container-id-2 div.sk-serial {display: flex;flex-direction: column;align-items: center;background-color: white;padding-right: 0.2em;padding-left: 0.2em;position: relative;}#sk-container-id-2 div.sk-item {position: relative;z-index: 1;}#sk-container-id-2 div.sk-parallel {display: flex;align-items: stretch;justify-content: center;background-color: white;position: relative;}#sk-container-id-2 div.sk-item::before, #sk-container-id-2 div.sk-parallel-item::before {content: \"\";position: absolute;border-left: 1px solid gray;box-sizing: border-box;top: 0;bottom: 0;left: 50%;z-index: -1;}#sk-container-id-2 div.sk-parallel-item {display: flex;flex-direction: column;z-index: 1;position: relative;background-color: white;}#sk-container-id-2 div.sk-parallel-item:first-child::after {align-self: flex-end;width: 50%;}#sk-container-id-2 div.sk-parallel-item:last-child::after {align-self: flex-start;width: 50%;}#sk-container-id-2 div.sk-parallel-item:only-child::after {width: 0;}#sk-container-id-2 div.sk-dashed-wrapped {border: 1px dashed gray;margin: 0 0.4em 0.5em 0.4em;box-sizing: border-box;padding-bottom: 0.4em;background-color: white;}#sk-container-id-2 div.sk-label label {font-family: monospace;font-weight: bold;display: inline-block;line-height: 1.2em;}#sk-container-id-2 div.sk-label-container {text-align: center;}#sk-container-id-2 div.sk-container {/* jupyter's `normalize.less` sets `[hidden] { display: none; }` but bootstrap.min.css set `[hidden] { display: none !important; }` so we also need the `!important` here to be able to override the default hidden behavior on the sphinx rendered scikit-learn.org. See: https://github.com/scikit-learn/scikit-learn/issues/21755 */display: inline-block !important;position: relative;}#sk-container-id-2 div.sk-text-repr-fallback {display: none;}</style><div id=\"sk-container-id-2\" class=\"sk-top-container\"><div class=\"sk-text-repr-fallback\"><pre>SVC(C=0.01, degree=2, gamma=0.1, kernel=&#x27;poly&#x27;)</pre><b>In a Jupyter environment, please rerun this cell to show the HTML representation or trust the notebook. <br />On GitHub, the HTML representation is unable to render, please try loading this page with nbviewer.org.</b></div><div class=\"sk-container\" hidden><div class=\"sk-item\"><div class=\"sk-estimator sk-toggleable\"><input class=\"sk-toggleable__control sk-hidden--visually\" id=\"sk-estimator-id-2\" type=\"checkbox\" checked><label for=\"sk-estimator-id-2\" class=\"sk-toggleable__label sk-toggleable__label-arrow\">SVC</label><div class=\"sk-toggleable__content\"><pre>SVC(C=0.01, degree=2, gamma=0.1, kernel=&#x27;poly&#x27;)</pre></div></div></div></div></div>"
            ]
          },
          "metadata": {},
          "execution_count": 27
        }
      ]
    },
    {
      "cell_type": "code",
      "source": [
        "y_preds = svm_tuned.predict(x_test)"
      ],
      "metadata": {
        "id": "2p7CM2PaBO9q"
      },
      "execution_count": 132,
      "outputs": []
    },
    {
      "cell_type": "markdown",
      "source": [
        "Report the accuracy and F1-score of the classifier on the testing set **(P2-1-2: 10 points)**"
      ],
      "metadata": {
        "id": "mP97Fgtq03I9"
      }
    },
    {
      "cell_type": "code",
      "source": [
        "from sklearn.metrics import f1_score\n",
        "\n",
        "accuracy = accuracy_score(y_test, y_preds)\n",
        "print(\"Accuracy on test set: {:.2f}\".format(accuracy))\n",
        "\n",
        "f1 = f1_score(y_test, y_preds, average='weighted')\n",
        "print(\"F1 Score:\", f1)"
      ],
      "metadata": {
        "id": "9hAz00vB1S8O",
        "colab": {
          "base_uri": "https://localhost:8080/"
        },
        "outputId": "a0fa0674-a4d9-4b8b-b85a-7bd69eda35c1"
      },
      "execution_count": 133,
      "outputs": [
        {
          "output_type": "stream",
          "name": "stdout",
          "text": [
            "Accuracy on test set: 0.53\n",
            "F1 Score: 0.44416666666666665\n"
          ]
        }
      ]
    },
    {
      "cell_type": "code",
      "source": [
        "y_test"
      ],
      "metadata": {
        "colab": {
          "base_uri": "https://localhost:8080/"
        },
        "id": "nJsrHawtE5IL",
        "outputId": "be257ee7-4807-4c61-9b1e-7d7fb47f04bb"
      },
      "execution_count": 30,
      "outputs": [
        {
          "output_type": "execute_result",
          "data": {
            "text/plain": [
              "array([ 2, 30,  1, 11, 28,  5, 32, 33, 35, 16,  7, 25, 31, 14, 23, 22, 17,\n",
              "       27, 37, 15,  4, 30,  0, 18,  3, 21, 38, 12, 36, 29,  9, 20, 13, 26,\n",
              "       34,  6, 10,  8, 19, 24])"
            ]
          },
          "metadata": {},
          "execution_count": 30
        }
      ]
    },
    {
      "cell_type": "code",
      "source": [
        "y_preds"
      ],
      "metadata": {
        "colab": {
          "base_uri": "https://localhost:8080/"
        },
        "id": "qvqMGbdLE7ZB",
        "outputId": "6a7bbe9c-7c75-442d-8568-be140f6830ff"
      },
      "execution_count": 31,
      "outputs": [
        {
          "output_type": "execute_result",
          "data": {
            "text/plain": [
              "array([33, 30,  1, 36, 31,  5, 32, 33, 35, 16, 21, 15, 28, 14, 23,  8, 38,\n",
              "       25, 37,  0,  4, 30, 24, 18, 30, 21, 38, 12, 36,  6,  9, 20, 14, 26,\n",
              "       23,  6, 32, 22, 38, 22])"
            ]
          },
          "metadata": {},
          "execution_count": 31
        }
      ]
    },
    {
      "cell_type": "markdown",
      "source": [
        "## Subsec 2.2."
      ],
      "metadata": {
        "id": "JsaU0aq71ctB"
      }
    },
    {
      "cell_type": "markdown",
      "source": [
        "Train a SVM from scratch using the following class **(P2-2-1: 40 points)**\n",
        "\n",
        "Note: For this part, you are not required to use the validation set for hyperparameter tuning. However, you might get better results if you do that."
      ],
      "metadata": {
        "id": "N-xU9teJ1gwq"
      }
    },
    {
      "cell_type": "code",
      "source": [
        "# MJ Maheronnaghsh\n",
        "# one-vs-one approach\n",
        "class SVM:\n",
        "    def __init__(self, C=1.0, kernel='linear',\n",
        "                 batch_size=100, learning_rate=0.001, epochs=30):\n",
        "        self.C = C\n",
        "        self.kernel = kernel\n",
        "        self.classifiers = {}\n",
        "        self.batch_size=100\n",
        "        self.learning_rate=0.001\n",
        "        self.epochs=30\n",
        "\n",
        "    def hingeloss(self, w, b, x, y):\n",
        "        reg = 0.5 * np.sum(w * w)\n",
        "\n",
        "        loss = np.maximum(0, 1 - y * (np.dot(x, w.T) + b))\n",
        "        loss = reg + self.C * np.mean(loss)\n",
        "\n",
        "        return loss\n",
        "\n",
        "    def fit(self, X, Y):\n",
        "        \"\"\"Fit the SVM model to dataset X in one-vs-one manner.\n",
        "\n",
        "        Parameters\n",
        "        ----------\n",
        "        X : array-like of shape (n_samples, n_features)\n",
        "            Training data, where `n_samples` is the number of samples\n",
        "            and `n_features` is the number of features.\n",
        "\n",
        "        y : array-like of shape (n_samples,)\n",
        "            Training labels, where `n_samples` is the number of samples.\n",
        "\n",
        "        Returns\n",
        "        -------\n",
        "        self : object\n",
        "            Returns the instance itself.\n",
        "        \"\"\"\n",
        "\n",
        "        ############ Your Code ############\n",
        "        # STEPS (For each of the classifiers you would need to train)\n",
        "        # 1. Setup SVM objective function in QP form\n",
        "        # 2. Solve the QP problem and get the optimal lagrange multipliers\n",
        "        # 3. Get support vectors and calculate the weight vector\n",
        "        batch_size = self.batch_size\n",
        "        learning_rate = self.learning_rate\n",
        "        epochs = self.epochs\n",
        "\n",
        "        unique_classes = np.unique(Y)  # Get unique classes\n",
        "\n",
        "        for cls in unique_classes:\n",
        "            # Create binary labels for the current class (1 for the class, -1 for the rest)\n",
        "            binary_labels = np.where(Y == cls, 1, -1)\n",
        "            classifier = self.train_binary_classifier(X, binary_labels, batch_size, learning_rate, epochs)\n",
        "            self.classifiers[cls] = classifier\n",
        "\n",
        "    def train_binary_classifier(self, X, Y, batch_size, learning_rate, epochs):\n",
        "        number_of_features = X.shape[1]\n",
        "        number_of_samples = X.shape[0]\n",
        "        ids = np.arange(number_of_samples)\n",
        "        np.random.shuffle(ids)\n",
        "        w = np.zeros((1, number_of_features))\n",
        "        b = 0\n",
        "        losses = []\n",
        "\n",
        "        for _ in range(epochs):\n",
        "            l = self.hingeloss(w, b, X, Y)\n",
        "            losses.append(l)\n",
        "\n",
        "            for batch_initial in range(0, number_of_samples, batch_size):\n",
        "                gradw = 0\n",
        "                gradb = 0\n",
        "\n",
        "                for j in range(batch_initial, batch_initial + batch_size):\n",
        "                    if j < number_of_samples:\n",
        "                        x = ids[j]\n",
        "                        ti = Y[x] * (np.dot(w, self.kernel_func(X[x])) + b)\n",
        "\n",
        "                        if ti > 1:\n",
        "                            gradw += 0\n",
        "                            gradb += 0\n",
        "                        else:\n",
        "                            gradw += self.C * Y[x] * self.kernel_func(X[x])\n",
        "                            gradb += self.C * Y[x]\n",
        "\n",
        "                w = w - learning_rate * w + learning_rate * gradw\n",
        "                b = b + learning_rate * gradb\n",
        "\n",
        "        return w, b, losses\n",
        "\n",
        "    def kernel_func(self, x):\n",
        "        if self.kernel == 'linear':\n",
        "            return x\n",
        "        elif self.kernel == 'poly':\n",
        "            return x ** 3\n",
        "        elif self.kernel == 'rbf':\n",
        "          return np.exp(-np.sum(x.reshape(x.shape[0], -1) ** 2, axis=1))\n",
        "        else:\n",
        "            raise ValueError(\"Unsupported kernel. Please choose 'linear', 'poly', or 'rbf'.\")\n",
        "\n",
        "    def transform(self, X):\n",
        "        \"\"\"Fit the model with X and apply the dimensionality reduction on X.\n",
        "\n",
        "        Parameters\n",
        "        ----------\n",
        "        X : array-like of shape (n_samples, n_features)\n",
        "            Training data, where `n_samples` is the number of samples\n",
        "            and `n_features` is the number of features.\n",
        "\n",
        "        Returns\n",
        "        -------\n",
        "        y_pred : ndarray of shape (n_samples)\n",
        "            Your predictions for the class of each sample\n",
        "        \"\"\"\n",
        "        predictions = []\n",
        "        for cls, classifier in self.classifiers.items():\n",
        "            w, b, _ = classifier\n",
        "            w = w.reshape(-1, X.shape[1])  # Reshape w to match the number of features in X\n",
        "\n",
        "            prediction = np.dot(self.kernel_func(X), w[0]) + b\n",
        "            predictions.append(prediction)\n",
        "\n",
        "        predictions = np.array(predictions)\n",
        "        y_pred = np.argmax(predictions, axis=0)\n",
        "        return y_pred\n"
      ],
      "metadata": {
        "id": "rxOy4Ino1fHF"
      },
      "execution_count": 32,
      "outputs": []
    },
    {
      "cell_type": "markdown",
      "source": [
        "Report the accuracy and F1-score of the classifier on the testing set **(P2-2-2: 10 points)**"
      ],
      "metadata": {
        "id": "j193U_4l2d6_"
      }
    },
    {
      "cell_type": "code",
      "source": [
        "param_grid = {'C': [0.01, 0.1, 0.2, 1, 2, 3, 10], 'kernel': ('poly', 'linear')}\n",
        "\n",
        "# Here we are going to iterate over all possible hyperparamters for finding the best one\n",
        "best_set = {'C': '', 'kernel': ''}\n",
        "best_accuracy = 0.0\n",
        "for c in param_grid['C']:\n",
        "  for kernel in param_grid['kernel']:\n",
        "\n",
        "        svm = SVM(C=c, kernel=kernel)\n",
        "        svm.fit(x_val, y_val)\n",
        "        predictions_val = svm.transform(x_val)\n",
        "        accuracy = accuracy_score(y_val, predictions_val)\n",
        "        if accuracy > best_accuracy:\n",
        "          best_accuracy = accuracy\n",
        "          best_set['C']=c\n",
        "          best_set['kernel']=kernel\n",
        "          best_set['degree']=degree\n",
        "          best_set['gamma']=gamma\n",
        "          print('*****')\n",
        "          print(c)\n",
        "          print(kernel)\n",
        "          print(accuracy)\n",
        "\n",
        "\n",
        "\n",
        "\n",
        "# best hyperparameters\n",
        "best_c = best_set['C']\n",
        "best_kernel = best_set['kernel']"
      ],
      "metadata": {
        "id": "gC9xLewr2euh",
        "colab": {
          "base_uri": "https://localhost:8080/"
        },
        "outputId": "7f2a4c9a-8997-4054-b733-c8e4cc7b6174"
      },
      "execution_count": 136,
      "outputs": [
        {
          "output_type": "stream",
          "name": "stdout",
          "text": [
            "*****\n",
            "0.01\n",
            "poly\n",
            "0.175\n",
            "*****\n",
            "0.1\n",
            "linear\n",
            "0.425\n",
            "*****\n",
            "1\n",
            "poly\n",
            "0.725\n"
          ]
        }
      ]
    },
    {
      "cell_type": "code",
      "source": [
        "# train the best SVM on the training and validation set\n",
        "svm_tuned_own = SVM(C=best_c, kernel=best_kernel)\n",
        "svm_tuned_own.fit(np.concatenate((x_train, x_val)), np.concatenate((y_train, y_val)))\n",
        "y_preds_own = svm_tuned_own.transform(x_test)\n",
        "accuracy_own = accuracy_score(y_test, y_preds_own)\n",
        "print(\"Accuracy on test set: {:.2f}\".format(accuracy_own))\n",
        "f1 = f1_score(y_test, y_preds_own, average='weighted')\n",
        "print(\"F1 Score:\", f1)"
      ],
      "metadata": {
        "colab": {
          "base_uri": "https://localhost:8080/"
        },
        "id": "rzSsISi6POkd",
        "outputId": "00a9d63e-76ca-45d0-d2d0-f71a122bd7bb"
      },
      "execution_count": 137,
      "outputs": [
        {
          "output_type": "stream",
          "name": "stdout",
          "text": [
            "Accuracy on test set: 0.25\n",
            "F1 Score: 0.20714285714285713\n"
          ]
        }
      ]
    },
    {
      "cell_type": "code",
      "source": [
        "# MJ Maheronnaghsh\n",
        "# Using library for optimization\n",
        "import numpy as np\n",
        "from cvxopt import matrix, solvers\n",
        "\n",
        "\n",
        "class SVM3:\n",
        "    def __init__(self, C=1.0):\n",
        "        self.C = C\n",
        "        self.support_vectors = None\n",
        "        self.support_vector_labels = None\n",
        "        self.weights = None\n",
        "        self.bias = None\n",
        "\n",
        "    def fit(self, X, y):\n",
        "        num_samples, num_features = X.shape\n",
        "        num_classes = len(np.unique(y))\n",
        "\n",
        "        # Solve the QP problem for each class against the rest\n",
        "        self.weights = np.zeros((num_classes, num_features))\n",
        "        self.bias = np.zeros(num_classes)\n",
        "        for i in range(num_classes):\n",
        "            y_binary = np.where(y == i, 1, -1)\n",
        "            self.weights[i], self.bias[i] = self._solve_qp(X, y_binary)\n",
        "\n",
        "        # Select the support vectors\n",
        "        support_vectors = []\n",
        "        support_vector_labels = []\n",
        "        for i in range(num_classes):\n",
        "            mask = np.abs(np.dot(X, self.weights[i]) + self.bias[i]) <= 1\n",
        "            support_vectors.append(X[mask])\n",
        "            support_vector_labels.append(y[mask])\n",
        "\n",
        "        self.support_vectors = np.vstack(support_vectors)\n",
        "        self.support_vector_labels = np.hstack(support_vector_labels)\n",
        "\n",
        "    def transform(self, X):\n",
        "        scores = np.dot(X, self.weights.T) + self.bias\n",
        "        return np.argmax(scores, axis=1)\n",
        "\n",
        "    def _solve_qp(self, X, y):\n",
        "        num_samples, num_features = X.shape\n",
        "\n",
        "        # Solve the QP problem using cvxopt\n",
        "        P = matrix(np.outer(y, y) * np.dot(X, X.T))\n",
        "        q = matrix(-np.ones(num_samples))\n",
        "        G = matrix(np.vstack([-np.eye(num_samples), np.eye(num_samples)]))\n",
        "        h = matrix(np.hstack([np.zeros(num_samples), np.ones(num_samples) * self.C]))\n",
        "        shape = y.reshape(1, -1).shape\n",
        "        A = matrix(y.reshape(1, -1), shape, 'd')\n",
        "        # A = A.('float')\n",
        "        # A = matrix(A, 'd')\n",
        "        # A = matrix(A, (1, m), 'd')\n",
        "        b = matrix(np.zeros(1))\n",
        "\n",
        "        solvers.options['show_progress'] = False\n",
        "        solution = solvers.qp(P, q, G, h, A, b)\n",
        "\n",
        "        alpha = np.array(solution['x']).flatten()\n",
        "\n",
        "        # Calculate the weights and bias\n",
        "        weights = np.dot(X.T, alpha * y)\n",
        "        mask = (alpha > 1e-5)\n",
        "        bias = np.mean(y[mask] - np.dot(X[mask], weights))\n",
        "\n",
        "        return weights, bias\n"
      ],
      "metadata": {
        "id": "8YWAnkASDJxb"
      },
      "execution_count": 139,
      "outputs": []
    },
    {
      "cell_type": "code",
      "source": [
        "param_grid = {'C': [0.01, 0.1, 0.2, 1, 2, 3, 10]}\n",
        "\n",
        "# Here we are going to iterate over all possible hyperparamters for finding the best one\n",
        "best_set = {'C': '', 'kernel': ''}\n",
        "best_accuracy = 0.0\n",
        "for c in param_grid['C']:\n",
        "        svm = SVM3(C=c)\n",
        "        svm.fit(x_val, y_val)\n",
        "        predictions_val = svm.transform(x_val)\n",
        "        accuracy = accuracy_score(y_val, predictions_val)\n",
        "        if accuracy > best_accuracy:\n",
        "          best_accuracy = accuracy\n",
        "          best_set['C']=c\n",
        "          best_set['kernel']=kernel\n",
        "          best_set['degree']=degree\n",
        "          best_set['gamma']=gamma\n",
        "          print('*****')\n",
        "          print(c)\n",
        "          print(accuracy)\n",
        "\n",
        "\n",
        "\n",
        "\n",
        "# best hyperparameters\n",
        "best_c = best_set['C']\n"
      ],
      "metadata": {
        "id": "eGJVJTKrDTOG",
        "colab": {
          "base_uri": "https://localhost:8080/"
        },
        "outputId": "c3fb4ea2-5532-4ed1-d561-844933af8408"
      },
      "execution_count": 138,
      "outputs": [
        {
          "output_type": "stream",
          "name": "stdout",
          "text": [
            "*****\n",
            "0.01\n",
            "0.95\n",
            "*****\n",
            "0.1\n",
            "1.0\n"
          ]
        }
      ]
    },
    {
      "cell_type": "code",
      "source": [
        "# train the best SVM on the training and validation set\n",
        "svm_tuned_own2 = SVM3(C=best_c)\n",
        "svm_tuned_own2.fit(np.concatenate((x_train, x_val)), np.concatenate((y_train, y_val)))\n",
        "y_preds_own2 = svm_tuned_own2.transform(x_test)\n",
        "accuracy_own2 = accuracy_score(y_test, y_preds_own2)\n",
        "print(\"Accuracy on test set: {:.2f}\".format(accuracy_own2))\n",
        "f1 = f1_score(y_test, y_preds_own2, average='weighted')\n",
        "print(\"F1 Score:\", f1)"
      ],
      "metadata": {
        "colab": {
          "base_uri": "https://localhost:8080/"
        },
        "id": "3cicuF_EGB-y",
        "outputId": "285cc5f5-0a7c-4ba7-d5dd-13bfca651bce"
      },
      "execution_count": 140,
      "outputs": [
        {
          "output_type": "stream",
          "name": "stdout",
          "text": [
            "Accuracy on test set: 0.53\n",
            "F1 Score: 0.4416666666666666\n"
          ]
        }
      ]
    },
    {
      "cell_type": "markdown",
      "source": [
        "# Sec 3: PCA"
      ],
      "metadata": {
        "id": "rRmd_iUI1mn-"
      }
    },
    {
      "cell_type": "markdown",
      "source": [
        "Fetch all images taken from `jones`, `taylor`, `anderson` and `wilson` (use the `labelencoder` object). Perform PCA from scratch using the following `class` to reduce the dimension of those images to 3. Save the results as a `numpy` array of shape `(40, 3)`. **(P3-1: 30 points)**"
      ],
      "metadata": {
        "id": "rjYFWT1-2jNg"
      }
    },
    {
      "cell_type": "code",
      "source": [
        "class PCA:\n",
        "    def __init__(self, n_components):\n",
        "        self.n_components = n_components\n",
        "        self.components_ = None\n",
        "\n",
        "    def fit(self, X):\n",
        "        \"\"\"Fit the model with X.\n",
        "\n",
        "        Parameters\n",
        "        ----------\n",
        "        X : array-like of shape (n_samples, n_features)\n",
        "            Training data, where `n_samples` is the number of samples\n",
        "            and `n_features` is the number of features.\n",
        "\n",
        "        Returns\n",
        "        -------\n",
        "        self : object\n",
        "            Returns the instance itself.\n",
        "        \"\"\"\n",
        "        self.components_ = None\n",
        "\n",
        "        # Center the data\n",
        "        X_centered = X - np.mean(X, axis=0)\n",
        "\n",
        "        # Reshape the centered data if it has more than 2 dimensions\n",
        "        if X_centered.ndim > 2:\n",
        "            X_centered = X_centered.reshape(X_centered.shape[0], -1)\n",
        "\n",
        "        # Calculate the covariance matrix\n",
        "        cov_matrix = np.cov(X_centered.T)\n",
        "\n",
        "        # Perform eigen decomposition\n",
        "        eigenvalues, eigenvectors = np.linalg.eig(cov_matrix)\n",
        "\n",
        "        # Sort eigenvalues and eigenvectors in descending order\n",
        "        sorted_indices = np.argsort(eigenvalues)[::-1]\n",
        "        sorted_eigenvalues = eigenvalues[sorted_indices]\n",
        "        sorted_eigenvectors = eigenvectors[:, sorted_indices]\n",
        "\n",
        "        # Select the top n_components eigenvectors as components\n",
        "        self.components_ = sorted_eigenvectors[:, :self.n_components]\n",
        "\n",
        "        return self\n",
        "\n",
        "    def transform(self, X):\n",
        "        \"\"\"Fit the model with X and apply the dimensionality reduction on X.\n",
        "\n",
        "        Parameters\n",
        "        ----------\n",
        "        X : array-like of shape (n_samples, n_features)\n",
        "            Training data, where `n_samples` is the number of samples\n",
        "            and `n_features` is the number of features.\n",
        "\n",
        "        Returns\n",
        "        -------\n",
        "        X_new : ndarray of shape (n_samples, n_components)\n",
        "            Transformed values.\n",
        "        \"\"\"\n",
        "        assert self.components_ is not None\n",
        "\n",
        "        # Center the data\n",
        "        X_centered = X - np.mean(X, axis=0)\n",
        "\n",
        "        # Project the centered data onto the components\n",
        "        X_transformed = np.dot(X_centered, self.components_)\n",
        "\n",
        "        return X_transformed\n"
      ],
      "metadata": {
        "id": "nz8BZ31S2h7d"
      },
      "execution_count": 77,
      "outputs": []
    },
    {
      "cell_type": "code",
      "source": [
        "x_ = x.reshape(x.shape[0], -1)"
      ],
      "metadata": {
        "id": "NzbHUoW9L0yc"
      },
      "execution_count": 80,
      "outputs": []
    },
    {
      "cell_type": "code",
      "source": [
        "x_.shape"
      ],
      "metadata": {
        "colab": {
          "base_uri": "https://localhost:8080/"
        },
        "id": "0a8LQXunMmws",
        "outputId": "f98b3697-d162-456d-ccb6-a87f391efe03"
      },
      "execution_count": 81,
      "outputs": [
        {
          "output_type": "execute_result",
          "data": {
            "text/plain": [
              "(400, 4096)"
            ]
          },
          "metadata": {},
          "execution_count": 81
        }
      ]
    },
    {
      "cell_type": "code",
      "source": [
        "# Encode the labels (Using the LE that we created in the first of all)\n",
        "selection = ['jones', 'taylor', 'anderson', 'wilson']\n",
        "y_encoded = le.transform(selection)\n",
        "\n",
        "# Filter the images for Jones, Taylor, Anderson, and Wilson\n",
        "selected_indices = np.where(np.isin(y, y_encoded))\n",
        "\n",
        "selected_images = x_[selected_indices]\n",
        "selected_labels = y[selected_indices]\n",
        "filtered_images = selected_images.reshape(selected_images.shape[0], -1)\n",
        "\n",
        "\n",
        "# Perform PCA dimensionality reduction\n",
        "pca = PCA(n_components=3)\n",
        "pca.fit(selected_images)\n",
        "X_transformed = pca.transform(selected_images)\n",
        "\n",
        "# Save the transformed data\n",
        "np.save(\"transformed_data.npy\", X_transformed)\n"
      ],
      "metadata": {
        "id": "aC32bpqpgtc-"
      },
      "execution_count": 82,
      "outputs": []
    },
    {
      "cell_type": "code",
      "source": [
        "X_transformed.shape"
      ],
      "metadata": {
        "colab": {
          "base_uri": "https://localhost:8080/"
        },
        "id": "1sbqLk-RM7Wv",
        "outputId": "1e437cd0-9d1a-4d45-f826-5c547d26b93f"
      },
      "execution_count": 84,
      "outputs": [
        {
          "output_type": "execute_result",
          "data": {
            "text/plain": [
              "(40, 3)"
            ]
          },
          "metadata": {},
          "execution_count": 84
        }
      ]
    },
    {
      "cell_type": "markdown",
      "source": [
        "Use `plotly` to plot these 3D samples. You should use their labels as the determiner of their color. **(P3-2: 10 points)**"
      ],
      "metadata": {
        "id": "XpkXp5u83EPx"
      }
    },
    {
      "cell_type": "code",
      "source": [
        "import plotly.graph_objects as go\n",
        "reals = np.real(X_transformed)\n",
        "\n",
        "fig = go.Figure(data=go.Scatter3d(\n",
        "    x=reals[:, 0],\n",
        "    y=reals[:, 1],\n",
        "    z=reals[:, 2],\n",
        "    mode='markers',\n",
        "    marker=dict(\n",
        "        size=5,\n",
        "        color=selected_labels,  # Use labels as the color determiner\n",
        "        colorscale='Viridis',\n",
        "        opacity=0.8,\n",
        "        colorbar=dict(title='Class')\n",
        "    )\n",
        "))\n",
        "\n",
        "# Set plot title and axis labels\n",
        "fig.update_layout(\n",
        "    title=\"3D Scatter Plot\",\n",
        "    scene=dict(\n",
        "        xaxis_title='Feature 1',\n",
        "        yaxis_title='Feature 2',\n",
        "        zaxis_title='Feature 3'\n",
        "    )\n",
        ")\n",
        "\n",
        "# Show the plot\n",
        "fig.show()\n"
      ],
      "metadata": {
        "id": "upHyFtFL2CBE",
        "colab": {
          "base_uri": "https://localhost:8080/",
          "height": 542
        },
        "outputId": "feeb6a4d-32d3-4f23-8470-9296d12d8ae2"
      },
      "execution_count": 89,
      "outputs": [
        {
          "output_type": "display_data",
          "data": {
            "text/html": [
              "<html>\n",
              "<head><meta charset=\"utf-8\" /></head>\n",
              "<body>\n",
              "    <div>            <script src=\"https://cdnjs.cloudflare.com/ajax/libs/mathjax/2.7.5/MathJax.js?config=TeX-AMS-MML_SVG\"></script><script type=\"text/javascript\">if (window.MathJax && window.MathJax.Hub && window.MathJax.Hub.Config) {window.MathJax.Hub.Config({SVG: {font: \"STIX-Web\"}});}</script>                <script type=\"text/javascript\">window.PlotlyConfig = {MathJaxConfig: 'local'};</script>\n",
              "        <script src=\"https://cdn.plot.ly/plotly-2.18.2.min.js\"></script>                <div id=\"e326fa1c-9939-42f0-8396-135570c8d5b2\" class=\"plotly-graph-div\" style=\"height:525px; width:100%;\"></div>            <script type=\"text/javascript\">                                    window.PLOTLYENV=window.PLOTLYENV || {};                                    if (document.getElementById(\"e326fa1c-9939-42f0-8396-135570c8d5b2\")) {                    Plotly.newPlot(                        \"e326fa1c-9939-42f0-8396-135570c8d5b2\",                        [{\"marker\":{\"color\":[17,17,17,17,17,17,17,17,17,17,33,33,33,33,33,33,33,33,33,33,2,2,2,2,2,2,2,2,2,2,37,37,37,37,37,37,37,37,37,37],\"colorbar\":{\"title\":{\"text\":\"Class\"}},\"colorscale\":[[0.0,\"#440154\"],[0.1111111111111111,\"#482878\"],[0.2222222222222222,\"#3e4989\"],[0.3333333333333333,\"#31688e\"],[0.4444444444444444,\"#26828e\"],[0.5555555555555556,\"#1f9e89\"],[0.6666666666666666,\"#35b779\"],[0.7777777777777778,\"#6ece58\"],[0.8888888888888888,\"#b5de2b\"],[1.0,\"#fde725\"]],\"opacity\":0.8,\"size\":5},\"mode\":\"markers\",\"x\":[-0.9393473277984774,-2.7363201923101093,-1.9585525064569742,-5.506231479204195,-4.769805567818057,-5.218341099879241,-6.5792723688958175,-5.544659920744233,-5.353789278233732,-6.9629296947610175,-6.868455743513344,-7.28687988638538,-5.949408463445826,-3.7453018610542106,4.966466001960118,6.529178740792816,6.932926598616076,3.557872017853044,6.440600091238317,5.898754197800579,5.586829770002238,3.128890896534497,3.589375034326395,5.296732718304415,-2.544090264536517,2.2970015411575524,1.053184129909515,0.8121864655381714,3.0469304581211127,1.8225908226581782,-1.3773499177358008,5.885940540944578,4.7624260729176155,1.8026861080839374,2.320491204376374,-3.3754913415423613,0.16536888112197476,-0.19328075560940047,0.18458236381994098,0.8284930138472921],\"y\":[-1.9435151505991808,5.058853698133787,-2.406346717079553,0.02917874654473962,-1.2080998848440176,-1.1948533260009329,-0.2956918920530359,1.016427405312079,-0.15357227981876875,1.184017540559095,0.9528692667773463,-0.5752676524282148,0.9803670660106879,-1.4110316187656635,1.543052929326498,2.805468147222963,-0.6122723647104263,2.6142141034446356,3.431406443950084,-2.1106232806452705,3.6941827910896845,5.052094095910715,3.693568686126592,3.0964612384577777,-0.5609463038355794,-2.3087241889340144,-0.9026792202677092,-5.288198175539988,-4.990527295852161,-2.8867241244489246,0.8749433652654939,-6.106067528347606,-4.063175126285637,-0.4045090655220523,-3.8577203875657284,0.35258652790677025,0.4461623925446246,3.3006711393649244,3.7356402745863817,-0.5816202749904971],\"z\":[1.162460359697704,6.786621080661491,2.81911377820854,-2.805828410519375,-4.044930551962429,-3.7621410968052635,-2.1588704614219116,-1.0582074270877688,-3.366238339666883,-1.827218745347143,-1.151272287963254,-0.7638589290629437,-2.8220891460953923,4.94482978980819,-1.5284716980019613,-2.6434840949174374,-2.0716272024436537,-0.7340764070062258,-1.9231247575480586,-1.6718078092094166,-2.088021806194589,0.7292919134771101,0.5950908811416817,-1.1380618581372022,3.9828578410441495,1.1383923757208925,1.3955030782968003,-1.2515461891044577,-1.1272219301167292,1.7333862241190012,3.979115448123404,0.9449995575356762,0.8000282933360587,1.7299298341434532,1.279618732002914,4.999451163288244,-0.44589572713945846,0.7288438763170311,0.7420948974114111,-0.10763424858205126],\"type\":\"scatter3d\"}],                        {\"template\":{\"data\":{\"histogram2dcontour\":[{\"type\":\"histogram2dcontour\",\"colorbar\":{\"outlinewidth\":0,\"ticks\":\"\"},\"colorscale\":[[0.0,\"#0d0887\"],[0.1111111111111111,\"#46039f\"],[0.2222222222222222,\"#7201a8\"],[0.3333333333333333,\"#9c179e\"],[0.4444444444444444,\"#bd3786\"],[0.5555555555555556,\"#d8576b\"],[0.6666666666666666,\"#ed7953\"],[0.7777777777777778,\"#fb9f3a\"],[0.8888888888888888,\"#fdca26\"],[1.0,\"#f0f921\"]]}],\"choropleth\":[{\"type\":\"choropleth\",\"colorbar\":{\"outlinewidth\":0,\"ticks\":\"\"}}],\"histogram2d\":[{\"type\":\"histogram2d\",\"colorbar\":{\"outlinewidth\":0,\"ticks\":\"\"},\"colorscale\":[[0.0,\"#0d0887\"],[0.1111111111111111,\"#46039f\"],[0.2222222222222222,\"#7201a8\"],[0.3333333333333333,\"#9c179e\"],[0.4444444444444444,\"#bd3786\"],[0.5555555555555556,\"#d8576b\"],[0.6666666666666666,\"#ed7953\"],[0.7777777777777778,\"#fb9f3a\"],[0.8888888888888888,\"#fdca26\"],[1.0,\"#f0f921\"]]}],\"heatmap\":[{\"type\":\"heatmap\",\"colorbar\":{\"outlinewidth\":0,\"ticks\":\"\"},\"colorscale\":[[0.0,\"#0d0887\"],[0.1111111111111111,\"#46039f\"],[0.2222222222222222,\"#7201a8\"],[0.3333333333333333,\"#9c179e\"],[0.4444444444444444,\"#bd3786\"],[0.5555555555555556,\"#d8576b\"],[0.6666666666666666,\"#ed7953\"],[0.7777777777777778,\"#fb9f3a\"],[0.8888888888888888,\"#fdca26\"],[1.0,\"#f0f921\"]]}],\"heatmapgl\":[{\"type\":\"heatmapgl\",\"colorbar\":{\"outlinewidth\":0,\"ticks\":\"\"},\"colorscale\":[[0.0,\"#0d0887\"],[0.1111111111111111,\"#46039f\"],[0.2222222222222222,\"#7201a8\"],[0.3333333333333333,\"#9c179e\"],[0.4444444444444444,\"#bd3786\"],[0.5555555555555556,\"#d8576b\"],[0.6666666666666666,\"#ed7953\"],[0.7777777777777778,\"#fb9f3a\"],[0.8888888888888888,\"#fdca26\"],[1.0,\"#f0f921\"]]}],\"contourcarpet\":[{\"type\":\"contourcarpet\",\"colorbar\":{\"outlinewidth\":0,\"ticks\":\"\"}}],\"contour\":[{\"type\":\"contour\",\"colorbar\":{\"outlinewidth\":0,\"ticks\":\"\"},\"colorscale\":[[0.0,\"#0d0887\"],[0.1111111111111111,\"#46039f\"],[0.2222222222222222,\"#7201a8\"],[0.3333333333333333,\"#9c179e\"],[0.4444444444444444,\"#bd3786\"],[0.5555555555555556,\"#d8576b\"],[0.6666666666666666,\"#ed7953\"],[0.7777777777777778,\"#fb9f3a\"],[0.8888888888888888,\"#fdca26\"],[1.0,\"#f0f921\"]]}],\"surface\":[{\"type\":\"surface\",\"colorbar\":{\"outlinewidth\":0,\"ticks\":\"\"},\"colorscale\":[[0.0,\"#0d0887\"],[0.1111111111111111,\"#46039f\"],[0.2222222222222222,\"#7201a8\"],[0.3333333333333333,\"#9c179e\"],[0.4444444444444444,\"#bd3786\"],[0.5555555555555556,\"#d8576b\"],[0.6666666666666666,\"#ed7953\"],[0.7777777777777778,\"#fb9f3a\"],[0.8888888888888888,\"#fdca26\"],[1.0,\"#f0f921\"]]}],\"mesh3d\":[{\"type\":\"mesh3d\",\"colorbar\":{\"outlinewidth\":0,\"ticks\":\"\"}}],\"scatter\":[{\"fillpattern\":{\"fillmode\":\"overlay\",\"size\":10,\"solidity\":0.2},\"type\":\"scatter\"}],\"parcoords\":[{\"type\":\"parcoords\",\"line\":{\"colorbar\":{\"outlinewidth\":0,\"ticks\":\"\"}}}],\"scatterpolargl\":[{\"type\":\"scatterpolargl\",\"marker\":{\"colorbar\":{\"outlinewidth\":0,\"ticks\":\"\"}}}],\"bar\":[{\"error_x\":{\"color\":\"#2a3f5f\"},\"error_y\":{\"color\":\"#2a3f5f\"},\"marker\":{\"line\":{\"color\":\"#E5ECF6\",\"width\":0.5},\"pattern\":{\"fillmode\":\"overlay\",\"size\":10,\"solidity\":0.2}},\"type\":\"bar\"}],\"scattergeo\":[{\"type\":\"scattergeo\",\"marker\":{\"colorbar\":{\"outlinewidth\":0,\"ticks\":\"\"}}}],\"scatterpolar\":[{\"type\":\"scatterpolar\",\"marker\":{\"colorbar\":{\"outlinewidth\":0,\"ticks\":\"\"}}}],\"histogram\":[{\"marker\":{\"pattern\":{\"fillmode\":\"overlay\",\"size\":10,\"solidity\":0.2}},\"type\":\"histogram\"}],\"scattergl\":[{\"type\":\"scattergl\",\"marker\":{\"colorbar\":{\"outlinewidth\":0,\"ticks\":\"\"}}}],\"scatter3d\":[{\"type\":\"scatter3d\",\"line\":{\"colorbar\":{\"outlinewidth\":0,\"ticks\":\"\"}},\"marker\":{\"colorbar\":{\"outlinewidth\":0,\"ticks\":\"\"}}}],\"scattermapbox\":[{\"type\":\"scattermapbox\",\"marker\":{\"colorbar\":{\"outlinewidth\":0,\"ticks\":\"\"}}}],\"scatterternary\":[{\"type\":\"scatterternary\",\"marker\":{\"colorbar\":{\"outlinewidth\":0,\"ticks\":\"\"}}}],\"scattercarpet\":[{\"type\":\"scattercarpet\",\"marker\":{\"colorbar\":{\"outlinewidth\":0,\"ticks\":\"\"}}}],\"carpet\":[{\"aaxis\":{\"endlinecolor\":\"#2a3f5f\",\"gridcolor\":\"white\",\"linecolor\":\"white\",\"minorgridcolor\":\"white\",\"startlinecolor\":\"#2a3f5f\"},\"baxis\":{\"endlinecolor\":\"#2a3f5f\",\"gridcolor\":\"white\",\"linecolor\":\"white\",\"minorgridcolor\":\"white\",\"startlinecolor\":\"#2a3f5f\"},\"type\":\"carpet\"}],\"table\":[{\"cells\":{\"fill\":{\"color\":\"#EBF0F8\"},\"line\":{\"color\":\"white\"}},\"header\":{\"fill\":{\"color\":\"#C8D4E3\"},\"line\":{\"color\":\"white\"}},\"type\":\"table\"}],\"barpolar\":[{\"marker\":{\"line\":{\"color\":\"#E5ECF6\",\"width\":0.5},\"pattern\":{\"fillmode\":\"overlay\",\"size\":10,\"solidity\":0.2}},\"type\":\"barpolar\"}],\"pie\":[{\"automargin\":true,\"type\":\"pie\"}]},\"layout\":{\"autotypenumbers\":\"strict\",\"colorway\":[\"#636efa\",\"#EF553B\",\"#00cc96\",\"#ab63fa\",\"#FFA15A\",\"#19d3f3\",\"#FF6692\",\"#B6E880\",\"#FF97FF\",\"#FECB52\"],\"font\":{\"color\":\"#2a3f5f\"},\"hovermode\":\"closest\",\"hoverlabel\":{\"align\":\"left\"},\"paper_bgcolor\":\"white\",\"plot_bgcolor\":\"#E5ECF6\",\"polar\":{\"bgcolor\":\"#E5ECF6\",\"angularaxis\":{\"gridcolor\":\"white\",\"linecolor\":\"white\",\"ticks\":\"\"},\"radialaxis\":{\"gridcolor\":\"white\",\"linecolor\":\"white\",\"ticks\":\"\"}},\"ternary\":{\"bgcolor\":\"#E5ECF6\",\"aaxis\":{\"gridcolor\":\"white\",\"linecolor\":\"white\",\"ticks\":\"\"},\"baxis\":{\"gridcolor\":\"white\",\"linecolor\":\"white\",\"ticks\":\"\"},\"caxis\":{\"gridcolor\":\"white\",\"linecolor\":\"white\",\"ticks\":\"\"}},\"coloraxis\":{\"colorbar\":{\"outlinewidth\":0,\"ticks\":\"\"}},\"colorscale\":{\"sequential\":[[0.0,\"#0d0887\"],[0.1111111111111111,\"#46039f\"],[0.2222222222222222,\"#7201a8\"],[0.3333333333333333,\"#9c179e\"],[0.4444444444444444,\"#bd3786\"],[0.5555555555555556,\"#d8576b\"],[0.6666666666666666,\"#ed7953\"],[0.7777777777777778,\"#fb9f3a\"],[0.8888888888888888,\"#fdca26\"],[1.0,\"#f0f921\"]],\"sequentialminus\":[[0.0,\"#0d0887\"],[0.1111111111111111,\"#46039f\"],[0.2222222222222222,\"#7201a8\"],[0.3333333333333333,\"#9c179e\"],[0.4444444444444444,\"#bd3786\"],[0.5555555555555556,\"#d8576b\"],[0.6666666666666666,\"#ed7953\"],[0.7777777777777778,\"#fb9f3a\"],[0.8888888888888888,\"#fdca26\"],[1.0,\"#f0f921\"]],\"diverging\":[[0,\"#8e0152\"],[0.1,\"#c51b7d\"],[0.2,\"#de77ae\"],[0.3,\"#f1b6da\"],[0.4,\"#fde0ef\"],[0.5,\"#f7f7f7\"],[0.6,\"#e6f5d0\"],[0.7,\"#b8e186\"],[0.8,\"#7fbc41\"],[0.9,\"#4d9221\"],[1,\"#276419\"]]},\"xaxis\":{\"gridcolor\":\"white\",\"linecolor\":\"white\",\"ticks\":\"\",\"title\":{\"standoff\":15},\"zerolinecolor\":\"white\",\"automargin\":true,\"zerolinewidth\":2},\"yaxis\":{\"gridcolor\":\"white\",\"linecolor\":\"white\",\"ticks\":\"\",\"title\":{\"standoff\":15},\"zerolinecolor\":\"white\",\"automargin\":true,\"zerolinewidth\":2},\"scene\":{\"xaxis\":{\"backgroundcolor\":\"#E5ECF6\",\"gridcolor\":\"white\",\"linecolor\":\"white\",\"showbackground\":true,\"ticks\":\"\",\"zerolinecolor\":\"white\",\"gridwidth\":2},\"yaxis\":{\"backgroundcolor\":\"#E5ECF6\",\"gridcolor\":\"white\",\"linecolor\":\"white\",\"showbackground\":true,\"ticks\":\"\",\"zerolinecolor\":\"white\",\"gridwidth\":2},\"zaxis\":{\"backgroundcolor\":\"#E5ECF6\",\"gridcolor\":\"white\",\"linecolor\":\"white\",\"showbackground\":true,\"ticks\":\"\",\"zerolinecolor\":\"white\",\"gridwidth\":2}},\"shapedefaults\":{\"line\":{\"color\":\"#2a3f5f\"}},\"annotationdefaults\":{\"arrowcolor\":\"#2a3f5f\",\"arrowhead\":0,\"arrowwidth\":1},\"geo\":{\"bgcolor\":\"white\",\"landcolor\":\"#E5ECF6\",\"subunitcolor\":\"white\",\"showland\":true,\"showlakes\":true,\"lakecolor\":\"white\"},\"title\":{\"x\":0.05},\"mapbox\":{\"style\":\"light\"}}},\"title\":{\"text\":\"3D Scatter Plot with Color by Labels\"},\"scene\":{\"xaxis\":{\"title\":{\"text\":\"Feature 1\"}},\"yaxis\":{\"title\":{\"text\":\"Feature 2\"}},\"zaxis\":{\"title\":{\"text\":\"Feature 3\"}}}},                        {\"responsive\": true}                    ).then(function(){\n",
              "                            \n",
              "var gd = document.getElementById('e326fa1c-9939-42f0-8396-135570c8d5b2');\n",
              "var x = new MutationObserver(function (mutations, observer) {{\n",
              "        var display = window.getComputedStyle(gd).display;\n",
              "        if (!display || display === 'none') {{\n",
              "            console.log([gd, 'removed!']);\n",
              "            Plotly.purge(gd);\n",
              "            observer.disconnect();\n",
              "        }}\n",
              "}});\n",
              "\n",
              "// Listen for the removal of the full notebook cells\n",
              "var notebookContainer = gd.closest('#notebook-container');\n",
              "if (notebookContainer) {{\n",
              "    x.observe(notebookContainer, {childList: true});\n",
              "}}\n",
              "\n",
              "// Listen for the clearing of the current output cell\n",
              "var outputEl = gd.closest('.output');\n",
              "if (outputEl) {{\n",
              "    x.observe(outputEl, {childList: true});\n",
              "}}\n",
              "\n",
              "                        })                };                            </script>        </div>\n",
              "</body>\n",
              "</html>"
            ]
          },
          "metadata": {}
        }
      ]
    },
    {
      "cell_type": "markdown",
      "source": [
        "# Sec 4: K-Means"
      ],
      "metadata": {
        "id": "05G8GNkq3ySI"
      }
    },
    {
      "cell_type": "markdown",
      "source": [
        "Using K-means, we want to perform clustering on the 3D samples. Consider 4 clusters. After running the K-means algorithm on the data, determine to which cluster each sample belongs. Then, use `plotly` to plot the 3D samples colored with respect to their clusters. **(P4-1: 15 points)**"
      ],
      "metadata": {
        "id": "99sy2kUTNKAB"
      }
    },
    {
      "cell_type": "code",
      "source": [
        "class KMeans:\n",
        "    \"\"\"\n",
        "    Fits it on data, then uses predict to get cluster labels.\n",
        "    \"\"\"\n",
        "\n",
        "    def __init__(self, n_clusters=4, max_iter=100):\n",
        "        \"\"\"\n",
        "        YOUR CODE (IF NECESSARY)\n",
        "        \"\"\"\n",
        "        self.n_clusters = n_clusters\n",
        "        self.max_iter = max_iter\n",
        "        self.centroids = None\n",
        "\n",
        "    def fit(self, X, y=None):\n",
        "        \"\"\"Fits the training data\n",
        "        Parameters\n",
        "        ----------\n",
        "        x : array-like, shape = [n_samples, n_features]\n",
        "            Training samples\n",
        "        y : array-like, shape = [n_samples, n_target_values]\n",
        "            Target values\n",
        "        Returns\n",
        "        -------\n",
        "        self : object\n",
        "        \"\"\"\n",
        "\n",
        "        n_samples, n_features = X.shape\n",
        "        \"\"\"\n",
        "        YOUR CODE\n",
        "        \"\"\"\n",
        "         # Initialize centroids randomly\n",
        "        np.random.seed(0)\n",
        "        random_indices = np.random.choice(n_samples, self.n_clusters, replace=False)\n",
        "        self.centroids = X[random_indices]\n",
        "\n",
        "        # Perform K-means clustering\n",
        "        for _ in range(self.max_iter):\n",
        "            # Assign each sample to the nearest centroid\n",
        "            distances = self._compute_distances(X)\n",
        "            labels = np.argmin(distances, axis=1)\n",
        "\n",
        "            # Update centroids\n",
        "            new_centroids = np.array([X[labels == k].mean(axis=0) for k in range(self.n_clusters)])\n",
        "\n",
        "            # Check for convergence\n",
        "            if np.allclose(self.centroids, new_centroids):\n",
        "                break\n",
        "\n",
        "            self.centroids = new_centroids\n",
        "\n",
        "    def predict(self, X):\n",
        "        \"\"\" Predicts the cluster label\n",
        "        Parameters\n",
        "        ----------\n",
        "        x : array-like, shape = [n_samples, n_features]\n",
        "            Test samples\n",
        "        Returns\n",
        "        -------\n",
        "        Predicted cluster label\n",
        "        \"\"\"\n",
        "\n",
        "        y_pred = None\n",
        "        \"\"\"\n",
        "        YOUR CODE\n",
        "        \"\"\"\n",
        "        distances = self._compute_distances(X)\n",
        "        y_pred = np.argmin(distances, axis=1)\n",
        "        return y_pred\n",
        "    def _compute_distances(self, X):\n",
        "        \"\"\"Compute the Euclidean distances between samples and centroids.\n",
        "        Parameters\n",
        "        ----------\n",
        "        X : array-like, shape = [n_samples, n_features]\n",
        "            Samples.\n",
        "        Returns\n",
        "        -------\n",
        "        distances : array-like, shape = [n_samples, n_clusters]\n",
        "            Distances between samples and centroids.\n",
        "        \"\"\"\n",
        "        distances = np.linalg.norm(X[:, np.newaxis] - self.centroids, axis=2)\n",
        "        return distances"
      ],
      "metadata": {
        "id": "SzNxiAjkOYYQ"
      },
      "execution_count": 113,
      "outputs": []
    },
    {
      "cell_type": "code",
      "source": [
        "kmeans = KMeans()\n",
        "kmeans.fit(reals, None)\n",
        "preds_clusters = kmeans.predict(reals)"
      ],
      "metadata": {
        "id": "spAwNfSITeT8"
      },
      "execution_count": 118,
      "outputs": []
    },
    {
      "cell_type": "code",
      "source": [
        "preds_clusters"
      ],
      "metadata": {
        "colab": {
          "base_uri": "https://localhost:8080/"
        },
        "id": "lRJFWcbBVxnX",
        "outputId": "f153710a-145b-4a8a-915a-d3bec4500c2d"
      },
      "execution_count": 119,
      "outputs": [
        {
          "output_type": "execute_result",
          "data": {
            "text/plain": [
              "array([2, 0, 2, 3, 3, 3, 3, 3, 3, 3, 3, 3, 3, 2, 1, 1, 1, 1, 1, 1, 1, 0,\n",
              "       0, 1, 2, 2, 2, 2, 2, 2, 2, 2, 2, 2, 2, 2, 2, 0, 0, 2])"
            ]
          },
          "metadata": {},
          "execution_count": 119
        }
      ]
    },
    {
      "cell_type": "code",
      "source": [
        "\n",
        "\n",
        "fig = go.Figure(data=go.Scatter3d(\n",
        "    x=reals[:, 0],\n",
        "    y=reals[:, 1],\n",
        "    z=reals[:, 2],\n",
        "    mode='markers',\n",
        "    marker=dict(\n",
        "        size=5,\n",
        "        color=preds_clusters,  # Use labels as the color determiner\n",
        "        colorscale='Viridis',\n",
        "        opacity=0.8,\n",
        "        colorbar=dict(title='Class')\n",
        "    )\n",
        "))\n",
        "\n",
        "# Set plot title and axis labels\n",
        "fig.update_layout(\n",
        "    title=\"3D Scatter Plot\",\n",
        "    scene=dict(\n",
        "        xaxis_title='Feature 1',\n",
        "        yaxis_title='Feature 2',\n",
        "        zaxis_title='Feature 3'\n",
        "    )\n",
        ")\n",
        "\n",
        "# Show the plot\n",
        "fig.show()\n"
      ],
      "metadata": {
        "colab": {
          "base_uri": "https://localhost:8080/",
          "height": 542
        },
        "id": "EpojjWt8WKhr",
        "outputId": "e50de9c6-10b6-4e99-b80e-7a1095f0f575"
      },
      "execution_count": 120,
      "outputs": [
        {
          "output_type": "display_data",
          "data": {
            "text/html": [
              "<html>\n",
              "<head><meta charset=\"utf-8\" /></head>\n",
              "<body>\n",
              "    <div>            <script src=\"https://cdnjs.cloudflare.com/ajax/libs/mathjax/2.7.5/MathJax.js?config=TeX-AMS-MML_SVG\"></script><script type=\"text/javascript\">if (window.MathJax && window.MathJax.Hub && window.MathJax.Hub.Config) {window.MathJax.Hub.Config({SVG: {font: \"STIX-Web\"}});}</script>                <script type=\"text/javascript\">window.PlotlyConfig = {MathJaxConfig: 'local'};</script>\n",
              "        <script src=\"https://cdn.plot.ly/plotly-2.18.2.min.js\"></script>                <div id=\"a0f027e6-aad7-4bfe-892b-a0c47f4be319\" class=\"plotly-graph-div\" style=\"height:525px; width:100%;\"></div>            <script type=\"text/javascript\">                                    window.PLOTLYENV=window.PLOTLYENV || {};                                    if (document.getElementById(\"a0f027e6-aad7-4bfe-892b-a0c47f4be319\")) {                    Plotly.newPlot(                        \"a0f027e6-aad7-4bfe-892b-a0c47f4be319\",                        [{\"marker\":{\"color\":[2,0,2,3,3,3,3,3,3,3,3,3,3,2,1,1,1,1,1,1,1,0,0,1,2,2,2,2,2,2,2,2,2,2,2,2,2,0,0,2],\"colorbar\":{\"title\":{\"text\":\"Class\"}},\"colorscale\":[[0.0,\"#440154\"],[0.1111111111111111,\"#482878\"],[0.2222222222222222,\"#3e4989\"],[0.3333333333333333,\"#31688e\"],[0.4444444444444444,\"#26828e\"],[0.5555555555555556,\"#1f9e89\"],[0.6666666666666666,\"#35b779\"],[0.7777777777777778,\"#6ece58\"],[0.8888888888888888,\"#b5de2b\"],[1.0,\"#fde725\"]],\"opacity\":0.8,\"size\":5},\"mode\":\"markers\",\"x\":[-0.9393473277984774,-2.7363201923101093,-1.9585525064569742,-5.506231479204195,-4.769805567818057,-5.218341099879241,-6.5792723688958175,-5.544659920744233,-5.353789278233732,-6.9629296947610175,-6.868455743513344,-7.28687988638538,-5.949408463445826,-3.7453018610542106,4.966466001960118,6.529178740792816,6.932926598616076,3.557872017853044,6.440600091238317,5.898754197800579,5.586829770002238,3.128890896534497,3.589375034326395,5.296732718304415,-2.544090264536517,2.2970015411575524,1.053184129909515,0.8121864655381714,3.0469304581211127,1.8225908226581782,-1.3773499177358008,5.885940540944578,4.7624260729176155,1.8026861080839374,2.320491204376374,-3.3754913415423613,0.16536888112197476,-0.19328075560940047,0.18458236381994098,0.8284930138472921],\"y\":[-1.9435151505991808,5.058853698133787,-2.406346717079553,0.02917874654473962,-1.2080998848440176,-1.1948533260009329,-0.2956918920530359,1.016427405312079,-0.15357227981876875,1.184017540559095,0.9528692667773463,-0.5752676524282148,0.9803670660106879,-1.4110316187656635,1.543052929326498,2.805468147222963,-0.6122723647104263,2.6142141034446356,3.431406443950084,-2.1106232806452705,3.6941827910896845,5.052094095910715,3.693568686126592,3.0964612384577777,-0.5609463038355794,-2.3087241889340144,-0.9026792202677092,-5.288198175539988,-4.990527295852161,-2.8867241244489246,0.8749433652654939,-6.106067528347606,-4.063175126285637,-0.4045090655220523,-3.8577203875657284,0.35258652790677025,0.4461623925446246,3.3006711393649244,3.7356402745863817,-0.5816202749904971],\"z\":[1.162460359697704,6.786621080661491,2.81911377820854,-2.805828410519375,-4.044930551962429,-3.7621410968052635,-2.1588704614219116,-1.0582074270877688,-3.366238339666883,-1.827218745347143,-1.151272287963254,-0.7638589290629437,-2.8220891460953923,4.94482978980819,-1.5284716980019613,-2.6434840949174374,-2.0716272024436537,-0.7340764070062258,-1.9231247575480586,-1.6718078092094166,-2.088021806194589,0.7292919134771101,0.5950908811416817,-1.1380618581372022,3.9828578410441495,1.1383923757208925,1.3955030782968003,-1.2515461891044577,-1.1272219301167292,1.7333862241190012,3.979115448123404,0.9449995575356762,0.8000282933360587,1.7299298341434532,1.279618732002914,4.999451163288244,-0.44589572713945846,0.7288438763170311,0.7420948974114111,-0.10763424858205126],\"type\":\"scatter3d\"}],                        {\"template\":{\"data\":{\"histogram2dcontour\":[{\"type\":\"histogram2dcontour\",\"colorbar\":{\"outlinewidth\":0,\"ticks\":\"\"},\"colorscale\":[[0.0,\"#0d0887\"],[0.1111111111111111,\"#46039f\"],[0.2222222222222222,\"#7201a8\"],[0.3333333333333333,\"#9c179e\"],[0.4444444444444444,\"#bd3786\"],[0.5555555555555556,\"#d8576b\"],[0.6666666666666666,\"#ed7953\"],[0.7777777777777778,\"#fb9f3a\"],[0.8888888888888888,\"#fdca26\"],[1.0,\"#f0f921\"]]}],\"choropleth\":[{\"type\":\"choropleth\",\"colorbar\":{\"outlinewidth\":0,\"ticks\":\"\"}}],\"histogram2d\":[{\"type\":\"histogram2d\",\"colorbar\":{\"outlinewidth\":0,\"ticks\":\"\"},\"colorscale\":[[0.0,\"#0d0887\"],[0.1111111111111111,\"#46039f\"],[0.2222222222222222,\"#7201a8\"],[0.3333333333333333,\"#9c179e\"],[0.4444444444444444,\"#bd3786\"],[0.5555555555555556,\"#d8576b\"],[0.6666666666666666,\"#ed7953\"],[0.7777777777777778,\"#fb9f3a\"],[0.8888888888888888,\"#fdca26\"],[1.0,\"#f0f921\"]]}],\"heatmap\":[{\"type\":\"heatmap\",\"colorbar\":{\"outlinewidth\":0,\"ticks\":\"\"},\"colorscale\":[[0.0,\"#0d0887\"],[0.1111111111111111,\"#46039f\"],[0.2222222222222222,\"#7201a8\"],[0.3333333333333333,\"#9c179e\"],[0.4444444444444444,\"#bd3786\"],[0.5555555555555556,\"#d8576b\"],[0.6666666666666666,\"#ed7953\"],[0.7777777777777778,\"#fb9f3a\"],[0.8888888888888888,\"#fdca26\"],[1.0,\"#f0f921\"]]}],\"heatmapgl\":[{\"type\":\"heatmapgl\",\"colorbar\":{\"outlinewidth\":0,\"ticks\":\"\"},\"colorscale\":[[0.0,\"#0d0887\"],[0.1111111111111111,\"#46039f\"],[0.2222222222222222,\"#7201a8\"],[0.3333333333333333,\"#9c179e\"],[0.4444444444444444,\"#bd3786\"],[0.5555555555555556,\"#d8576b\"],[0.6666666666666666,\"#ed7953\"],[0.7777777777777778,\"#fb9f3a\"],[0.8888888888888888,\"#fdca26\"],[1.0,\"#f0f921\"]]}],\"contourcarpet\":[{\"type\":\"contourcarpet\",\"colorbar\":{\"outlinewidth\":0,\"ticks\":\"\"}}],\"contour\":[{\"type\":\"contour\",\"colorbar\":{\"outlinewidth\":0,\"ticks\":\"\"},\"colorscale\":[[0.0,\"#0d0887\"],[0.1111111111111111,\"#46039f\"],[0.2222222222222222,\"#7201a8\"],[0.3333333333333333,\"#9c179e\"],[0.4444444444444444,\"#bd3786\"],[0.5555555555555556,\"#d8576b\"],[0.6666666666666666,\"#ed7953\"],[0.7777777777777778,\"#fb9f3a\"],[0.8888888888888888,\"#fdca26\"],[1.0,\"#f0f921\"]]}],\"surface\":[{\"type\":\"surface\",\"colorbar\":{\"outlinewidth\":0,\"ticks\":\"\"},\"colorscale\":[[0.0,\"#0d0887\"],[0.1111111111111111,\"#46039f\"],[0.2222222222222222,\"#7201a8\"],[0.3333333333333333,\"#9c179e\"],[0.4444444444444444,\"#bd3786\"],[0.5555555555555556,\"#d8576b\"],[0.6666666666666666,\"#ed7953\"],[0.7777777777777778,\"#fb9f3a\"],[0.8888888888888888,\"#fdca26\"],[1.0,\"#f0f921\"]]}],\"mesh3d\":[{\"type\":\"mesh3d\",\"colorbar\":{\"outlinewidth\":0,\"ticks\":\"\"}}],\"scatter\":[{\"fillpattern\":{\"fillmode\":\"overlay\",\"size\":10,\"solidity\":0.2},\"type\":\"scatter\"}],\"parcoords\":[{\"type\":\"parcoords\",\"line\":{\"colorbar\":{\"outlinewidth\":0,\"ticks\":\"\"}}}],\"scatterpolargl\":[{\"type\":\"scatterpolargl\",\"marker\":{\"colorbar\":{\"outlinewidth\":0,\"ticks\":\"\"}}}],\"bar\":[{\"error_x\":{\"color\":\"#2a3f5f\"},\"error_y\":{\"color\":\"#2a3f5f\"},\"marker\":{\"line\":{\"color\":\"#E5ECF6\",\"width\":0.5},\"pattern\":{\"fillmode\":\"overlay\",\"size\":10,\"solidity\":0.2}},\"type\":\"bar\"}],\"scattergeo\":[{\"type\":\"scattergeo\",\"marker\":{\"colorbar\":{\"outlinewidth\":0,\"ticks\":\"\"}}}],\"scatterpolar\":[{\"type\":\"scatterpolar\",\"marker\":{\"colorbar\":{\"outlinewidth\":0,\"ticks\":\"\"}}}],\"histogram\":[{\"marker\":{\"pattern\":{\"fillmode\":\"overlay\",\"size\":10,\"solidity\":0.2}},\"type\":\"histogram\"}],\"scattergl\":[{\"type\":\"scattergl\",\"marker\":{\"colorbar\":{\"outlinewidth\":0,\"ticks\":\"\"}}}],\"scatter3d\":[{\"type\":\"scatter3d\",\"line\":{\"colorbar\":{\"outlinewidth\":0,\"ticks\":\"\"}},\"marker\":{\"colorbar\":{\"outlinewidth\":0,\"ticks\":\"\"}}}],\"scattermapbox\":[{\"type\":\"scattermapbox\",\"marker\":{\"colorbar\":{\"outlinewidth\":0,\"ticks\":\"\"}}}],\"scatterternary\":[{\"type\":\"scatterternary\",\"marker\":{\"colorbar\":{\"outlinewidth\":0,\"ticks\":\"\"}}}],\"scattercarpet\":[{\"type\":\"scattercarpet\",\"marker\":{\"colorbar\":{\"outlinewidth\":0,\"ticks\":\"\"}}}],\"carpet\":[{\"aaxis\":{\"endlinecolor\":\"#2a3f5f\",\"gridcolor\":\"white\",\"linecolor\":\"white\",\"minorgridcolor\":\"white\",\"startlinecolor\":\"#2a3f5f\"},\"baxis\":{\"endlinecolor\":\"#2a3f5f\",\"gridcolor\":\"white\",\"linecolor\":\"white\",\"minorgridcolor\":\"white\",\"startlinecolor\":\"#2a3f5f\"},\"type\":\"carpet\"}],\"table\":[{\"cells\":{\"fill\":{\"color\":\"#EBF0F8\"},\"line\":{\"color\":\"white\"}},\"header\":{\"fill\":{\"color\":\"#C8D4E3\"},\"line\":{\"color\":\"white\"}},\"type\":\"table\"}],\"barpolar\":[{\"marker\":{\"line\":{\"color\":\"#E5ECF6\",\"width\":0.5},\"pattern\":{\"fillmode\":\"overlay\",\"size\":10,\"solidity\":0.2}},\"type\":\"barpolar\"}],\"pie\":[{\"automargin\":true,\"type\":\"pie\"}]},\"layout\":{\"autotypenumbers\":\"strict\",\"colorway\":[\"#636efa\",\"#EF553B\",\"#00cc96\",\"#ab63fa\",\"#FFA15A\",\"#19d3f3\",\"#FF6692\",\"#B6E880\",\"#FF97FF\",\"#FECB52\"],\"font\":{\"color\":\"#2a3f5f\"},\"hovermode\":\"closest\",\"hoverlabel\":{\"align\":\"left\"},\"paper_bgcolor\":\"white\",\"plot_bgcolor\":\"#E5ECF6\",\"polar\":{\"bgcolor\":\"#E5ECF6\",\"angularaxis\":{\"gridcolor\":\"white\",\"linecolor\":\"white\",\"ticks\":\"\"},\"radialaxis\":{\"gridcolor\":\"white\",\"linecolor\":\"white\",\"ticks\":\"\"}},\"ternary\":{\"bgcolor\":\"#E5ECF6\",\"aaxis\":{\"gridcolor\":\"white\",\"linecolor\":\"white\",\"ticks\":\"\"},\"baxis\":{\"gridcolor\":\"white\",\"linecolor\":\"white\",\"ticks\":\"\"},\"caxis\":{\"gridcolor\":\"white\",\"linecolor\":\"white\",\"ticks\":\"\"}},\"coloraxis\":{\"colorbar\":{\"outlinewidth\":0,\"ticks\":\"\"}},\"colorscale\":{\"sequential\":[[0.0,\"#0d0887\"],[0.1111111111111111,\"#46039f\"],[0.2222222222222222,\"#7201a8\"],[0.3333333333333333,\"#9c179e\"],[0.4444444444444444,\"#bd3786\"],[0.5555555555555556,\"#d8576b\"],[0.6666666666666666,\"#ed7953\"],[0.7777777777777778,\"#fb9f3a\"],[0.8888888888888888,\"#fdca26\"],[1.0,\"#f0f921\"]],\"sequentialminus\":[[0.0,\"#0d0887\"],[0.1111111111111111,\"#46039f\"],[0.2222222222222222,\"#7201a8\"],[0.3333333333333333,\"#9c179e\"],[0.4444444444444444,\"#bd3786\"],[0.5555555555555556,\"#d8576b\"],[0.6666666666666666,\"#ed7953\"],[0.7777777777777778,\"#fb9f3a\"],[0.8888888888888888,\"#fdca26\"],[1.0,\"#f0f921\"]],\"diverging\":[[0,\"#8e0152\"],[0.1,\"#c51b7d\"],[0.2,\"#de77ae\"],[0.3,\"#f1b6da\"],[0.4,\"#fde0ef\"],[0.5,\"#f7f7f7\"],[0.6,\"#e6f5d0\"],[0.7,\"#b8e186\"],[0.8,\"#7fbc41\"],[0.9,\"#4d9221\"],[1,\"#276419\"]]},\"xaxis\":{\"gridcolor\":\"white\",\"linecolor\":\"white\",\"ticks\":\"\",\"title\":{\"standoff\":15},\"zerolinecolor\":\"white\",\"automargin\":true,\"zerolinewidth\":2},\"yaxis\":{\"gridcolor\":\"white\",\"linecolor\":\"white\",\"ticks\":\"\",\"title\":{\"standoff\":15},\"zerolinecolor\":\"white\",\"automargin\":true,\"zerolinewidth\":2},\"scene\":{\"xaxis\":{\"backgroundcolor\":\"#E5ECF6\",\"gridcolor\":\"white\",\"linecolor\":\"white\",\"showbackground\":true,\"ticks\":\"\",\"zerolinecolor\":\"white\",\"gridwidth\":2},\"yaxis\":{\"backgroundcolor\":\"#E5ECF6\",\"gridcolor\":\"white\",\"linecolor\":\"white\",\"showbackground\":true,\"ticks\":\"\",\"zerolinecolor\":\"white\",\"gridwidth\":2},\"zaxis\":{\"backgroundcolor\":\"#E5ECF6\",\"gridcolor\":\"white\",\"linecolor\":\"white\",\"showbackground\":true,\"ticks\":\"\",\"zerolinecolor\":\"white\",\"gridwidth\":2}},\"shapedefaults\":{\"line\":{\"color\":\"#2a3f5f\"}},\"annotationdefaults\":{\"arrowcolor\":\"#2a3f5f\",\"arrowhead\":0,\"arrowwidth\":1},\"geo\":{\"bgcolor\":\"white\",\"landcolor\":\"#E5ECF6\",\"subunitcolor\":\"white\",\"showland\":true,\"showlakes\":true,\"lakecolor\":\"white\"},\"title\":{\"x\":0.05},\"mapbox\":{\"style\":\"light\"}}},\"title\":{\"text\":\"3D Scatter Plot\"},\"scene\":{\"xaxis\":{\"title\":{\"text\":\"Feature 1\"}},\"yaxis\":{\"title\":{\"text\":\"Feature 2\"}},\"zaxis\":{\"title\":{\"text\":\"Feature 3\"}}}},                        {\"responsive\": true}                    ).then(function(){\n",
              "                            \n",
              "var gd = document.getElementById('a0f027e6-aad7-4bfe-892b-a0c47f4be319');\n",
              "var x = new MutationObserver(function (mutations, observer) {{\n",
              "        var display = window.getComputedStyle(gd).display;\n",
              "        if (!display || display === 'none') {{\n",
              "            console.log([gd, 'removed!']);\n",
              "            Plotly.purge(gd);\n",
              "            observer.disconnect();\n",
              "        }}\n",
              "}});\n",
              "\n",
              "// Listen for the removal of the full notebook cells\n",
              "var notebookContainer = gd.closest('#notebook-container');\n",
              "if (notebookContainer) {{\n",
              "    x.observe(notebookContainer, {childList: true});\n",
              "}}\n",
              "\n",
              "// Listen for the clearing of the current output cell\n",
              "var outputEl = gd.closest('.output');\n",
              "if (outputEl) {{\n",
              "    x.observe(outputEl, {childList: true});\n",
              "}}\n",
              "\n",
              "                        })                };                            </script>        </div>\n",
              "</body>\n",
              "</html>"
            ]
          },
          "metadata": {}
        }
      ]
    },
    {
      "cell_type": "markdown",
      "source": [
        "Measure the quality of the clustering using \"silhoutte score\" **(P4-2: 5 points)**\n",
        "\n",
        "Note: You can use `sklearn` or other packages to calculate the score."
      ],
      "metadata": {
        "id": "8J5FN-HIOOqJ"
      }
    },
    {
      "cell_type": "code",
      "source": [
        "from sklearn.metrics import silhouette_score\n",
        "sil_score = silhouette_score(reals, preds_clusters)\n",
        "print(\"Silhouette Score:\", sil_score)\n"
      ],
      "metadata": {
        "id": "1zdNLJ_9OYxO",
        "colab": {
          "base_uri": "https://localhost:8080/"
        },
        "outputId": "06419303-3d85-4844-add2-ffd16734729b"
      },
      "execution_count": 141,
      "outputs": [
        {
          "output_type": "stream",
          "name": "stdout",
          "text": [
            "Silhouette Score: 0.42941311495251017\n"
          ]
        }
      ]
    },
    {
      "cell_type": "markdown",
      "source": [
        "Compare the result of the clustering with the original labels. To be more precise, in this part, you should clearly answer the following questions with details:<br>\n",
        "\n",
        "- Does each cluster represent a true label?\n",
        "- What is your conclusion?\n",
        "\n",
        "**(P4-3: 10 points)**"
      ],
      "metadata": {
        "id": "znohK44UQ5s7"
      }
    },
    {
      "cell_type": "code",
      "source": [
        "reals.shape"
      ],
      "metadata": {
        "colab": {
          "base_uri": "https://localhost:8080/"
        },
        "id": "65dEAMsXXDvb",
        "outputId": "4cae3f39-23fb-4ee3-c26d-bb3291bd38ed"
      },
      "execution_count": 124,
      "outputs": [
        {
          "output_type": "execute_result",
          "data": {
            "text/plain": [
              "(40, 3)"
            ]
          },
          "metadata": {},
          "execution_count": 124
        }
      ]
    },
    {
      "cell_type": "code",
      "source": [
        "set_2 = []\n",
        "set_17 = []\n",
        "set_33 = []\n",
        "set_37 = []\n",
        "\n",
        "cluster_0 = []\n",
        "cluster_1 = []\n",
        "cluster_2 = []\n",
        "cluster_3 = []\n",
        "for i in range(reals.shape[0]):\n",
        "  # add in label sets\n",
        "  if selected_labels[i] == 2:\n",
        "    set_2.append(preds_clusters[i])\n",
        "  elif selected_labels[i] == 17:\n",
        "    set_17.append(preds_clusters[i])\n",
        "  elif selected_labels[i] == 33:\n",
        "    set_33.append(preds_clusters[i])\n",
        "  elif selected_labels[i] == 37:\n",
        "    set_37.append(preds_clusters[i])\n",
        "  # add to cluster sets\n",
        "  if preds_clusters[i] == 0:\n",
        "    cluster_0.append(selected_labels[i])\n",
        "  elif preds_clusters[i] == 1:\n",
        "    cluster_1.append(selected_labels[i])\n",
        "  elif preds_clusters[i] == 2:\n",
        "    cluster_2.append(selected_labels[i])\n",
        "  elif preds_clusters[i] == 3:\n",
        "    cluster_3.append(selected_labels[i])\n"
      ],
      "metadata": {
        "id": "DDfOcVckRboQ"
      },
      "execution_count": 128,
      "outputs": []
    },
    {
      "cell_type": "code",
      "source": [
        "# Observe Clusters\n",
        "print(cluster_0)\n",
        "print(cluster_1)\n",
        "print(cluster_2)\n",
        "print(cluster_3)"
      ],
      "metadata": {
        "colab": {
          "base_uri": "https://localhost:8080/"
        },
        "id": "nfFQaNo2ZDjg",
        "outputId": "c5d17432-cfa1-4b59-87cb-6034002ef894"
      },
      "execution_count": 129,
      "outputs": [
        {
          "output_type": "stream",
          "name": "stdout",
          "text": [
            "[17, 2, 2, 37, 37]\n",
            "[33, 33, 33, 33, 33, 33, 2, 2]\n",
            "[17, 17, 33, 2, 2, 2, 2, 2, 2, 37, 37, 37, 37, 37, 37, 37, 37]\n",
            "[17, 17, 17, 17, 17, 17, 17, 33, 33, 33]\n"
          ]
        }
      ]
    },
    {
      "cell_type": "markdown",
      "source": [
        "We can conclude that cluster 4 is somehow showing the 17th person.\n",
        "\n",
        "but the others are not the same"
      ],
      "metadata": {
        "id": "a3rHJ5g4ZVlR"
      }
    },
    {
      "cell_type": "code",
      "source": [
        "# Observe People\n",
        "print(set_2)\n",
        "print(set_17)\n",
        "print(set_33)\n",
        "print(set_37)"
      ],
      "metadata": {
        "colab": {
          "base_uri": "https://localhost:8080/"
        },
        "id": "vT7aszWnZi8q",
        "outputId": "784f1e64-84b0-4487-efe6-b882867729ed"
      },
      "execution_count": 130,
      "outputs": [
        {
          "output_type": "stream",
          "name": "stdout",
          "text": [
            "[1, 0, 0, 1, 2, 2, 2, 2, 2, 2]\n",
            "[2, 0, 2, 3, 3, 3, 3, 3, 3, 3]\n",
            "[3, 3, 3, 2, 1, 1, 1, 1, 1, 1]\n",
            "[2, 2, 2, 2, 2, 2, 2, 0, 0, 2]\n"
          ]
        }
      ]
    },
    {
      "cell_type": "markdown",
      "source": [
        "As we concluded before, the 17th person is clustered into the 3rd cluster.\n",
        "\n",
        "the 37th person is also clustered into 4th cluster, but the 2nd person is clustered into this cluster, too!\n",
        "\n",
        "\n",
        "Finally, if a cluster consists of a similar number and also that similar number mostly belongs to that cluster, we can conclude this.\n",
        "\n",
        "Otherwise, its difficult to conclude.\n"
      ],
      "metadata": {
        "id": "yIuuNFgOZrZV"
      }
    },
    {
      "cell_type": "markdown",
      "source": [
        "# Sec 5: Neural Net (Optional with Bonus Points)"
      ],
      "metadata": {
        "id": "l2rNsjun2MYm"
      }
    },
    {
      "cell_type": "markdown",
      "source": [
        "Reshape the images so that they become of shape `64x64` **(P5-1: 5 points)**"
      ],
      "metadata": {
        "id": "kHrNE4gp2-AW"
      }
    },
    {
      "cell_type": "code",
      "source": [
        "# x is already of this size\n",
        "x.shape\n",
        "x_train_nn = np.concatenate((x_train, x_val))\n",
        "x_train_nn = np.reshape(x_train_nn, (x_train_nn.shape[0], 64, 64))\n",
        "x_test_nn = np.reshape(x_test, (x_test.shape[0], 64, 64))"
      ],
      "metadata": {
        "id": "OaCDrh9g3Sbd"
      },
      "execution_count": 91,
      "outputs": []
    },
    {
      "cell_type": "code",
      "source": [
        "print(x_train_nn.shape)\n",
        "print(x_test_nn.shape)"
      ],
      "metadata": {
        "colab": {
          "base_uri": "https://localhost:8080/"
        },
        "id": "3vaiBPwABj-U",
        "outputId": "8fce82ab-e553-4a69-d205-2a128f6f6ca8"
      },
      "execution_count": 92,
      "outputs": [
        {
          "output_type": "stream",
          "name": "stdout",
          "text": [
            "(360, 64, 64)\n",
            "(40, 64, 64)\n"
          ]
        }
      ]
    },
    {
      "cell_type": "markdown",
      "source": [
        "Use different types of augmentation techniques (such as Random Flipping, Random Rotation, etc.) to increase the size of the training dataset. **(P5-2: 10 points)**"
      ],
      "metadata": {
        "id": "PC0kN0MPOcak"
      }
    },
    {
      "cell_type": "code",
      "source": [
        "from keras.preprocessing.image import ImageDataGenerator\n",
        "\n",
        "# Load your 320x64x64 numpy array here for training\n",
        "\n",
        "# Define the data augmentation parameters\n",
        "datagen = ImageDataGenerator(\n",
        "    rotation_range=30,       # Rotate by up to 30 degrees\n",
        "    width_shift_range=0.1,   # Shift horizontally by up to 10% (width)\n",
        "    height_shift_range=0.1,  # Shift vertically by up to 10% (height)\n",
        "    zoom_range=0.2,          # Zoom in/out by up to 20%\n",
        "    horizontal_flip=True,    # Flip horizontally (p=50%)\n",
        "    vertical_flip=True,      # Flip vertically (p=50%)\n",
        "    fill_mode='nearest'      # Fill empty pxls with nearest pixel\n",
        ")\n",
        "\n",
        "# Fit the ImageDataGenerator to the training data\n",
        "x_train_nn_new = np.expand_dims(x_train_nn, axis=-1)\n",
        "datagen.fit(x_train_nn_new)\n",
        "\n",
        "# Generate augmented images\n",
        "batch_size = 36\n",
        "num_batches = 10\n",
        "X_augmented = []\n",
        "for i in range(num_batches):\n",
        "    batch = x_train_nn_new[i*batch_size:(i+1)*batch_size]\n",
        "    augmented_batch = datagen.flow(batch, batch_size=batch_size, shuffle=False)\n",
        "    X_augmented.append(augmented_batch[0])\n",
        "\n",
        "X_augmented = np.squeeze(X_augmented, axis=-1)\n",
        "X_augmented = np.reshape(X_augmented, (X_augmented.shape[0]*X_augmented.shape[1], X_augmented.shape[2], X_augmented.shape[3]))"
      ],
      "metadata": {
        "id": "QbUC-Y5mP4Xd"
      },
      "execution_count": 93,
      "outputs": []
    },
    {
      "cell_type": "code",
      "source": [
        "x_train_nn_new = np.concatenate([X_augmented, x_train_nn])\n",
        "y_train_nn_new = np.concatenate([y_train, y_val, y_train, y_val])"
      ],
      "metadata": {
        "id": "gB79OO5TCMju"
      },
      "execution_count": 94,
      "outputs": []
    },
    {
      "cell_type": "code",
      "source": [
        "print(x_train_nn_new.shape)\n",
        "print(y_train_nn_new.shape)"
      ],
      "metadata": {
        "colab": {
          "base_uri": "https://localhost:8080/"
        },
        "id": "3vJfsHfmEJJj",
        "outputId": "9f737a45-167f-4c93-ea3e-f669a456598a"
      },
      "execution_count": 95,
      "outputs": [
        {
          "output_type": "stream",
          "name": "stdout",
          "text": [
            "(720, 64, 64)\n",
            "(720,)\n"
          ]
        }
      ]
    },
    {
      "cell_type": "code",
      "source": [
        "import matplotlib.pyplot as plt\n",
        "img_array = X_augmented[3]\n",
        "plt.imshow(img_array)\n",
        "plt.show()"
      ],
      "metadata": {
        "colab": {
          "base_uri": "https://localhost:8080/",
          "height": 432
        },
        "id": "_N-CgyWHCnJC",
        "outputId": "bf922b6c-0019-434a-c3cf-22d97a174987"
      },
      "execution_count": 96,
      "outputs": [
        {
          "output_type": "display_data",
          "data": {
            "text/plain": [
              "<Figure size 640x480 with 1 Axes>"
            ],
            "image/png": "[encoded data removed]"
          },
          "metadata": {}
        }
      ]
    },
    {
      "cell_type": "markdown",
      "source": [
        "Using the augmented training set, train a neural network consisting of 2D convolutional layers. The exact architecture of the network is arbitrary. However, the last layer should have the \"softmax\" function as its activation. Also, using \"max pooling\" layers after convolutional ones is advised.\n",
        "\n",
        "Note: Don't get frustrated if your network does not appear to be a good one. Give it some time to be trained. For instance, you might need to train it for 100 epochs. Make sure to try that out before quitting!\n",
        "\n",
        "**(P5-3: 20 points)**"
      ],
      "metadata": {
        "id": "uXVXHAIgOp_F"
      }
    },
    {
      "cell_type": "code",
      "source": [
        "from keras.models import Sequential\n",
        "from keras.layers import Conv2D, MaxPooling2D, Flatten, Dense\n",
        "from keras.utils import to_categorical\n",
        "\n",
        "\n",
        "\n",
        "# Normalize the input data to have values between 0 and 1\n",
        "X_train = x_train_nn_new.astype('float32')\n",
        "\n",
        "# One-hot encode the labels\n",
        "Y_train = to_categorical(y_train_nn_new)\n",
        "\n",
        "# Define the model architecture\n",
        "model = Sequential()\n",
        "model.add(Conv2D(32, (3, 3), activation='relu', input_shape=(64, 64, 1)))\n",
        "model.add(MaxPooling2D((2, 2)))\n",
        "model.add(Conv2D(64, (3, 3), activation='relu'))\n",
        "model.add(MaxPooling2D((2, 2)))\n",
        "model.add(Conv2D(128, (3, 3), activation='relu'))\n",
        "model.add(MaxPooling2D((2, 2)))\n",
        "model.add(Flatten())\n",
        "model.add(Dense(64, activation='relu'))\n",
        "model.add(Dense(39, activation='softmax'))\n",
        "\n",
        "# Compile the model\n",
        "model.compile(optimizer='adam', loss='categorical_crossentropy', metrics=['accuracy'])\n",
        "\n"
      ],
      "metadata": {
        "id": "WgODL6JyPdY4"
      },
      "execution_count": 98,
      "outputs": []
    },
    {
      "cell_type": "code",
      "source": [
        "# Train the model\n",
        "model.fit(X_train, Y_train, epochs=100, batch_size=32, validation_split=0.25)"
      ],
      "metadata": {
        "colab": {
          "base_uri": "https://localhost:8080/"
        },
        "id": "f_8U6MaoQJrJ",
        "outputId": "a554c4d0-916d-46bf-bb28-abf7bea35f9c"
      },
      "execution_count": 103,
      "outputs": [
        {
          "output_type": "stream",
          "name": "stdout",
          "text": [
            "Epoch 1/100\n",
            "17/17 [==============================] - 4s 239ms/step - loss: 2.2768 - accuracy: 0.3704 - val_loss: 2.7918 - val_accuracy: 0.3222\n",
            "Epoch 2/100\n",
            "17/17 [==============================] - 5s 287ms/step - loss: 2.0818 - accuracy: 0.4278 - val_loss: 2.5622 - val_accuracy: 0.3556\n",
            "Epoch 3/100\n",
            "17/17 [==============================] - 4s 255ms/step - loss: 1.9625 - accuracy: 0.4500 - val_loss: 2.6249 - val_accuracy: 0.3500\n",
            "Epoch 4/100\n",
            "17/17 [==============================] - 4s 231ms/step - loss: 1.7494 - accuracy: 0.5241 - val_loss: 2.5821 - val_accuracy: 0.3889\n",
            "Epoch 5/100\n",
            "17/17 [==============================] - 5s 296ms/step - loss: 1.6609 - accuracy: 0.5148 - val_loss: 2.5796 - val_accuracy: 0.3722\n",
            "Epoch 6/100\n",
            "17/17 [==============================] - 4s 249ms/step - loss: 1.4696 - accuracy: 0.5648 - val_loss: 2.4998 - val_accuracy: 0.3778\n",
            "Epoch 7/100\n",
            "17/17 [==============================] - 4s 230ms/step - loss: 1.4787 - accuracy: 0.5574 - val_loss: 2.8013 - val_accuracy: 0.3611\n",
            "Epoch 8/100\n",
            "17/17 [==============================] - 5s 301ms/step - loss: 1.2837 - accuracy: 0.6407 - val_loss: 2.4561 - val_accuracy: 0.4222\n",
            "Epoch 9/100\n",
            "17/17 [==============================] - 4s 246ms/step - loss: 1.1064 - accuracy: 0.6796 - val_loss: 2.7307 - val_accuracy: 0.4167\n",
            "Epoch 10/100\n",
            "17/17 [==============================] - 4s 231ms/step - loss: 1.0401 - accuracy: 0.6944 - val_loss: 2.5280 - val_accuracy: 0.4000\n",
            "Epoch 11/100\n",
            "17/17 [==============================] - 6s 371ms/step - loss: 0.8467 - accuracy: 0.7648 - val_loss: 2.8755 - val_accuracy: 0.4056\n",
            "Epoch 12/100\n",
            "17/17 [==============================] - 4s 237ms/step - loss: 0.8014 - accuracy: 0.7704 - val_loss: 2.8534 - val_accuracy: 0.4333\n",
            "Epoch 13/100\n",
            "17/17 [==============================] - 4s 235ms/step - loss: 0.7087 - accuracy: 0.8111 - val_loss: 2.8610 - val_accuracy: 0.3889\n",
            "Epoch 14/100\n",
            "17/17 [==============================] - 5s 325ms/step - loss: 0.5851 - accuracy: 0.8352 - val_loss: 2.8929 - val_accuracy: 0.4333\n",
            "Epoch 15/100\n",
            "17/17 [==============================] - 4s 233ms/step - loss: 0.5359 - accuracy: 0.8426 - val_loss: 3.0796 - val_accuracy: 0.4111\n",
            "Epoch 16/100\n",
            "17/17 [==============================] - 4s 232ms/step - loss: 0.5194 - accuracy: 0.8574 - val_loss: 3.2419 - val_accuracy: 0.4278\n",
            "Epoch 17/100\n",
            "17/17 [==============================] - 6s 331ms/step - loss: 0.3967 - accuracy: 0.9056 - val_loss: 3.3862 - val_accuracy: 0.4444\n",
            "Epoch 18/100\n",
            "17/17 [==============================] - 4s 261ms/step - loss: 0.3429 - accuracy: 0.9204 - val_loss: 3.6751 - val_accuracy: 0.4056\n",
            "Epoch 19/100\n",
            "17/17 [==============================] - 4s 233ms/step - loss: 0.2847 - accuracy: 0.9444 - val_loss: 3.6424 - val_accuracy: 0.4444\n",
            "Epoch 20/100\n",
            "17/17 [==============================] - 5s 326ms/step - loss: 0.2202 - accuracy: 0.9519 - val_loss: 4.0063 - val_accuracy: 0.4389\n",
            "Epoch 21/100\n",
            "17/17 [==============================] - 4s 235ms/step - loss: 0.2069 - accuracy: 0.9574 - val_loss: 3.7013 - val_accuracy: 0.4444\n",
            "Epoch 22/100\n",
            "17/17 [==============================] - 4s 236ms/step - loss: 0.1918 - accuracy: 0.9556 - val_loss: 4.0563 - val_accuracy: 0.4611\n",
            "Epoch 23/100\n",
            "17/17 [==============================] - 5s 329ms/step - loss: 0.1681 - accuracy: 0.9611 - val_loss: 3.8919 - val_accuracy: 0.4500\n",
            "Epoch 24/100\n",
            "17/17 [==============================] - 4s 237ms/step - loss: 0.1312 - accuracy: 0.9759 - val_loss: 4.2608 - val_accuracy: 0.4611\n",
            "Epoch 25/100\n",
            "17/17 [==============================] - 4s 237ms/step - loss: 0.1035 - accuracy: 0.9833 - val_loss: 4.2085 - val_accuracy: 0.4722\n",
            "Epoch 26/100\n",
            "17/17 [==============================] - 5s 328ms/step - loss: 0.0831 - accuracy: 0.9815 - val_loss: 4.5283 - val_accuracy: 0.4556\n",
            "Epoch 27/100\n",
            "17/17 [==============================] - 4s 233ms/step - loss: 0.0971 - accuracy: 0.9852 - val_loss: 4.6034 - val_accuracy: 0.4722\n",
            "Epoch 28/100\n",
            "17/17 [==============================] - 4s 236ms/step - loss: 0.0757 - accuracy: 0.9870 - val_loss: 4.5893 - val_accuracy: 0.4556\n",
            "Epoch 29/100\n",
            "17/17 [==============================] - 6s 344ms/step - loss: 0.0834 - accuracy: 0.9852 - val_loss: 5.0991 - val_accuracy: 0.4167\n",
            "Epoch 30/100\n",
            "17/17 [==============================] - 4s 237ms/step - loss: 0.1236 - accuracy: 0.9648 - val_loss: 4.7038 - val_accuracy: 0.4667\n",
            "Epoch 31/100\n",
            "17/17 [==============================] - 4s 258ms/step - loss: 0.0874 - accuracy: 0.9796 - val_loss: 5.0105 - val_accuracy: 0.4667\n",
            "Epoch 32/100\n",
            "17/17 [==============================] - 5s 287ms/step - loss: 0.0827 - accuracy: 0.9759 - val_loss: 4.8512 - val_accuracy: 0.4611\n",
            "Epoch 33/100\n",
            "17/17 [==============================] - 4s 236ms/step - loss: 0.0625 - accuracy: 0.9852 - val_loss: 5.0219 - val_accuracy: 0.4833\n",
            "Epoch 34/100\n",
            "17/17 [==============================] - 4s 267ms/step - loss: 0.0489 - accuracy: 0.9889 - val_loss: 5.2608 - val_accuracy: 0.4556\n",
            "Epoch 35/100\n",
            "17/17 [==============================] - 6s 327ms/step - loss: 0.0644 - accuracy: 0.9889 - val_loss: 4.9389 - val_accuracy: 0.4611\n",
            "Epoch 36/100\n",
            "17/17 [==============================] - 4s 235ms/step - loss: 0.0457 - accuracy: 0.9870 - val_loss: 5.5448 - val_accuracy: 0.4389\n",
            "Epoch 37/100\n",
            "17/17 [==============================] - 5s 326ms/step - loss: 0.0331 - accuracy: 0.9944 - val_loss: 5.1067 - val_accuracy: 0.5000\n",
            "Epoch 38/100\n",
            "17/17 [==============================] - 4s 235ms/step - loss: 0.0243 - accuracy: 0.9963 - val_loss: 5.1011 - val_accuracy: 0.4833\n",
            "Epoch 39/100\n",
            "17/17 [==============================] - 4s 227ms/step - loss: 0.0144 - accuracy: 0.9963 - val_loss: 5.3621 - val_accuracy: 0.4722\n",
            "Epoch 40/100\n",
            "17/17 [==============================] - 5s 318ms/step - loss: 0.0138 - accuracy: 0.9981 - val_loss: 5.3517 - val_accuracy: 0.4611\n",
            "Epoch 41/100\n",
            "17/17 [==============================] - 4s 236ms/step - loss: 0.0120 - accuracy: 0.9981 - val_loss: 5.5602 - val_accuracy: 0.4667\n",
            "Epoch 42/100\n",
            "17/17 [==============================] - 4s 235ms/step - loss: 0.0092 - accuracy: 1.0000 - val_loss: 5.4640 - val_accuracy: 0.4722\n",
            "Epoch 43/100\n",
            "17/17 [==============================] - 5s 325ms/step - loss: 0.0115 - accuracy: 0.9981 - val_loss: 5.5771 - val_accuracy: 0.4667\n",
            "Epoch 44/100\n",
            "17/17 [==============================] - 4s 236ms/step - loss: 0.0095 - accuracy: 0.9981 - val_loss: 5.6590 - val_accuracy: 0.4722\n",
            "Epoch 45/100\n",
            "17/17 [==============================] - 4s 238ms/step - loss: 0.0093 - accuracy: 1.0000 - val_loss: 5.7988 - val_accuracy: 0.4667\n",
            "Epoch 46/100\n",
            "17/17 [==============================] - 5s 324ms/step - loss: 0.0095 - accuracy: 1.0000 - val_loss: 5.7296 - val_accuracy: 0.4889\n",
            "Epoch 47/100\n",
            "17/17 [==============================] - 4s 234ms/step - loss: 0.0108 - accuracy: 0.9981 - val_loss: 5.8679 - val_accuracy: 0.4667\n",
            "Epoch 48/100\n",
            "17/17 [==============================] - 6s 350ms/step - loss: 0.0132 - accuracy: 0.9981 - val_loss: 5.8070 - val_accuracy: 0.4611\n",
            "Epoch 49/100\n",
            "17/17 [==============================] - 5s 317ms/step - loss: 0.0153 - accuracy: 0.9981 - val_loss: 5.7667 - val_accuracy: 0.4778\n",
            "Epoch 50/100\n",
            "17/17 [==============================] - 4s 255ms/step - loss: 0.0093 - accuracy: 0.9981 - val_loss: 5.7845 - val_accuracy: 0.4722\n",
            "Epoch 51/100\n",
            "17/17 [==============================] - 5s 285ms/step - loss: 0.0066 - accuracy: 1.0000 - val_loss: 5.7888 - val_accuracy: 0.4722\n",
            "Epoch 52/100\n",
            "17/17 [==============================] - 5s 270ms/step - loss: 0.0091 - accuracy: 0.9981 - val_loss: 5.9825 - val_accuracy: 0.4722\n",
            "Epoch 53/100\n",
            "17/17 [==============================] - 4s 232ms/step - loss: 0.0071 - accuracy: 0.9981 - val_loss: 5.9289 - val_accuracy: 0.4667\n",
            "Epoch 54/100\n",
            "17/17 [==============================] - 5s 284ms/step - loss: 0.0108 - accuracy: 0.9981 - val_loss: 6.1234 - val_accuracy: 0.4833\n",
            "Epoch 55/100\n",
            "17/17 [==============================] - 5s 264ms/step - loss: 0.0164 - accuracy: 0.9944 - val_loss: 5.9602 - val_accuracy: 0.4722\n",
            "Epoch 56/100\n",
            "17/17 [==============================] - 4s 236ms/step - loss: 0.0097 - accuracy: 0.9963 - val_loss: 5.8215 - val_accuracy: 0.4667\n",
            "Epoch 57/100\n",
            "17/17 [==============================] - 5s 302ms/step - loss: 0.0044 - accuracy: 1.0000 - val_loss: 6.0462 - val_accuracy: 0.4778\n",
            "Epoch 58/100\n",
            "17/17 [==============================] - 4s 244ms/step - loss: 0.0032 - accuracy: 1.0000 - val_loss: 6.0505 - val_accuracy: 0.4611\n",
            "Epoch 59/100\n",
            "17/17 [==============================] - 4s 233ms/step - loss: 0.0028 - accuracy: 1.0000 - val_loss: 6.1112 - val_accuracy: 0.4667\n",
            "Epoch 60/100\n",
            "17/17 [==============================] - 5s 310ms/step - loss: 0.0026 - accuracy: 1.0000 - val_loss: 6.1279 - val_accuracy: 0.4778\n",
            "Epoch 61/100\n",
            "17/17 [==============================] - 4s 237ms/step - loss: 0.0024 - accuracy: 1.0000 - val_loss: 6.1930 - val_accuracy: 0.4722\n",
            "Epoch 62/100\n",
            "17/17 [==============================] - 4s 253ms/step - loss: 0.0023 - accuracy: 1.0000 - val_loss: 6.2245 - val_accuracy: 0.4722\n",
            "Epoch 63/100\n",
            "17/17 [==============================] - 5s 320ms/step - loss: 0.0021 - accuracy: 1.0000 - val_loss: 6.2952 - val_accuracy: 0.4778\n",
            "Epoch 64/100\n",
            "17/17 [==============================] - 4s 232ms/step - loss: 0.0021 - accuracy: 1.0000 - val_loss: 6.3077 - val_accuracy: 0.4722\n",
            "Epoch 65/100\n",
            "17/17 [==============================] - 4s 235ms/step - loss: 0.0020 - accuracy: 1.0000 - val_loss: 6.3408 - val_accuracy: 0.4722\n",
            "Epoch 66/100\n",
            "17/17 [==============================] - 5s 326ms/step - loss: 0.0019 - accuracy: 1.0000 - val_loss: 6.3925 - val_accuracy: 0.4778\n",
            "Epoch 67/100\n",
            "17/17 [==============================] - 4s 236ms/step - loss: 0.0018 - accuracy: 1.0000 - val_loss: 6.4241 - val_accuracy: 0.4778\n",
            "Epoch 68/100\n",
            "17/17 [==============================] - 4s 229ms/step - loss: 0.0018 - accuracy: 1.0000 - val_loss: 6.4462 - val_accuracy: 0.4778\n",
            "Epoch 69/100\n",
            "17/17 [==============================] - 5s 326ms/step - loss: 0.0017 - accuracy: 1.0000 - val_loss: 6.4710 - val_accuracy: 0.4778\n",
            "Epoch 70/100\n",
            "17/17 [==============================] - 4s 237ms/step - loss: 0.0016 - accuracy: 1.0000 - val_loss: 6.4952 - val_accuracy: 0.4778\n",
            "Epoch 71/100\n",
            "17/17 [==============================] - 6s 351ms/step - loss: 0.0016 - accuracy: 1.0000 - val_loss: 6.5211 - val_accuracy: 0.4778\n",
            "Epoch 72/100\n",
            "17/17 [==============================] - 6s 319ms/step - loss: 0.0015 - accuracy: 1.0000 - val_loss: 6.5428 - val_accuracy: 0.4778\n",
            "Epoch 73/100\n",
            "17/17 [==============================] - 4s 254ms/step - loss: 0.0015 - accuracy: 1.0000 - val_loss: 6.5666 - val_accuracy: 0.4778\n",
            "Epoch 74/100\n",
            "17/17 [==============================] - 5s 295ms/step - loss: 0.0015 - accuracy: 1.0000 - val_loss: 6.5853 - val_accuracy: 0.4778\n",
            "Epoch 75/100\n",
            "17/17 [==============================] - 5s 274ms/step - loss: 0.0014 - accuracy: 1.0000 - val_loss: 6.6197 - val_accuracy: 0.4778\n",
            "Epoch 76/100\n",
            "17/17 [==============================] - 4s 237ms/step - loss: 0.0014 - accuracy: 1.0000 - val_loss: 6.6361 - val_accuracy: 0.4778\n",
            "Epoch 77/100\n",
            "17/17 [==============================] - 6s 337ms/step - loss: 0.0013 - accuracy: 1.0000 - val_loss: 6.6539 - val_accuracy: 0.4778\n",
            "Epoch 78/100\n",
            "17/17 [==============================] - 4s 234ms/step - loss: 0.0013 - accuracy: 1.0000 - val_loss: 6.6842 - val_accuracy: 0.4778\n",
            "Epoch 79/100\n",
            "17/17 [==============================] - 4s 236ms/step - loss: 0.0013 - accuracy: 1.0000 - val_loss: 6.7058 - val_accuracy: 0.4778\n",
            "Epoch 80/100\n",
            "17/17 [==============================] - 6s 340ms/step - loss: 0.0012 - accuracy: 1.0000 - val_loss: 6.7232 - val_accuracy: 0.4778\n",
            "Epoch 81/100\n",
            "17/17 [==============================] - 4s 248ms/step - loss: 0.0012 - accuracy: 1.0000 - val_loss: 6.7309 - val_accuracy: 0.4722\n",
            "Epoch 82/100\n",
            "17/17 [==============================] - 4s 230ms/step - loss: 0.0011 - accuracy: 1.0000 - val_loss: 6.7612 - val_accuracy: 0.4778\n",
            "Epoch 83/100\n",
            "17/17 [==============================] - 5s 319ms/step - loss: 0.0011 - accuracy: 1.0000 - val_loss: 6.7863 - val_accuracy: 0.4778\n",
            "Epoch 84/100\n",
            "17/17 [==============================] - 4s 230ms/step - loss: 0.0011 - accuracy: 1.0000 - val_loss: 6.7902 - val_accuracy: 0.4778\n",
            "Epoch 85/100\n",
            "17/17 [==============================] - 4s 227ms/step - loss: 0.0011 - accuracy: 1.0000 - val_loss: 6.8156 - val_accuracy: 0.4778\n",
            "Epoch 86/100\n",
            "17/17 [==============================] - 5s 319ms/step - loss: 0.0011 - accuracy: 1.0000 - val_loss: 6.8373 - val_accuracy: 0.4778\n",
            "Epoch 87/100\n",
            "17/17 [==============================] - 4s 233ms/step - loss: 0.0010 - accuracy: 1.0000 - val_loss: 6.8547 - val_accuracy: 0.4778\n",
            "Epoch 88/100\n",
            "17/17 [==============================] - 4s 230ms/step - loss: 9.7780e-04 - accuracy: 1.0000 - val_loss: 6.8798 - val_accuracy: 0.4778\n",
            "Epoch 89/100\n",
            "17/17 [==============================] - 5s 322ms/step - loss: 9.6368e-04 - accuracy: 1.0000 - val_loss: 6.8979 - val_accuracy: 0.4778\n",
            "Epoch 90/100\n",
            "17/17 [==============================] - 4s 230ms/step - loss: 9.2823e-04 - accuracy: 1.0000 - val_loss: 6.9035 - val_accuracy: 0.4778\n",
            "Epoch 91/100\n",
            "17/17 [==============================] - 4s 228ms/step - loss: 9.1759e-04 - accuracy: 1.0000 - val_loss: 6.9190 - val_accuracy: 0.4722\n",
            "Epoch 92/100\n",
            "17/17 [==============================] - 5s 318ms/step - loss: 8.9601e-04 - accuracy: 1.0000 - val_loss: 6.9542 - val_accuracy: 0.4778\n",
            "Epoch 93/100\n",
            "17/17 [==============================] - 4s 229ms/step - loss: 8.7540e-04 - accuracy: 1.0000 - val_loss: 6.9575 - val_accuracy: 0.4722\n",
            "Epoch 94/100\n",
            "17/17 [==============================] - 4s 230ms/step - loss: 8.6930e-04 - accuracy: 1.0000 - val_loss: 6.9700 - val_accuracy: 0.4778\n",
            "Epoch 95/100\n",
            "17/17 [==============================] - 6s 341ms/step - loss: 8.3143e-04 - accuracy: 1.0000 - val_loss: 6.9923 - val_accuracy: 0.4833\n",
            "Epoch 96/100\n",
            "17/17 [==============================] - 5s 309ms/step - loss: 8.0856e-04 - accuracy: 1.0000 - val_loss: 7.0119 - val_accuracy: 0.4778\n",
            "Epoch 97/100\n",
            "17/17 [==============================] - 4s 230ms/step - loss: 7.9687e-04 - accuracy: 1.0000 - val_loss: 7.0349 - val_accuracy: 0.4778\n",
            "Epoch 98/100\n",
            "17/17 [==============================] - 5s 319ms/step - loss: 7.7387e-04 - accuracy: 1.0000 - val_loss: 7.0517 - val_accuracy: 0.4778\n",
            "Epoch 99/100\n",
            "17/17 [==============================] - 4s 230ms/step - loss: 7.5485e-04 - accuracy: 1.0000 - val_loss: 7.0494 - val_accuracy: 0.4778\n",
            "Epoch 100/100\n",
            "17/17 [==============================] - 4s 230ms/step - loss: 7.3596e-04 - accuracy: 1.0000 - val_loss: 7.0739 - val_accuracy: 0.4778\n"
          ]
        },
        {
          "output_type": "execute_result",
          "data": {
            "text/plain": [
              "<keras.callbacks.History at 0x7f80c4de28c0>"
            ]
          },
          "metadata": {},
          "execution_count": 103
        }
      ]
    },
    {
      "cell_type": "code",
      "source": [
        "preds_val = model.predict(x_val.reshape((x_val.shape[0], 64, 64)))\n",
        "y_val_preds = np.array([np.argmax(preds_val[i]) for i in range(40)])\n",
        "\n",
        "preds_test = model.predict(x_test.reshape((x_test.shape[0], 64, 64)))\n",
        "y_test_preds = np.array([np.argmax(preds_test[i]) for i in range(40)])"
      ],
      "metadata": {
        "colab": {
          "base_uri": "https://localhost:8080/"
        },
        "id": "7jc5Q0kqGhks",
        "outputId": "de64640c-2ddd-4177-db39-7291afe26e77"
      },
      "execution_count": 104,
      "outputs": [
        {
          "output_type": "stream",
          "name": "stdout",
          "text": [
            "2/2 [==============================] - 0s 21ms/step\n",
            "2/2 [==============================] - 0s 22ms/step\n"
          ]
        }
      ]
    },
    {
      "cell_type": "markdown",
      "source": [
        "Measure the accuracy of the network on the validation and testing datasets **(P5-4: 5 points)**"
      ],
      "metadata": {
        "id": "PgZFoeHPPdqF"
      }
    },
    {
      "cell_type": "code",
      "source": [
        "print(accuracy_score(y_val, y_val_preds))\n",
        "print(accuracy_score(y_test, y_test_preds))"
      ],
      "metadata": {
        "id": "7VSZe8RdPkLU",
        "colab": {
          "base_uri": "https://localhost:8080/"
        },
        "outputId": "09d0d410-e73a-43a1-fbc7-18183437cecf"
      },
      "execution_count": 105,
      "outputs": [
        {
          "output_type": "stream",
          "name": "stdout",
          "text": [
            "0.525\n",
            "0.425\n"
          ]
        }
      ]
    }
  ]
}
